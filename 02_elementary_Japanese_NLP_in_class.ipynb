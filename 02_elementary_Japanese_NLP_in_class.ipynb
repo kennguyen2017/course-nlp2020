{
  "nbformat": 4,
  "nbformat_minor": 0,
  "metadata": {
    "colab": {
      "name": "02_elementary_Japanese_NLP_in_class.ipynb",
      "provenance": [],
      "collapsed_sections": [],
      "authorship_tag": "ABX9TyM1EdDKGLUmLUQEBRCAbjqF",
      "include_colab_link": true
    },
    "kernelspec": {
      "name": "python3",
      "display_name": "Python 3"
    }
  },
  "cells": [
    {
      "cell_type": "markdown",
      "metadata": {
        "id": "view-in-github",
        "colab_type": "text"
      },
      "source": [
        "<a href=\"https://colab.research.google.com/github/tomonari-masada/course-nlp2020/blob/master/02_elementary_Japanese_NLP_in_class.ipynb\" target=\"_parent\"><img src=\"https://colab.research.google.com/assets/colab-badge.svg\" alt=\"Open In Colab\"/></a>"
      ]
    },
    {
      "cell_type": "markdown",
      "metadata": {
        "id": "m_GmRdAi6h89"
      },
      "source": [
        "# 02 日本語のテキストデータの扱い方\n",
        "\n",
        "* 日本語は、言語の性質上、文が空白によって単語へ分たれていない。\n",
        " * 同じように、文が空白によって単語へ分たれていない言語として、他にどのような言語があるか？\n",
        "* そのため、まず最初に文を単語へ分割する必要がある。\n",
        "* この作業を**形態素解析**と言う。\n",
        " * 長い文字列としての言語データを、単語のような細かい単位へ分割することを、一般にtokenizationと言う。\n",
        " * tokenizationの単位は、単語のように意味的なまとまりをもつ単位とは限らない。\n",
        " *cf. [SentencePiece](https://arxiv.org/pdf/1808.06226.pdf) ... [この解説](https://qiita.com/taku910/items/7e52f1e58d0ea6e7859c)も参照。\n",
        "* ここでは、spaCyを介してsudachiというツールで形態素解析をおこなう。\n",
        " * 形態素解析システムとしては、他には、MeCabやJUMANが有名。"
      ]
    },
    {
      "cell_type": "markdown",
      "metadata": {
        "id": "MyUrPpHK-woI"
      },
      "source": [
        "## 注\n",
        "* \"ContextualVersionConflict ...\"というエラーが出たら、上部メニューの「ランタイム」から「ランタイムを再起動」をクリックして、ランタイムを再起動してみてください。"
      ]
    },
    {
      "cell_type": "markdown",
      "metadata": {
        "id": "n5jhMBOX72rt"
      },
      "source": [
        "## 02-01 spaCyの準備"
      ]
    },
    {
      "cell_type": "markdown",
      "metadata": {
        "id": "XTdXc5Z_7UZ_"
      },
      "source": [
        "### spaCyを最新版にアップデートする。"
      ]
    },
    {
      "cell_type": "code",
      "metadata": {
        "id": "wDyU7FXpgf6L",
        "outputId": "c180786a-21e8-4a12-fd23-7728f5afe8f1",
        "colab": {
          "base_uri": "https://localhost:8080/",
          "height": 613
        }
      },
      "source": [
        "! pip install -U spacy"
      ],
      "execution_count": null,
      "outputs": [
        {
          "output_type": "stream",
          "text": [
            "Collecting spacy\n",
            "\u001b[?25l  Downloading https://files.pythonhosted.org/packages/10/b5/c7a92c7ce5d4b353b70b4b5b4385687206c8b230ddfe08746ab0fd310a3a/spacy-2.3.2-cp36-cp36m-manylinux1_x86_64.whl (9.9MB)\n",
            "\u001b[K     |████████████████████████████████| 10.0MB 5.6MB/s \n",
            "\u001b[?25hRequirement already satisfied, skipping upgrade: srsly<1.1.0,>=1.0.2 in /usr/local/lib/python3.6/dist-packages (from spacy) (1.0.2)\n",
            "Requirement already satisfied, skipping upgrade: numpy>=1.15.0 in /usr/local/lib/python3.6/dist-packages (from spacy) (1.18.5)\n",
            "Requirement already satisfied, skipping upgrade: blis<0.5.0,>=0.4.0 in /usr/local/lib/python3.6/dist-packages (from spacy) (0.4.1)\n",
            "Requirement already satisfied, skipping upgrade: requests<3.0.0,>=2.13.0 in /usr/local/lib/python3.6/dist-packages (from spacy) (2.23.0)\n",
            "Requirement already satisfied, skipping upgrade: preshed<3.1.0,>=3.0.2 in /usr/local/lib/python3.6/dist-packages (from spacy) (3.0.2)\n",
            "Requirement already satisfied, skipping upgrade: cymem<2.1.0,>=2.0.2 in /usr/local/lib/python3.6/dist-packages (from spacy) (2.0.3)\n",
            "Requirement already satisfied, skipping upgrade: tqdm<5.0.0,>=4.38.0 in /usr/local/lib/python3.6/dist-packages (from spacy) (4.41.1)\n",
            "Requirement already satisfied, skipping upgrade: wasabi<1.1.0,>=0.4.0 in /usr/local/lib/python3.6/dist-packages (from spacy) (0.8.0)\n",
            "Collecting thinc==7.4.1\n",
            "\u001b[?25l  Downloading https://files.pythonhosted.org/packages/10/ae/ef3ae5e93639c0ef8e3eb32e3c18341e511b3c515fcfc603f4b808087651/thinc-7.4.1-cp36-cp36m-manylinux1_x86_64.whl (2.1MB)\n",
            "\u001b[K     |████████████████████████████████| 2.1MB 44.5MB/s \n",
            "\u001b[?25hRequirement already satisfied, skipping upgrade: plac<1.2.0,>=0.9.6 in /usr/local/lib/python3.6/dist-packages (from spacy) (1.1.3)\n",
            "Requirement already satisfied, skipping upgrade: murmurhash<1.1.0,>=0.28.0 in /usr/local/lib/python3.6/dist-packages (from spacy) (1.0.2)\n",
            "Requirement already satisfied, skipping upgrade: catalogue<1.1.0,>=0.0.7 in /usr/local/lib/python3.6/dist-packages (from spacy) (1.0.0)\n",
            "Requirement already satisfied, skipping upgrade: setuptools in /usr/local/lib/python3.6/dist-packages (from spacy) (50.3.0)\n",
            "Requirement already satisfied, skipping upgrade: chardet<4,>=3.0.2 in /usr/local/lib/python3.6/dist-packages (from requests<3.0.0,>=2.13.0->spacy) (3.0.4)\n",
            "Requirement already satisfied, skipping upgrade: idna<3,>=2.5 in /usr/local/lib/python3.6/dist-packages (from requests<3.0.0,>=2.13.0->spacy) (2.10)\n",
            "Requirement already satisfied, skipping upgrade: urllib3!=1.25.0,!=1.25.1,<1.26,>=1.21.1 in /usr/local/lib/python3.6/dist-packages (from requests<3.0.0,>=2.13.0->spacy) (1.24.3)\n",
            "Requirement already satisfied, skipping upgrade: certifi>=2017.4.17 in /usr/local/lib/python3.6/dist-packages (from requests<3.0.0,>=2.13.0->spacy) (2020.6.20)\n",
            "Requirement already satisfied, skipping upgrade: importlib-metadata>=0.20; python_version < \"3.8\" in /usr/local/lib/python3.6/dist-packages (from catalogue<1.1.0,>=0.0.7->spacy) (2.0.0)\n",
            "Requirement already satisfied, skipping upgrade: zipp>=0.5 in /usr/local/lib/python3.6/dist-packages (from importlib-metadata>=0.20; python_version < \"3.8\"->catalogue<1.1.0,>=0.0.7->spacy) (3.2.0)\n",
            "Installing collected packages: thinc, spacy\n",
            "  Found existing installation: thinc 7.4.0\n",
            "    Uninstalling thinc-7.4.0:\n",
            "      Successfully uninstalled thinc-7.4.0\n",
            "  Found existing installation: spacy 2.2.4\n",
            "    Uninstalling spacy-2.2.4:\n",
            "      Successfully uninstalled spacy-2.2.4\n",
            "Successfully installed spacy-2.3.2 thinc-7.4.1\n"
          ],
          "name": "stdout"
        }
      ]
    },
    {
      "cell_type": "markdown",
      "metadata": {
        "id": "mm9xRGBQ82x9"
      },
      "source": [
        "### バージョンを確認する。"
      ]
    },
    {
      "cell_type": "code",
      "metadata": {
        "id": "EQzgkN1B8yzP",
        "outputId": "33e7a75b-a049-4d2b-ca3b-84e1acf63390",
        "colab": {
          "base_uri": "https://localhost:8080/",
          "height": 251
        }
      },
      "source": [
        "! python -m spacy validate"
      ],
      "execution_count": null,
      "outputs": [
        {
          "output_type": "stream",
          "text": [
            "\r⠙ Loading compatibility table...\r\u001b[2K\u001b[38;5;2m✔ Loaded compatibility table\u001b[0m\n",
            "\u001b[1m\n",
            "====================== Installed models (spaCy v2.3.2) ======================\u001b[0m\n",
            "\u001b[38;5;4mℹ spaCy installation: /usr/local/lib/python3.6/dist-packages/spacy\u001b[0m\n",
            "\n",
            "TYPE      NAME             MODEL            VERSION                       \n",
            "package   en-core-web-sm   en_core_web_sm   \u001b[38;5;1m2.2.5\u001b[0m   --> 2.3.1\n",
            "\n",
            "\u001b[1m\n",
            "============================== Install updates ==============================\u001b[0m\n",
            "Use the following commands to update the model packages:\n",
            "python -m spacy download en_core_web_sm\n",
            "\n"
          ],
          "name": "stdout"
        }
      ]
    },
    {
      "cell_type": "markdown",
      "metadata": {
        "id": "ILTyM-jV9uPe"
      },
      "source": [
        "### 英語の統計モデルもアップデートしておく。\n",
        "* 今回は英語データは使わないが。"
      ]
    },
    {
      "cell_type": "code",
      "metadata": {
        "id": "o0M3NKIm9iwe",
        "outputId": "0edf79ee-de79-44b7-a211-f49f3a61d2b3",
        "colab": {
          "base_uri": "https://localhost:8080/",
          "height": 667
        }
      },
      "source": [
        "! python -m spacy download en_core_web_sm"
      ],
      "execution_count": null,
      "outputs": [
        {
          "output_type": "stream",
          "text": [
            "Collecting en_core_web_sm==2.3.1\n",
            "\u001b[?25l  Downloading https://github.com/explosion/spacy-models/releases/download/en_core_web_sm-2.3.1/en_core_web_sm-2.3.1.tar.gz (12.0MB)\n",
            "\u001b[K     |████████████████████████████████| 12.1MB 520kB/s \n",
            "\u001b[?25hRequirement already satisfied: spacy<2.4.0,>=2.3.0 in /usr/local/lib/python3.6/dist-packages (from en_core_web_sm==2.3.1) (2.3.2)\n",
            "Requirement already satisfied: srsly<1.1.0,>=1.0.2 in /usr/local/lib/python3.6/dist-packages (from spacy<2.4.0,>=2.3.0->en_core_web_sm==2.3.1) (1.0.2)\n",
            "Requirement already satisfied: plac<1.2.0,>=0.9.6 in /usr/local/lib/python3.6/dist-packages (from spacy<2.4.0,>=2.3.0->en_core_web_sm==2.3.1) (1.1.3)\n",
            "Requirement already satisfied: requests<3.0.0,>=2.13.0 in /usr/local/lib/python3.6/dist-packages (from spacy<2.4.0,>=2.3.0->en_core_web_sm==2.3.1) (2.23.0)\n",
            "Requirement already satisfied: cymem<2.1.0,>=2.0.2 in /usr/local/lib/python3.6/dist-packages (from spacy<2.4.0,>=2.3.0->en_core_web_sm==2.3.1) (2.0.3)\n",
            "Requirement already satisfied: wasabi<1.1.0,>=0.4.0 in /usr/local/lib/python3.6/dist-packages (from spacy<2.4.0,>=2.3.0->en_core_web_sm==2.3.1) (0.8.0)\n",
            "Requirement already satisfied: setuptools in /usr/local/lib/python3.6/dist-packages (from spacy<2.4.0,>=2.3.0->en_core_web_sm==2.3.1) (50.3.0)\n",
            "Requirement already satisfied: catalogue<1.1.0,>=0.0.7 in /usr/local/lib/python3.6/dist-packages (from spacy<2.4.0,>=2.3.0->en_core_web_sm==2.3.1) (1.0.0)\n",
            "Requirement already satisfied: numpy>=1.15.0 in /usr/local/lib/python3.6/dist-packages (from spacy<2.4.0,>=2.3.0->en_core_web_sm==2.3.1) (1.18.5)\n",
            "Requirement already satisfied: murmurhash<1.1.0,>=0.28.0 in /usr/local/lib/python3.6/dist-packages (from spacy<2.4.0,>=2.3.0->en_core_web_sm==2.3.1) (1.0.2)\n",
            "Requirement already satisfied: preshed<3.1.0,>=3.0.2 in /usr/local/lib/python3.6/dist-packages (from spacy<2.4.0,>=2.3.0->en_core_web_sm==2.3.1) (3.0.2)\n",
            "Requirement already satisfied: tqdm<5.0.0,>=4.38.0 in /usr/local/lib/python3.6/dist-packages (from spacy<2.4.0,>=2.3.0->en_core_web_sm==2.3.1) (4.41.1)\n",
            "Requirement already satisfied: blis<0.5.0,>=0.4.0 in /usr/local/lib/python3.6/dist-packages (from spacy<2.4.0,>=2.3.0->en_core_web_sm==2.3.1) (0.4.1)\n",
            "Requirement already satisfied: thinc==7.4.1 in /usr/local/lib/python3.6/dist-packages (from spacy<2.4.0,>=2.3.0->en_core_web_sm==2.3.1) (7.4.1)\n",
            "Requirement already satisfied: chardet<4,>=3.0.2 in /usr/local/lib/python3.6/dist-packages (from requests<3.0.0,>=2.13.0->spacy<2.4.0,>=2.3.0->en_core_web_sm==2.3.1) (3.0.4)\n",
            "Requirement already satisfied: urllib3!=1.25.0,!=1.25.1,<1.26,>=1.21.1 in /usr/local/lib/python3.6/dist-packages (from requests<3.0.0,>=2.13.0->spacy<2.4.0,>=2.3.0->en_core_web_sm==2.3.1) (1.24.3)\n",
            "Requirement already satisfied: idna<3,>=2.5 in /usr/local/lib/python3.6/dist-packages (from requests<3.0.0,>=2.13.0->spacy<2.4.0,>=2.3.0->en_core_web_sm==2.3.1) (2.10)\n",
            "Requirement already satisfied: certifi>=2017.4.17 in /usr/local/lib/python3.6/dist-packages (from requests<3.0.0,>=2.13.0->spacy<2.4.0,>=2.3.0->en_core_web_sm==2.3.1) (2020.6.20)\n",
            "Requirement already satisfied: importlib-metadata>=0.20; python_version < \"3.8\" in /usr/local/lib/python3.6/dist-packages (from catalogue<1.1.0,>=0.0.7->spacy<2.4.0,>=2.3.0->en_core_web_sm==2.3.1) (2.0.0)\n",
            "Requirement already satisfied: zipp>=0.5 in /usr/local/lib/python3.6/dist-packages (from importlib-metadata>=0.20; python_version < \"3.8\"->catalogue<1.1.0,>=0.0.7->spacy<2.4.0,>=2.3.0->en_core_web_sm==2.3.1) (3.2.0)\n",
            "Building wheels for collected packages: en-core-web-sm\n",
            "  Building wheel for en-core-web-sm (setup.py) ... \u001b[?25l\u001b[?25hdone\n",
            "  Created wheel for en-core-web-sm: filename=en_core_web_sm-2.3.1-cp36-none-any.whl size=12047109 sha256=5f27abff5d7fb52ad9ec3811ac5934908097785263ec1fa5f12a25b9eed5b84c\n",
            "  Stored in directory: /tmp/pip-ephem-wheel-cache-ruiudnf5/wheels/2b/3f/41/f0b92863355c3ba34bb32b37d8a0c662959da0058202094f46\n",
            "Successfully built en-core-web-sm\n",
            "Installing collected packages: en-core-web-sm\n",
            "  Found existing installation: en-core-web-sm 2.2.5\n",
            "    Uninstalling en-core-web-sm-2.2.5:\n",
            "      Successfully uninstalled en-core-web-sm-2.2.5\n",
            "Successfully installed en-core-web-sm-2.3.1\n",
            "\u001b[38;5;2m✔ Download and installation successful\u001b[0m\n",
            "You can now load the model via spacy.load('en_core_web_sm')\n"
          ],
          "name": "stdout"
        }
      ]
    },
    {
      "cell_type": "code",
      "metadata": {
        "id": "Ye7LwqHG9ri-",
        "outputId": "9f12f6c7-df39-4921-8533-1c22630d326c",
        "colab": {
          "base_uri": "https://localhost:8080/",
          "height": 161
        }
      },
      "source": [
        "! python -m spacy validate"
      ],
      "execution_count": null,
      "outputs": [
        {
          "output_type": "stream",
          "text": [
            "\r⠙ Loading compatibility table...\r\u001b[2K\u001b[38;5;2m✔ Loaded compatibility table\u001b[0m\n",
            "\u001b[1m\n",
            "====================== Installed models (spaCy v2.3.2) ======================\u001b[0m\n",
            "\u001b[38;5;4mℹ spaCy installation: /usr/local/lib/python3.6/dist-packages/spacy\u001b[0m\n",
            "\n",
            "TYPE      NAME             MODEL            VERSION                            \n",
            "package   en-core-web-sm   en_core_web_sm   \u001b[38;5;2m2.3.1\u001b[0m   \u001b[38;5;2m✔\u001b[0m\n",
            "\n"
          ],
          "name": "stdout"
        }
      ]
    },
    {
      "cell_type": "markdown",
      "metadata": {
        "id": "vOdfbC087sA0"
      },
      "source": [
        "### spaCyの日本語の訓練済み統計モデルをダウンロードする\n",
        "* 「sm」で終わるものは、小規模なモデル。\n",
        "* 「md」で終わるものが、中規模のモデル。\n",
        "* 「lg」で終わるものが、大規模なモデル。\n",
        "* 詳細は、以下を参照。\n",
        " * https://explosion.ai/blog/spacy-v2-3\n",
        "* ダウンロード時間短縮のため、ここでは小規模モデルを使う。"
      ]
    },
    {
      "cell_type": "code",
      "metadata": {
        "id": "Cm_9hXxtgcfI",
        "outputId": "ea25123e-bb8d-43df-ab45-6f3b7825477c",
        "colab": {
          "base_uri": "https://localhost:8080/",
          "height": 973
        }
      },
      "source": [
        "! python -m spacy download ja_core_news_sm"
      ],
      "execution_count": null,
      "outputs": [
        {
          "output_type": "stream",
          "text": [
            "Collecting ja_core_news_sm==2.3.2\n",
            "\u001b[?25l  Downloading https://github.com/explosion/spacy-models/releases/download/ja_core_news_sm-2.3.2/ja_core_news_sm-2.3.2.tar.gz (7.6MB)\n",
            "\u001b[K     |████████████████████████████████| 7.6MB 522kB/s \n",
            "\u001b[?25hRequirement already satisfied: spacy<2.4.0,>=2.3.0 in /usr/local/lib/python3.6/dist-packages (from ja_core_news_sm==2.3.2) (2.3.2)\n",
            "Collecting sudachipy>=0.4.5\n",
            "\u001b[?25l  Downloading https://files.pythonhosted.org/packages/71/18/8531c4a1c904cb24d37a09e7dff3273857ee65e0d0adb62d09c6f5492f5d/SudachiPy-0.4.9.tar.gz (67kB)\n",
            "\u001b[K     |████████████████████████████████| 71kB 4.2MB/s \n",
            "\u001b[?25hCollecting sudachidict_core>=20200330\n",
            "  Downloading https://files.pythonhosted.org/packages/c4/8f/38c5bea51bf1c825c8774810d1bdd84f3c0b8e3526f00db954ba940e6191/SudachiDict-core-20200722.tar.gz\n",
            "Requirement already satisfied: blis<0.5.0,>=0.4.0 in /usr/local/lib/python3.6/dist-packages (from spacy<2.4.0,>=2.3.0->ja_core_news_sm==2.3.2) (0.4.1)\n",
            "Requirement already satisfied: setuptools in /usr/local/lib/python3.6/dist-packages (from spacy<2.4.0,>=2.3.0->ja_core_news_sm==2.3.2) (50.3.0)\n",
            "Requirement already satisfied: srsly<1.1.0,>=1.0.2 in /usr/local/lib/python3.6/dist-packages (from spacy<2.4.0,>=2.3.0->ja_core_news_sm==2.3.2) (1.0.2)\n",
            "Requirement already satisfied: thinc==7.4.1 in /usr/local/lib/python3.6/dist-packages (from spacy<2.4.0,>=2.3.0->ja_core_news_sm==2.3.2) (7.4.1)\n",
            "Requirement already satisfied: preshed<3.1.0,>=3.0.2 in /usr/local/lib/python3.6/dist-packages (from spacy<2.4.0,>=2.3.0->ja_core_news_sm==2.3.2) (3.0.2)\n",
            "Requirement already satisfied: plac<1.2.0,>=0.9.6 in /usr/local/lib/python3.6/dist-packages (from spacy<2.4.0,>=2.3.0->ja_core_news_sm==2.3.2) (1.1.3)\n",
            "Requirement already satisfied: tqdm<5.0.0,>=4.38.0 in /usr/local/lib/python3.6/dist-packages (from spacy<2.4.0,>=2.3.0->ja_core_news_sm==2.3.2) (4.41.1)\n",
            "Requirement already satisfied: numpy>=1.15.0 in /usr/local/lib/python3.6/dist-packages (from spacy<2.4.0,>=2.3.0->ja_core_news_sm==2.3.2) (1.18.5)\n",
            "Requirement already satisfied: catalogue<1.1.0,>=0.0.7 in /usr/local/lib/python3.6/dist-packages (from spacy<2.4.0,>=2.3.0->ja_core_news_sm==2.3.2) (1.0.0)\n",
            "Requirement already satisfied: cymem<2.1.0,>=2.0.2 in /usr/local/lib/python3.6/dist-packages (from spacy<2.4.0,>=2.3.0->ja_core_news_sm==2.3.2) (2.0.3)\n",
            "Requirement already satisfied: wasabi<1.1.0,>=0.4.0 in /usr/local/lib/python3.6/dist-packages (from spacy<2.4.0,>=2.3.0->ja_core_news_sm==2.3.2) (0.8.0)\n",
            "Requirement already satisfied: murmurhash<1.1.0,>=0.28.0 in /usr/local/lib/python3.6/dist-packages (from spacy<2.4.0,>=2.3.0->ja_core_news_sm==2.3.2) (1.0.2)\n",
            "Requirement already satisfied: requests<3.0.0,>=2.13.0 in /usr/local/lib/python3.6/dist-packages (from spacy<2.4.0,>=2.3.0->ja_core_news_sm==2.3.2) (2.23.0)\n",
            "Collecting sortedcontainers~=2.1.0\n",
            "  Downloading https://files.pythonhosted.org/packages/13/f3/cf85f7c3a2dbd1a515d51e1f1676d971abe41bba6f4ab5443240d9a78e5b/sortedcontainers-2.1.0-py2.py3-none-any.whl\n",
            "Collecting dartsclone~=0.9.0\n",
            "\u001b[?25l  Downloading https://files.pythonhosted.org/packages/6d/34/987a076369ed086ee953e2f0b9ab5ff3e1a682ba4f781678ac5648144896/dartsclone-0.9.0-cp36-cp36m-manylinux1_x86_64.whl (474kB)\n",
            "\u001b[K     |████████████████████████████████| 481kB 7.6MB/s \n",
            "\u001b[?25hRequirement already satisfied: importlib-metadata>=0.20; python_version < \"3.8\" in /usr/local/lib/python3.6/dist-packages (from catalogue<1.1.0,>=0.0.7->spacy<2.4.0,>=2.3.0->ja_core_news_sm==2.3.2) (2.0.0)\n",
            "Requirement already satisfied: chardet<4,>=3.0.2 in /usr/local/lib/python3.6/dist-packages (from requests<3.0.0,>=2.13.0->spacy<2.4.0,>=2.3.0->ja_core_news_sm==2.3.2) (3.0.4)\n",
            "Requirement already satisfied: idna<3,>=2.5 in /usr/local/lib/python3.6/dist-packages (from requests<3.0.0,>=2.13.0->spacy<2.4.0,>=2.3.0->ja_core_news_sm==2.3.2) (2.10)\n",
            "Requirement already satisfied: urllib3!=1.25.0,!=1.25.1,<1.26,>=1.21.1 in /usr/local/lib/python3.6/dist-packages (from requests<3.0.0,>=2.13.0->spacy<2.4.0,>=2.3.0->ja_core_news_sm==2.3.2) (1.24.3)\n",
            "Requirement already satisfied: certifi>=2017.4.17 in /usr/local/lib/python3.6/dist-packages (from requests<3.0.0,>=2.13.0->spacy<2.4.0,>=2.3.0->ja_core_news_sm==2.3.2) (2020.6.20)\n",
            "Requirement already satisfied: Cython in /usr/local/lib/python3.6/dist-packages (from dartsclone~=0.9.0->sudachipy>=0.4.5->ja_core_news_sm==2.3.2) (0.29.21)\n",
            "Requirement already satisfied: zipp>=0.5 in /usr/local/lib/python3.6/dist-packages (from importlib-metadata>=0.20; python_version < \"3.8\"->catalogue<1.1.0,>=0.0.7->spacy<2.4.0,>=2.3.0->ja_core_news_sm==2.3.2) (3.2.0)\n",
            "Building wheels for collected packages: ja-core-news-sm, sudachipy, sudachidict-core\n",
            "  Building wheel for ja-core-news-sm (setup.py) ... \u001b[?25l\u001b[?25hdone\n",
            "  Created wheel for ja-core-news-sm: filename=ja_core_news_sm-2.3.2-cp36-none-any.whl size=7572678 sha256=fcbd869a0d9fb05ed3dd423adc0a1fd276882b9d59197bf7d999d38bf77f4e31\n",
            "  Stored in directory: /tmp/pip-ephem-wheel-cache-0dsavrb4/wheels/a9/90/6f/9fdba619c4403234b2695fd40d77e635a6c80672a6a05920f0\n",
            "  Building wheel for sudachipy (setup.py) ... \u001b[?25l\u001b[?25hdone\n",
            "  Created wheel for sudachipy: filename=SudachiPy-0.4.9-cp36-cp36m-linux_x86_64.whl size=870424 sha256=8726e5ae40887ceafbf9bc3d564cff021cee42cd2714d79e3abdc4faae3ad9d0\n",
            "  Stored in directory: /tmp/pip-ephem-wheel-cache-0dsavrb4/wheels/79/85/b4/bb2fbbf043bc8128a6cbb769604c410dc5ece89c88b7e57de0\n",
            "  Building wheel for sudachidict-core (setup.py) ... \u001b[?25l\u001b[?25hdone\n",
            "  Created wheel for sudachidict-core: filename=SudachiDict_core-20200722-cp36-none-any.whl size=71120193 sha256=4b5d7a27c9836cb4550f20dece7e90916ff0e00ed401ebd996a0c4157243528e\n",
            "  Stored in directory: /tmp/pip-ephem-wheel-cache-0dsavrb4/wheels/aa/79/cb/ee2ca7db8ba91560158dd4b1362ca1bcc1622541d476de5145\n",
            "Successfully built ja-core-news-sm sudachipy sudachidict-core\n",
            "Installing collected packages: sortedcontainers, dartsclone, sudachipy, sudachidict-core, ja-core-news-sm\n",
            "  Found existing installation: sortedcontainers 2.2.2\n",
            "    Uninstalling sortedcontainers-2.2.2:\n",
            "      Successfully uninstalled sortedcontainers-2.2.2\n",
            "Successfully installed dartsclone-0.9.0 ja-core-news-sm-2.3.2 sortedcontainers-2.1.0 sudachidict-core-20200722 sudachipy-0.4.9\n",
            "\u001b[38;5;2m✔ Download and installation successful\u001b[0m\n",
            "You can now load the model via spacy.load('ja_core_news_sm')\n"
          ],
          "name": "stdout"
        }
      ]
    },
    {
      "cell_type": "markdown",
      "metadata": {
        "id": "62mbrOSY8QJ9"
      },
      "source": [
        "## 02-02 sudachiによる形態素解析を試してみる。\n",
        "* spaCyの日本語統計モデルをインストールすると、自動的にsudachiがインストールされる。\n",
        "* そこで、sudachipyコマンドを使って、コマンドラインで形態素解析を試してみる。"
      ]
    },
    {
      "cell_type": "code",
      "metadata": {
        "id": "9_mUBCBAgz1o",
        "outputId": "6002cd9c-8e66-46f6-f509-f9f5355efa41",
        "colab": {
          "base_uri": "https://localhost:8080/",
          "height": 161
        }
      },
      "source": [
        "! echo \"すもももももももものうち\" | sudachipy"
      ],
      "execution_count": null,
      "outputs": [
        {
          "output_type": "stream",
          "text": [
            "すもも\t名詞,普通名詞,一般,*,*,*\t李\n",
            "も\t助詞,係助詞,*,*,*,*\tも\n",
            "もも\t名詞,普通名詞,一般,*,*,*\tもも\n",
            "も\t助詞,係助詞,*,*,*,*\tも\n",
            "もも\t名詞,普通名詞,一般,*,*,*\tもも\n",
            "の\t助詞,格助詞,*,*,*,*\tの\n",
            "うち\t名詞,普通名詞,副詞可能,*,*,*\t内\n",
            "EOS\n"
          ],
          "name": "stdout"
        }
      ]
    },
    {
      "cell_type": "markdown",
      "metadata": {
        "id": "ZrnUvkLz8i2y"
      },
      "source": [
        "## 02-03 spaCyによる日本語テキスト処理"
      ]
    },
    {
      "cell_type": "markdown",
      "metadata": {
        "id": "mREm_MVK8m5q"
      },
      "source": [
        "### 日本語統計モデルのロード"
      ]
    },
    {
      "cell_type": "code",
      "metadata": {
        "id": "OzXLkIsEerem"
      },
      "source": [
        "from spacy.lang.ja import Japanese\n",
        "\n",
        "# Load SudachiPy with split mode A (default)\n",
        "nlp = Japanese()\n",
        "\n",
        "# Load SudachiPy with split mode B\n",
        "#cfg = {\"split_mode\": \"B\"}\n",
        "#nlp = Japanese(meta={\"tokenizer\": {\"config\": cfg}})"
      ],
      "execution_count": null,
      "outputs": []
    },
    {
      "cell_type": "markdown",
      "metadata": {
        "id": "L7nRxPnE_HhI"
      },
      "source": [
        "### documentを作成"
      ]
    },
    {
      "cell_type": "code",
      "metadata": {
        "id": "VbVAM7qvgW0n",
        "outputId": "2f4b7a76-e6e6-497e-ba64-40d4a8c2146c",
        "colab": {
          "base_uri": "https://localhost:8080/",
          "height": 35
        }
      },
      "source": [
        "doc = nlp('これは、やっぱり相当冗長な日本語の文じゃないかなと思っていたのですが。')\n",
        "print(doc.text)"
      ],
      "execution_count": null,
      "outputs": [
        {
          "output_type": "stream",
          "text": [
            "これは、やっぱり相当冗長な日本語の文じゃないかなと思っていたのですが。\n"
          ],
          "name": "stdout"
        }
      ]
    },
    {
      "cell_type": "markdown",
      "metadata": {
        "id": "8jW0p4D3_sk8"
      },
      "source": [
        "### spaCyからsudachiを利用した形態素解析の実行\n",
        "* 分かち書きされた単語そのもの以外の、品詞などの情報も表示させている。\n",
        " * tagに「形容動詞」は無く、その語幹が「形状詞」とされている。\n",
        " * 「じゃない」の「ない」は、tagでは「形容詞」だが、posでは「AUX」である。"
      ]
    },
    {
      "cell_type": "code",
      "metadata": {
        "id": "UNu4wuDP_qU-",
        "outputId": "047921d9-6195-465c-a880-8e688149e375",
        "colab": {
          "base_uri": "https://localhost:8080/",
          "height": 449
        }
      },
      "source": [
        "for token in doc:\n",
        "  print(f'text:{token.text}, pos:{token.pos_}, tag:{token.tag_}, lemma:{token.lemma_}')"
      ],
      "execution_count": null,
      "outputs": [
        {
          "output_type": "stream",
          "text": [
            "text:これ, pos:PRON, tag:代名詞, lemma:これ\n",
            "text:は, pos:ADP, tag:助詞-係助詞, lemma:は\n",
            "text:、, pos:PUNCT, tag:補助記号-読点, lemma:、\n",
            "text:やっぱり, pos:ADV, tag:副詞, lemma:やっぱり\n",
            "text:相当, pos:ADV, tag:副詞, lemma:相当\n",
            "text:冗長, pos:ADJ, tag:形状詞-一般, lemma:冗長\n",
            "text:な, pos:AUX, tag:助動詞, lemma:だ\n",
            "text:日本, pos:PROPN, tag:名詞-固有名詞-地名-国, lemma:日本\n",
            "text:語, pos:NOUN, tag:名詞-普通名詞-一般, lemma:語\n",
            "text:の, pos:ADP, tag:助詞-格助詞, lemma:の\n",
            "text:文, pos:NOUN, tag:名詞-普通名詞-一般, lemma:文\n",
            "text:じゃ, pos:AUX, tag:助動詞, lemma:だ\n",
            "text:ない, pos:AUX, tag:形容詞-非自立可能, lemma:ない\n",
            "text:か, pos:PART, tag:助詞-終助詞, lemma:か\n",
            "text:な, pos:PART, tag:助詞-終助詞, lemma:な\n",
            "text:と, pos:ADP, tag:助詞-格助詞, lemma:と\n",
            "text:思っ, pos:VERB, tag:動詞-一般, lemma:思う\n",
            "text:て, pos:SCONJ, tag:助詞-接続助詞, lemma:て\n",
            "text:い, pos:AUX, tag:動詞-非自立可能, lemma:いる\n",
            "text:た, pos:AUX, tag:助動詞, lemma:た\n",
            "text:の, pos:SCONJ, tag:助詞-準体助詞, lemma:の\n",
            "text:です, pos:AUX, tag:助動詞, lemma:です\n",
            "text:が, pos:SCONJ, tag:助詞-接続助詞, lemma:が\n",
            "text:。, pos:PUNCT, tag:補助記号-句点, lemma:。\n"
          ],
          "name": "stdout"
        }
      ]
    },
    {
      "cell_type": "markdown",
      "metadata": {
        "id": "_cj_qwejIj_g"
      },
      "source": [
        "### 英語の場合（復習）"
      ]
    },
    {
      "cell_type": "code",
      "metadata": {
        "id": "LsyZHx3UIjMe",
        "outputId": "ab42c2f8-4aff-493d-d5ef-bd0a6a2e0bdc",
        "colab": {
          "base_uri": "https://localhost:8080/",
          "height": 35
        }
      },
      "source": [
        "import spacy\n",
        "\n",
        "nlp_en = spacy.load(\"en_core_web_sm\")\n",
        "doc = nlp_en(\"Apple is looking at buying U.K. startup for $1 billion.\")\n",
        "print(doc.text)"
      ],
      "execution_count": null,
      "outputs": [
        {
          "output_type": "stream",
          "text": [
            "Apple is looking at buying U.K. startup for $1 billion.\n"
          ],
          "name": "stdout"
        }
      ]
    },
    {
      "cell_type": "code",
      "metadata": {
        "id": "h3XWU5l6Iu7L",
        "outputId": "a729a6f1-24fe-420b-dd44-572053674a2e",
        "colab": {
          "base_uri": "https://localhost:8080/",
          "height": 233
        }
      },
      "source": [
        "for token in doc:\n",
        "  print(f'text:{token.text}, pos:{token.pos_}, tag:{token.tag_}, lemma:{token.lemma_}')"
      ],
      "execution_count": null,
      "outputs": [
        {
          "output_type": "stream",
          "text": [
            "text:Apple, pos:PROPN, tag:NNP, lemma:Apple\n",
            "text:is, pos:AUX, tag:VBZ, lemma:be\n",
            "text:looking, pos:VERB, tag:VBG, lemma:look\n",
            "text:at, pos:ADP, tag:IN, lemma:at\n",
            "text:buying, pos:VERB, tag:VBG, lemma:buy\n",
            "text:U.K., pos:PROPN, tag:NNP, lemma:U.K.\n",
            "text:startup, pos:NOUN, tag:NN, lemma:startup\n",
            "text:for, pos:ADP, tag:IN, lemma:for\n",
            "text:$, pos:SYM, tag:$, lemma:$\n",
            "text:1, pos:NUM, tag:CD, lemma:1\n",
            "text:billion, pos:NUM, tag:CD, lemma:billion\n",
            "text:., pos:PUNCT, tag:., lemma:.\n"
          ],
          "name": "stdout"
        }
      ]
    },
    {
      "cell_type": "markdown",
      "metadata": {
        "id": "tME6lbWjErVS"
      },
      "source": [
        "# 課題2: 文書のbag-of-words表現を得る\n",
        "\n",
        "* （この課題は、宿題ではなく、いまここで作業しつつ解いてしまいます。）\n",
        "* Wikipediaの複数のエントリを、lemmaを半角スペースでつないだ、長い文字列へ変換する。\n",
        " * ここでは、コンピュータ科学の様々な分野のエントリを題材として使う。\n",
        "* scikit-learnのCountVectorizerやTfidfVectorizerを使って、各エントリにおける単語の出現頻度からなる特徴ベクトルを得る。\n",
        "* **文書を、そこに現れる単語の出現頻度やTF-IDFを使ってベクトル表現している限り、単語の出現順序は無視されている。文書に現れる単語は、バッグに入った品物のように扱われており、各々の品物が何個入っているかだけが問題とされていて、出現順の情報は失われている。このように、文書を単語のmultisetとしてモデル化することを、bag-of-words modelingと呼ぶ。**\n",
        "* 特徴ベクトルどうしの類似度を計算し、「人工知能」分野と最も似ている順に　３つの分野がどの分野かを求める。\n",
        " * 答えは自分の感覚でチェック。\n",
        " * 特徴ベクトルを作る時に単語の品詞を名詞に限定するなど、品詞の情報を使うことで結果を改善できるかどうかも、余裕があれば試行錯誤する。"
      ]
    },
    {
      "cell_type": "markdown",
      "metadata": {
        "id": "2n4zl1W407u6"
      },
      "source": [
        "## 課題の手順(1)"
      ]
    },
    {
      "cell_type": "markdown",
      "metadata": {
        "id": "BhCnUa1syjI5"
      },
      "source": [
        "### Wikipediaのエントリをダウンロードして形態素解析を適用\n",
        "\n",
        "* Wikipediaの「人工知能」エントリをダウンロードする。\n",
        " * https://ja.wikipedia.org/wiki/%E4%BA%BA%E5%B7%A5%E7%9F%A5%E8%83%BD\n",
        "* そして、そこに含まれる段落（__`<p>`__タグで囲まれた範囲）を列挙する。\n",
        "* 各段落のテキストに形態素解析を適用する。\n",
        "* 形態素解析で得られたlemmaを半角スペースでつないで、エントリ全体をひとつの長い文字列にする。\n",
        " * text、つまり、単語に分たれたそのままの文字列を半角スペースでつなぐのではない。\n",
        " * lemma（原型に戻したもの）を半角スペースでつなぐこと。\n",
        " * posやtagを見て、不要そうな単語を適当に削除してもよい。\n"
      ]
    },
    {
      "cell_type": "code",
      "metadata": {
        "id": "HJ2gPVtnDZvk"
      },
      "source": [
        "# 「人工知能」エントリをダウンロードしてparserのインスタンスを作る。\n",
        "\n",
        "from bs4 import BeautifulSoup\n",
        "from urllib.request import urlopen\n",
        "\n",
        "url = 'https://ja.wikipedia.org/wiki/%E4%BA%BA%E5%B7%A5%E7%9F%A5%E8%83%BD'\n",
        "html = urlopen(url) \n",
        "soup = BeautifulSoup(html, 'html.parser')"
      ],
      "execution_count": null,
      "outputs": []
    },
    {
      "cell_type": "code",
      "metadata": {
        "id": "3y5MSWBXDuE-"
      },
      "source": [
        "# 段落のテキストを取得する。\n",
        "\n",
        "lines = list()\n",
        "for para in soup.find_all('p'):\n",
        "  lines.append(para.text)"
      ],
      "execution_count": null,
      "outputs": []
    },
    {
      "cell_type": "code",
      "metadata": {
        "id": "CafzVR3NHG0c"
      },
      "source": [
        "lines"
      ],
      "execution_count": null,
      "outputs": []
    },
    {
      "cell_type": "code",
      "metadata": {
        "id": "NZXP8_h7v-Yb"
      },
      "source": [
        "# Sudachiで形態素解析し、分かち書き後のlemmaを取得する。\n",
        "\n",
        "x_pos = ['SPACE', 'PUNCT', 'AUX', 'ADP', 'SYM', 'DET', 'SCONJ', 'PART']\n",
        "tokens = list()\n",
        "for line in lines:\n",
        "  for token in nlp(line):\n",
        "    pos = token.pos_\n",
        "    if pos not in x_pos:\n",
        "      #print(f'text:{token.text}, pos:{token.pos_}, tag:{token.tag_}, lemma:{token.lemma_}')\n",
        "      tokens.append(token.lemma_)"
      ],
      "execution_count": null,
      "outputs": []
    },
    {
      "cell_type": "code",
      "metadata": {
        "id": "t4dxDREcwZOi",
        "outputId": "e086809b-75e9-493a-a79c-989f645a5d29",
        "colab": {
          "base_uri": "https://localhost:8080/",
          "height": 55
        }
      },
      "source": [
        "# すべてのlemmaを半角スペースでつないで、長い文字列にする。\n",
        "\n",
        "doc_AI = ' '.join(tokens)\n",
        "print(doc_AI)"
      ],
      "execution_count": null,
      "outputs": [
        {
          "output_type": "stream",
          "text": [
            "人工 知能 じん こうち 英 artificial intelligence AI エーアイ 計算 computation いう 概念 コンピュータ Computer いう 道具 用いる 知能 研究 計算 機 科学 computer science 一 分野 指す 語 1 言語 理解 推論 問題 解決 知的 行動 人間 代わる コンピューター 行う 技術 2 また 計算 機 コンピュータ よる 知的 情報 処理 システム 設計 実現 関する 研究 分野 する 3 日本 大 百科 全書 ニッポニカ 解説 情報 工学 者 通信 工学 者 佐藤 理史 次 よう 述べる 1 人間 知的 能力 コンピュータ 上 実現 様々 技術 ソフトウェア コンピュータ システム 4 応用 例 自然 言語 処理 機械 翻訳 かな 漢字 変換 構文 解析 等 5 専門 家 推論 判断 模倣 エキスパート システム 画像 データ 解析 特定 パターン 検出 抽出 画像 認識 等 ある 4 1956 年 ダートマス 会議 ジョン マッカーシー よる 命名 現在 記号 処理 用いる 知能 記述 主体 する 情報 処理 研究 アプローチ いう 意味 あい 使う 家庭 用 電気 機械 器具 制御 システム ゲーム ソフト 思考 ルーチン こう 呼ぶ こと ある プログラミング 言語 LISP よる ELIZA いう カウンセラー 模倣 プログラム 人工 無脳 しばしば 引き合い 出す 計算 機 人間 専門 家 役割 する いう エキスパート システム 呼ぶ 研究 情報 処理 システム 実現 人間 暗黙 持つ 常識 記述 問題 なる 実用 利用 困難 視 人工 知能 実現 アプローチ する ファジィ 理論 ニューラル ネットワーク よう アプローチ 知る 従来 人工 知能 gofai good Old fashioned AI 差 記述 記号 明示 性 ある 後 サポート ベクター マシン 注目 集める また 自ら 経験 元 学習 行う 強化 学習 いう 手法 ある 宇宙 おく 知性 最も 強力 形質 レイ カーツ ワイル いう 言葉 通り 知性 機械 表現 実装 いう こと 極めて 重要 作業 2006 年 ディープ ラーニング 深層 学習 登場 2010 年 代 以降 ビッグ データ 登場 よる 一過 性 流行 超える 社会 浸透 2016 年 2017 年 かける ディープ ラーニング 導入 AI 完全 情報 ゲーム 囲碁 トップ 棋士 さらに 不 完全 情報 ゲーム ポーカー 世界 トップ クラス プレイヤー 破る 6 7 麻雀 Microsoft suphx super Phoenix AI する 初めて 十 段 到達 8 時代 最 先端 技術 なる 9 第 2 次 人工 知能 ブーム 人工 知能 機械 学習 呼ぶ 以下 よう もの ある 一方 計算 知能 CI 開発 学習 繰る 返す こと 基本 する 例えば パラメータ 調整 コネクショニズム システム 学習 経験 基づく 手法 非 記号 AI 美しい ない AI 注 1 ソフト コンピューティング 関係 手法 する 以下 もの ある これ ら 統合 知的 システム 作る 試み なす ACT r エキスパート 推論 ルール 統計 学習 元 ニューラル ネットワーク 生成 規則 通す 生成 第 3 次 人工 知能 ブーム ディープ ラーニング 画像 認識 テキスト 解析 音声 認識 様々 領域 第 2 次 人工 知能 ブーム 人工 知能 上回る 精度 出す ディープ ラーニング 研究 盛ん 行う 最近 DQN CNN rnn gan 様々 ディープ ラーニング 派生 でる 各 分野 活躍 特に gan 敵対 生成 ネットワーク ディープ ラーニング 認識 予測 分野 成果 だす こと 加える 画像 生成 技術 おく 進化 見せる 森 正弥 これ ら 成果 背景 従来 人工 知能 応用 分野 広がる Creative AI いう コンテンツ 生成 行う 応用 始まる 指摘 10 AI 構築 長い 間 試みる シンボルグラウンディング 問題 フレーム 問題 解決 壁 なる 17 世紀 初め ルネ デカルト 動物 身体 ただ 複雑 機械 提唱 機械 論 ブレーズ パスカル 1642 年 最初 機械 式 計算 機 製作 チャールズ バベッジ エイダ ラブレス プログラム 可能 機械 式 計算 機 開発 行う バートランド ラッセル アルフレッド ノース ホワイトヘッド 数学 原理 出版 形式 論理 革命 もたらす ウォーレン マカロック ウォルター ピッツ 神経 活動 内在 アイデア 論理 計算 題する 論文 1943 年 発表 ニューラル ネットワーク 基礎 築く 1950 年 代 なる AI 関する 活発 成果 出る ジョン マッカーシー AI 関する 最初 会議 人工 知能 注 2 いう 用語 作る 彼 また プログラミング 言語 LISP 開発 知的 ふるまい 関する テスト 可能 方法 する アラン チューリング チューリング テスト 導入 ジョセフ ワイゼンバウム ELIZA 構築 これ 来談 者 中心 療法 行う お しゃべり ロボット 注 3 1956 年 行う ダートマス 会議 開催 提案 書 おく 人類 史 上 用語 する 初めて 使用 新た 分野 する 創立 1960 年 代 1970 年 代 間 ジョエル モーゼス macsyma マクシマ プログラム 注 4 中 積分 問題 記号 推論 パワー 示す マービン ミンスキー シーモア パパート パーセプトロン 出版 単純 ニューラル ネット 限界 示す アラン カルメラウアー プログラミング 言語 prolog 開発 テッド ショートリッフェ 医学 診断 療法 おく ルール ベース システム 構築 知識 表現 推論 パワー 示す これ 最初 エキスパート システム 呼ぶ こと ある ハンス モラベック 障害 物 ある コース 自律 走行 最初 コンピューター 制御 乗り物 開発 1980 年 代 ニューラル ネットワーク バック プロパゲーション アルゴリズム よる 広い 使う また 時代 ロドニー ブルックス 知能 身体 必須 学説 身体 性 提唱 1990 年 代 AI 多く 分野 様々 アプリケーション 成果 上げる 特に ボード ゲーム 目覚ましい 1992 年 IBM 世界 チャンピオン 匹敵 バックギャモン 専用 コンピュータ td ギャモン 開発 IBM チェス 専用 コンピュータ ディープ ブルー 1997 年 5 月 ガルリ カスパロフ 打つ 負かす 同年 8 月 オセロ 日本 電気 オセロ 専用 コンピュータ ロジステロ 世界 チャンピオン 村上 健 敗れる 11 国防 高等 研究 計画 局 最初 湾岸 戦争 おく ユニット スケジューリング AI 使う これ よる 省く コスト 1950 年 代 以来 AI 研究 政府 投資 全額 上回る こと 明らか 日本 甘利 俊一 日本 学士 院 会員 ら 精力 啓蒙 優秀 成果 発生 論理 ブラック ボックス 性 指摘 1998 年 非 構造 化 データ 形式 国際 規格 XML 提唱 ここ web 上 非 構造 化 データ 対する アプリケーション 別 適する 意味 付け 適用 処理 行う 試み 開始 同年 W 3 c ティム バーナーズ リー よる web 知的 処理 行う セマンティック ウェブ 提唱 技術 web 上 データ 意味 付加 コンピュータ 知的 処理 行う 方法 国際 規格 化 もの 規格 知識 工学 おく オントロジー 表現 データ 形式 owl 含む こと かつて 流行 エキスパート システム 亜種 こと 分かる 2000 年 代 前半 規格 化 完了 web 開発 者 とる 開発 工数 見る メリット 見出せる こと 現在 普及 する 日本 おく エキスパート システム 流行 後 ニューロ ファジィ 流行 しかし 研究 進む つれる 計算 リソース データ 量 不足 シンボルグラウンディング 問題 フレーム 問題 直面 産業 在る 方 激変 AI 至る こと 無い ブーム 終焉 1980 年 代 入る 大 企業 研究 所 中心 知識 工学 基づく エキスパート システム 多数 提案 エキスパート システム 専門 する AI ベンチャー 次々 立つ 上がる 流行 生まれる 究極 プロジェクト する 第 五 世代 コンピュータ 挙げる 1982 年 1992 年 日本 国家 プロジェクト する 570億 円 費やす 第 五 世代 コンピュータ 研究 進める 採用 知識 工学 手法 膨大 ルール 手 入力 必要 専門 家 間 専門 知識 解釈 異なる 場合 統一 ルール 化 行える 等 問題 ある 実用 エキスパート システム 実現 至る 実現 成果 物 prolog 命令 直接 CPU ハードウェア 機構 解釈 高速 実行 並列 型 prolog 専用 機 商業 意味 応用 先 全く 見つかる 1980 年 代 後半 1990 年 代 中頃 かける 従来 電子 制御 手法 する 用いる on OFF 制御 pid 制御 現代 制御 問題 克服 ため 知的 制御 盛ん 研究 知識 工学 ルール 用いる ファジィ 制御 データ 特徴 学習 分類 ニューラル ネットワーク 2 つ 融合 ニューロ ファジィ いう 手法 日本 中心 ブーム 迎える バブル 期 高級 路線 合わせる 白物 家電 製品 センサ 個数 種類 大幅 増やす 多様 データ 元 運転 最適 化 モデル 多数 発売 ファジィ つく 2018 年 日本 世界 1 5 特許 取得 事 日本 特に ブーム なる こと 分かる 13 現在 白物 家電 当時 更に 発展 制御 技術 用いる 既に 当たり前 もの なる 利用 者 意識 ニューロ ファジィ ブーム なる 1990 年 代 未だ ビッグ データ いう 概念 無い ブロードバンド 接続 普及 後 2010 年 初めて 提唱 データ マイニング する 産業 応用 行う しかし ニューラル ネットワーク 一般 人 巻く 流行 事例 する 初めて 事例 2010 年 代 ディープ ラーニング ブーム 前史 言える 社会 現象 言える 松下 電器 1985 年 頃 人間 持つ 曖昧 さ 制御 活かす ファジィ 制御 つく 研究 開始 1990 年 2 月 1日 ファジィ 洗濯 機 第 1 号 愛妻 号 Day ファジィ 発売 漕ぐ 愛妻 号 Day ファジィ 従来 多数 センサー 収集 データ 基づく 柔軟 運転 最適 化 洗濯 機 同種 洗濯 機 する 世界 初 ファジィ 制御 いう 当時 最 先端 技術 導入 バブル 期 高級 路線 マッチ こと ファジィ 裏方 制御 技術 関わる 世間 注目 集める 13 流行 度合い 1990 年 新語 流行 語 大賞 おく 新語 部門 金賞 ファジィ 選ぶ 後 松下 電器 ファジィ ルール 煩雑 チューニング 自動 化 ニューロ ファジィ 制御 開発 従来 ファジィ 理論 限界 突破 学会 評価 ない 白物 家電 応用 成功 ブーム 巻く 起こす 松下 電器 試み 成功 受ける 他社 同様 知的 制御 用いる 製品 多数 発売 1990 年 代 中頃 メーカー 各社 よる 一般 向け 白物 家電 売り 文句 する 知的 制御 技術 名称 大々 用いる 洗濯 機 製品 名 愛妻 号 Day ファジィ 掃除 機 分類 する ニューロ ファジィ 掃除 機 エアコン 運転 モード ニューロ 自動 名称 付与 14 15 16 17 18 19 ニューロ ファジィ ニューロ ファジィ いう 手法 従来 単純 オン オフ 制御 対象 数式 客観 モデル 化 作業 対象 複雑 機構 持つ 場合 極めて 難しい なる 必要 ある pid 制御 現代 制御 等 比較 人間 主観 経験 則 計測 データ 特徴 利用 可能 なる ファジィ ニューロ ニューロ ファジィ 開発 工数 抑える 環境 適応 時 柔軟 性 高い できる いう 利点 ある 12 しかし 開発 者 ら 努力 関わる 計算 能力 収集 可能 データ 量 少ない 既存 工作 機械 家電 製品 制御 多少 改善 程度 限界 迎える 理論 ファジィ 集合 深層 学習 不 可能 ニューラル ネットワーク 組み合わせ 計算 リソース データ 潤沢 与える する 認識 精度 向上 限界 ある 以降 計算 機 能力 限界 理論 改善 遅々 する 進む 目立つ 進展 無くなる 1990 年 代 末 知的 制御 搭載 白物 家電 大 多数 なる こと 売り 文句 する ブーム 去る 20 ブーム 後 一般 意識 現在 裏方 技術 する 家電 製品 雨水 排水 駐車 場 ビル 管理 システム 社会 インフラ 使う 十分 性能 安定 性 実証 2003 年 頃 人間 設計 オントロジー ファジィ ルール する 表現 利活用 ネットワーク インテリジェンス いう 分野 発展 21 2005 年 レイ カーツ ワイル 著作 圧倒 人工 知能 知識 知能 点 人間 超越 科学 技術 進歩 担う 世界 変革 技術 特異 点 シンギュラリティ 2045 年 訪れる する 説 発表 2006 年 ジェフリー ヒントン ら 研究 チーム よる オート エンコーダ よる ニューラル ネットワーク 深層 化 手法 提案 現在 ディープ ラーニング 直接 起源 2010 年 代 入る 膨大 データ 扱う 研究 開発 ため 環境 整備 こと AI 関連 研究 再び 大きい 前進 2010 年 英国 エコノミスト 誌 ビッグ データ いう 用語 提唱 同年 質問 応答 システム ワトソン クイズ 番組 ジェパディ 練習 戦 人間 勝利 ニュース なる 22 2012 年 画像 処理 コンテスト ジェフリー ヒントン 氏 チーム 従来 手法 大幅 精度 改善 果たす 上 優勝 こと 第 三 次 AI ブーム 始まる 2013 年 国立 情報 学 研究 所 注 5 富士通 研究 所 研究 チーム 開発 東 ロボ くん 東京 大学 入試 模擬 試験 挑む 発表 数式 計算 単語 解析 あたる 専用 プログラム 使う 実際 受験 生 臨む 大学 入試 センター 試験 東大 2 次 試験 問題 解読 代々木 ゼミナール 判定 東大 合格 難しい 私立 大学 合格 水準 23 2014 年 日本 人工 知能 学 者 齊藤 元章 よる 特異 点 先立つ オートメーション 化 コンピューター 技術 進歩 よる 衣食住 生産 コスト ゼロ 限りない 近づく いう プレ シンギュラリティ いう 概念 提唱 ジェフ ホーキンス 実現 向ける 研究 続ける 著書 考える 脳 考える コンピューター 中 自己 連想 記憶 理論 いう 独自 理論 展開 世界 各国 おく 軍事 民間 共 実用 化 向ける 研究 開発 進む とくに 無人 戦闘 機 ucav 無人 自動車 ロボットカー 開発 進行 もの 2010 年 代 まだ 完全 自動 化 試験 もの 留まる ucav 利用 一部 操作 地上 行く もの 多い ロボット 向け する csail ロドニー ブルックス 提唱 包摂 アーキテクチャ いう 理論 登場 これ 従来 型 我 思う 故 あり 知 先行 もの ない 体 神経 ネットワーク 用いる 環境 学習 行動 型 システム 用いる これ 基づく ゲンギス 呼ぶ 六 本 足 ロボット 脳 持つ 関わる まるで 生きる よう 行動 2015 年 10 月 米 deepmind 社 作成 alphago 人間 プロ 囲碁 棋士 勝利 以降 ディープ ラーニング 呼ぶ 手法 注目 人工 知能 自体 研究 他 人工 知能 雇用 与える 影響 つく 研究 進める 24 2016 年 10 月 deepmind 入力 情報 関連 性 導く 仮説 近い もの 導く 人工 知能 技術 ディファレンシャブル ニューラル コンピューター 発表 25 同年 11 月 大量 データ 不要 ワンショット 学習 可能 深層 学習 システム 26 翌 2017 年 6 月 関係 推論 よう 人間 並み 認識 能力 持つ システム 開発 27 2017 年 8 月 記号 接地 問題 シンボルグラウンディング 問題 解決 28 従来 AI 不向き する 不 完全 情報 ゲーム ポーカー AI 人間 勝利 Google 関係 者 さらに 野心 取り組み する 単一 ソフトウェア 数百 万 1億 タスク 実行 可能 AI 開発 明らか 2006 年 ディープ ラーニング 発明 2010 年 以降 ビッグ データ 収集 環境 整備 計算 資源 なる GPU 高 性能 化 よる 2012 年 ディープ ラーニング 画像 処理 コンテスト 他 手法 圧倒 大差 付ける 優勝 こと 技術 特異 点 いう 概念 急速 世界 中 識者 注目 集める 現実 味 持つ 受ける 止める ディープ ラーニング 発明 急速 普及 受ける 研究 開発 現場 おく デミス ハサビス 率いる deepmind 筆頭 vicarious IBM cortical Learning Center 全脳 アーキテクチャ pezy computing opencog goodai nnaisense IBM synapse 等 汎用 人工 知能 agi 開発 プロジェクト 数多く 立つ これ ら 研究 開発 現場 脳 リバース エンジニアリング 構築 神経 科学 機械 学習 組む 合わせる アプローチ 有望 する 29 結果 する hierarchical temporal Memory htm 理論 complementary Learning systems CLS 理論 更新 版 等 単一 タスク 扱う ディープ ラーニング 更に 一 歩 進む 複数 タスク 同時 扱う 理論 提唱 3 d ゲーム よう 仮想 空間 モデル 動かす 現実 世界 こと 高速 学ぶ いう こと 成果 上げる シミュレーション よる 学習 また 数 少ない agi 知能 再現 不 可能 考える 身体 知 再現 ため 全 人体 シミュレーション 必要 する 研究 者 生物 近い 振る舞い 見せる Al 人工 生命 作成 挑む 研究 者 知能 密接 関係 ある 思う 意識 デジタル 再現 人工 意識 挑戦 研究 者 いる リーズナブル コスト 大量 計算 リソース 手 入る こと ビッグ データ 出現 企業 膨大 データ 活用 極めて 強い 関心 寄せる 全 世界 民間 企業 主導 莫大 投資 行う 人工 知能 関する 研究 開発 競争 展開 また 2011 年 d Wave systems よる 量子 アニーリング 方式 製品 化 嚆矢 する 量子 コンピュータ いう 超 並列 処理 可能 次 世代 IT インフラ 急速 実用 化 事 人工 知能 高速 化 深い 関わる 組み合わせ 最適 化 問題 リアル タイム 解決 環境 整備 動向 受ける 形 2016 年 頃 一般 向け ニュース 番組 人工 知能 研究 開発 新しい サービス 展開 量子 コンピュータ 関する 報道 目立つ 2017 年 イーロン マスク 急速 進化 人工 知能 対する 人間 遅れ 取る ため 人間 脳 機械 接続 ブレイン マシン インターフェース 研究 開発 ニューラ リンク 社 立つ こと 公表 世界 中 話題 なる ブレイン マシン インターフェース よる 人 インターネット 出現 事 予測 2017 年 10 月 ジェフリー ヒントン よる 要素 間 相対 位置 関係 含める 学習 カプセル ネットワーク 提唱 30 2018 年 3 月 16 日 国際 大学 glocom 提言 よる 課題 解決 型 AI 活用 事 社会 変革 寄与 分析 31 2018 年 8 月 Open AI 好奇 心 実装 ノーゲームスコア ノーゴール 無 報酬 目的 なし 探索 行う AI 公表 これ AI 最も 人間 いう 32 2018 年 9 月 MIT リンカーン 研究 所 従来 ブラック ボックス ニューラル ネットワーク 推論 段階 経る 識別 明確 分かる アーキテクチャ 開発 33 2019 年 入る これ 深層 学習 困難 する 言語 処理 おく 進展 ある Wikipedia 使用 読解 テスト 人間 上回る 至る bert Robert 34 アメリカ 2013 年 時 大統領 バラク オバマ 脳 研究 プロジェクト BRAIN initiative 発表 Google アレン 脳 科学 研究 所 連携 脳 スキャン よる 生まれる 大量 データ 処理 ため ソフトウェア 開発 2016 年 時点 Google 管理 brainmap データ 量 すでに 1 zetta バイト 達する いう 35 36 Google ドイツ マックス プランク 研究 所 とも 共同 研究 始める 脳 電子 顕微 鏡 写真 神経 回路 再 構成 いう 研究 行う 37 中国 2016 年 第 13 次 5 カ年 計画 AI 国家 プロジェクト 位置 づけ 38 脳 研究 プロジェクト する 中国 脳 計画 英語 版 立つ 39 官民 一体 AI 研究 開発 推進 40 中国 教育 機関 18 歳 以下 天才 児 集める 公然 AI 兵器 開発 投ずる いる 41 マサチューセッツ 工科 大学 MIT エリック ブリニョルフソン 英語 版 教授 情報 技術 イノベーション 財団 英語 版 よる 中国 プライバシー 意識 強い 欧米 比較 AI 研究 新 技術 実験 する 環境 ある する 42 43 44 日本 スーパー コンピュータ 研究 開発 推進 齊藤 元章 AI 開発 おく 中国 リード 可能 性 主張 45 世界 ディープ ラーニング 用 計算 機 4 分 3 中国 占める ともす 46 米国 政府 よる 2013 年 ディープ ラーニング 関する 論文 数 中国 米国 超える 世界 一 なる 47 frvt 英語 版 imagenet 英語 版 AI 世界 大会 中国 勢 上位 独占 48 49 大手 AI 企業 Google マイクロ ソフト アップル 幹部 ある 台湾 系 アメリカ 人 科学 者 李 開 復 英語 版 中国 AI 覇権 握る する AI 超 大国 中国 シリコンバレー 新 世界 秩序 英語 版 著す アメリカ 政界 メディア 取る 50 51 フランス 大統領 エマニュエル マクロン AI 分野 開発 支援 向ける 5 年 15億 ドル 約 1600億 円 支出 宣言 52 AI 研究 所 パリ 開く フェイスブック グーグル サムスン deepmind 富士通 招致 イギリス AI 研究 おく 長期 連携 決定 EU 全体 する horizon 2020 計画 通ずる 215億 ユーロ 投ずる 方向 韓国 20億 ドル 2022 年 投資 する 6 つ AI 機関 設立 褒賞 制度 作る 目標 2022 年 AI 世界 トップ 4 入る こと いう 53 日経 新聞 調べ よる 国別 AI 研究 論文 数 1 位 米国 2 位 中国 3 位 インド 日本 7 位 54 プログラミング 言語 c ほか python 広い 使う 深層 学習 利用 微分 線形 代数 確率 統計 いう 大学 レベル 以上 数学 知識 必要 なる 脳 シミュレーション 行う 脳 神経 科学 知識 重要 なる 人工 知能 学会 松尾 豊 著書 人工 知能 人間 超える 内 於く 人間 対する 反乱 起こす 可能 性 否定 人工 知能 危険 性 つく 警鐘 鳴らす 著名 人 いる MIT ローレン r グレアム 英語 版 教授 莫大 資金 力 人権 弾圧 併せる 持つ 中華 人民 共和 国 人工 知能 開発 競争 成功 民主 国家 技術 革新 優位 いう 既成 概念 変わる 述べる 42 ディープ ラーニング 父 一人 呼ぶ ヨシュア ベンジオ 英語 版 中国 市民 監視 政治 目的 人工 知能 利用 こと 警鐘 鳴らす 58 59 海外 人権 団体 メディア 中国 代表 人工 知能 人権 抑圧 政治 体制 デジタル 権威 主義 60 61 デジタル 独裁 62 63 64 デジタル 警察 国家 65 デジタル 全体 主義 66 AI 独裁 67 呼ぶ 中国 ヘルメット 帽子 埋める センサー 国民 脳波 感情 人工 知能 監視 政府 支援 プロジェクト 推す 進める 68 69 70 71 ネット 検閲 72 73 官僚 刑務 所 囚人 横断 歩道 歩行 者 監視 人工 知能 行う 74 75 76 77 78 79 監視 カメラ 警察 サングラス 型 スマート グラス 80 ロボット 81 顔 認識 システム 天網 搭載 人工 知能 よる 監視 社会 管理 社会 化 行う 82 83 84 85 新疆 ウイグル 自治 区 監視 カメラ 携帯 電話 収集 個人 情報 人工 知能 解析 プレディクティブ ポリシング 英語 版 人種 プロファイリング 選別 少数 民族 ウイグル 族 法的 手続き 経る 2017 年 6 月 時点 約 1万5千 人 テロ 犯罪 犯す 可能 性 ある する 新疆 ウイグル 再 教育 キャンプ 予防 拘禁 する 中国 政府 内部 文書 チャイナ ケーブル 英語 版 報ずる 86 87 88 AI 使う 政府 よる 特定 民族 選別 コンピュータ 人間 強制 収容 所 送る 人権 侵害 前例 ない する 国際 問題 なる 89 90 香港 中国 本土 同様 人工 知能 よる 監視 社会 化 恐れる 91 2019 年 2020 年 香港 民主 化 デモ 起きる 際 監視 カメラ 搭載 スマート 街灯 市民 次々 破壊 92 93 中国 AI 監視 技術 中東 アジア アフリカ 世界 各国 輸出 94 95 96 97 98 60 国際 連合 専門 機関 国際 電気 通信 連合 ITU 通ずる 中国 AI 監視 技術 国際 標準 化 主導 こと 中国 よう 人権 侵害 世界 拡散 こと 人権 団体 懸念 99 100 中国 社会 信用 システム 代表 人工 知能 ビッグ データ 活用 人々 適性 決める 制度 社会 階層 間 格差 固定 化 こと 繋がる する 懸念 ある 101 欧州 連合 2018 年 5 月 人工 知能 ビッグ データ 分析 よる 雇用 融資 差別 認める EU 一般 データ 保護 規則 施行 102 マサチューセッツ 工科 大学 顔 認識 システム 精度 Microsoft 中国 megvii 9 割 超 IBM 8 割 達する 対する Amazon 6 割 人種 差別 バイアス ある する 研究 発表 際 Amazon 論争 なる 103 主要 国 軍隊 ミサイル 防衛 分野 自動 化 試みる アメリカ 海軍 完全 自動 防空 システム ファランクス CIWS 導入 ガトリング 砲 よる 対艦 ミサイル 破壊 イスラエル 軍 対空 迎撃 ミサイル システム アイアン ドーム 所有 ガザ 地区 境界 線 標的 自動 検知 ガーディアム サムソン rcws 稼働 複数 人間 射殺 104 105 今後 AI 新しい 軍事 能力 生む 軍 指揮 訓練 部隊 展開 変える 戦争 一変 変化 大国 間 軍事 バランス 決める こと なる 主張 ある 106 p 1 哨戒 機 よう 戦闘 指揮 システム 支援 用 搭載 こと ある 2016 年 6 月 米 シンシナティ 大学 研究 チーム 開発 alpha 元 米軍 パイロット 模擬 空戦 一方 勝利 発表 AI プログラム 遺伝 アルゴリズム ファジィ 制御 使用 アルゴリズム 動作 高い 処理 能力 必要 する raspberry pi 上 動作 可能 107 108 アメリカ 合衆 国 国防 総省 人道 上 観点 人間 判断 介す 自律 殺傷 兵器 開発 禁止 令 2012 年 出す 2017 年 これ 恒久 もの する 109 人工 知能 人間 勝つ 残る 力 する ooda ループ 注目 110 一部 科学 者 ハイテク 企業 首脳 ら AI 軍事 利用 よる 世界 不 安定 化 加速 主張 2015 年 ブエノスアイレス 開催 人工 知能 国際 合同 会議 スティーブン ホーキング アメリカ 宇宙 ベンチャー 企業 スペース x 創業 者 イーロン マスク アップル 社 共同 創業 者 スティーブ ウォズニアック ら 科学 者 企業 家 ら よる 公開 書簡 出す そこ 自動 操縦 よる 無人 爆撃 機 銃火 器 操る 人型 ロボット AI 搭載 型 兵器 火薬 核 兵器 続く 第 3 革命 とらえる うち 一部 数 年 以内 実用 可能 なる 予測 国家 不 安定 化 暗殺 抑圧 特定 民族 選別 攻撃 利用 兵器 開発 競争 人類 とる 有益 もの なる 記す 同年 4 月 ハーバード 大学 ロースクール 国際 人権 団体 ヒューマン ライツ ウォッチ 自動 操縦 型 武器 禁止 求める 111 2017 年 11 月 国際 連合 AI 軍事 利用 関する 初 公式 専門 家 会議 行う 112 2019 年 8 月 同 会議 AI 兵器 運用 めぐる 事実 上 初 国際 ルール 採択 法的 拘束 力 盛る 113 新 冷戦 米中 冷戦 状態 ある 評す 米国 中国 ロシア 核 開発 匹敵 開発 競争 人工 知能 軍事 利用 めぐる 114 中国 2017 年 6 月 119 機 ドローン 群 自律 飛行 実験 前年 2016 年 103 機 飛行 実験 成功 米軍 記録 更新 翌 2018 年 5 月 北米 都市 爆撃 CG 映像 発表 115 同年 6 月 56 隻 自律 無人 艇 使う 世界 最大 規模 試験 116 行う AI 軍事 利用 技術 特に スウォーム 呼ぶ 大量 徘徊 型 兵器 自律 兵器 統合 運用 中国 急速 進展 アメリカ 追う 可能 性 ある こと つく 懸念 アメリカ 側 将来 備える 必要 ある 主張 する 106 中国 軍用 AI 開発 アメリカ 軍部 政界 危機 感 与える 2019 年 3 月 ジョセフ ダンフォード 統合 参謀 本部 議長 パトリック シャナハン 国防 長官 代行 ドナルド トランプ 大統領 中国 AI 研究 拠点 設立 中国 人民 解放 軍 協力 Google 非難 117 118 Google CEO サンダー ピチャイ ダンフォード トランプ 大統領 面談 中国 AI 研究 拠点 成果 中国 限る 全て 人々 開放 釈明 事態 なる 119 アメリカ Google 米軍 AI 軍事 利用 協力 極秘 計画 メイヴン 計画 行う こと Google 社員 暴露 120 2018 年 12 月 アメリカ 議会 公聴 会 同様 暴露 中国 政府 協力 秘密 計画 ドラゴン フライ 計画 英語 版 とも 人工 知能 用いる 兵器 開発 人権 侵害 拒否 Google 誓う 同年 6 月 人工 知能 開発 6 原則 整合 性 追及 受ける 121 中国 軍 戦闘 機 j 20 標的 選択 支援 アルゴリズム グーグル AI 研究 者 関わる 報道 際 AI ない 統計 学 モデリング 否定 122 また Microsoft 中国 軍 教育 機関 AI 共同 研究 発表 際 同様 波紋 呼ぶ 123 2019 年 11 月 マーク エスパー 国防 長官 中国 AI よる 新しい 監視 国家 構築 ない 中東 翼竜 彩虹 無人 攻撃 機 大量 拡散 AI 自律 攻撃 ドローン 兵器 販売 こと 警鐘 鳴らす 124 ロシア 中国 既に 実用 化 する ハッキング 自動 化 他 125 特定 個人 攻撃 ディープ フェイク なる すます ボット 投稿 よる 世論 操る 等 懸念 挙げる 126 オックスフォード 大学 マイケル オズボーン 博士 2013 年 発表 論文 よる 人工 知能 ロボット 等 よる 代替 可能 性 高い 労働 人口 日本 約 49 ％ こと アメリカ 約 47 ％ イギリス 約 35 ％ 2030 年 代 ファスト フード 店 料理 する 従業 員 ロボット AI 取る 代わる 可能 性 81 ％ 高い こと 指摘 127 128 129 しかし 論文 対する 実験 室 レベル 自動 化 出来る 仕事 含む ため 過大 推計 批判 ある 実際 2016 年 10 月 マイケル オズボーン 来日 際 経済 産業 研究 所 岩本 晃一 意図 前提 試算 質問 ところ 技術 可能 性 示す 雇用 増 部分 一切 考慮 回答 返る 例える 現在 既に 将棋 AI 実験 室 レベル 出現 現 時点 世界 中 将棋 棋士 全員 既に AI 代替 可能 性 ある 示す 過ぎる そして 職業 構成 タスク 業務 単位 みる 場合 70 ％ 超え タスク 自動 化 職業 9 ％ 程度 日本 場合 7 ％ 程度 とどまる 研究 結果 ある また AI 機械 化 よる 雇用 奪う いう 主張 ある それ ら 技術 よる タスク 量 減少 AI 機械 化 導入 維持 仕事 それ ら 技術 よる 新た 仕事 生まれる こと よる 雇用 生む 可能 性 ある しかし 同時 中 程度 技能 有する ルーティン 業務 減少 専門 技能 求める 低 スキル 仕事 高度 技能 求める 仕事 2 極 化 経済 格差 拡大 予測 ある 130 131 132 Google 2019 年 3 月 人工 知能 プロジェクト 倫理 面 指導 ため 哲学 者 政策 立案 者 経済 学 者 テクノロジスト 等 構成 AI 倫理 委員 会 設置 発表 133 しかし 倫理 委員 会 反 科学 反 マイノリティ 地球 温暖 化 懐疑 論 等 支持 人物 含む Google 社員 ら 解任 要請 133 4 月 4 日 Google 倫理 委員 会 期待 どおり 機能 こと 判明 いう 理由 委員 会 解散 発表 133 東洋 哲学 AI 吸収 いう 三宅 陽一郎 テーマ 応ずる 井口 尊仁 鳥居 torii いう 自分 プロジェクト 挙げる われわれ アニミズム あらゆる もの 霊的 存在 見いだす 文化 ある 三宅 および 立石 従 寛 語る 134 アニミズム 人工 知能 論 現代 アート 禅 悟り どう やる AI やる 論ずる 三宅 人工 知能 ため 哲学 塾 東洋 哲学 篇 通ずる 134 元 Google エンジニア アンソニー レバンドウスキー 2017 年 AI 神 する 宗教 団体 Way of THE future 未来 道 創立 135 団体 使命 人工 知能 AI 基づく godhead 実現 促進 開発 こと そして godhead 理解 崇拝 通す 社会 より 良い する こと 貢献 こと 抽象 表現 多く 海外 メディア SF 映画 歴史 関連 報道 135 uber Google waymo レバンドウスキー 自動 運転 関する 機密 情報 盗用 こと 訴える 裁判 行う 一方 レバンドウスキー uber 元 CEO トラビス カラニック 対する ボット ひと つ 我々 世界 征服 発言 野心 振る舞い 示す 135 相愛 大学 人 文学 部 教授 釈 徹 宗 哲学 思想 文学 宗教 霊性 論 線引き 不 明瞭 述べる 136 哲学 者 倫理 学 者 内田 樹 よる 本物 哲学 者 みんな 死者 幽霊 異界 話 する いう 137 発明 家 レイ カーツ ワイル 言う 哲学 者 ジョン サール 提起 強い AI 弱い AI 論争 AI 哲学 議論 ホット 話題 138 哲学 者 ジョン サール および ダニエル デネット よる サール 中国 語 部屋 ネド ブロック ら 中国 脳 いう 機能 主義 批判 思考 実験 真 意識 形式 論理 システム よる 実現 主張 139 140 科学 語る こと おく 科学 者 須藤 靖 科学 つく 哲学 考察 科学 哲学 実際 科学 断絶 こと 指摘 141 また 心 意識 いう 問題 解明 脳 科学 計算 機 科学 コンピュータ 科学 人工 知能 研究 開発 等 関連 科学 者 フランシス クリック 哲学 者 たち 2000 年 いう 長い 間 ほとんど 何 成果 残す 批判 142 こう する 観点 おく 哲学 二流 三 流 学問 科学 過ぎる 評価 142 脳 科学 者 澤口 俊之 クリック 賛同 これ 私 ため息 まじり 愚痴 なる 哲学 者 思想 家 いう つくづく 暇 思う 述べる 142 実際 哲学 暇 スコレー 始まる アリストテレス 伝える 上記 よう 否定 発言 的外れ ない 科学 哲学 者 野家 啓一 言う 142 哲学 者 科学 違う 日常 言語 存在 宇宙 語る する 143 しかし 理論 物理 学 者 ディラック 哲学 者 ことさら 信用 144 ディラック 見る ところ ウィトゲンシュタイン 含める 哲学 者 たち 量子 力学 パスカル 以降 確率 概念 理解 145 非 科学 日常 言語 いくら 使う 正確 意思 疎通 行う こと できる いう ディラック 考え する 144 生命 情報 科学 者 神経 科学 者 合原 一幸 編著 人工 知能 こう する 創る よる AI 急激 発展 伴う 技術 特異 点 シンギュラリティ 思想 哲学 一部 論ずる 特異 点 言う 数学 話 ない 146 前掲 書 そもそも シンギュラリティ 関係 議論 おく 人間 脳 超える いう 言明 自体 うまい 定義 記す 147 確か 脳 デジタル 情報 処理 システム する 捉える 観点 見る シンギュラリティ 起こる しれる 148 しかし 実際 脳 単純 システム ない デジタル アナログ 融合 ハイブリッド 系 こと 脳 神経 科学 観察 結果 示す 148 前掲 書 よる 神経 膜 様々 ノイズ 存在 ノイズ 付き アナログ 量 よる 脳内 ニューロン カオス 生む ため 状況 デジタル 記述 こと 極めて 困難 考える 149 数学 者 田中 一之 一般 哲学 者 論理 専門 家 ない 述べる 150 計算 機 科学 者 コンピュータ 科学 者 電子 工学 者 トルケル フラン セーン 哲学 者 たち よる 数学 言及 多く ひどい 誤解 自由 連想 基づく 批判 151 田中 よる ゲーデル 不 完全 性 定理 つく 哲学 者 書く 本 フラン セーン 本 頃 書店 販売 哲学 者 本 専門 誌 よる 酷評 150 本 全体 する 読む 一般 読者 評判 高い ゲーデル 証明 核 不動 点 定理 つく 根本 勘違い する まま 説明 150 同様 間違い 他 入門 書 見る 150 フラン セーン よる 不 完全 性 定理 関する 誤解 誤用 哲学 はじめ 一般 起こる 151 宗教 神学 乱用 152 153 1931 年 ゲーデル 示す 特定 形式 体系 p displaystyle p おく 決定 不能 命題 存在 一般 意味 不 完全 性 つく 定理 ない 154 科学 哲学 科学 語る こと よる 学問 扱う 問題 整理 分化 こと 科学 哲学 それぞれ 異なる 問題 研究 155 これ 研究 分野 細分 化 もの 立派 進歩 宇宙 物理 学 者 須藤 言う 155 一方 科学 哲学 者 倫理 学 者 伊勢田 哲治 様々 要素 含む 問題 哲学 統一 扱う かつて 天文 学 つく 言及 155 後 天文 学 哲学 問題 扱う 今 物理 学 そう いう 問題 扱う 述べる 伊勢田 対する 須藤 通り それ 自体 何 問題 ある 返す 155 須藤 次 よう 述べる 141 私 科学 哲学 物理 学 者 対する 何 ら 助言 する いう こと 聞く こと ない おそらく 科学 哲学 一般 科学 者 ほとんど 没 交渉 言う 差す 支える 状況 科学 哲学 者 科学 者 価値 観 溝 深い こと 確実 須藤 哲学 論ずる 原因 いう 言葉 取る 原因 いう 言葉 具体 定義 限り それ 以上 議論 不 可能 157 述べる 哲学 者 興味 持つ 因果 定義 物理 学 者 違う こと 確か する 158 伊勢田 思う 以上 物理 学 者 哲学 者 もの 見える 方 違い いう 大きい しれる 述べる 159 対談 須藤 これ けっこう 長 時間 議論 行う おかげ 意見 違い 明らか 思う 果たして 何 決着 つく 発言 伊勢田 決着 つく 答える 160 学術 書 辞 事典 報道 活用 事例 研究 課題 関連 分野 他 関連 項目 応用 人工 知能 未来 関わる 項目\n"
          ],
          "name": "stdout"
        }
      ]
    },
    {
      "cell_type": "markdown",
      "metadata": {
        "id": "qcEH8FkCKUd4"
      },
      "source": [
        "### sudachiの設定を変えて使ってみる\n",
        "https://www.anlp.jp/proceedings/annual_meeting/2019/pdf_dir/P8-5.pdf"
      ]
    },
    {
      "cell_type": "code",
      "metadata": {
        "id": "jfv_gJ8RKUJx"
      },
      "source": [
        "# Load SudachiPy with split mode C\n",
        "cfg = {\"split_mode\": \"C\"}\n",
        "nlp = Japanese(meta={\"tokenizer\": {\"config\": cfg}})"
      ],
      "execution_count": null,
      "outputs": []
    },
    {
      "cell_type": "code",
      "metadata": {
        "id": "MQJFIhsYKZUE"
      },
      "source": [
        "# Sudachiで形態素解析し、分かち書き後のlemmaを取得する。\n",
        "\n",
        "x_pos = ['SPACE', 'PUNCT', 'AUX', 'ADP', 'SYM', 'DET', 'SCONJ', 'PART']\n",
        "tokens = list()\n",
        "for line in lines:\n",
        "  for token in nlp(line):\n",
        "    pos = token.pos_\n",
        "    if pos not in x_pos:\n",
        "      #print(f'text:{token.text}, pos:{token.pos_}, tag:{token.tag_}, lemma:{token.lemma_}')\n",
        "      tokens.append(token.lemma_)"
      ],
      "execution_count": null,
      "outputs": []
    },
    {
      "cell_type": "code",
      "metadata": {
        "id": "bnuFm2f7K2Rn",
        "outputId": "ae91e86e-171d-4ccc-b244-d2a0337f0eea",
        "colab": {
          "base_uri": "https://localhost:8080/",
          "height": 55
        }
      },
      "source": [
        "# すべてのlemmaを半角スペースでつないで、長い文字列にする。\n",
        "\n",
        "doc_AI = ' '.join(tokens)\n",
        "print(doc_AI)"
      ],
      "execution_count": null,
      "outputs": [
        {
          "output_type": "stream",
          "text": [
            "人工知能 じん こうち 英 artificial intelligence AI エーアイ 計算 computation いう 概念 コンピュータ Computer いう 道具 用いる 知能 研究 計算機科学 computer science 一 分野 指す 語 1 言語 理解 推論 問題解決 知的 行動 人間 代わる コンピューター 行う 技術 2 また 計算機 コンピュータ よる 知的 情報処理 システム 設計 実現 関する 研究 分野 する 3 日本 大 百科全書 ニッポニカ 解説 情報 工学者 通信 工学者 佐藤 理史 次 よう 述べる 1 人間 知的 能力 コンピュータ 上 実現 様々 技術 ソフトウェア コンピュータシステム 4 応用 例 自然 言語 処理 機械 翻訳 かな 漢字 変換 構文 解析 等 5 専門家 推論 判断 模倣 エキスパートシステム 画像データ 解析 特定 パターン 検出 抽出 画像 認識 等 ある 4 1956 年 ダートマス 会議 ジョン マッカーシー よる 命名 現在 記号 処理 用いる 知能 記述 主体 する 情報処理 研究 アプローチ いう 意味あい 使う 家庭用電気機械器具 制御 システム ゲームソフト 思考 ルーチン こう 呼ぶ こと ある プログラミング 言語 LISP よる ELIZA いう カウンセラー 模倣 プログラム 人工 無脳 しばしば 引き合い 出す 計算機 人間 専門家 役割 する いう エキスパートシステム 呼ぶ 研究 情報処理 システム 実現 人間 暗黙 持つ 常識 記述 問題 なる 実用 利用 困難 視 人工的 知能 実現 アプローチ する ファジィ 理論 ニューラル ネットワーク よう アプローチ 知る 従来 人工知能 gofai good Old fashioned AI 差 記述 記号 明示 性 ある その後 サポート ベクター マシン 注目 集める また 自ら 経験 元 学習 行う 強化 学習 いう 手法 ある 宇宙 おく 知性 最も 強力 形質 レイ カーツ ワイル いう 言葉 通り 知性 機械的 表現 実装 いう こと 極めて 重要 作業 2006 年 ディープラーニング 深層学習 登場 2010 年 代 以降 ビッグデータ 登場 よる 一過性 流行 超える 社会 浸透 2016 年 2017 年 かける ディープラーニング 導入 AI 完全 情報 ゲーム 囲碁 トップ 棋士 さらに 不完全 情報 ゲーム ポーカー 世界 トップクラス プレイヤー 破る 6 7 麻雀 Microsoft suphx super Phoenix AI する 初めて 十 段 到達 8 時代 最先端技術 なる 9 第 2 次 人工知能 ブーム 人工知能 機械学習 呼ぶ 以下 よう もの ある 一方 計算 知能 CI 開発 学習 繰り返す こと 基本 する 例えば パラメータ 調整 コネクショニズム システム 学習 経験 基づく 手法 非 記号 AI 美しい ない AI 注 1 ソフト コンピューティング 関係 手法 する 以下 もの ある これ ら 統合 知的 システム 作る 試み なす ACT r エキスパート 推論 ルール 統計的 学習 元 ニューラル ネットワーク 生成 規則 通す 生成 第 3 次 人工知能 ブーム ディープラーニング 画像 認識 テキスト 解析 音声 認識 様々 領域 第 2 次 人工知能 ブーム 人工知能 上回る 精度 出す ディープラーニング 研究 盛ん 行う 最近 DQN CNN rnn gan 様々 ディープラーニング 派生 でる 各 分野 活躍 特に gan 敵対的 生成 ネットワーク ディープラーニング 認識 予測 分野 成果 だす こと 加える 画像 生成 技術 おく 進化 見せる 森 正弥 これ ら 成果 背景 従来 人工知能 応用 分野 広がる Creative AI いう コンテンツ 生成 行う 応用 始まる 指摘 10 AI 構築 長い 間 試みる シンボルグラウンディング 問題 フレーム 問題 解決 壁 なる 17 世紀 初め ルネ デカルト 動物 身体 ただ 複雑 機械 提唱 機械論 ブレーズ パスカル 1642 年 最初 機械 式 計算機 製作 チャールズ バベッジ エイダ ラブレス プログラム 可能 機械 式 計算機 開発 行う バートランド ラッセル アルフレッド ノース ホワイトヘッド 数学 原理 出版 形式 論理 革命 もたらす ウォーレン マカロック ウォルター ピッツ 神経 活動 内在 アイデア 論理 計算 題する 論文 1943 年 発表 ニューラル ネットワーク 基礎 築く 1950 年 代 なる AI 関する 活発 成果 出る ジョン マッカーシー AI 関する 最初 会議 人工知能 注 2 いう 用語 作り出す 彼 また プログラミング 言語 LISP 開発 知的 ふるまい 関する テスト 可能 方法 する アラン チューリング チューリング テスト 導入 ジョセフ ワイゼンバウム ELIZA 構築 これ 来談者中心療法 行う おしゃべり ロボット 注 3 1956 年 行う ダートマス 会議 開催 提案 書 おく 人類史 上 用語 する 初めて 使用 新た 分野 する 創立 1960 年 代 1970 年 代 間 ジョエル モーゼス macsyma マクシマ プログラム 注 4 中 積分 問題 記号 推論 パワー 示す マービン ミンスキー シーモア パパート パーセプトロン 出版 単純 ニューラル ネット 限界 示す アラン カルメラウアー プログラミング 言語 prolog 開発 テッド ショートリッフェ 医学的 診断 療法 おく ルール ベース システム 構築 知識 表現 推論 パワー 示す これ 最初 エキスパートシステム 呼ぶ こと ある ハンス モラベック 障害 物 ある コース 自律的 走行 最初 コンピューター 制御 乗り物 開発 1980 年 代 ニューラル ネットワーク バック プロパゲーション アルゴリズム よる 広い 使う また 時代 ロドニー ブルックス 知能 身体 必須 学説 身体性 提唱 1990 年 代 AI 多く 分野 様々 アプリケーション 成果 上げる 特に ボード ゲーム 目覚ましい 1992 年 IBM 世界 チャンピオン 匹敵 バックギャモン 専用 コンピュータ td ギャモン 開発 IBM チェス 専用 コンピュータ ディープ ブルー 1997 年 5 月 ガルリ カスパロフ 打ち負かす 同年 8 月 オセロ 日本電気 オセロ 専用 コンピュータ ロジステロ 世界 チャンピオン 村上 健 敗れる 11 国防 高等 研究 計画 局 最初 湾岸 戦争 おく ユニット スケジューリング AI 使う これ よる 省く コスト 1950 年 代 以来 AI 研究 政府 投資 全額 上回る こと 明らか 日本 甘利 俊一 日本 学士 院 会員 ら 精力的 啓蒙 優秀 成果 発生 論理 ブラックボックス 性 指摘 1998 年 非 構造化 データ 形式 国際 規格 XML 提唱 ここ web 上 非 構造化 データ 対する アプリケーション 別 適する 意味 付け 適用 処理 行う 試み 開始 同年 W 3 c ティム バーナーズ リー よる web 知的 処理 行う セマンティック ウェブ 提唱 技術 web 上 データ 意味 付加 コンピュータ 知的 処理 行う 方法 国際的 規格化 もの 規格 知識工学 おく オントロジー 表現 データ 形式 owl 含む こと かつて 流行 エキスパートシステム 亜種 こと 分かる 2000 年 代 前半 規格化 完了 web 開発者 とる 開発 工数 見合う メリット 見出せる こと 現在 普及 する 日本 おく エキスパートシステム 流行 後 ニューロ ファジィ 流行 しかし 研究 進む つれる 計算 リソース データ 量 不足 シンボルグラウンディング 問題 フレーム 問題 直面 産業 在る 方 激変 AI 至る こと 無い ブーム 終焉 1980 年 代 入る 大企業 研究所 中心 知識工学 基づく エキスパートシステム 多数 提案 エキスパートシステム 専門 する AI ベンチャー 次々 立ち上がる 流行 生まれる 究極 プロジェクト する 第 五 世代 コンピュータ 挙げる 1982 年 1992 年 日本 国家 プロジェクト する 570億 円 費やす 第 五 世代 コンピュータ 研究 進める 採用 知識工学 手法 膨大 ルール 手入力 必要 専門家 間 専門知識 解釈 異なる 場合 統一 ルール 化 行える 等 問題 ある 実用的 エキスパートシステム 実現 至る 実現 成果 物 prolog 命令 直接 CPU ハードウェア 機構 解釈 高速 実行 並列型 prolog 専用機 商業 意味 応用 先 全く 見つかる 1980 年 代 後半 1990 年 代 中頃 かける 従来 電子 制御 手法 する 用いる on OFF 制御 pid 制御 現代 制御 問題 克服 ため 知的 制御 盛ん 研究 知識工学 ルール 用いる ファジィ 制御 データ 特徴 学習 分類 ニューラル ネットワーク 2 つ 融合 ニューロ ファジィ いう 手法 日本 中心 ブーム 迎える バブル 期 高級 路線 合わせる 白物 家電製品 センサ 個数 種類 大幅 増やす 多様 データ 元 運転 最適化 モデル 多数 発売 ファジィ つく 2018 年 日本 世界 1 5 特許 取得 事 日本 特に ブーム なる こと 分かる 13 現在 白物 家電 当時 更に 発展 制御 技術 用いる 既に 当たり前 もの なる 利用者 意識 ニューロ ファジィ ブーム なる 1990 年 代 未だ ビッグデータ いう 概念 無い ブロードバンド 接続 普及 後 2010 年 初めて 提唱 データ マイニング する 産業 応用 行う しかし ニューラル ネットワーク 一般人 巻き込む 流行 事例 する 初めて 事例 2010 年 代 ディープラーニング ブーム 前史 言える 社会 現象 言える 松下 電器 1985 年 頃 人間 持つ 曖昧 さ 制御 活かす ファジィ 制御 つく 研究 開始 1990 年 2 月 1日 ファジィ 洗濯機 第 1 号 愛妻 号 Day ファジィ 発売 漕ぎ着ける 愛妻 号 Day ファジィ 従来 多数 センサー 収集 データ 基づく 柔軟 運転 最適化 洗濯機 同種 洗濯機 する 世界 初 ファジィ 制御 いう 当時 最先端 技術 導入 バブル 期 高級 路線 マッチ こと ファジィ 裏方 制御 技術 関わる 世間 注目 集める 13 流行 度合い 1990 年 新語 流行語 大賞 おく 新語 部門 金賞 ファジィ 選ぶ その後 松下 電器 ファジィ ルール 煩雑 チューニング 自動化 ニューロ ファジィ 制御 開発 従来 ファジィ 理論 限界 突破 学会 評価 ない 白物 家電 応用 成功 ブーム 巻き起こす 松下 電器 試み 成功 受ける 他社 同様 知的 制御 用いる 製品 多数 発売 1990 年 代 中頃 メーカー 各社 よる 一般 向け 白物 家電 売り文句 する 知的 制御 技術 名称 大々的 用いる 洗濯機 製品名 愛妻 号 Day ファジィ 掃除機 分類 する ニューロ ファジィ 掃除機 エアコン 運転 モード ニューロ 自動 名称 付与 14 15 16 17 18 19 ニューロ ファジィ ニューロ ファジィ いう 手法 従来 単純 オン オフ 制御 対象 数式 客観的 モデル化 作業 対象 複雑 機構 持つ 場合 極めて 難しい なる 必要 ある pid 制御 現代 制御 等 比較 人間 主観的 経験則 計測 データ 特徴 利用 可能 なる ファジィ ニューロ ニューロ ファジィ 開発 工数 抑える 環境 適応 時 柔軟性 高い できる いう 利点 ある 12 しかし 開発者 ら 努力 関わる 計算能力 収集 可能 データ 量 少ない 既存 工作 機械 家電製品 制御 多少 改善 程度 限界 迎える 理論的 ファジィ 集合 深層学習 不可能 ニューラル ネットワーク 組み合わせ 計算 リソース データ 潤沢 与える する 認識 精度 向上 限界 ある 以降 計算機 能力 限界 理論 改善 遅々 する 進む 目立つ 進展 無くなる 1990 年 代 末 知的 制御 搭載 白物 家電 大多数 なる こと 売り文句 する ブーム 去る 20 ブーム 後 一般 意識 現在 裏方 技術 する 家電製品 雨水 排水 駐車場 ビル 管理 システム 社会 インフラ 使う 十分 性能 安定性 実証 2003 年 頃 人間 設計 オントロジー ファジィ ルール する 表現 利活用 ネットワーク インテリジェンス いう 分野 発展 21 2005 年 レイ カーツ ワイル 著作 圧倒的 人工知能 知識 知能 点 人間 超越 科学技術 進歩 担う 世界 変革 技術的 特異点 シンギュラリティ 2045 年 訪れる する 説 発表 2006 年 ジェフリー ヒントン ら 研究 チーム よる オート エンコーダ よる ニューラル ネットワーク 深層 化 手法 提案 現在 ディープラーニング 直接的 起源 2010 年 代 入る 膨大 データ 扱う 研究開発 ため 環境 整備 こと AI 関連 研究 再び 大きい 前進 2010 年 英国 エコノミスト 誌 ビッグデータ いう 用語 提唱 同年 質問 応答 システム ワトソン クイズ 番組 ジェパディ 練習 戦 人間 勝利 ニュース なる 22 2012 年 画像 処理 コンテスト ジェフリー ヒントン 氏 チーム 従来 手法 大幅 精度 改善 果たす 上 優勝 こと 第 三 次 AI ブーム 始まる 2013 年 国立 情報学 研究所 注 5 富士通 研究所 研究 チーム 開発 東 ロボ くん 東京大学 入試 模擬試験 挑む 発表 数式 計算 単語 解析 あたる 専用 プログラム 使う 実際 受験生 臨む 大学 入試 センター 試験 東大 2 次 試験 問題 解読 代々木 ゼミナール 判定 東大 合格 難しい 私立大学 合格 水準 23 2014 年 日本 人工知能 学 者 齊藤 元章 よる 特異点 先立つ オートメーション 化 コンピューター 技術 進歩 よる 衣食住 生産 コスト ゼロ 限りない 近づく いう プレ シンギュラリティ いう 概念 提唱 ジェフ ホーキンス 実現 向ける 研究 続ける 著書 考える 脳 考える コンピューター 中 自己 連想 記憶 理論 いう 独自 理論 展開 世界 各国 おく 軍事 民間 共 実用化 向ける 研究開発 進む とくに 無人 戦闘機 ucav 無人 自動車 ロボットカー 開発 進行 もの 2010 年 代 まだ 完全 自動化 試験的 もの 留まる ucav 利用 一部 操作 地上 行く もの 多い ロボット 向け する csail ロドニー ブルックス 提唱 包摂 アーキテクチャ いう 理論 登場 これ 従来 型 我 思う 故 あり 知 先行 もの ない 体 神経 ネットワーク 用いる 環境 学習 行動 型 システム 用いる これ 基づく ゲンギス 呼ぶ 六 本 足 ロボット 脳 持つ 関わる まるで 生きる よう 行動 2015 年 10 月 米 deepmind 社 作成 alphago 人間 プロ 囲碁 棋士 勝利 以降 ディープラーニング 呼ぶ 手法 注目 人工知能 自体 研究 他 人工知能 雇用 与える 影響 つく 研究 進める 24 2016 年 10 月 deepmind 入力 情報 関連性 導き出す 仮説 近い もの 導き出す 人工知能 技術 ディファレンシャブル ニューラル コンピューター 発表 25 同年 11 月 大量 データ 不要 ワンショット 学習 可能 深層学習 システム 26 翌 2017 年 6 月 関係 推論 よう 人間並み 認識 能力 持つ システム 開発 27 2017 年 8 月 記号 接地 問題 シンボルグラウンディング 問題 解決 28 従来 AI 不向き する 不完全 情報 ゲーム ポーカー AI 人間 勝利 Google 関係者 さらに 野心 取り組み する 単一 ソフトウェア 数百 万 1億 タスク 実行 可能 AI 開発 明らか 2006 年 ディープラーニング 発明 2010 年 以降 ビッグデータ 収集 環境 整備 計算 資源 なる GPU 高性能 化 よる 2012 年 ディープラーニング 画像 処理 コンテスト 他 手法 圧倒的 大差 付ける 優勝 こと 技術的 特異点 いう 概念 急速 世界中 識者 注目 集める 現実味 持つ 受け止める ディープラーニング 発明 急速 普及 受ける 研究開発 現場 おく デミス ハサビス 率いる deepmind 筆頭 vicarious IBM cortical Learning Center 全脳 アーキテクチャ pezy computing opencog goodai nnaisense IBM synapse 等 汎用 人工知能 agi 開発 プロジェクト 数多く 立ち上げる これ ら 研究開発 現場 脳 リバース エンジニアリング 構築 神経 科学 機械学習 組み合わせる アプローチ 有望 する 29 結果 する hierarchical temporal Memory htm 理論 complementary Learning systems CLS 理論 更新 版 等 単一 タスク 扱う ディープラーニング 更に 一 歩 進む 複数 タスク 同時 扱う 理論 提唱 3 d ゲーム よう 仮想空間 モデル 動かす 現実 世界 こと 高速 学ぶ いう こと 成果 上げる シミュレーション よる 学習 また 数 少ない agi 知能 再現 不可能 考える 身体 知 再現 ため 全 人体 シミュレーション 必要 する 研究者 生物 近い 振る舞い 見せる Al 人工 生命 作成 挑む 研究者 知能 密接 関係 ある 思う 意識 デジタル 再現 人工 意識 挑戦 研究者 いる リーズナブル コスト 大量 計算 リソース 手 入る こと ビッグデータ 出現 企業 膨大 データ 活用 極めて 強い 関心 寄せる 全 世界的 民間 企業 主導 莫大 投資 行う 人工知能 関する 研究開発 競争 展開 また 2011 年 d Wave systems よる 量子 アニーリング 方式 製品化 嚆矢 する 量子 コンピュータ いう 超 並列 処理 可能 次世代 IT インフラ 急速 実用化 事 人工知能 高速化 深い 関わる 組み合わせ 最適化 問題 リアルタイム 解決 環境 整備 動向 受ける 形 2016 年 頃 一般 向け ニュース 番組 人工知能 研究開発 新しい サービス 展開 量子 コンピュータ 関する 報道 目立つ 2017 年 イーロン マスク 急速 進化 人工知能 対する 人間 遅れ 取る ため 人間 脳 機械 接続 ブレイン マシン インターフェース 研究開発 ニューラ リンク 社 立ち上げる こと 公表 世界中 話題 なる ブレイン マシン インターフェース よる 人 インターネット 出現 事 予測 2017 年 10 月 ジェフリー ヒントン よる 要素 間 相対的 位置 関係 含める 学習 カプセル ネットワーク 提唱 30 2018 年 3 月 16 日 国際大学 glocom 提言 よる 課題解決 型 AI 活用 事 社会 変革 寄与 分析 31 2018 年 8 月 Open AI 好奇心 実装 ノーゲームスコア ノーゴール 無報酬 目的 なし 探索 行う AI 公表 これ AI 最も 人間 いう 32 2018 年 9 月 MIT リンカーン 研究所 従来 ブラックボックス ニューラル ネットワーク 推論 段階 経る 識別 明確 分かる アーキテクチャ 開発 33 2019 年 入る これ 深層学習 困難 する 言語 処理 おく 進展 ある Wikipedia 使用 読解 テスト 人間 上回る 至る bert Robert 34 アメリカ 2013 年 時 大統領 バラク オバマ 脳 研究 プロジェクト BRAIN initiative 発表 Google アレン 脳 科学 研究所 連携 脳 スキャン よる 生まれる 大量 データ 処理 ため ソフトウェア 開発 2016 年 時点 Google 管理 brainmap データ 量 すでに 1 zetta バイト 達する いう 35 36 Google ドイツ マックス プランク 研究所 とも 共同研究 始める 脳 電子 顕微鏡 写真 神経 回路 再 構成 いう 研究 行う 37 中国 2016 年 第 13 次 5 カ年 計画 AI 国家 プロジェクト 位置づけ 38 脳 研究 プロジェクト する 中国 脳 計画 英語 版 立ち上げる 39 官民 一体 AI 研究開発 推進 40 中国 教育機関 18 歳 以下 天才児 集める 公然 AI 兵器 開発 投ずる いる 41 マサチューセッツ工科大学 MIT エリック ブリニョルフソン 英語 版 教授 情報 技術 イノベーション 財団 英語 版 よる 中国 プライバシー 意識 強い 欧米 比較 AI 研究 新技術 実験 する 環境 ある する 42 43 44 日本 スーパーコンピュータ 研究開発 推進 齊藤 元章 AI 開発 おく 中国 リード 可能性 主張 45 世界 ディープラーニング 用 計算機 4 分 3 中国 占める ともす 46 米国 政府 よる 2013 年 ディープラーニング 関する 論文 数 中国 米国 超える 世界 一 なる 47 frvt 英語 版 imagenet 英語 版 AI 世界的 大会 中国 勢 上位 独占 48 49 大手 AI 企業 Google マイクロソフト アップル 幹部 ある 台湾系 アメリカ人 科学者 李 開 復 英語 版 中国 AI 覇権 握る する AI 超 大国 中国 シリコンバレー 新世界 秩序 英語 版 著す アメリカ 政界 メディア 取り上げる 50 51 フランス 大統領 エマニュエル マクロン AI 分野 開発 支援 向ける 5 年 15億 ドル 約 1600億 円 支出 宣言 52 AI 研究所 パリ 開く フェイスブック グーグル サムスン deepmind 富士通 招致 イギリス AI 研究 おく 長期的 連携 決定 EU 全体 する horizon 2020 計画 通ずる 215億 ユーロ 投ずる 方向 韓国 20億 ドル 2022 年 投資 する 6 つ AI 機関 設立 褒賞 制度 作る 目標 2022 年 AI 世界 トップ 4 入る こと いう 53 日経 新聞 調べ よる 国別 AI 研究 論文 数 1 位 米国 2 位 中国 3 位 インド 日本 7 位 54 プログラミング 言語 c ほか python 広い 使う 深層学習 利用 微分 線形 代数 確率 統計 いう 大学 レベル 以上 数学 知識 必要 なる 脳 シミュレーション 行う 脳神経 科学 知識 重要 なる 人工知能 学会 松尾 豊 著書 人工知能 人間 超える 内 於く 人間 対する 反乱 起こす 可能性 否定 人工知能 危険性 つく 警鐘 鳴らす 著名 人 いる MIT ローレン r グレアム 英語 版 教授 莫大 資金 力 人権 弾圧 併せ持つ 中華人民共和国 人工知能 開発 競争 成功 民主的 国家 技術革新 優位 いう 既成 概念 変わる 述べる 42 ディープラーニング 父 一人 呼ぶ ヨシュア ベンジオ 英語 版 中国 市民 監視 政治 目的 人工知能 利用 こと 警鐘 鳴らす 58 59 海外 人権 団体 メディア 中国 代表 人工知能 人権 抑圧 政治 体制 デジタル 権威 主義 60 61 デジタル 独裁 62 63 64 デジタル 警察 国家 65 デジタル 全体 主義 66 AI 独裁 67 呼ぶ 中国 ヘルメット 帽子 埋め込む センサー 国民 脳波 感情 人工知能 監視 政府 支援 プロジェクト 推し進める 68 69 70 71 ネット 検閲 72 73 官僚 刑務所 囚人 横断 歩道 歩行者 監視 人工知能 行う 74 75 76 77 78 79 監視 カメラ 警察 サングラス 型 スマート グラス 80 ロボット 81 顔 認識 システム 天網 搭載 人工知能 よる 監視 社会 管理 社会化 行う 82 83 84 85 新疆 ウイグル 自治区 監視 カメラ 携帯電話 収集 個人情報 人工知能 解析 プレディクティブ ポリシング 英語 版 人種 プロファイリング 選別 少数 民族 ウイグル 族 法的 手続き 経る 2017 年 6 月 時点 約 1万5千 人 テロ 犯罪 犯す 可能性 ある する 新疆 ウイグル 再教育 キャンプ 予防 拘禁 する 中国 政府 内部 文書 チャイナ ケーブル 英語 版 報ずる 86 87 88 AI 使う 政府 よる 特定 民族 選別 コンピュータ 人間 強制 収容 所 送る 人権 侵害 前例 ない する 国際 問題 なる 89 90 香港 中国 本土 同様 人工知能 よる 監視 社会化 恐れる 91 2019 年 2020 年 香港 民主化 デモ 起きる 際 監視 カメラ 搭載 スマート 街灯 市民 次々 破壊 92 93 中国 AI 監視 技術 中東 アジア アフリカ 世界 各国 輸出 94 95 96 97 98 60 国際連合 専門 機関 国際 電気 通信 連合 ITU 通ずる 中国 AI 監視 技術 国際 標準化 主導 こと 中国 よう 人権 侵害 世界 拡散 こと 人権 団体 懸念 99 100 中国 社会 信用 システム 代表 人工知能 ビッグデータ 活用 人々 適性 決める 制度 社会 階層 間 格差 固定化 こと 繋がる する 懸念 ある 101 欧州連合 2018 年 5 月 人工知能 ビッグ データ分析 よる 雇用 融資 差別 認める EU 一般 データ 保護 規則 施行 102 マサチューセッツ工科大学 顔 認識 システム 精度 Microsoft 中国 megvii 9 割 超 IBM 8 割 達する 対する Amazon 6 割 人種 差別的 バイアス ある する 研究 発表 際 Amazon 論争 なる 103 主要 国 軍隊 ミサイル 防衛 分野 自動化 試みる アメリカ 海軍 完全 自動 防空 システム ファランクス CIWS 導入 ガトリング砲 よる 対艦 ミサイル 破壊 イスラエル 軍 対空 迎撃 ミサイル システム アイアン ドーム 所有 ガザ 地区 境界線 標的 自動 検知 ガーディアム サムソン rcws 稼働 複数 人間 射殺 104 105 今後 AI 新しい 軍事 能力 生む 軍 指揮 訓練 部隊 展開 変える 戦争 一変 変化 大国 間 軍事 バランス 決める こと なる 主張 ある 106 p 1 哨戒 機 よう 戦闘 指揮 システム 支援 用 搭載 こと ある 2016 年 6 月 米 シンシナティ 大学 研究 チーム 開発 alpha 元 米軍 パイロット 模擬 空戦 一方的 勝利 発表 AI プログラム 遺伝 アルゴリズム ファジィ 制御 使用 アルゴリズム 動作 高い 処理 能力 必要 する raspberry pi 上 動作 可能 107 108 アメリカ合衆国 国防総省 人道 上 観点 人間 判断 介す 自律 殺傷 兵器 開発 禁止 令 2012 年 出す 2017 年 これ 恒久 もの する 109 人工知能 人間 勝ち残る 力 する ooda ループ 注目 110 一部 科学者 ハイテク 企業 首脳 ら AI 軍事 利用 よる 世界 不 安定化 加速 主張 2015 年 ブエノスアイレス 開催 人工知能 国際 合同 会議 スティーブン ホーキング アメリカ 宇宙 ベンチャー企業 スペース x 創業者 イーロン マスク アップル 社 共同 創業者 スティーブ ウォズニアック ら 科学者 企業家 ら よる 公開 書簡 出す そこ 自動 操縦 よる 無人 爆撃機 銃火器 操る 人型 ロボット AI 搭載 型 兵器 火薬 核兵器 続く 第 3 革命 とらえる うち 一部 数 年 以内 実用 可能 なる 予測 国家 不 安定化 暗殺 抑圧 特定 民族 選別 攻撃 利用 兵器 開発 競争 人類 とる 有益 もの なる 記す 同年 4 月 ハーバード大学 ロースクール 国際 人権 団体 ヒューマン ライツ ウォッチ 自動 操縦 型 武器 禁止 求める 111 2017 年 11 月 国際連合 AI 軍事 利用 関する 初 公式 専門家 会議 行う 112 2019 年 8 月 同 会議 AI 兵器 運用 めぐる 事実上 初 国際 ルール 採択 法的 拘束力 盛り込む 113 新 冷戦 米中 冷戦 状態 ある 評す 米国 中国 ロシア 核 開発 匹敵 開発 競争 人工知能 軍事 利用 めぐる 114 中国 2017 年 6 月 119 機 ドローン 群 自律 飛行 実験 前年 2016 年 103 機 飛行 実験 成功 米軍 記録 更新 翌 2018 年 5 月 北米 都市 爆撃 CG 映像 発表 115 同年 6 月 56 隻 自律 無人 艇 使う 世界 最大 規模 試験 116 行う AI 軍事 利用 技術 特に スウォーム 呼ぶ 大量 徘徊 型 兵器 自律 兵器 統合 運用 中国 急速 進展 アメリカ 追い付く 可能性 ある こと つく 懸念 アメリカ 側 将来 備える 必要 ある 主張 する 106 中国 軍用 AI 開発 アメリカ 軍部 政界 危機感 与える 2019 年 3 月 ジョセフ ダンフォード 統合 参謀 本部 議長 パトリック シャナハン 国防 長官 代行 ドナルド トランプ 大統領 中国 AI 研究 拠点 設立 中国 人民 解放 軍 協力 Google 非難 117 118 Google CEO サンダー ピチャイ ダンフォード トランプ 大統領 面談 中国 AI 研究 拠点 成果 中国 限る 全て 人々 開放 釈明 事態 なる 119 アメリカ Google 米軍 AI 軍事 利用 協力 極秘 計画 メイヴン 計画 行う こと Google 社員 暴露 120 2018 年 12 月 アメリカ 議会 公聴会 同様 暴露 中国 政府 協力 秘密 計画 ドラゴン フライ 計画 英語 版 とも 人工知能 用いる 兵器 開発 人権 侵害 拒否 Google 誓う 同年 6 月 人工知能 開発 6 原則 整合性 追及 受ける 121 中国 軍 戦闘機 j 20 標的 選択 支援 アルゴリズム グーグル AI 研究者 関わる 報道 際 AI ない 統計学的 モデリング 否定 122 また Microsoft 中国 軍 教育機関 AI 共同研究 発表 際 同様 波紋 呼ぶ 123 2019 年 11 月 マーク エスパー 国防 長官 中国 AI よる 新しい 監視 国家 構築 ない 中東 翼竜 彩虹 無人 攻撃 機 大量 拡散 AI 自律的 攻撃 ドローン 兵器 販売 こと 警鐘 鳴らす 124 ロシア 中国 既に 実用化 する ハッキング 自動化 他 125 特定 個人 攻撃 ディープ フェイク なりすます ボット 投稿 よる 世論 操る 等 懸念 挙げる 126 オックスフォード大学 マイケル オズボーン 博士 2013 年 発表 論文 よる 人工知能 ロボット 等 よる 代替 可能性 高い 労働 人口 日本 約 49 ％ こと アメリカ 約 47 ％ イギリス 約 35 ％ 2030 年 代 ファストフード 店 料理 する 従業員 ロボット AI 取る 代わる 可能性 81 ％ 高い こと 指摘 127 128 129 しかし 論文 対する 実験室 レベル 自動化 出来る 仕事 含む ため 過大 推計 批判 ある 実際 2016 年 10 月 マイケル オズボーン 来日 際 経済 産業 研究所 岩本 晃一 意図 前提 試算 質問 ところ 技術的 可能性 示す 雇用 増 部分 一切 考慮 回答 返る 例える 現在 既に 将棋 AI 実験室 レベル 出現 現時点 世界中 将棋 棋士 全員 既に AI 代替 可能性 ある 示す 過ぎる そして 職業 構成 タスク 業務 単位 みる 場合 70 ％ 超え タスク 自動化 職業 9 ％ 程度 日本 場合 7 ％ 程度 とどまる 研究 結果 ある また AI 機械化 よる 雇用 奪う いう 主張 ある それ ら 技術 よる タスク 量 減少 AI 機械化 導入 維持 仕事 それ ら 技術 よる 新た 仕事 生まれる こと よる 雇用 生み出す 可能性 ある しかし 同時 中 程度 技能 有する ルーティン 業務 減少 専門的 技能 求める 低 スキル 仕事 高度 技能 求める 仕事 2 極 化 経済 格差 拡大 予測 ある 130 131 132 Google 2019 年 3 月 人工知能 プロジェクト 倫理 面 指導 ため 哲学者 政策 立案者 経済学 者 テクノロジスト 等 構成 AI 倫理 委員会 設置 発表 133 しかし 倫理 委員会 反 科学 反 マイノリティ 地球 温暖化 懐疑論 等 支持 人物 含む Google 社員 ら 解任 要請 133 4 月 4 日 Google 倫理 委員会 期待 どおり 機能 こと 判明 いう 理由 委員会 解散 発表 133 東洋 哲学 AI 吸収 いう 三宅 陽一郎 テーマ 応ずる 井口 尊仁 鳥居 torii いう 自分 プロジェクト 挙げる われわれ アニミズム あらゆる もの 霊的 存在 見いだす 文化 ある 三宅 および 立石 従 寛 語る 134 アニミズム 人工知能 論 現代 アート 禅 悟り どう やる AI やる 論ずる 三宅 人工知能 ため 哲学 塾 東洋 哲学 篇 通ずる 134 元 Google エンジニア アンソニー レバンドウスキー 2017 年 AI 神 する 宗教 団体 Way of THE future 未来 道 創立 135 団体 使命 人工知能 AI 基づく godhead 実現 促進 開発 こと そして godhead 理解 崇拝 通す 社会 より 良い する こと 貢献 こと 抽象的 表現 多く 海外 メディア SF 映画 歴史 関連 報道 135 uber Google waymo レバンドウスキー 自動 運転 関する 機密情報 盗用 こと 訴える 裁判 行う 一方 レバンドウスキー uber 元 CEO トラビス カラニック 対する ボット ひと つ 我々 世界 征服 発言 野心 振る舞い 示す 135 相愛大学 人 文学部 教授 釈 徹 宗 哲学 思想 文学 宗教 霊性 論 線引き 不明瞭 述べる 136 哲学者 倫理学 者 内田 樹 よる 本物 哲学者 みんな 死者 幽霊 異界 話 する いう 137 発明 家 レイ カーツ ワイル 言う 哲学者 ジョン サール 提起 強い AI 弱い AI 論争 AI 哲学 議論 ホット 話題 138 哲学者 ジョン サール および ダニエル デネット よる サール 中国語 部屋 ネド ブロック ら 中国 脳 いう 機能主義 批判的 思考 実験 真 意識 形式 論理 システム よる 実現 主張 139 140 科学 語る こと おく 科学者 須藤 靖 科学 つく 哲学的 考察 科学 哲学 実際 科学 断絶 こと 指摘 141 また 心 意識 いう 問題 解明 脳 科学 計算機科学 コンピュータ 科学 人工知能 研究開発 等 関連 科学者 フランシス クリック 哲学者 たち 2000 年 いう 長い 間 ほとんど 何 成果 残す 批判 142 こう する 観点 おく 哲学 二流 三 流 学問 科学 過ぎる 評価 142 脳 科学者 澤口 俊之 クリック 賛同 これ 私 ため息 まじり 愚痴 なる 哲学者 思想家 いう つくづく 暇 思う 述べる 142 実際 哲学 暇 スコレー 始まる アリストテレス 伝える 上記 よう 否定的 発言 的外れ ない 科学 哲学者 野家 啓一 言う 142 哲学者 科学 違う 日常的 言語 存在 宇宙 語る する 143 しかし 理論 物理学 者 ディラック 哲学者 ことさら 信用 144 ディラック 見る ところ ウィトゲンシュタイン 含める 哲学者 たち 量子 力学 パスカル 以降 確率 概念 理解 145 非 科学的 日常的 言語 いくら 使う 正確 意思 疎通 行う こと できる いう ディラック 考え する 144 生命 情報 科学者 神経 科学者 合原 一幸 編著 人工知能 こう する 創る よる AI 急激 発展 伴う 技術的 特異点 シンギュラリティ 思想 哲学 一部 論ずる 特異点 言う 数学 話 ない 146 前掲 書 そもそも シンギュラリティ 関係 議論 おく 人間 脳 超える いう 言明 自体 うまい 定義 記す 147 確か 脳 デジタル 情報処理 システム する 捉える 観点 見る シンギュラリティ 起こる しれる 148 しかし 実際 脳 単純 システム ない デジタル アナログ 融合 ハイブリッド 系 こと 脳神経 科学 観察 結果 示す 148 前掲 書 よる 神経 膜 様々 ノイズ 存在 ノイズ 付き アナログ 量 よる 脳内 ニューロン カオス 生み出す ため 状況 デジタル 記述 こと 極めて 困難 考える 149 数学者 田中 一之 一般 哲学者 論理 専門家 ない 述べる 150 計算機 科学者 コンピュータ 科学者 電子 工学者 トルケル フラン セーン 哲学者 たち よる 数学 言及 多く ひどい 誤解 自由 連想 基づく 批判 151 田中 よる ゲーデル 不完全性 定理 つく 哲学者 書く 本 フラン セーン 本 頃 書店 販売 哲学者 本 専門 誌 よる 酷評 150 本 全体 する 読む 一般 読者 評判 高い ゲーデル 証明 核 不動点 定理 つく 根本的 勘違い する まま 説明 150 同様 間違い 他 入門書 見る 150 フラン セーン よる 不完全性 定理 関する 誤解 誤用 哲学 はじめ 一般 起こる 151 宗教 神学 乱用 152 153 1931 年 ゲーデル 示す 特定 形式 体系 p displaystyle p おく 決定 不能 命題 存在 一般的 意味 不完全性 つく 定理 ない 154 科学 哲学 科学 語る こと よる 学問 扱う 問題 整理 分化 こと 科学 哲学 それぞれ 異なる 問題 研究 155 これ 研究 分野 細分化 もの 立派 進歩 宇宙 物理学 者 須藤 言う 155 一方 科学 哲学者 倫理学 者 伊勢田 哲治 様々 要素 含む 問題 哲学的 統一 扱う かつて 天文学 つく 言及 155 その後 天文学 哲学的 問題 扱う 今 物理学 そう いう 問題 扱う 述べる 伊勢田 対する 須藤 通り それ 自体 何 問題 ある 返す 155 須藤 次 よう 述べる 141 私 科学 哲学 物理学 者 対する 何 ら 助言 する いう こと 聞く こと ない おそらく 科学 哲学 一般 科学者 ほとんど 没交渉 言う 差し支える 状況 科学 哲学者 科学者 価値観 溝 深い こと 確実 須藤 哲学的 論ずる 原因 いう 言葉 取り上げる 原因 いう 言葉 具体的 定義 限り それ 以上 議論 不可能 157 述べる 哲学者 興味 持つ 因果 定義 物理学 者 違う こと 確か する 158 伊勢田 思う 以上 物理学 者 哲学者 もの 見える 方 違い いう 大きい しれる 述べる 159 対談 須藤 これ けっこう 長 時間 議論 行う おかげ 意見 違い 明らか 思う 果たして 何 決着 つく 発言 伊勢田 決着 つく 答える 160 学術書 辞 事典 報道 活用 事例 研究 課題 関連 分野 他 関連 項目 応用 人工知能 未来 関わる 項目\n"
          ],
          "name": "stdout"
        }
      ]
    },
    {
      "cell_type": "markdown",
      "metadata": {
        "id": "M94JaaA1zWRB"
      },
      "source": [
        "### 上記の操作をまとめておこなう関数を定義しておく。\n",
        "* 後で、各エントリについて、この関数を呼び出す。"
      ]
    },
    {
      "cell_type": "code",
      "metadata": {
        "id": "HAJ5fUnTzV7w"
      },
      "source": [
        "def morph(soup, nlp):\n",
        "\n",
        "  lines = list()\n",
        "  for para in soup.find_all('p'):\n",
        "    lines.append(para.text)\n",
        "\n",
        "  x_pos = ['SPACE', 'PUNCT', 'AUX', 'ADP', 'SYM', 'DET', 'SCONJ', 'PART']\n",
        "  tokens = list()\n",
        "  for line in lines:\n",
        "    for token in nlp(line):\n",
        "      pos = token.pos_\n",
        "      if pos not in x_pos:\n",
        "        tokens.append(token.lemma_)\n",
        "\n",
        "  return ' '.join(tokens)"
      ],
      "execution_count": null,
      "outputs": []
    },
    {
      "cell_type": "markdown",
      "metadata": {
        "id": "Uha2LvYf1LZd"
      },
      "source": [
        "## 課題の手順(2)"
      ]
    },
    {
      "cell_type": "markdown",
      "metadata": {
        "id": "hAByKozFtYwF"
      },
      "source": [
        "### 「コンピュータ科学」の様々な分野に関するWikipediaエントリについて上記の作業を実行\n",
        "*  「人工知能」エントリの下部にある「コンピュータ科学」の分野一覧から、aタグのhref属性にあるURLを抜き出す。\n",
        "* ただし、__`/wiki/`__という文字列で始まっているURLであり、かつ、テンプレートの状態でないものだけを抜き出す。\n",
        " * Wikipediaのクローリングについてもっと詳しく知りたい場合は、下記のページ等を参照されたい。\n",
        "   * https://medium.com/@robinlphood/tutorial-a-simple-crawler-for-wikipedia-d7b6f6f55d5"
      ]
    },
    {
      "cell_type": "code",
      "metadata": {
        "id": "6qTCAg07qwcn",
        "outputId": "155fe0ec-7968-4d83-f045-e4d5199086a6",
        "colab": {
          "base_uri": "https://localhost:8080/",
          "height": 1000
        }
      },
      "source": [
        "# 「人工知能」エントリの下部にある「コンピュータ科学」の分野一覧から、aタグのhref属性にあるURLを抜き出す。\n",
        "\n",
        "target_str = '表話編歴コンピュータ科学'\n",
        "prefix = '/wiki/'\n",
        "\n",
        "urls = dict()\n",
        "for table in soup.find_all('table'):\n",
        "  if table.text[:len(target_str)] != target_str: continue\n",
        "  for td in table.find_all('td'):\n",
        "    for a in td.find_all('a'):\n",
        "      if not a.text: continue\n",
        "      try:\n",
        "        if a.text.find('英語版') == -1:\n",
        "          href = a['href']\n",
        "          if href[:len(prefix)] == prefix and href.find('/Template:') == -1 and href.find('/Category:') == -1:\n",
        "            urls[a.text] = 'https://ja.wikipedia.org' + href\n",
        "      except:\n",
        "        continue\n",
        "\n",
        "for k in urls:\n",
        "  print(k, urls[k])"
      ],
      "execution_count": null,
      "outputs": [
        {
          "output_type": "stream",
          "text": [
            "コンピュータ科学 https://ja.wikipedia.org/wiki/%E3%82%B3%E3%83%B3%E3%83%94%E3%83%A5%E3%83%BC%E3%82%BF%E7%A7%91%E5%AD%A6\n",
            "ハードウェア https://ja.wikipedia.org/wiki/%E3%83%8F%E3%83%BC%E3%83%89%E3%82%A6%E3%82%A7%E3%82%A2\n",
            "プリント基板 https://ja.wikipedia.org/wiki/%E3%83%97%E3%83%AA%E3%83%B3%E3%83%88%E5%9F%BA%E6%9D%BF\n",
            "周辺機器 https://ja.wikipedia.org/wiki/%E5%91%A8%E8%BE%BA%E6%A9%9F%E5%99%A8\n",
            "集積回路 https://ja.wikipedia.org/wiki/%E9%9B%86%E7%A9%8D%E5%9B%9E%E8%B7%AF\n",
            "Systems on Chip (SoCs) https://ja.wikipedia.org/wiki/System-on-a-chip\n",
            "エネルギー消費 (グリーン・コンピューティング) https://ja.wikipedia.org/wiki/%E3%82%B0%E3%83%AA%E3%83%BC%E3%83%B3IT\n",
            "EDA https://ja.wikipedia.org/wiki/EDA\n",
            "ハードウェアアクセラレーション https://ja.wikipedia.org/wiki/%E3%83%8F%E3%83%BC%E3%83%89%E3%82%A6%E3%82%A7%E3%82%A2%E3%82%A2%E3%82%AF%E3%82%BB%E3%83%A9%E3%83%AC%E3%83%BC%E3%82%B7%E3%83%A7%E3%83%B3\n",
            "コンピュータ・アーキテクチャ https://ja.wikipedia.org/wiki/%E3%82%B3%E3%83%B3%E3%83%94%E3%83%A5%E3%83%BC%E3%82%BF%E3%83%BB%E3%82%A2%E3%83%BC%E3%82%AD%E3%83%86%E3%82%AF%E3%83%81%E3%83%A3\n",
            "組み込みシステム https://ja.wikipedia.org/wiki/%E7%B5%84%E3%81%BF%E8%BE%BC%E3%81%BF%E3%82%B7%E3%82%B9%E3%83%86%E3%83%A0\n",
            "リアルタイムシステム https://ja.wikipedia.org/wiki/%E3%83%AA%E3%82%A2%E3%83%AB%E3%82%BF%E3%82%A4%E3%83%A0%E3%82%B7%E3%82%B9%E3%83%86%E3%83%A0\n",
            "ディペンダビリティ https://ja.wikipedia.org/wiki/%E3%83%87%E3%82%A3%E3%83%9A%E3%83%B3%E3%83%80%E3%83%93%E3%83%AA%E3%83%86%E3%82%A3\n",
            "ネットワーク https://ja.wikipedia.org/wiki/%E3%82%B3%E3%83%B3%E3%83%94%E3%83%A5%E3%83%BC%E3%82%BF%E3%83%8D%E3%83%83%E3%83%88%E3%83%AF%E3%83%BC%E3%82%AF\n",
            "通信プロトコル https://ja.wikipedia.org/wiki/%E9%80%9A%E4%BF%A1%E3%83%97%E3%83%AD%E3%83%88%E3%82%B3%E3%83%AB\n",
            "インタプリタ https://ja.wikipedia.org/wiki/%E3%82%A4%E3%83%B3%E3%82%BF%E3%83%97%E3%83%AA%E3%82%BF\n",
            "ミドルウェア https://ja.wikipedia.org/wiki/%E3%83%9F%E3%83%89%E3%83%AB%E3%82%A6%E3%82%A7%E3%82%A2\n",
            "仮想マシン https://ja.wikipedia.org/wiki/%E4%BB%AE%E6%83%B3%E3%83%9E%E3%82%B7%E3%83%B3\n",
            "オペレーティングシステム https://ja.wikipedia.org/wiki/%E3%82%AA%E3%83%9A%E3%83%AC%E3%83%BC%E3%83%86%E3%82%A3%E3%83%B3%E3%82%B0%E3%82%B7%E3%82%B9%E3%83%86%E3%83%A0\n",
            "ソフトウェア品質 https://ja.wikipedia.org/wiki/%E3%82%BD%E3%83%95%E3%83%88%E3%82%A6%E3%82%A7%E3%82%A2%E5%93%81%E8%B3%AA\n",
            "ツール https://ja.wikipedia.org/wiki/%E3%83%97%E3%83%AD%E3%82%B0%E3%83%A9%E3%83%9F%E3%83%B3%E3%82%B0%E3%83%84%E3%83%BC%E3%83%AB\n",
            "プログラミングパラダイム https://ja.wikipedia.org/wiki/%E3%83%97%E3%83%AD%E3%82%B0%E3%83%A9%E3%83%9F%E3%83%B3%E3%82%B0%E3%83%91%E3%83%A9%E3%83%80%E3%82%A4%E3%83%A0\n",
            "プログラミング言語 https://ja.wikipedia.org/wiki/%E3%83%97%E3%83%AD%E3%82%B0%E3%83%A9%E3%83%9F%E3%83%B3%E3%82%B0%E8%A8%80%E8%AA%9E\n",
            "コンパイラ https://ja.wikipedia.org/wiki/%E3%82%B3%E3%83%B3%E3%83%91%E3%82%A4%E3%83%A9\n",
            "ドメイン固有言語 https://ja.wikipedia.org/wiki/%E3%83%89%E3%83%A1%E3%82%A4%E3%83%B3%E5%9B%BA%E6%9C%89%E8%A8%80%E8%AA%9E\n",
            "モデリング言語 https://ja.wikipedia.org/wiki/%E3%83%A2%E3%83%87%E3%83%AA%E3%83%B3%E3%82%B0%E8%A8%80%E8%AA%9E\n",
            "ソフトウェアフレームワーク https://ja.wikipedia.org/wiki/%E3%82%BD%E3%83%95%E3%83%88%E3%82%A6%E3%82%A7%E3%82%A2%E3%83%95%E3%83%AC%E3%83%BC%E3%83%A0%E3%83%AF%E3%83%BC%E3%82%AF\n",
            "統合開発環境 https://ja.wikipedia.org/wiki/%E7%B5%B1%E5%90%88%E9%96%8B%E7%99%BA%E7%92%B0%E5%A2%83\n",
            "ソフトウェア構成管理 https://ja.wikipedia.org/wiki/%E3%82%BD%E3%83%95%E3%83%88%E3%82%A6%E3%82%A7%E3%82%A2%E6%A7%8B%E6%88%90%E7%AE%A1%E7%90%86\n",
            "ソフトウェアライブラリ https://ja.wikipedia.org/wiki/%E3%83%A9%E3%82%A4%E3%83%96%E3%83%A9%E3%83%AA\n",
            "ソフトウェアリポジトリ https://ja.wikipedia.org/wiki/%E3%83%AA%E3%83%9D%E3%82%B8%E3%83%88%E3%83%AA\n",
            "ソフトウェア開発 https://ja.wikipedia.org/wiki/%E3%82%BD%E3%83%95%E3%83%88%E3%82%A6%E3%82%A7%E3%82%A2%E9%96%8B%E7%99%BA\n",
            "ソフトウェア開発プロセス https://ja.wikipedia.org/wiki/%E3%82%BD%E3%83%95%E3%83%88%E3%82%A6%E3%82%A7%E3%82%A2%E9%96%8B%E7%99%BA%E3%83%97%E3%83%AD%E3%82%BB%E3%82%B9\n",
            "要求分析 https://ja.wikipedia.org/wiki/%E8%A6%81%E6%B1%82%E5%88%86%E6%9E%90\n",
            "ソフトウェア設計 https://ja.wikipedia.org/wiki/%E3%82%BD%E3%83%95%E3%83%88%E3%82%A6%E3%82%A7%E3%82%A2%E8%A8%AD%E8%A8%88\n",
            "ソフトウェアデプロイメント https://ja.wikipedia.org/wiki/%E3%82%BD%E3%83%95%E3%83%88%E3%82%A6%E3%82%A7%E3%82%A2%E3%83%87%E3%83%97%E3%83%AD%E3%82%A4%E3%83%A1%E3%83%B3%E3%83%88\n",
            "ソフトウェアメンテナンス https://ja.wikipedia.org/wiki/%E3%82%BD%E3%83%95%E3%83%88%E3%82%A6%E3%82%A7%E3%82%A2%E3%83%A1%E3%83%B3%E3%83%86%E3%83%8A%E3%83%B3%E3%82%B9\n",
            "オープンソースモデル https://ja.wikipedia.org/wiki/%E3%82%AA%E3%83%BC%E3%83%97%E3%83%B3%E3%82%BD%E3%83%BC%E3%82%B9%E3%82%BD%E3%83%95%E3%83%88%E3%82%A6%E3%82%A7%E3%82%A2\n",
            "計算理論 https://ja.wikipedia.org/wiki/%E8%A8%88%E7%AE%97%E7%90%86%E8%AB%96\n",
            "計算モデル https://ja.wikipedia.org/wiki/%E8%A8%88%E7%AE%97%E3%83%A2%E3%83%87%E3%83%AB\n",
            "形式言語 https://ja.wikipedia.org/wiki/%E5%BD%A2%E5%BC%8F%E8%A8%80%E8%AA%9E\n",
            "オートマトン理論 https://ja.wikipedia.org/wiki/%E3%82%AA%E3%83%BC%E3%83%88%E3%83%9E%E3%83%88%E3%83%B3%E7%90%86%E8%AB%96\n",
            "計算可能性理論 https://ja.wikipedia.org/wiki/%E8%A8%88%E7%AE%97%E5%8F%AF%E8%83%BD%E6%80%A7%E7%90%86%E8%AB%96\n",
            "計算複雑性理論 https://ja.wikipedia.org/wiki/%E8%A8%88%E7%AE%97%E8%A4%87%E9%9B%91%E6%80%A7%E7%90%86%E8%AB%96\n",
            "意味論 https://ja.wikipedia.org/wiki/%E3%83%97%E3%83%AD%E3%82%B0%E3%83%A9%E3%83%A0%E6%84%8F%E5%91%B3%E8%AB%96\n",
            "アルゴリズム https://ja.wikipedia.org/wiki/%E3%82%A2%E3%83%AB%E3%82%B4%E3%83%AA%E3%82%BA%E3%83%A0\n",
            "アルゴリズム解析 https://ja.wikipedia.org/wiki/%E3%82%A2%E3%83%AB%E3%82%B4%E3%83%AA%E3%82%BA%E3%83%A0%E8%A7%A3%E6%9E%90\n",
            "乱択アルゴリズム https://ja.wikipedia.org/wiki/%E4%B9%B1%E6%8A%9E%E3%82%A2%E3%83%AB%E3%82%B4%E3%83%AA%E3%82%BA%E3%83%A0\n",
            "計算幾何学 https://ja.wikipedia.org/wiki/%E8%A8%88%E7%AE%97%E5%B9%BE%E4%BD%95%E5%AD%A6\n",
            "離散数学 https://ja.wikipedia.org/wiki/%E9%9B%A2%E6%95%A3%E6%95%B0%E5%AD%A6\n",
            "確率 https://ja.wikipedia.org/wiki/%E7%A2%BA%E7%8E%87\n",
            "統計学 https://ja.wikipedia.org/wiki/%E7%B5%B1%E8%A8%88%E5%AD%A6\n",
            "数学ソフトウェア https://ja.wikipedia.org/wiki/%E6%95%B0%E5%AD%A6%E3%82%BD%E3%83%95%E3%83%88%E3%82%A6%E3%82%A7%E3%82%A2\n",
            "情報理論 https://ja.wikipedia.org/wiki/%E6%83%85%E5%A0%B1%E7%90%86%E8%AB%96\n",
            "解析学 https://ja.wikipedia.org/wiki/%E8%A7%A3%E6%9E%90%E5%AD%A6\n",
            "数値解析 https://ja.wikipedia.org/wiki/%E6%95%B0%E5%80%A4%E8%A7%A3%E6%9E%90\n",
            "情報システム https://ja.wikipedia.org/wiki/%E6%83%85%E5%A0%B1%E3%82%B7%E3%82%B9%E3%83%86%E3%83%A0\n",
            "データベース管理システム https://ja.wikipedia.org/wiki/%E3%83%87%E3%83%BC%E3%82%BF%E3%83%99%E3%83%BC%E3%82%B9\n",
            "情報ストレージシステム https://ja.wikipedia.org/wiki/%E8%A8%98%E6%86%B6%E8%A3%85%E7%BD%AE\n",
            "企業情報システム https://ja.wikipedia.org/wiki/%E4%BC%81%E6%A5%AD%E6%83%85%E5%A0%B1%E3%82%B7%E3%82%B9%E3%83%86%E3%83%A0\n",
            "地理情報システム https://ja.wikipedia.org/wiki/%E5%9C%B0%E7%90%86%E6%83%85%E5%A0%B1%E3%82%B7%E3%82%B9%E3%83%86%E3%83%A0\n",
            "意思決定支援システム https://ja.wikipedia.org/wiki/%E6%84%8F%E6%80%9D%E6%B1%BA%E5%AE%9A%E6%94%AF%E6%8F%B4%E3%82%B7%E3%82%B9%E3%83%86%E3%83%A0\n",
            "プロセス制御システム https://ja.wikipedia.org/wiki/%E3%83%97%E3%83%AD%E3%82%BB%E3%82%B9%E5%88%B6%E5%BE%A1\n",
            "データマイニング https://ja.wikipedia.org/wiki/%E3%83%87%E3%83%BC%E3%82%BF%E3%83%9E%E3%82%A4%E3%83%8B%E3%83%B3%E3%82%B0\n",
            "電子図書館 https://ja.wikipedia.org/wiki/%E9%9B%BB%E5%AD%90%E5%9B%B3%E6%9B%B8%E9%A4%A8\n",
            "コンピューティング・プラットフォーム https://ja.wikipedia.org/wiki/%E3%83%97%E3%83%A9%E3%83%83%E3%83%88%E3%83%95%E3%82%A9%E3%83%BC%E3%83%A0_(%E3%82%B3%E3%83%B3%E3%83%94%E3%83%A5%E3%83%BC%E3%83%86%E3%82%A3%E3%83%B3%E3%82%B0)\n",
            "デジタルマーケティング https://ja.wikipedia.org/wiki/%E3%83%87%E3%82%B8%E3%82%BF%E3%83%AB%E3%83%9E%E3%83%BC%E3%82%B1%E3%83%86%E3%82%A3%E3%83%B3%E3%82%B0\n",
            "World Wide Web https://ja.wikipedia.org/wiki/World_Wide_Web\n",
            "情報検索 https://ja.wikipedia.org/wiki/%E6%83%85%E5%A0%B1%E6%A4%9C%E7%B4%A2\n",
            "セキュリティ https://ja.wikipedia.org/wiki/%E3%82%B3%E3%83%B3%E3%83%94%E3%83%A5%E3%83%BC%E3%82%BF%E3%82%BB%E3%82%AD%E3%83%A5%E3%83%AA%E3%83%86%E3%82%A3\n",
            "暗号理論 https://ja.wikipedia.org/wiki/%E6%9A%97%E5%8F%B7%E7%90%86%E8%AB%96\n",
            "形式手法 https://ja.wikipedia.org/wiki/%E5%BD%A2%E5%BC%8F%E6%89%8B%E6%B3%95\n",
            "侵入検知システム https://ja.wikipedia.org/wiki/%E4%BE%B5%E5%85%A5%E6%A4%9C%E7%9F%A5%E3%82%B7%E3%82%B9%E3%83%86%E3%83%A0\n",
            "ネットワーク・セキュリティ https://ja.wikipedia.org/wiki/%E3%83%8D%E3%83%83%E3%83%88%E3%83%AF%E3%83%BC%E3%82%AF%E3%83%BB%E3%82%BB%E3%82%AD%E3%83%A5%E3%83%AA%E3%83%86%E3%82%A3\n",
            "情報セキュリティ https://ja.wikipedia.org/wiki/%E6%83%85%E5%A0%B1%E3%82%BB%E3%82%AD%E3%83%A5%E3%83%AA%E3%83%86%E3%82%A3\n",
            "ヒューマンコンピュータインタラクション https://ja.wikipedia.org/wiki/%E3%83%92%E3%83%A5%E3%83%BC%E3%83%9E%E3%83%B3%E3%82%B3%E3%83%B3%E3%83%94%E3%83%A5%E3%83%BC%E3%82%BF%E3%82%A4%E3%83%B3%E3%82%BF%E3%83%A9%E3%82%AF%E3%82%B7%E3%83%A7%E3%83%B3\n",
            "インタラクションデザイン https://ja.wikipedia.org/wiki/%E3%82%A4%E3%83%B3%E3%82%BF%E3%83%A9%E3%82%AF%E3%82%B7%E3%83%A7%E3%83%B3%E3%83%87%E3%82%B6%E3%82%A4%E3%83%B3\n",
            "ユビキタスコンピューティング https://ja.wikipedia.org/wiki/%E3%83%A6%E3%83%93%E3%82%AD%E3%82%BF%E3%82%B9%E3%82%B3%E3%83%B3%E3%83%94%E3%83%A5%E3%83%BC%E3%83%86%E3%82%A3%E3%83%B3%E3%82%B0\n",
            "可視化 https://ja.wikipedia.org/wiki/%E5%8F%AF%E8%A6%96%E5%8C%96\n",
            "アクセシビリティ https://ja.wikipedia.org/wiki/%E3%82%B3%E3%83%B3%E3%83%94%E3%83%A5%E3%83%BC%E3%82%BF%E3%82%A2%E3%82%AF%E3%82%BB%E3%82%B7%E3%83%93%E3%83%AA%E3%83%86%E3%82%A3\n",
            "並行性 https://ja.wikipedia.org/wiki/%E4%B8%A6%E8%A1%8C%E6%80%A7\n",
            "並行コンピューティング https://ja.wikipedia.org/wiki/%E4%B8%A6%E8%A1%8C%E3%82%B3%E3%83%B3%E3%83%94%E3%83%A5%E3%83%BC%E3%83%86%E3%82%A3%E3%83%B3%E3%82%B0\n",
            "並列コンピューティング https://ja.wikipedia.org/wiki/%E4%B8%A6%E5%88%97%E3%82%B3%E3%83%B3%E3%83%94%E3%83%A5%E3%83%BC%E3%83%86%E3%82%A3%E3%83%B3%E3%82%B0\n",
            "分散コンピューティング https://ja.wikipedia.org/wiki/%E5%88%86%E6%95%A3%E3%82%B3%E3%83%B3%E3%83%94%E3%83%A5%E3%83%BC%E3%83%86%E3%82%A3%E3%83%B3%E3%82%B0\n",
            "マルチスレッディング https://ja.wikipedia.org/wiki/%E3%83%8F%E3%83%BC%E3%83%89%E3%82%A6%E3%82%A7%E3%82%A2%E3%83%9E%E3%83%AB%E3%83%81%E3%82%B9%E3%83%AC%E3%83%83%E3%83%87%E3%82%A3%E3%83%B3%E3%82%B0\n",
            "マルチプロセッシング https://ja.wikipedia.org/wiki/%E3%83%9E%E3%83%AB%E3%83%81%E3%83%97%E3%83%AD%E3%82%BB%E3%83%83%E3%82%B7%E3%83%B3%E3%82%B0\n",
            "自然言語処理 https://ja.wikipedia.org/wiki/%E8%87%AA%E7%84%B6%E8%A8%80%E8%AA%9E%E5%87%A6%E7%90%86\n",
            "知識表現と推論 https://ja.wikipedia.org/wiki/%E7%9F%A5%E8%AD%98%E8%A1%A8%E7%8F%BE\n",
            "コンピュータビジョン https://ja.wikipedia.org/wiki/%E3%82%B3%E3%83%B3%E3%83%94%E3%83%A5%E3%83%BC%E3%82%BF%E3%83%93%E3%82%B8%E3%83%A7%E3%83%B3\n",
            "自動計画とスケジューリング https://ja.wikipedia.org/wiki/%E8%87%AA%E5%8B%95%E8%A8%88%E7%94%BB\n",
            "検索手法 https://ja.wikipedia.org/wiki/%E6%95%B0%E7%90%86%E6%9C%80%E9%81%A9%E5%8C%96\n",
            "制御手法 https://ja.wikipedia.org/wiki/%E5%88%B6%E5%BE%A1%E7%90%86%E8%AB%96\n",
            "機械学習 https://ja.wikipedia.org/wiki/%E6%A9%9F%E6%A2%B0%E5%AD%A6%E7%BF%92\n",
            "教師あり学習 https://ja.wikipedia.org/wiki/%E6%95%99%E5%B8%AB%E3%81%82%E3%82%8A%E5%AD%A6%E7%BF%92\n",
            "教師なし学習 https://ja.wikipedia.org/wiki/%E6%95%99%E5%B8%AB%E3%81%AA%E3%81%97%E5%AD%A6%E7%BF%92\n",
            "強化学習 https://ja.wikipedia.org/wiki/%E5%BC%B7%E5%8C%96%E5%AD%A6%E7%BF%92\n",
            "交差検証 https://ja.wikipedia.org/wiki/%E4%BA%A4%E5%B7%AE%E6%A4%9C%E8%A8%BC\n",
            "グラフィックス https://ja.wikipedia.org/wiki/%E3%82%B3%E3%83%B3%E3%83%94%E3%83%A5%E3%83%BC%E3%82%BF%E3%82%B0%E3%83%A9%E3%83%95%E3%82%A3%E3%83%83%E3%82%AF%E3%82%B9\n",
            "アニメーション https://ja.wikipedia.org/wiki/%E3%82%B3%E3%83%B3%E3%83%94%E3%83%A5%E3%83%BC%E3%82%BF%E3%82%A2%E3%83%8B%E3%83%A1%E3%83%BC%E3%82%B7%E3%83%A7%E3%83%B3\n",
            "レンダリング https://ja.wikipedia.org/wiki/%E3%83%AC%E3%83%B3%E3%83%80%E3%83%AA%E3%83%B3%E3%82%B0_(%E3%82%B3%E3%83%B3%E3%83%94%E3%83%A5%E3%83%BC%E3%82%BF)\n",
            "画像編集 https://ja.wikipedia.org/wiki/%E5%86%99%E7%9C%9F%E7%B7%A8%E9%9B%86\n",
            "GPU https://ja.wikipedia.org/wiki/GPU\n",
            "複合現実 https://ja.wikipedia.org/wiki/%E8%A4%87%E5%90%88%E7%8F%BE%E5%AE%9F\n",
            "バーチャル・リアリティ https://ja.wikipedia.org/wiki/%E3%83%90%E3%83%BC%E3%83%81%E3%83%A3%E3%83%AB%E3%83%BB%E3%83%AA%E3%82%A2%E3%83%AA%E3%83%86%E3%82%A3\n",
            "画像圧縮 https://ja.wikipedia.org/wiki/%E7%94%BB%E5%83%8F%E5%9C%A7%E7%B8%AE\n",
            "ソリッドモデリング https://ja.wikipedia.org/wiki/%E3%82%BD%E3%83%AA%E3%83%83%E3%83%89%E3%83%A2%E3%83%87%E3%83%AA%E3%83%B3%E3%82%B0\n",
            "電子商取引 https://ja.wikipedia.org/wiki/%E9%9B%BB%E5%AD%90%E5%95%86%E5%8F%96%E5%BC%95\n",
            "企業アプリケーション https://ja.wikipedia.org/wiki/%E4%BC%81%E6%A5%AD%E3%82%A2%E3%83%97%E3%83%AA%E3%82%B1%E3%83%BC%E3%82%B7%E3%83%A7%E3%83%B3\n",
            "計算物理学 https://ja.wikipedia.org/wiki/%E8%A8%88%E7%AE%97%E7%89%A9%E7%90%86%E5%AD%A6\n",
            "計算化学 https://ja.wikipedia.org/wiki/%E8%A8%88%E7%AE%97%E5%8C%96%E5%AD%A6\n",
            "計算生物学 https://ja.wikipedia.org/wiki/%E8%A8%88%E7%AE%97%E7%94%9F%E7%89%A9%E5%AD%A6\n",
            "計算社会科学 https://ja.wikipedia.org/wiki/%E8%A8%88%E7%AE%97%E7%A4%BE%E4%BC%9A%E7%A7%91%E5%AD%A6\n",
            "健康情報学 https://ja.wikipedia.org/wiki/%E5%81%A5%E5%BA%B7%E6%83%85%E5%A0%B1%E5%AD%A6\n",
            "デジタルアート https://ja.wikipedia.org/wiki/%E3%83%87%E3%82%B8%E3%82%BF%E3%83%AB%E3%82%A2%E3%83%BC%E3%83%88\n",
            "電子出版 https://ja.wikipedia.org/wiki/%E9%9B%BB%E5%AD%90%E5%87%BA%E7%89%88\n",
            "サイバー戦争 https://ja.wikipedia.org/wiki/%E3%82%B5%E3%82%A4%E3%83%90%E3%83%BC%E6%88%A6%E4%BA%89\n",
            "電子投票 https://ja.wikipedia.org/wiki/%E9%9B%BB%E5%AD%90%E6%8A%95%E7%A5%A8\n",
            "コンピュータゲーム https://ja.wikipedia.org/wiki/%E3%82%B3%E3%83%B3%E3%83%94%E3%83%A5%E3%83%BC%E3%82%BF%E3%82%B2%E3%83%BC%E3%83%A0\n",
            "ワードプロセッサー https://ja.wikipedia.org/wiki/%E3%83%AF%E3%83%BC%E3%83%89%E3%83%97%E3%83%AD%E3%82%BB%E3%83%83%E3%82%B5%E3%83%BC\n",
            "オペレーションズ・リサーチ https://ja.wikipedia.org/wiki/%E3%82%AA%E3%83%9A%E3%83%AC%E3%83%BC%E3%82%B7%E3%83%A7%E3%83%B3%E3%82%BA%E3%83%BB%E3%83%AA%E3%82%B5%E3%83%BC%E3%83%81\n",
            "教育工学 https://ja.wikipedia.org/wiki/%E6%95%99%E8%82%B2%E5%B7%A5%E5%AD%A6\n",
            "文書管理システム https://ja.wikipedia.org/wiki/%E6%96%87%E6%9B%B8%E7%AE%A1%E7%90%86%E3%82%B7%E3%82%B9%E3%83%86%E3%83%A0\n"
          ],
          "name": "stdout"
        }
      ]
    },
    {
      "cell_type": "code",
      "metadata": {
        "id": "Luy0M3LjBd63"
      },
      "source": [
        "# 各エントリをダウンロードしてparserのインスタンスを作り、辞書として保存。\n",
        "\n",
        "soups = dict()\n",
        "for k in urls:\n",
        "  html = urlopen(urls[k]) \n",
        "  soups[k] = BeautifulSoup(html, 'html.parser')"
      ],
      "execution_count": null,
      "outputs": []
    },
    {
      "cell_type": "code",
      "metadata": {
        "id": "G_FMR37hvTHZ"
      },
      "source": [
        "# 先ほど定義した関数morph()を使って各エントリを形態素解析し、lemmaが半角スペースで区切られた文字列へ変換する。\n",
        "\n",
        "genre = list()\n",
        "corpus = list()\n",
        "for k in soups:\n",
        "  genre.append(k)\n",
        "  doc = morph(soups[k], nlp)\n",
        "  corpus.append(doc)"
      ],
      "execution_count": null,
      "outputs": []
    },
    {
      "cell_type": "code",
      "metadata": {
        "id": "M52fABfNap0e"
      },
      "source": [
        "corpus"
      ],
      "execution_count": null,
      "outputs": []
    },
    {
      "cell_type": "code",
      "metadata": {
        "id": "gvZKoPJXNNgO",
        "outputId": "5f331c5a-f97f-4b4e-d162-5867c726de90",
        "colab": {
          "base_uri": "https://localhost:8080/",
          "height": 125
        }
      },
      "source": [
        "# 再利用するために、csvファイルとして保存しておく。\n",
        "\n",
        "import pandas as pd\n",
        "\n",
        "genre.append('人工知能')\n",
        "corpus.append(doc_AI)\n",
        "\n",
        "df = pd.DataFrame(list(zip(genre, corpus)), columns=['genre', 'text'])\n",
        "print(df.head())\n",
        "df.to_csv('cs_corpus.csv')"
      ],
      "execution_count": null,
      "outputs": [
        {
          "output_type": "stream",
          "text": [
            "      genre                                               text\n",
            "0  コンピュータ科学  計算機科学 けい さん かがく 英 computer science コンピュータ 科学 情...\n",
            "1    ハードウェア  ハードウェア 英語 hardware システム 物理的 構成要素 指す 一般 用語 日本語 ...\n",
            "2    プリント基板  プリント基板 プリント きばる 短縮 形 pwb PCB 基板 一種 以下 ふた つ まとめ...\n",
            "3      周辺機器  周辺 機器 しゅうへん きく また ペリフェラル 英 peripheral コンピュータ ゲ...\n",
            "4      集積回路  集積回路 しゅう せき かいろ 英 integrated circuit IC 半導体 表面...\n"
          ],
          "name": "stdout"
        }
      ]
    },
    {
      "cell_type": "markdown",
      "metadata": {
        "id": "PaIiKbJu1Ps9"
      },
      "source": [
        "## 課題の手順(3)"
      ]
    },
    {
      "cell_type": "markdown",
      "metadata": {
        "id": "SnSE8kLf1Re6"
      },
      "source": [
        "### scikit-learnのCountVectorizerで単語の出現頻度を要素とするベクトルを作成\n",
        "* これにより、各文書のベクトル表現が得られる。\n",
        "* 興味のある対象のベクトル表現を得ることは、その対象を機械学習アルゴリズムの入力データとして使うための第一歩。"
      ]
    },
    {
      "cell_type": "code",
      "metadata": {
        "id": "VbmW1-x5zs99"
      },
      "source": [
        "# 先ほど作成したcsvファイルを読んで、textカラムをCountVectorizerのインスタンスでベクトル化する。\n",
        "# ベクトルの要素は、各Wikipediaエントリにおける、各単語の出現回数になる。\n",
        "\n",
        "from sklearn.feature_extraction.text import CountVectorizer\n",
        "\n",
        "df = pd.read_csv('cs_corpus.csv')\n",
        "\n",
        "vectorizer = CountVectorizer()\n",
        "X = vectorizer.fit_transform(df['text'])"
      ],
      "execution_count": null,
      "outputs": []
    },
    {
      "cell_type": "code",
      "metadata": {
        "id": "xTSpEuWM1g3d",
        "outputId": "cdb7fdc5-dd25-4cad-ce8b-dc22d6a4ff7b",
        "colab": {
          "base_uri": "https://localhost:8080/",
          "height": 935
        }
      },
      "source": [
        "# CountVectorizerで得られるのはsparse matrixである。\n",
        "print(X)"
      ],
      "execution_count": null,
      "outputs": [
        {
          "output_type": "stream",
          "text": [
            "  (0, 9859)\t16\n",
            "  (0, 2521)\t1\n",
            "  (0, 2561)\t1\n",
            "  (0, 2481)\t1\n",
            "  (0, 716)\t7\n",
            "  (0, 1972)\t5\n",
            "  (0, 3567)\t14\n",
            "  (0, 9127)\t12\n",
            "  (0, 7527)\t4\n",
            "  (0, 9853)\t25\n",
            "  (0, 8848)\t1\n",
            "  (0, 6797)\t1\n",
            "  (0, 6437)\t1\n",
            "  (0, 7094)\t1\n",
            "  (0, 7484)\t4\n",
            "  (0, 10496)\t1\n",
            "  (0, 9075)\t4\n",
            "  (0, 6153)\t12\n",
            "  (0, 8329)\t2\n",
            "  (0, 2424)\t12\n",
            "  (0, 3568)\t2\n",
            "  (0, 2848)\t4\n",
            "  (0, 6273)\t1\n",
            "  (0, 10677)\t5\n",
            "  (0, 8847)\t6\n",
            "  :\t:\n",
            "  (122, 5425)\t1\n",
            "  (122, 6319)\t1\n",
            "  (122, 6001)\t1\n",
            "  (122, 9113)\t1\n",
            "  (122, 5547)\t1\n",
            "  (122, 84)\t1\n",
            "  (122, 85)\t1\n",
            "  (122, 138)\t1\n",
            "  (122, 86)\t1\n",
            "  (122, 87)\t4\n",
            "  (122, 9204)\t1\n",
            "  (122, 5717)\t4\n",
            "  (122, 6647)\t1\n",
            "  (122, 6957)\t2\n",
            "  (122, 8504)\t1\n",
            "  (122, 7267)\t1\n",
            "  (122, 5841)\t1\n",
            "  (122, 90)\t1\n",
            "  (122, 93)\t1\n",
            "  (122, 7158)\t1\n",
            "  (122, 2526)\t1\n",
            "  (122, 2459)\t1\n",
            "  (122, 8239)\t1\n",
            "  (122, 96)\t1\n",
            "  (122, 5566)\t1\n"
          ],
          "name": "stdout"
        }
      ]
    },
    {
      "cell_type": "code",
      "metadata": {
        "id": "P9HpWKob5BSi",
        "outputId": "c952607c-4505-4ea2-9077-4eca2fda8989",
        "colab": {
          "base_uri": "https://localhost:8080/",
          "height": 35
        }
      },
      "source": [
        "# sparse matrixから、通常のNumPyの配列へ変換する。\n",
        "X = X.toarray()\n",
        "print('文書数:{}; 語彙サイズ：{}'.format(*X.shape))"
      ],
      "execution_count": null,
      "outputs": [
        {
          "output_type": "stream",
          "text": [
            "文書数:123; 語彙サイズ：10771\n"
          ],
          "name": "stdout"
        }
      ]
    },
    {
      "cell_type": "code",
      "metadata": {
        "id": "WLut43Mj1jDh",
        "outputId": "e844b7d3-3576-4abd-c9fd-81bbb2a654a1",
        "colab": {
          "base_uri": "https://localhost:8080/",
          "height": 55
        }
      },
      "source": [
        "# CountVectorizerによって作られた語彙を取得する。\n",
        "vocab = vectorizer.get_feature_names()\n",
        "print(vocab)"
      ],
      "execution_count": null,
      "outputs": [
        {
          "output_type": "stream",
          "text": [
            "['00', '000', '001', '00802', '01', '0160', '0161', '0625', '07', '096', '10', '100', '1000', '1000万', '1000億', '100万', '101', '1010', '1012', '102', '103', '104', '105', '1050億', '106', '107', '108', '1080', '109', '10万', '11', '110', '111', '112', '113', '114', '115', '115億', '116', '117', '118', '119', '12', '120', '1200', '121', '122', '12207', '123', '12345', '124', '125', '126', '127', '128', '129', '13', '130', '131', '132', '133', '134', '135', '136', '137', '138', '139', '13兆1774億', '14', '140', '1401', '141', '142', '143', '144', '145', '146', '147', '148', '149', '15', '150', '150億', '151', '152', '153', '154', '155', '15504', '1565927247', '157', '158', '15846', '159', '15億', '16', '160', '16000', '1600億', '1620', '1623', '1642', '1662', '168', '17', '1700', '1715', '1741', '1742', '1748', '1749', '178', '1790', '18', '180', '1830', '1835', '1854', '1860', '1869', '1871', '1874', '1875', '1890', '19', '1901', '1902', '1906', '1908', '1909', '19100', '19123', '1919', '1920', '1922', '1924', '1928', '1930', '1931', '1933', '1935', '1936', '1939', '1940', '1941', '1942', '1943', '1944', '1945', '1947', '1948', '1949', '1950', '1951', '1952', '1954', '1955', '1956', '1957', '1958', '1959', '1960', '1961', '1962', '1963', '1964', '1965', '1966', '1967', '1968', '1969', '197', '1970', '1971', '1972', '1973', '1975', '1976', '1977', '1978', '1979', '1980', '1981', '1982', '1983', '1984', '1985', '1986', '1987', '1988', '1989', '1990', '1991', '1992', '1993', '1994', '1995', '1996', '1997', '1998', '1999', '1st', '1万5千', '1人', '1億', '1兆1660億', '1兆6704億', '1日', '20', '200', '2000', '2000万', '2001', '2002', '2003', '2004', '2005', '2006', '20060719054203', '2007', '2008', '2009', '200万', '2010', '2011', '2012', '2013', '2014', '2015', '2016', '2017', '2018', '2019', '2020', '2022', '2023', '2030', '2045', '20億', '21', '211', '215億', '216', '22', '220', '23', '232', '24', '25', '250', '2500', '25000', '256', '26', '27', '27000', '27001', '27002', '28', '29', '2人', '2兆', '30', '300', '3000', '3001', '300万', '3014', '3090', '30万', '31', '310万', '313', '32', '33', '34', '35', '350', '350億', '36', '360', '37', '370', '3768', '38', '386', '39', '3m', '3万', '3万5千', '40', '400', '41', '41421', '42', '43', '4343億', '44', '45', '4553488', '46', '47', '48', '480', '485', '49', '4万', '4兆', '50', '500', '5000', '51', '512', '52', '53', '54', '55', '550', '5500億', '557', '56', '5603', '56592', '57', '570億', '58', '582', '59', '596', '5万', '60', '6001', '60194', '61', '62', '63', '630万', '64', '640', '65', '66', '67', '68', '69', '70', '700', '7000', '700万', '701', '7030', '704', '709', '71', '7100', '72', '7289', '73', '74', '743', '75', '750百万', '754', '76', '77', '777', '78', '7800', '79', '80', '8000', '801', '802', '80286', '80386', '81', '8115', '8152', '82', '8200', '825', '83', '830', '84', '85', '86', '87', '875', '877', '88', '89', '90', '9000', '909', '91', '92', '93', '94', '95', '96', '97', '978', '98', '9800', '9801', '981', '99', '9万', 'abaqus', 'abi', 'abraham', 'abramowitz', 'acars', 'acceleration', 'access', 'accessibility', 'ace', 'achieving', 'acm', 'acos', 'acrimsat', 'act', 'action', 'actions', 'activex', 'ad', 'ada', 'add', 'adobe', 'affecting', 'age', 'agent', 'agi', 'agpl', 'ahmed', 'ai', 'aic', 'aid', 'aided', 'aimms', 'airbrushing', 'airep', 'aix', 'ajax', 'aks', 'al', 'alan', 'alberti', 'aldrich', 'algebraic', 'algol', 'algorithm', 'algoritmi', 'all', 'allan', 'allen', 'alliance', 'alloy', 'alpha', 'alphabetic', 'alphago', 'alt', 'alte', 'amazon', 'amd', 'amdar', 'america', 'amigaos', 'aml', 'amortized', 'ampl', 'amsterdam', 'amusement', 'an', 'analysis', 'analytic', 'and', 'android', 'anim', 'animation', 'anomaly', 'anti', 'aorg', 'aot', 'apache', 'api', 'apl', 'apple', 'application', 'approx', 'aps', 'apu', 'aqua', 'ar', 'architecture', 'archive', 'arcnet', 'area', 'arg', 'argmax', 'argmin', 'argo', 'arm', 'armad', 'arpa', 'arpanet', 'arpg', 'arrow', 'art', 'artifacts', 'artificial', 'as', 'asic', 'asmp', 'aspen', 'assignment', 'association', 'ast', 'asymptotic', 'at', 'atalla', 'atari', 'athlon', 'attached', 'attack', 'aude', 'audio', 'auditing', 'augmented', 'authentication', 'automata', 'automated', 'automatic', 'automation', 'automaton', 'autonomy', 'av', 'avars', 'avm', 'awk', 'babbage', 'badvista', 'balance', 'ballblazer', 'barco', 'bare', 'barrel', 'base', 'based', 'basic', 'bazaar', 'bc', 'bcpl', 'bd', 'becker', 'bell', 'beowulf', 'berkeley', 'bernstein', 'bert', 'between', 'bga', 'bgan', 'bgp', 'big', 'biggan', 'biology', 'biomedical', 'biometrics', 'bios', 'bit', 'bitbucket', 'blender', 'block', 'blocksworld', 'blog', 'blue', 'bluetooth', 'bnf', 'boinc', 'bom', 'bomber', 'book', 'box', 'bpf', 'bpp', 'brain', 'brainmap', 'brinch', 'broadband', 'brohm', 'bryce', 'bsc', 'bsd', 'btc', 'bufr', 'bugs', 'build', 'bundles', 'burgin', 'bus', 'business', 'by', 'cabin', 'cad', 'cae', 'cagd', 'calculation', 'calculus', 'calipso', 'call', 'cam', 'campus', 'can', 'canada', 'candidate', 'capability', 'card', 'cardboard', 'care', 'caris', 'carlo', 'carried', 'carson', 'carzaniga', 'cas', 'casio', 'category', 'cathedral', 'cathode', 'cave', 'cbers', 'cc', 'cca', 'ccd', 'cd', 'cddl', 'cdf', 'cell', 'cem', 'center', 'century', 'ceo', 'cern', 'certain', 'certification', 'cf', 'cfml', 'cg', 'cgi', 'cgis', 'cgmt', 'ch', 'chain', 'chapter', 'charles', 'checking', 'chemistry', 'chi', 'chip', 'choice', 'chrome', 'ci', 'cia', 'cifs', 'cinii', 'cint', 'cipher', 'circuit', 'circuits', 'cisc', 'ciws', 'clause', 'clinical', 'clone', 'cls', 'cm', 'cmm', 'cmmi', 'cmos', 'cms', 'cn', 'cnn', 'co', 'coarse', 'coastal', 'cobol', 'codar', 'code', 'coding', 'coffeescript', 'coins', 'coldfusion', 'com', 'command', 'commerce', 'commercial', 'commit', 'common', 'communicating', 'communication', 'communications', 'company', 'comparison', 'compile', 'compiler', 'complementary', 'complexity', 'component', 'composite', 'compound', 'compression', 'compumarket', 'compuserve', 'computability', 'computation', 'computational', 'computer', 'computing', 'concurrency', 'concurrent', 'cond', 'conditions', 'conference', 'configuration', 'connecting', 'considered', 'consortium', 'constant', 'content', 'control', 'controller', 'converter', 'conway', 'cooperative', 'coordination', 'copyright', 'corba', 'cordova', 'core', 'corel', 'corp', 'corporation', 'cortical', 'cos', 'cosmic', 'cosmo', 'cosmos', 'cost', 'coverity', 'cp', 'cpca', 'cpu', 'cpuc', 'cray', 'creative', 'creator', 'crex', 'criteria', 'critical', 'crm', 'cross', 'cruby', 'cry', 'cryptographic', 'cryptography', 'cryptology', 'cryptosystem', 'cs', 'csail', 'csc', 'csg', 'csk', 'csound', 'css', 'ctc', 'cuda', 'cup', 'cur', 'curriculum', 'cvs', 'cwop', 'cyberjapan', 'cyberwarfare', 'cyc', 'cycl', 'cycle', 'cycles', 'cycorp', 'da', 'daml', 'damocles', 'daniel', 'darker', 'darpa', 'data', 'database', 'databases', 'datum', 'daubechies', 'davis', 'day', 'db', 'dbms', 'dcg', 'dcom', 'dcs', 'dct', 'dd', 'ddr', 'de', 'deadbeat', 'debates', 'debian', 'dec', 'decision', 'deepmind', 'defanti', 'defective', 'defining', 'deflate', 'dem', 'denial', 'dep', 'department', 'dependability', 'dependency', 'deployment', 'der', 'des', 'description', 'descriptive', 'design', 'detection', 'determination', 'detrich', 'development', 'device', 'devices', 'dfm', 'dfsg', 'dft', 'diamond', 'dicti', 'dictionary', 'didier', 'diehr', 'difference', 'digest', 'digital', 'directcompute', 'directx', 'discovery', 'discrete', 'discretization', 'display', 'displaystyle', 'distributed', 'distribution', 'diver', 'dlclose', 'dll', 'dlopen', 'dlp', 'dlsym', 'dm', 'dma', 'dmc', 'dms', 'dmsp', 'dmz', 'dns', 'do', 'docker', 'dockerfile', 'dockerhub', 'document', 'dod', 'doe', 'domain', 'donald', 'dos', 'dot', 'douglass', 'dq', 'dqn', 'dram', 'drawing', 'drc', 'drm', 'drools', 'ds', 'dsl', 'dsm', 'dsom', 'dsp', 'dspace', 'dspm', 'dss', 'dssat', 'dt', 'dtime', 'dtp', 'dtrules', 'dublin', 'dvd', 'dwt', 'dx', 'dy', 'dylib', 'dynamic', 'eagle', 'ebrahimi', 'ec', 'echonet', 'eclipse', 'ecma', 'ecml', 'economist', 'ecサイト', 'eda', 'edi', 'editing', 'edition', 'editor', 'edm', 'edp', 'edsac', 'educational', 'eecs', 'eeprom', 'efi', 'efs', 'eis', 'eisler', 'electric', 'electrical', 'electronic', 'electronics', 'elektro', 'element', 'elevation', 'elf', 'eliza', 'emacs', 'embarassingly', 'embedded', 'emf', 'emptive', 'empty', 'en', 'enea', 'energy', 'engine', 'engineering', 'english', 'eniac', 'enquire', 'enterprise', 'entertainment', 'environment', 'envisat', 'eo', 'epa', 'epic', 'epl', 'epoch', 'eprom', 'epsilon', 'epson', 'epub', 'equation', 'erd', 'erlang', 'eros', 'erp', 'ers', 'esri', 'essp', 'estle', 'eu', 'eval', 'evaluation', 'excel', 'execution', 'exfat', 'exidy', 'experts', 'explicit', 'express', 'exptime', 'ext', 'extended', 'extensibility', 'external', 'eye', 'eコマース', 'faa', 'factor', 'factorize', 'factors', 'failure', 'false', 'far', 'fark', 'fashioned', 'fat', 'fax', 'fcst', 'fd', 'fda', 'feasible', 'fedora', 'feistel', 'felica', 'fem', 'fetchmail', 'feye', 'ff', 'fft', 'fgmt', 'file', 'filemeister', 'filtermeister', 'finder', 'fine', 'fire', 'fireeye', 'firewire', 'firmware', 'fitness', 'flash', 'flex', 'flexible', 'flexray', 'flies', 'floss', 'flow', 'fold', 'folding', 'for', 'formal', 'formosat', 'forth', 'fortran', 'foundation', 'fpga', 'fps', 'fpu', 'frac', 'fractalus', 'framework', 'free', 'freebsd', 'freedesktop', 'freelibrary', 'freemat', 'from', 'frozen', 'frvt', 'fsb', 'fsm', 'fsml', 'ftp', 'fud', 'function', 'functional', 'functionally', 'future', 'fuzzy', 'fx', 'gads', 'game', 'gams', 'gan', 'garcia', 'gate', 'gaw', 'gcc', 'gcom', 'gcos', 'gdss', 'gear', 'gecos', 'geisser', 'gellish', 'gems', 'gene', 'general', 'generated', 'generic', 'geodetic', 'geographic', 'geometry', 'geosat', 'geospatial', 'geq', 'getprocaddress', 'gfdl', 'ghz', 'gif', 'gimp', 'girls', 'gis', 'git', 'github', 'gl', 'global', 'glocom', 'glory', 'gloss', 'glove', 'gmres', 'gnome', 'gnu', 'go', 'goals', 'godhead', 'goes', 'gofai', 'goo', 'good', 'goodai', 'google', 'goto', 'governmental', 'gpgpu', 'gpl', 'gplv', 'gps', 'gpt', 'gpu', 'grace', 'graind', 'grained', 'graphics', 'graphviz', 'graunt', 'great', 'green', 'grep', 'gretl', 'ground', 'group', 'gru', 'gsi', 'gui', 'guidelines', 'haas', 'hadron', 'hal', 'handset', 'hansen', 'hardware', 'harmful', 'hart', 'hartley', 'has', 'haskell', 'hat', 'hbase', 'hci', 'hd', 'hdl', 'health', 'healthcare', 'heilig', 'hell', 'help', 'hennesy', 'hepa', 'heterogeneous', 'heuristic', 'hfds', 'hfs', 'hidden', 'hids', 'hierarchical', 'high', 'highly', 'hips', 'history', 'hmd', 'hobbyists', 'hoeffding', 'hoffman', 'holidays', 'holsapple', 'home', 'homepna', 'horizon', 'hornet', 'hot', 'how', 'howard', 'hpfs', 'hsa', 'htc', 'htm', 'html', 'htn', 'http', 'httpd', 'https', 'hub', 'human', 'hurd', 'hxc', 'hyper', 'hyperfunction', 'hypertext', 'hättenschwiler', 'ia', 'iaas', 'iad', 'ibm', 'ic', 'icesat', 'icカード', 'id', 'ide', 'idl', 'idps', 'ids', 'idss', 'iec', 'ieee', 'ietf', 'if', 'ifp', 'ii', 'iii', 'ikonos', 'illiac', 'illusion', 'illustrator', 'ilog', 'im', 'image', 'imagenet', 'imagery', 'ime', 'immutable', 'implicit', 'improvement', 'ims', 'imsl', 'in', 'inc', 'ind', 'independent', 'indorum', 'industries', 'inference', 'inferential', 'info', 'informatics', 'information', 'infrastructure', 'infty', 'ingrid', 'initiative', 'institute', 'int', 'integrated', 'integration', 'intel', 'intelligence', 'interaction', 'interactive', 'interconnect', 'interface', 'interleaved', 'intermediate', 'internal', 'internet', 'interpreter', 'interpretive', 'intractable', 'intrusion', 'invariants', 'invented', 'inventory', 'invocation', 'invoke', 'ios', 'iot', 'ip', 'ipados', 'ipc', 'iphone', 'ipod', 'ips', 'ipアドレス', 'ir', 'irc', 'irda', 'irix', 'iron', 'is', 'isa', 'isbn', 'isdn', 'iseries', 'isn', 'iso', 'isp', 'it', 'itron', 'its', 'itu', 'iv', 'ixd', 'jacob', 'jags', 'japan', 'japanese', 'jar', 'java', 'javabeans', 'javascript', 'jcl', 'jfccnw', 'jfs', 'jgd', 'jis', 'jit', 'jml', 'job', 'john', 'joint', 'journal', 'jp', 'jpca', 'jpeg', 'jpgis', 'jsgi', 'jtc', 'jubatus', 'jun', 'jw', 'kalpana', 'kaner', 'katz', 'kdd', 'kde', 'khronos', 'kiban', 'kimball', 'kindi', 'kindle', 'kit', 'kl', 'km', 'kms', 'kn', 'knime', 'know', 'knowledge', 'kpca', 'kr', 'kubernetes', 'kバイト', 'la', 'laboratory', 'labs', 'lambda', 'lamp', 'lan', 'land', 'langle', 'language', 'large', 'largest', 'layer', 'ld', 'le', 'lead', 'leak', 'learn', 'learning', 'leave', 'lee', 'left', 'legall', 'lempel', 'leq', 'letter', 'levenson', 'levin', 'lex', 'lexical', 'lgpl', 'lgplv', 'lgt', 'lib', 'libexec', 'libfoo', 'library', 'libre', 'libtool', 'license', 'lidar', 'life', 'lightwave', 'like', 'limbo', 'lin', 'line', 'linear', 'linguistics', 'link', 'linking', 'links', 'linux', 'lionsolver', 'lisp', 'lite', 'little', 'llvm', 'loader', 'loading', 'loadlibrary', 'local', 'lock', 'log', 'logic', 'loocv', 'loop', 'loss', 'lpar', 'lpl', 'lsi', 'lu', 'lua', 'lx', 'lynxos', 'lzw', 'mac', 'mach', 'machine', 'machinery', 'macintosh', 'macos', 'macsyma', 'mad', 'mahout', 'mail', 'main', 'maintenance', 'make', 'mall', 'man', 'managed', 'management', 'mann', 'manufacturability', 'map', 'mapinfo', 'maple', 'maps', 'marin', 'markov', 'markup', 'mathbb', 'mathbf', 'mathematica', 'mathematical', 'mathematics', 'mathml', 'matlab', 'maven', 'max', 'maya', 'maze', 'mbitram', 'mcconnell', 'mci', 'mcmll', 'mdp', 'me', 'mead', 'measure', 'media', 'mediawiki', 'medical', 'mega', 'megvii', 'memex', 'memory', 'mental', 'mesi', 'message', 'meta', 'metal', 'metar', 'method', 'methods', 'metop', 'metrics', 'metropolitan', 'mf', 'mfs', 'mhz', 'michael', 'michigan', 'microsoft', 'microsystems', 'middle', 'middleware', 'midi', 'miller', 'million', 'mimd', 'min', 'minecraft', 'miniaturized', 'minimization', 'mining', 'minitel', 'minorsky', 'mips', 'mis', 'misd', 'missing', 'mission', 'mit', 'mitchell', 'mitrion', 'mixed', 'mixedsignal', 'ml', 'mlpy', 'mm', 'mmorpg', 'mmp', 'mms', 'mmu', 'moba', 'mobile', 'model', 'modeling', 'modes', 'modula', 'moistmedia', 'molectronics', 'molina', 'mono', 'monte', 'moran', 'morpg', 'morse', 'morton', 'mosaic', 'mosfet', 'motion', 'mounting', 'movement', 'movie', 'mozilla', 'mp', 'mpeg', 'mpi', 'mpl', 'mpp', 'mr', 'ms', 'mse', 'msi', 'msn', 'msp', 'mt', 'mtbf', 'mts', 'mtsat', 'multi', 'multics', 'multidimensional', 'multilayered', 'multinet', 'mutable', 'mvs', 'mvt', 'my', 'mycin', 'mysql', 'na', 'nag', 'nasa', 'nasir', 'nato', 'natural', 'nba', 'nc', 'ncsa', 'neat', 'nec', 'net', 'netbsd', 'netflix', 'netlib', 'netlist', 'network', 'networking', 'networks', 'new', 'newell', 'nexrad', 'next', 'nextstep', 'nfc', 'nhk', 'nic', 'nicht', 'nids', 'nielsen', 'nintendo', 'nips', 'nist', 'nkvd', 'nlp', 'nm', 'nmath', 'nmp', 'nnaisense', 'no', 'noaa', 'non', 'not', 'novell', 'np', 'npoess', 'npp', 'nppa', 'ns', 'nscripter', 'nt', 'ntfs', 'ntp', 'ntt', 'numa', 'numeric', 'numerical', 'numero', 'numpy', 'nursing', 'nvidia', 'oasys', 'oberon', 'object', 'objectbroker', 'objective', 'objects', 'observed', 'occam', 'ocl', 'ocmp', 'oco', 'ocr', 'octave', 'oculus', 'odm', 'odss', 'oecd', 'oem', 'of', 'off', 'ogc', 'ohp', 'oi', 'oil', 'oki', 'olap', 'old', 'olion', 'oliva', 'on', 'one', 'only', 'ontology', 'ooda', 'oop', 'op', 'open', 'opencl', 'opencog', 'opencv', 'opengl', 'openjdk', 'openmp', 'openoffice', 'opensolaris', 'opensource', 'openstep', 'operating', 'operational', 'operations', 'opl', 'opteron', 'optimal', 'optimization', 'optimj', 'or', 'oracle', 'orange', 'org', 'organization', 'ors', 'os', 'ose', 'osi', 'oss', 'ostm', 'out', 'output', 'over', 'overflow', 'owl', 'oxo', 'pa', 'pacific', 'paint', 'paintbox', 'painter', 'pan', 'paradigm', 'parallel', 'parallelism', 'parasol', 'part', 'pascal', 'passing', 'paul', 'pbasic', 'pbr', 'pc', 'pcap', 'pcb', 'pci', 'pda', 'pddl', 'pdf', 'pdo', 'pe', 'peer', 'pentium', 'per', 'peripheral', 'perl', 'personal', 'pettersen', 'pezy', 'phil', 'phoenix', 'phone', 'photo', 'photographic', 'photography', 'photoshop', 'photoshopping', 'php', 'physics', 'pi', 'pic', 'pict', 'pictures', 'pid', 'piece', 'pirep', 'pj', 'pkdd', 'pl', 'planning', 'platform', 'playogg', 'playstation', 'pll', 'plus', 'pmi', 'png', 'policy', 'pomdp', 'pong', 'porta', 'portable', 'poser', 'posix', 'postscript', 'poulter', 'pov', 'power', 'powerpc', 'powervm', 'pp', 'ppar', 'pr', 'pre', 'precalculus', 'precision', 'pree', 'preparation', 'presence', 'pressure', 'pretty', 'prev', 'prevention', 'primary', 'prime', 'print', 'prism', 'private', 'prize', 'prmf', 'pro', 'probabilistic', 'probability', 'procedure', 'process', 'processes', 'processing', 'processor', 'prodigy', 'product', 'production', 'products', 'profit', 'program', 'programing', 'programming', 'programs', 'progressions', 'project', 'proliferation', 'prolog', 'promis', 'proposal', 'protection', 'protocol', 'provide', 'pspace', 'pspp', 'psychology', 'ptrue', 'public', 'publishing', 'pwb', 'px', 'pygmalion', 'python', 'qfp', 'qgis', 'qnx', 'qos', 'qr', 'quadcept', 'quake', 'quality', 'quantel', 'questia', 'question', 'quikscat', 'quotes', 'qvt', 'qx', 'rabin', 'rad', 'radarsat', 'rae', 'rails', 'raise', 'ram', 'ramo', 'random', 'randomized', 'rangle', 'rapid', 'rapidminer', 'raspberry', 'rate', 'ray', 'rc', 'rca', 'rcws', 'rdf', 'read', 'reader', 'real', 'reality', 'realive', 'recall', 'recipes', 'red', 'redbook', 'reddit', 'reduction', 'redundancy', 'regulator', 'reilly', 'reinforcement', 'reiserfs', 'release', 'reliability', 'remote', 'remoting', 'render', 'rendering', 'renderman', 'rene', 'reo', 'repl', 'report', 'repository', 'representation', 'reps', 'requirements', 'rescue', 'research', 'resource', 'retouch', 'retoucher', 'retouching', 'return', 'review', 'revolution', 'reward', 'rexx', 'reynolds', 'rf', 'rfc', 'riccati', 'rift', 'right', 'risc', 'rmi', 'rmse', 'rn', 'rnn', 'robert', 'robot', 'roff', 'rofor', 'rom', 'roslyn', 'router', 'rp', 'rpc', 'rpg', 'rsa', 'rt', 'rts', 'ru', 'ruby', 'rule', 'rupo', 'rust', 'rwm', 'sa', 'saas', 'sage', 'sagemath', 'sangiovanni', 'sarsa', 'sas', 'sassone', 'sc', 'scale', 'scan', 'scea', 'scheduling', 'schema', 'scheme', 'school', 'schultz', 'science', 'scientific', 'scikit', 'scilab', 'scipy', 'scitex', 'scm', 'sco', 'scoop', 'scr', 'sdk', 'sdram', 'search', 'seawifs', 'security', 'sed', 'sega', 'sem', 'semantic', 'semantics', 'semiconductor', 'sensorama', 'seo', 'sequential', 'sequoia', 'server', 'service', 'set', 'seti', 'seymour', 'sf', 'sfx', 'sgi', 'sgml', 'sh', 'shannon', 'shape', 'shared', 'ship', 'shogun', 'shop', 'shrdlu', 'si', 'side', 'siggraph', 'sigma', 'sigmet', 'signal', 'silicon', 'sim', 'simd', 'simplex', 'simulated', 'sip', 'sirius', 'sisal', 'sisd', 'sketch', 'skymed', 'skype', 'slack', 'sliced', 'slotnick', 'slt', 'sm', 'small', 'smalltalk', 'smap', 'smd', 'smos', 'smp', 'sms', 'smt', 'smtp', 'sna', 'snobol', 'snort', 'so', 'soc', 'sodar', 'softimage', 'software', 'soi', 'solid', 'solution', 'solver', 'som', 'someone', 'sony', 'sop', 'sor', 'sorce', 'sos', 'source', 'sourceforge', 'sources', 'space', 'spacewire', 'sparc', 'spare', 'spasim', 'speci', 'specific', 'spectacles', 'spectral', 'spectrum', 'speed', 'sph', 'sphere', 'spice', 'spike', 'spn', 'spot', 'sprague', 'spss', 'sql', 'sqrt', 'squirrel', 'sram', 'sse', 'ssh', 'ssi', 'ssl', 'st', 'staatenkunde', 'stack', 'standard', 'standards', 'star', 'starttls', 'state', 'statement', 'statements', 'statistics', 'statisticum', 'statistik', 'steamvr', 'stegun', 'sterling', 'steve', 'storage', 'stretch', 'strips', 'structure', 'structured', 'stuart', 'studio', 'subroutines', 'subset', 'subversion', 'sugarcrm', 'suica', 'suite', 'sum', 'summa', 'sun', 'sunos', 'super', 'supervised', 'suphx', 'support', 'surface', 'swift', 'switch', 'sword', 'sxd', 'sybase', 'symbian', 'synapse', 'synergistic', 'synop', 'syntax', 'system', 'systems', 'tabatabai', 'taf', 'tagged', 'tailoring', 'take', 'tao', 'tau', 'tc', 'tco', 'tcp', 'tcsec', 'td', 'tdd', 'tech', 'technical', 'technology', 'technovation', 'telecom', 'telegraph', 'teleimmersion', 'telephone', 'telepresence', 'telesis', 'telexistence', 'temperature', 'temporal', 'tenpuchizu', 'terminal', 'terp', 'terrasar', 'terry', 'testing', 'tex', 'text', 'the', 'theorem', 'theory', 'theos', 'theproject', 'therac', 'theta', 'they', 'things', 'thinking', 'this', 'thomas', 'thomson', 'thorpe', 'threading', 'time', 'times', 'timi', 'tin', 'tiros', 'tivo', 'tivoization', 'tk', 'tlb', 'tls', 'tm', 'to', 'todo', 'toolbox', 'tools', 'top', 'topex', 'toppers', 'torii', 'touradj', 'tournament', 'tpca', 'tr', 'training', 'transfer', 'transmission', 'tree', 'trend', 'trithemius', 'trmm', 'tron', 'true', 'truespace', 'trusted', 'tube', 'type', 'typescript', 'uars', 'uart', 'uber', 'ubiquitous', 'ubuntu', 'ucav', 'ufs', 'ui', 'uk', 'ulpa', 'ulsi', 'ultra', 'ultrasparc', 'uma', 'umd', 'uml', 'undergraduate', 'understanding', 'uniform', 'unity', 'univac', 'universal', 'unix', 'unreal', 'unrealscript', 'unsupervised', 'uppaal', 'uri', 'url', 'usaid', 'usb', 'usenet', 'usr', 'utility', 'vaa', 'vae', 'validation', 'valve', 'vanguard', 'variables', 'vbc', 'vdm', 'verification', 'verilog', 'vertical', 'very', 'vfs', 'vfx', 'vga', 'vhd', 'vhdl', 'vicarious', 'video', 'viewer', 'vincentelli', 'virtual', 'virtuality', 'vision', 'vista', 'visual', 'visualization', 'visualize', 'vive', 'vlan', 'vliw', 'vlsi', 'vm', 'vms', 'vmt', 'vmware', 'voices', 'voip', 'vol', 'volcano', 'volmet', 'vos', 'vp', 'vpl', 'vpro', 'vq', 'vr', 'vrml', 'vrrp', 'vs', 'vse', 'vss', 'vth', 'vxworks', 'wafer', 'wait', 'wan', 'war', 'warfare', 'warranty', 'wars', 'wassily', 'watcom', 'wave', 'wavenet', 'way', 'waymo', 'wd', 'we', 'weaving', 'web', 'webgis', 'webサイト', 'webサービス', 'webページ', 'weka', 'welch', 'wgs', 'what', 'whatwg', 'whinston', 'why', 'wide', 'wikipedia', 'wikt', 'william', 'windows', 'winny', 'winskel', 'winsxs', 'wiscy', 'with', 'withdraw', 'withdrawal', 'wms', 'wolf', 'word', 'world', 'worldwide', 'worldwideweb', 'worm', 'wpan', 'write', 'writer', 'wsi', 'www', 'wysiwyg', 'würfelt', 'x1', 'xamarin', 'xen', 'xeon', 'xfce', 'xfs', 'xgboost', 'xhtml', 'xi', 'xk', 'xml', 'xp', 'xsi', 'xsp', 'x線写真', 'yahoo', 'yan', 'yarv', 'ybc', 'year', 'yearling', 'yet', 'yield', 'yis', 'youtube', 'zetta', 'zfs', 'zgate', 'zip', 'ziv', 'zog', 'あいまい', 'あがる', 'あくまで', 'あげる', 'あたかも', 'あたり', 'あたりまえ', 'あたる', 'あつかう', 'あてはめる', 'あてる', 'あと', 'あぶり出す', 'あまり', 'あらかじめ', 'あらゆる', 'あらわす', 'あらわれる', 'あり', 'ある', 'あるいは', 'あん', 'いい', 'いいえ', 'いう', 'いえる', 'いかに', 'いかん', 'いく', 'いくつ', 'いくら', 'いける', 'いし', 'いじり', 'いずれ', 'いたずら', 'いたる', 'いちばん', 'いったん', 'いっぺん', 'いつ', 'いでる', 'いる', 'いろいろ', 'いわば', 'うえ', 'うけい', 'うち', 'うつろう', 'うまい', 'うり', 'える', 'えん', 'おおよそ', 'おかげ', 'おき', 'おきる', 'おく', 'おこなう', 'おさえる', 'おしゃべり', 'おそらく', 'おそれ', 'おとり', 'おもに', 'およそ', 'および', 'お店', 'お金', 'かい', 'かいせき', 'かいろ', 'かえって', 'かかる', 'かかわり', 'かかわる', 'かがく', 'かくり', 'かける', 'かけ合わせる', 'かげん', 'かさむ', 'かた', 'かたち', 'かたまる', 'かつ', 'かつて', 'かな', 'かなう', 'かなり', 'から', 'からくり', 'からむ', 'かわいい', 'かわる', 'かんきょう', 'か月', 'がく', 'がくしゅう', 'が行', 'きかい', 'きく', 'きげん', 'きっかけ', 'きばる', 'きゅう', 'きょう', 'きょうか', 'きょうする', 'きれい', 'きわめて', 'ぎょう', 'くみこむ', 'くらべる', 'くる', 'くん', 'けい', 'けいかく', 'けいさん', 'けいし', 'けいしき', 'けっこう', 'けってい', 'けん', 'けんさく', 'けんしょう', 'げん', 'げんじつ', 'こう', 'こうがく', 'こうさ', 'こうじょう', 'こうち', 'ここ', 'こちら', 'こと', 'ことさら', 'この頃', 'こもる', 'これ', 'ころ', 'ごう', 'ごうかい', 'ごうり', 'ごく', 'ごと', 'ごろ', 'さいてき', 'さかのぼる', 'さかのぼれる', 'さかん', 'さく', 'さす', 'さまざま', 'さらす', 'さらに', 'さん', 'さんしょ', 'さんすう', 'しおり', 'しかし', 'しかも', 'しくみ', 'しぜん', 'したがう', 'しっかり', 'しと', 'しのぐ', 'しばしば', 'しばらく', 'しゃかい', 'しゃしん', 'しゅ', 'しゅう', 'しゅうへん', 'しゅっ', 'しょ', 'しれる', 'しんにゅう', 'じい', 'じどう', 'じょう', 'じょうほう', 'じん', 'すう', 'すえる', 'すぎる', 'すぐ', 'すっかり', 'すでに', 'すなわち', 'すべて', 'する', 'ずっと', 'ずらす', 'ずれる', 'せい', 'せいかん', 'せいぎょ', 'せいぜい', 'せいり', 'せがれ', 'せき', 'せめて', 'せんそう', 'そう', 'そうち', 'そこ', 'そして', 'そちら', 'そちら側', 'その', 'その後', 'そもそも', 'それ', 'それぞれ', 'それる', 'そろう', 'そろばん', 'そんな', 'たいして', 'たいてい', 'たく', 'たくさん', 'ただ', 'ただし', 'たち', 'たちまち', 'たった', 'たっぷり', 'たつ', 'たとえ', 'たとえば', 'たとえる', 'たどり着く', 'たどる', 'たび', 'たびたび', 'たまたま', 'ため', 'ため息', 'たよる', 'だいたい', 'だす', 'だます', 'ちかい', 'ちなみ', 'ちゃんと', 'ちょうど', 'ちょっと', 'ちり', 'ついに', 'つうしん', 'つかう', 'つき', 'つきまとう', 'つきもの', 'つく', 'つくづく', 'つくる', 'つける', 'つながり', 'つながる', 'つなぎ合わせる', 'つなげる', 'つまり', 'つむ', 'つれる', 'てき', 'てれび', 'てんで', 'できあがる', 'できごと', 'できる', 'できるだけ', 'でる', 'でん', 'とう', 'とおり', 'とき', 'とくに', 'ところ', 'とても', 'とどまる', 'とびとび', 'とも', 'ともす', 'ともなう', 'とよむ', 'とらえる', 'とりあえず', 'とりひき', 'とりまとめる', 'とりわけ', 'とる', 'とれる', 'どう', 'どおり', 'どこ', 'どちら', 'ども', 'どれ', 'どんどん', 'どんな', 'ない', 'ないし', 'なお', 'なおかつ', 'なか', 'なかなか', 'なくす', 'なくなる', 'なし', 'なじみ', 'なす', 'なぜ', 'なま', 'ならび', 'なり', 'なりすます', 'なる', 'なるべく', 'なん', 'にわか', 'ねらう', 'のち', 'のび太', 'のぼる', 'はい', 'はかる', 'はがき', 'はしり', 'はじめ', 'はじめて', 'はじめる', 'はず', 'はっきり', 'はつ', 'はまる', 'はみ出す', 'はめ込む', 'はやぶさ', 'はらむ', 'はるか', 'はん', 'はんだ', 'ばらばら', 'ばー', 'ぱん', 'ひきおこす', 'ひたすら', 'ひと', 'ひとまとまり', 'ひとまとめ', 'ひどい', 'ひび', 'ひまわり', 'ひょう', 'ひょうきん', 'ひょうげる', 'ひんしつ', 'ふく', 'ふくざつ', 'ふさわしい', 'ふた', 'ふだん', 'ふつう', 'ふまえる', 'ふるまい', 'ぶつ', 'ぶつり', 'ぶん', 'へい', 'へこたれる', 'へん', 'ほう', 'ほうがく', 'ほか', 'ほとんど', 'ほどほど', 'ほぼ', 'ぼうし', 'ぼやける', 'まさしく', 'まさに', 'まじり', 'ますます', 'まず', 'まずい', 'また', 'またぐ', 'まだ', 'まったく', 'まつ', 'まつわる', 'まとまる', 'まとめる', 'まとも', 'まま', 'まるで', 'まれ', 'まわり', 'みえる', 'みせる', 'みどり', 'みなす', 'みなせる', 'みる', 'みんな', 'むしろ', 'むずかしい', 'めぐる', 'めっき', 'めまい', 'もう', 'もし', 'もしくは', 'もたらす', 'もち', 'もちいる', 'もちろん', 'もっと', 'もっとも', 'もっぱら', 'もつ', 'もと', 'もとづく', 'もともと', 'もとより', 'もの', 'もはや', 'ももいろ', 'やがて', 'やや', 'やりくり', 'やりとり', 'やり取り', 'やり方', 'やり直す', 'やる', 'ゆえ', 'ゆっくり', 'よい', 'よう', 'ようやく', 'よく', 'よそ', 'よぶ', 'より', 'よる', 'らん', 'りょう', 'るつぼ', 'れつ', 'ろん', 'わかる', 'わけ', 'わざと', 'わずか', 'わたる', 'わり', 'われわれ', 'アイ', 'アイアン', 'アイコン', 'アイジー', 'アイス', 'アイスラー', 'アイティー', 'アイテム', 'アイデア', 'アイドル', 'アイバン', 'アインシュタイン', 'アウト', 'アクエリアス', 'アクション', 'アクションプログラム', 'アクセサリ', 'アクセサリー', 'アクセシビリティ', 'アクセス', 'アクセスポイント', 'アクセス手段', 'アクセス方法', 'アクセス時間', 'アクセラレーション', 'アクセラレータ', 'アクター', 'アクティ', 'アクティブ', 'アジア', 'アジャイル', 'アジャイルソフトウェア', 'アスキー', 'アスペン', 'アセスメント', 'アセンブラ', 'アセンブリ', 'アセンブル', 'アタリ', 'アダプタ', 'アダプター', 'アダマール', 'アダム', 'アッシー', 'アップ', 'アップグレード', 'アップデート', 'アップル', 'アッヘンヴァル', 'アディティブ', 'アデラード', 'アドウェア', 'アドナン', 'アドバンテージ', 'アドビ', 'アドビシステムズ', 'アドルフ', 'アドレス', 'アドレスバス', 'アナグラム', 'アナリスト', 'アナリティクス', 'アナログ', 'アナログ計算機', 'アニマトロニクス', 'アニミズム', 'アニメ', 'アニメーション', 'アニメータ', 'アニメーター', 'アニーリング', 'アノマリベース', 'アバカス', 'アビオニクス', 'アピアランス', 'アフォーダンス', 'アフター', 'アフリカ', 'アブラモビッツ', 'アブラーム', 'アプリ', 'アプリケーション', 'アプリケーションサーバ', 'アプリケーションソフト', 'アプリケーションソフトウェア', 'アプリケーションデプロイメント', 'アプリケーションプログラム', 'アプレット', 'アプローチ', 'アポロ', 'アポン', 'アマチュア', 'アマン', 'アムダール', 'アメダス', 'アメリカ', 'アメリカン', 'アメリカ人', 'アメリカ合衆国', 'アメリカ国防総省', 'アメリカ軍', 'アライアンス', 'アラビア数字', 'アラン', 'アラート', 'アリ', 'アリアドネ', 'アリストテレス', 'アル', 'アルキメデス', 'アルコール', 'アルゴリズム', 'アルゴリトミ', 'アルトー', 'アルバム', 'アルファ', 'アルファベット', 'アルフレッド', 'アルベルティ', 'アルミ', 'アルミニウム', 'アレイ', 'アレニウス', 'アレルギー', 'アレン', 'アレンジ', 'アロンゾ', 'アングル', 'アンケート', 'アンソニー', 'アンダー', 'アンチ', 'アンツ', 'アントナン', 'アントニー', 'アンド', 'アンドリーセン', 'アンドレイ', 'アンビエント', 'アンペール', 'アンリ', 'アンロック', 'アンロード', 'アーカイバ', 'アーカイブ', 'アーキテクチャ', 'アーキテクト', 'アーケード', 'アーサー', 'アーティスト', 'アーティファクト', 'アーティフィシャル', 'アート', 'アーパネット', 'アーマー', 'アーム', 'アーン', 'イアン', 'イェジ', 'イオン', 'イギリス', 'イスラエル', 'イタリア', 'イタリア人', 'イタリア語', 'イディオム', 'イニシアティブ', 'イヌワシ', 'イノベーション', 'イビデン', 'イブレア', 'イベント', 'イメージ', 'イメージベースドレンダリング', 'イラク', 'イラスト', 'イラストレーション', 'イラストレータ', 'イリノイ大学', 'インク', 'インクジェット', 'インクレディブル', 'インゴット', 'インサイダー', 'インシデント', 'インスタンス', 'インスタント', 'インスツルメンツ', 'インスティテュート', 'インストール', 'インスペクション', 'インタビュー', 'インタフェース', 'インタプリタ', 'インタラクション', 'インタラクティブ', 'インター', 'インターコネクト', 'インターネット', 'インターフェイス', 'インターフェース', 'インタープリタ', 'インタープリター', 'インダストリアルデザイン', 'インテグリティ', 'インテグレーション', 'インテリジェンス', 'インテリジェント', 'インテル', 'インディーズ', 'インデックス', 'イントラクタブル', 'イントラネット', 'インド', 'インドルム', 'インピーダンス', 'インフォ', 'インフォマティクス', 'インフラ', 'インフラストラクチャー', 'インフルエンサー', 'インベーダー', 'インポート', 'インマルサット', 'インライン', 'イーコマース', 'イーサネット', 'イーゼル', 'イートレード', 'イールド', 'イーロン', 'ウィキ', 'ウィキペディア', 'ウィキリークス', 'ウィジェット', 'ウィズィン', 'ウィトゲンシュタイン', 'ウィラード', 'ウィリアム', 'ウィリアムス', 'ウィルス', 'ウィルソン', 'ウィンダス', 'ウィンドウ', 'ウィーナー', 'ウイグル', 'ウイルス', 'ウイルス性', 'ウイングス', 'ウェア', 'ウェアハウス', 'ウェアラブル', 'ウェイト', 'ウェスティングハウス', 'ウェハー', 'ウェブ', 'ウェブアプリケーション', 'ウェブサイト', 'ウェブサーバ', 'ウェブサービス', 'ウェブブラウザ', 'ウェブページ', 'ウェルポーズドネス', 'ウェーブ', 'ウォズニアック', 'ウォッチ', 'ウォリス', 'ウォルター', 'ウォー', 'ウォーター', 'ウォーターフォール', 'ウォーリー', 'ウォール', 'ウォーレン', 'ウソ', 'ウッディ', 'ウラジーミル', 'エアクラフト', 'エアコン', 'エアブラシ', 'エイジ', 'エイダ', 'エイブラハム', 'エウクレイデス', 'エウドクソス', 'エキスパート', 'エキスパートシステム', 'エクストラネット', 'エクストリーム', 'エクスペリエンス', 'エクリチュール', 'エコノミスト', 'エコロジー', 'エゴン', 'エジプト', 'エジョフ', 'エスタブリッシュメント', 'エストル', 'エスパー', 'エッジ', 'エッセイ', 'エッチング', 'エディタ', 'エドガー', 'エドモンド', 'エドワード', 'エナジー', 'エナメル', 'エニグマ', 'エネルギー', 'エピソード', 'エフェクト', 'エブリシング', 'エマニュエル', 'エミュレーション', 'エミュレータ', 'エミュレート', 'エラー', 'エラーメッセージ', 'エリア', 'エリアマーケティング', 'エリクソン', 'エリック', 'エルゴード', 'エルミート', 'エルンスト', 'エレクトリック', 'エレクトロニクス', 'エレクトロニック', 'エレメント', 'エンカウンター', 'エンクワイア', 'エンゲル', 'エンゲルバート', 'エンゲル係数', 'エンコーダ', 'エンコーダー', 'エンコード', 'エンジニア', 'エンジニアリング', 'エンジン', 'エンタテインメント', 'エンタープライズ', 'エンティティ', 'エントリ', 'エントロピー', 'エンド', 'エンドユーザー', 'エーアイ', 'エージェント', 'オアシス', 'オイラー', 'オオワシ', 'オシポフ', 'オズボーン', 'オセロ', 'オタワ', 'オックスフォード大学', 'オデッセイ', 'オバマ', 'オフ', 'オフィス', 'オフィスコンピュータ', 'オフセット', 'オフライン', 'オブ', 'オブジェクト', 'オプション', 'オヘア', 'オペアンプ', 'オペランド', 'オペレーショナル', 'オペレーション', 'オペレーションズ', 'オペレーションズリサーチ', 'オペレーティングシステム', 'オライリー', 'オリジナル', 'オルソ', 'オレ', 'オン', 'オンスクリーン', 'オンタリオ州', 'オンダイ', 'オンデマンド', 'オントロジー', 'オンライン', 'オンラインゲーム', 'オンリー', 'オー', 'オーエス', 'オークション', 'オーグメンテッド', 'オーケストレーション', 'オーストリア', 'オーダー', 'オーディオ', 'オート', 'オートチェンジャ', 'オートマタ', 'オートマトン', 'オートメーション', 'オートローダ', 'オーバードライブ', 'オーバーフロー', 'オーバーヘッド', 'オーバーライド', 'オーバーラップ', 'オーバーロード', 'オープニング', 'オープン', 'オープンシステム', 'オープンソース', 'オープンソースソフトウェア', 'オープンソースライセンス', 'オーラ', 'オール', 'オールインワン', 'オールドメン', 'カイリュー', 'カウンセラー', 'カウンタ', 'カウント', 'カオス', 'カスタマイズ', 'カスタム', 'カスパロフ', 'カセットテープ', 'カタカナ', 'カタマリ', 'カタログ', 'カット', 'カテゴリ', 'カテゴリー', 'カテドラル', 'カナダ', 'カナディアン', 'カノニカル', 'カバー', 'カビ', 'カプセル', 'カメラ', 'カモフラージュ', 'カラニック', 'カラー', 'カリキュラム', 'カリビアン', 'カリフォルニア大学', 'カリフォルニア州', 'カルタン', 'カルダーノ', 'カルチャー', 'カルテ', 'カルバック', 'カルフーン', 'カルメラウアー', 'カレッジ', 'カレントディレクトリ', 'カン', 'カントロヴィチ', 'カントロヴィッチ', 'カントール', 'カンバス', 'カヴァリエリ', 'カーク', 'カーズ', 'カーツ', 'カートリッジ', 'カード', 'カード読み取り機', 'カーナビ', 'カーニハン', 'カーネギー', 'カーネギーメロン大学', 'カーネル', 'カーバー', 'カーブ', 'カーマーカー', 'カール', 'カ国', 'カ年', 'カ月', 'ガイド', 'ガイドライン', 'ガウス', 'ガザ', 'ガトリング砲', 'ガバナンス', 'ガラリ', 'ガリウム', 'ガルリ', 'ガーディアム', 'ガード', 'ガーバー', 'ガーミン', 'キッズ', 'キット', 'キディ', 'キメ', 'キャッシュ', 'キャッシュコヒーレンシシステム', 'キャッシュミス', 'キャップ', 'キャプチャ', 'キャメル', 'キャラクタ', 'キャラクター', 'キャリア', 'キャリア形成', 'キャリー', 'キャンセル', 'キャンパス', 'キャンプ', 'キャンペーン', 'キヤノワード', 'キュア', 'キューブ', 'キルビー', 'キロバイト', 'キンディ', 'キー', 'キーフレーミング', 'キーフレーム', 'キーフレームアニメーション', 'キーボード', 'キーワード', 'ギガ', 'ギガビット', 'ギブス', 'ギャップ', 'ギャモン', 'ギャラリー', 'ギャル', 'ギャング', 'ギャンブル', 'クイズ', 'クイック', 'クエスト', 'クエリ', 'クヌース', 'クライアント', 'クライアントサーバ', 'クライド', 'クラウド', 'クラウドコンピューティング', 'クラウドファンディング', 'クラス', 'クラスタ', 'クラスタリング', 'クラスター', 'クラッカー', 'クラッシュ', 'クランプトン', 'クリア', 'クリアランス', 'クリアリングハウス', 'クリエイティブ', 'クリスタル', 'クリスティ', 'クリスマス', 'クリック', 'クリップ', 'クリティカル', 'クリティカルパス', 'クリーネ', 'クリーン', 'クリーンルーム', 'クルト', 'クレイ', 'クレジット', 'クレジットカード', 'クロス', 'クロスバー', 'クロック', 'クロニクル', 'クロマキー', 'クロマニョン', 'クローズ', 'クローズド', 'クロード', 'クローバー', 'クローラ', 'クローン', 'クーリングオフ', 'グスタフソン', 'グライダー', 'グラス', 'グラビア', 'グラフ', 'グラフィカル', 'グラフィック', 'グラフィックス', 'グラフィックデザイン', 'グラント', 'グランドデザイン', 'グリッド', 'グリーン', 'グリーンプラ', 'グループ', 'グレアム', 'グレース', 'グレースケール', 'グレード', 'グローバル', 'グローブ', 'グーグル', 'グーテンベルク', 'ケア', 'ケイオス', 'ケトレー', 'ケプラー', 'ケルクホフス', 'ケンドール', 'ケース', 'ケースバイケース', 'ケーブル', 'ゲイツ', 'ゲオルク', 'ゲスト', 'ゲストos', 'ゲルマニウム', 'ゲンギス', 'ゲーツ', 'ゲーデル', 'ゲート', 'ゲートウェイ', 'ゲーミフィケーション', 'ゲーム', 'ゲームセンター', 'ゲームソフト', 'ゲーム化', 'コア', 'コアダンプ', 'コアメモリ', 'コアロープメモリ', 'コアーション', 'コイン', 'コグニティブ', 'コサイン', 'コスト', 'コストダウン', 'コストパフォーマンス', 'コスト低減', 'コスト削減', 'コック', 'コッド', 'コデザイン', 'コネクショニズム', 'コネクション', 'コネクタ', 'コピー', 'コピーライト', 'コプロセス', 'コプロセッサ', 'コベリティ', 'コマンド', 'コマンドライン', 'コマーシャル', 'コミット', 'コミュニケーション', 'コミュニケーションズ', 'コミュニケーションツール', 'コミュニケート', 'コミュニティ', 'コメント', 'コモディティ', 'コモンズ', 'コラージュ', 'コリア', 'コルモゴロフ', 'コルーチン', 'コレクション', 'コレスキー', 'コロラド州', 'コンウェイ', 'コンサルタント', 'コンシューマー', 'コンセプト', 'コンソーシアム', 'コンソール', 'コンタクト', 'コンテ', 'コンテキスト', 'コンテスト', 'コンテナ', 'コンテンツ', 'コンテント', 'コンデンサ', 'コンデンサー', 'コントラスト', 'コントローラ', 'コントローラー', 'コントロール', 'コンバータ', 'コンバーター', 'コンバート', 'コンパイラ', 'コンパイラー', 'コンパイル', 'コンパクト', 'コンピュータ', 'コンピュータグラフィックス', 'コンピュータサイエンス', 'コンピュータシステム', 'コンピューター', 'コンピューターシステム', 'コンピューティング', 'コンフィデンシャル', 'コンポーネント', 'コンリング', 'コーシー', 'コース', 'コーツ', 'コーディング', 'コード', 'コーナー', 'コーネル大学', 'コーパス', 'コープスブライド', 'コール', 'ゴシック体', 'ゴセット', 'ゴットフリート', 'ゴム', 'ゴルゴ', 'ゴルトン', 'ゴーグル', 'ゴール', 'ゴールドスミス', 'サイエンス', 'サイエンティスト', 'サイエンティフィック', 'サイクル', 'サイコロ', 'サイズ', 'サイト', 'サイド', 'サイバネティックス', 'サイバー', 'サイバーシン', 'サイバースペース', 'サイファ', 'サイファー', 'サイフケータイ', 'サイレンス', 'サイン', 'サウンド', 'サザランド', 'サット', 'サブカテゴリ', 'サブクラス', 'サブシステム', 'サブセット', 'サブタスク', 'サブデータグループ', 'サブトラクティブ', 'サブネット', 'サブマリン', 'サブルーチン', 'サブロック', 'サプライ', 'サプライチェーン', 'サベージ', 'サポート', 'サミュエル', 'サムスン', 'サムソン', 'サメ', 'サン', 'サンガー', 'サングラス', 'サンダー', 'サンプリング', 'サンプル', 'サーキット', 'サージ', 'サード', 'サードパーティ', 'サードパーティー', 'サーバ', 'サーバー', 'サービス', 'サービス業', 'サーフィン', 'サーフェス', 'サーマル', 'サール', 'ザイデル', 'ザナドゥ', 'シアター', 'シェア', 'シェアリング', 'シェアード', 'シェル', 'シェーダ', 'シェーダーアーキテクチャ', 'シェーディング', 'シェープ', 'シェール', 'シカゴ', 'シグナチャ', 'シグナル', 'シグマ', 'シス', 'システマティック', 'システム', 'システムエンジニア', 'システムズ', 'システムソフトウェア', 'システムリソース', 'システム工学', 'シストリック', 'シッカート', 'シックス', 'シップ', 'シティ', 'シナジスティック', 'シナジー', 'シナリオ', 'シネマ', 'シフト', 'シミュレーション', 'シミュレーテッド', 'シミュレート', 'シモン', 'シャッタ', 'シャッター', 'シャナハン', 'シャノン', 'シャンプー', 'シャープ', 'シュタティシュティーク', 'シュルレアリスム', 'シュレック', 'シュヴァルツ', 'シューティング', 'シュート', 'シュールレアリスム', 'ショッピング', 'ショッピングモール', 'ショップ', 'ショートカットキー', 'ショートリッフェ', 'シヨウ', 'シリアス', 'シリコン', 'シリコンバレー', 'シリーズ', 'シンギュラリティ', 'シンク', 'シング', 'シングル', 'シングルサインオン', 'シングルス', 'シンシナティ', 'シンドローム', 'シンプソン', 'シンプル', 'シンプレックス', 'シンボル', 'シンボルグラウンディング', 'シーグラフ', 'シーケンシャル', 'シーケンス', 'シーサット', 'シーザー', 'シート', 'シード', 'シームレス', 'シーモア', 'シール', 'シーン', 'ジェイソン', 'ジェスチャー', 'ジェネリック', 'ジェネレータ', 'ジェパディ', 'ジェフ', 'ジェフリー', 'ジェラルド', 'ジェロラモ', 'ジオグラフィック', 'ジツ', 'ジャイロスコープ', 'ジャストシステム', 'ジャック', 'ジャパン', 'ジャロン', 'ジャンク', 'ジャンプ', 'ジャンル', 'ジャーゴン', 'ジャーナリスト', 'ジャーナリズム', 'ジャーナル', 'ジュラシック', 'ジュークボックス', 'ジュースミルヒ', 'ジョイ', 'ジョイスティック', 'ジョエル', 'ジョセフ', 'ジョブ', 'ジョン', 'ジョンソン', 'ジョーク', 'ジョージ', 'ジョーンズ', 'ジリアン', 'ジル', 'ジーン', 'スイッチ', 'スイッチング', 'スイッチングハブ', 'スイート', 'スウェーデン', 'スウォーム', 'スカラー', 'スキャナ', 'スキャナー', 'スキャニング', 'スキャン', 'スキル', 'スキーマ', 'スキーム', 'スクランブル', 'スクリプト', 'スクリーン', 'スケジューラ', 'スケジューリング', 'スケジュール', 'スケーラビリティ', 'スケーラブル', 'スケーリング', 'スコアボード', 'スコレー', 'スコープ', 'スタイル', 'スタジオ', 'スタック', 'スタッフ', 'スタティスティクス', 'スタティスティークム', 'スタティック', 'スタンドアロン', 'スタンドアローン', 'スタンフォード', 'スタンリイ', 'スター', 'スタート', 'スタートアップ', 'スターリン', 'スチュワート', 'スティーブ', 'スティーブン', 'スティーヴン', 'ステガノグラフィー', 'ステガン', 'ステッパー', 'ステップ', 'ステージ', 'ステータス', 'ステープルトン', 'ストア', 'ストアド', 'ストック', 'ストップモーション', 'ストラテジー', 'ストリート', 'ストリーミング', 'ストリーム', 'ストレス', 'ストレージ', 'ストークス', 'ストーリー', 'ストール', 'ストールマン', 'スナップショット', 'スノーデン', 'スパイ', 'スパイダー', 'スパイラル', 'スパッタリング', 'スパニング', 'スパム', 'スパムメール', 'スピーカー', 'スピード', 'スピードアップ', 'スフィア', 'スプライト', 'スプライン', 'スプレッドシート', 'スプール', 'スペア', 'スペクトラム', 'スペクトル', 'スペック', 'スペルミス', 'スペース', 'スポーツ', 'スマホ', 'スマート', 'スマートデバイス', 'スマートフォン', 'スミス', 'スムーズ', 'スライ', 'スライス', 'スライディング', 'スライド', 'スライブ', 'スラッシング', 'スリム', 'スリー', 'スリープ', 'スループット', 'スレッディング', 'スレッデッドコード', 'スレッド', 'スレッドスケジューラ', 'スレーブ', 'スロット', 'スローダウン', 'スロート', 'スワッピング', 'スワップ', 'スーザン', 'スーツ', 'スーパ', 'スーパー', 'スーパーコンピュータ', 'スーパースケーラ', 'スーパースケーラプロセッサ', 'ズーム', 'セガ', 'セガサターン', 'セガドリームキャスト', 'セキュア', 'セキュリティ', 'セキュリティホール', 'セキュリティー', 'セクション', 'セグメンテーション', 'セグメント', 'セッション', 'セット', 'セマフォ', 'セマンティック', 'セミ', 'セミアディティブ', 'セミコンダクター', 'セラミック', 'セリエ', 'セリエル', 'セル', 'セルアニメ', 'セルフ', 'センサ', 'センサス', 'センサー', 'センシティブ', 'センシング', 'センス', 'センター', 'セント', 'セーブ', 'セーン', 'ゼネラル', 'ゼネラルモーターズ', 'ゼミナール', 'ゼロ', 'ソケット', 'ソニー', 'ソビエト', 'ソフト', 'ソフトウェア', 'ソフトウェアデプロイメント', 'ソフトウェアトランザクショナルメモリ', 'ソフトウェアライフサイクルプロセス', 'ソフトウエア', 'ソボレフ', 'ソリッド', 'ソリッドステート', 'ソリッドモデル', 'ソリューション', 'ソンタグ', 'ソーシャル', 'ソーシャルゲーム', 'ソーシャルメディア', 'ソース', 'ソースコード', 'ソースプログラム', 'ソート', 'ゾルゲ', 'ゾンデ', 'ゾーン', 'タイタニック', 'タイトル', 'タイプ', 'タイプライター', 'タイマ', 'タイミング', 'タイム', 'タイムシェアリングシステム', 'タイムシェリング', 'タイムスリップ', 'タイル', 'タグ', 'タスク', 'タチ', 'タッチ', 'タッチペン', 'タップ', 'タバタバイ', 'タビュレーティングマシン', 'タブレット', 'タブー', 'タンデムコンピューターズ', 'タンパク質', 'タンパー', 'ターゲット', 'ターミナル', 'ターミネーター', 'ダイ', 'ダイアグラム', 'ダイエリア', 'ダイオード', 'ダイクストラ', 'ダイシング', 'ダイソン', 'ダイナミクス', 'ダイナミック', 'ダイレクト', 'ダウン', 'ダウンサイジング', 'ダウンロード', 'ダグラス', 'ダッシュボード', 'ダッソー', 'ダニエル', 'ダブ', 'ダブリュー', 'ダブル', 'ダマー', 'ダムナティオ', 'ダメージ', 'ダンツィク', 'ダンツィーグ', 'ダンフォード', 'ダーウィン', 'ダーク', 'ダートマス', 'チェス', 'チェスター', 'チェスト', 'チェック', 'チップ', 'チャイナ', 'チャイルド', 'チャット', 'チャネリング', 'チャネル', 'チャンネル', 'チャンピオン', 'チャーチ', 'チャート', 'チャールズ', 'チューニング', 'チューリング', 'チューリングマシン', 'チョムスキー', 'チリ', 'チーム', 'ツイスタ', 'ツヤ', 'ツヤ消し', 'ツリー', 'ツール', 'ツールセット', 'ティホノフ', 'ティム', 'ティーマン', 'テイラー', 'テイルズ', 'テキサス', 'テキスト', 'テキストエディタ', 'テキストファイル', 'テクスチャ', 'テクニカル', 'テクニック', 'テクノ', 'テクノロジスト', 'テクノロジー', 'テスコ', 'テスタ', 'テスター', 'テスト', 'テストデータ', 'テスト環境', 'テッド', 'テラ', 'テラバイト', 'テレイグジスタンス', 'テレイマージョン', 'テレグラフ', 'テレックス', 'テレビ', 'テレプレゼンス', 'テロ', 'テンション', 'テンセント', 'テンプレート', 'テーゼ', 'テーブル', 'テープ', 'テープライブラリ', 'テーマ', 'ディザスタリカバリ', 'ディジタル', 'ディジタル署名', 'ディスク', 'ディスクドライブ', 'ディストリビューション', 'ディスパッチ', 'ディスプレイ', 'ディファレンシャブル', 'ディペンダビリティ', 'ディペンダブル', 'ディラック', 'ディリクレ', 'ディレクトリ', 'ディープ', 'ディープラーニング', 'デイビッド', 'デイヴィ', 'デカルト', 'デグレード', 'デコード', 'デザイナー', 'デザイン', 'デザインパターン', 'デザインルール', 'デジ', 'デジタイズ', 'デジタル', 'デジタルカメラ', 'デジタルコンテンツ', 'デジタル家電', 'デスクトップ', 'デッド', 'デッドロック', 'デデキント', 'デネット', 'デバイス', 'デバイスドライバ', 'デバイスドライバー', 'デバッガ', 'デバッグ', 'デビュー', 'デビル', 'デファクトスタンダード', 'デフォルト', 'デプロイ', 'デプロイメント', 'デマ', 'デミス', 'デメリット', 'デモ', 'デモンストレーション', 'デュアル', 'デンバー', 'データ', 'データセット', 'データセンター', 'データソース', 'データバス', 'データベース', 'データモデル', 'データリンク', 'データー', 'データ分析', 'データ機器', 'デーデキント', 'トイ', 'トゥーン', 'トウィーニング', 'トス', 'トップ', 'トップクラス', 'トップダウン', 'トピック', 'トポロジー', 'トマスロ', 'トム', 'トムリンソン', 'トラッキング', 'トラック', 'トラップドア', 'トラビス', 'トラフィック', 'トラブル', 'トラブルシューティング', 'トランザクション', 'トランジスタ', 'トランスクルージョン', 'トランスポート', 'トランスレータ', 'トランプ', 'トリック', 'トリテミウス', 'トルケル', 'トレラント', 'トレンド', 'トレーシング', 'トレース', 'トレードオフ', 'トレーニング', 'トロツキー', 'トロン', 'トークン', 'トータル', 'トーバルズ', 'トーマス', 'ドイツ', 'ドイツ語', 'ドキュメンタリー', 'ドキュメント', 'ドグマ', 'ドナルド', 'ドネーション', 'ドメイン', 'ドラえもん', 'ドライバ', 'ドライブ', 'ドラゴン', 'ドラム', 'ドリブン', 'ドリル', 'ドル', 'ドレイン', 'ドレス', 'ドロップ', 'ドロー', 'ドローイング', 'ドローン', 'ドーパミン', 'ドープ', 'ドーム', 'ナイ', 'ナイキスト', 'ナイチンゲール', 'ナイトリー', 'ナイフ', 'ナイン', 'ナウア', 'ナショナル', 'ナチ', 'ナトリウム', 'ナノ秒', 'ナビゲーション', 'ナムコ', 'ナラティブ', 'ナレッジマネジメント', 'ナンセンス', 'ナヴィエ', 'ニクラウス', 'ニコイチ', 'ニコニコ動画', 'ニコライ', 'ニセ', 'ニセモノ', 'ニッポニカ', 'ニモ', 'ニュアンス', 'ニューギニア', 'ニュージーランド', 'ニュース', 'ニューズウィーク', 'ニュートン', 'ニューヨーク', 'ニューラ', 'ニューラル', 'ニューロ', 'ニューロン', 'ニンバス', 'ニーズ', 'ヌルポインタ', 'ヌーメロ', 'ネイティブ', 'ネイマン', 'ネガ', 'ネガフィルム', 'ネット', 'ネットスケープ', 'ネットフリックス', 'ネットブリントサービス', 'ネットワーキング', 'ネットワーク', 'ネットワーク機器', 'ネド', 'ネーム', 'ノイス', 'ノイズ', 'ノイマン', 'ノウハウ', 'ノブ', 'ノベル', 'ノミナル', 'ノルマンディー', 'ノルム', 'ノンパラメトリックモデル', 'ノンフォトリアリスティック', 'ノンブロッキング', 'ノーゲームスコア', 'ノーゴール', 'ノース', 'ノート', 'ノード', 'ノーベル賞', 'ノーラン', 'ハイテク', 'ハイパー', 'ハイパーテキスト', 'ハイパーバイザ', 'ハイパーメディア', 'ハイパーリンク', 'ハイフン', 'ハイブリッド', 'ハイレベル', 'ハウツー', 'ハサビス', 'ハザードマップ', 'ハジ', 'ハッカー', 'ハッキング', 'ハッシュ', 'ハッブル', 'ハニー', 'ハネウェル', 'ハフマン', 'ハブ', 'ハミルトン', 'ハリウッド', 'ハリー', 'ハレー', 'ハロウィーン', 'ハングアップ', 'ハンス', 'ハンディ', 'ハンドブック', 'ハンドラ', 'ハヴォック', 'ハーディ', 'ハート', 'ハートレイ', 'ハートレー', 'ハード', 'ハードウェア', 'ハードウエア', 'ハードディスク', 'ハードディスクドライブ', 'ハードル', 'ハーネス', 'ハーバード大学', 'ハーマン', 'バイアス', 'バイオ', 'バイオテクノロジー', 'バイオメトリクス', 'バイザ', 'バイト', 'バイトコード', 'バイナリ', 'バウンド', 'バグ', 'バグダード', 'バグトラッキングシステム', 'バザール', 'バス', 'バススヌーピング', 'バスタブ', 'バズワード', 'バッカス', 'バック', 'バックアップ', 'バックエンド', 'バックギャモン', 'バックグラウンド', 'バックドア', 'バックボーン', 'バッチ処理', 'バッテリー', 'バッファ', 'バトル', 'バビロニア', 'バブル', 'バベッジ', 'バラク', 'バラツキ', 'バランサ', 'バランス', 'バリア', 'バリエーション', 'バルブ', 'バレルプロセッシング', 'バロース', 'バンダイ', 'バンドル', 'バークレイ', 'バークレー', 'バージョン', 'バージョンアップ', 'バース', 'バーチャ', 'バーチャル', 'バーチャルラボ', 'バーチャルリアリティ', 'バートランド', 'バートン', 'バード', 'バーナーズ', 'バーモント', 'バーンイン', 'パイオニア', 'パイプ', 'パイプライン', 'パイレーツ', 'パイロット', 'パウル', 'パケット', 'パス', 'パスカル', 'パスワード', 'パズル', 'パソコン', 'パターソン', 'パターン', 'パッケージ', 'パッケージソフトウェア', 'パッシング', 'パッチ', 'パッド', 'パトリック', 'パネル', 'パノラマ', 'パパート', 'パビリオン', 'パフォーマンス', 'パブリック', 'パブリッシング', 'パラシュート', 'パラダイム', 'パラドックス', 'パラメトリック', 'パラメータ', 'パラレル', 'パリ', 'パリス', 'パレットナイフ', 'パロアルト', 'パワー', 'パンチカード', 'パンチカードシステム', 'パーキンソン', 'パーク', 'パーサ', 'パーセプトロン', 'パーソナル', 'パーソナルコンピュータ', 'パーツ', 'パーティ', 'パーティション', 'パーティー', 'パートリーアディティブ', 'パーナス', 'パーミッシブ', 'ヒエログリフ', 'ヒット', 'ヒト', 'ヒプノシス', 'ヒューズ', 'ヒューマン', 'ヒューリスティク', 'ヒューリスティック', 'ヒルベルト', 'ヒント', 'ヒントン', 'ヒート', 'ビクトリア', 'ビジネス', 'ビジネスモデル', 'ビジネスロジック', 'ビジュアライゼーション', 'ビジュアリゼーション', 'ビジョン', 'ビッグ', 'ビッグデータ', 'ビット', 'ビデオ', 'ビデオカメラ', 'ビデオゲーム', 'ビネガー', 'ビフェニル', 'ビュレッティン', 'ビュー', 'ビューアー', 'ビル', 'ビルド', 'ビン', 'ビンパッキング', 'ビープ', 'ピアソン', 'ピエール', 'ピクサー', 'ピクセル', 'ピコ', 'ピチャイ', 'ピックアップ', 'ピッチ', 'ピッツ', 'ピューリッツァー', 'ピラミッド', 'ピーク', 'ファイア', 'ファイアウォール', 'ファイター', 'ファイナル', 'ファイバー', 'ファイヤー', 'ファイル', 'ファイルシステム', 'ファインディング', 'ファクシミリ', 'ファクタ', 'ファジィ', 'ファストフード', 'ファックス', 'ファッション', 'ファット', 'ファミコン', 'ファミリー', 'ファランクス', 'ファン', 'ファンタジー', 'ファントム', 'ファーム', 'ファームウェア', 'フィクション', 'フィックス', 'フィッシャー', 'フィッティング', 'フィボナッチ', 'フィリング', 'フィル', 'フィルタ', 'フィルタリング', 'フィルター', 'フィルム', 'フィーチャー', 'フィート', 'フィードバック', 'フィールズ', 'フィールド', 'フェア', 'フェイク', 'フェイス', 'フェイスブック', 'フェッチ', 'フェルマー', 'フェーズ', 'フォックス', 'フォト', 'フォトダイオード', 'フォトマスク', 'フォトモンタージュ', 'フォトリソグラフィ', 'フォトン', 'フォルダ', 'フォン', 'フォント', 'フォーカス', 'フォーク', 'フォース', 'フォード', 'フォーマット', 'フォーマル', 'フォール', 'フォールト', 'フット', 'フッド', 'フライ', 'フラクタル', 'フラグ', 'フラッシュ', 'フラン', 'フランシス', 'フランス', 'フランス語', 'フランソワ', 'フリン', 'フリー', 'フリーウェア', 'フリーズ', 'フリーソフト', 'フリーソフトウェア', 'フリードリヒ', 'フリーハンド', 'フリーマン', 'フル', 'フルアディティブ', 'フルタイム', 'フルハイビジョン', 'フレキシブル', 'フレキソ', 'フレシェ', 'フレデリック', 'フレドホルム', 'フレーズ', 'フレーム', 'フレームワーク', 'フロア', 'フロッピー', 'フロッピーディスク', 'フロントエンド', 'フロー', 'フローチャート', 'フローティング', 'フローレンス', 'フワリズミー', 'フワーリズミー', 'フーリエ', 'ブイ', 'ブエノスアイレス', 'ブック', 'ブッシュネル', 'ブライアン', 'ブラウザ', 'ブラウザー', 'ブラウジング', 'ブラウン', 'ブラケット', 'ブラシ', 'ブラックアフリカ', 'ブラックホール', 'ブラックボックス', 'ブラックマン', 'ブラム', 'ブランチ', 'ブランド', 'ブリザード', 'ブリッジ', 'ブリニョルフソン', 'ブルックス', 'ブルー', 'ブルース', 'ブルート', 'ブレイクスルー', 'ブレイディ', 'ブレイン', 'ブレンディング', 'ブレーキ', 'ブレークスルー', 'ブレークポイント', 'ブレーズ', 'ブロック', 'ブロードバンド', 'ブート', 'ブートストラップ', 'ブーム', 'ブーリアン', 'ブール', 'プッシュダウン', 'プライバシー', 'プライベート', 'プライマリー', 'プラクティス', 'プラグイン', 'プラグマティック', 'プラス', 'プラスチック', 'プラズマ', 'プラチナ', 'プラットフォーム', 'プラモ', 'プラン', 'プランク', 'プラント', 'プランナ', 'プランニング', 'プリエンプション', 'プリエンプティブ', 'プリミティブ', 'プリレンダリング', 'プリン', 'プリンタ', 'プリンター', 'プリンテッドエレクトロニクス', 'プリント', 'プリント回路板', 'プリント基板', 'プレ', 'プレイ', 'プレイステーション', 'プレイヤー', 'プレイヤーズ', 'プレゼンテーション', 'プレディクティブ', 'プレビュー', 'プレミア', 'プレーナ', 'プレーナー', 'プレーヤー', 'プレーン', 'プロ', 'プログラマ', 'プログラマブル', 'プログラマブルシェーダ', 'プログラマー', 'プログラミング', 'プログラム', 'プログレッシブ', 'プロシージャ', 'プロジェクタ', 'プロジェクター', 'プロジェクト', 'プロジェクトチーム', 'プロジェクトマネージャ', 'プロジェクト管理', 'プロセス', 'プロセスマイグレーション', 'プロセッサ', 'プロセッサコア', 'プロセッサー', 'プロダクション', 'プロダクト', 'プロダクトデザイン', 'プロップ', 'プロテクタ', 'プロトコル', 'プロトタイピング', 'プロトタイプ', 'プロバイダ', 'プロパガンダ', 'プロパゲーション', 'プロファイリング', 'プロファイル', 'プロフェッショナル', 'プロプライエタリ', 'プロンプト', 'ヘッダ', 'ヘッド', 'ヘッドセット', 'ヘネシー', 'ヘフディング', 'ヘリコプター', 'ヘルマン', 'ヘルメット', 'ベア', 'ベアボード', 'ベアメタル', 'ベイジアン', 'ベイズ', 'ベクタ', 'ベクター', 'ベクトル', 'ベジエ', 'ベスト', 'ベノナ', 'ベル', 'ベルギー', 'ベルトドライブ', 'ベルトラン', 'ベルナール', 'ベルヌーイ', 'ベルマン', 'ベンジオ', 'ベンダ', 'ベンダー', 'ベンダーロックイン', 'ベンチマーク', 'ベンチマークテスト', 'ベンチャー', 'ベンチャー企業', 'ベース', 'ベータ', 'ベール', 'ペア', 'ペイント', 'ペタバイト', 'ペティ', 'ペトリ', 'ペトリネット', 'ペニントン', 'ペリフェラル', 'ペレット', 'ペレンス', 'ペレンズ', 'ペン', 'ペンタゴン', 'ペンタブレット', 'ページ', 'ページング', 'ペーター', 'ペーパーズ', 'ホイヘンス', 'ホスティング', 'ホスト', 'ホット', 'ホッパー', 'ホビイスト', 'ホレリス', 'ホログラフィ', 'ホワイトヘッド', 'ホーア', 'ホーキング', 'ホーキンス', 'ホーナー', 'ホーム', 'ホームページ', 'ホームレス', 'ホールドアウト', 'ボイジャー', 'ボカン', 'ボタン', 'ボット', 'ボトムアップ', 'ボトル', 'ボトルネック', 'ボランティア', 'ボルツァーノ', 'ボルツマン', 'ボレル', 'ボンディング', 'ボーイ', 'ボーダ', 'ボート', 'ボード', 'ボール', 'ポインティング', 'ポイント', 'ポスト', 'ポセイドン', 'ポット', 'ポップ', 'ポメラ', 'ポラロイド', 'ポリ', 'ポリイミド', 'ポリエステル', 'ポリゴン', 'ポリシング', 'ポリシー', 'ポリス', 'ポリー', 'ポルタ', 'ポーカー', 'ポータル', 'ポート', 'ポーランド', 'ポーリング', 'ポール', 'マイクロ', 'マイクロコンピュータ', 'マイクロサービス', 'マイクロシステムズ', 'マイクロソフト', 'マイクロプロセッサ', 'マイクロモジュール', 'マイケル', 'マイコン', 'マイナー', 'マイナーチェンジ', 'マイニング', 'マイノリティ', 'マイノースキー', 'マイヤー', 'マイリポート', 'マイルストーン', 'マウス', 'マウスカーソル', 'マウント', 'マカロック', 'マキュージック', 'マクシマ', 'マクスウェル', 'マクファデン', 'マクロ', 'マクロン', 'マクローリン', 'マサチューセッツ工科大学', 'マシュー', 'マシン', 'マスク', 'マスター', 'マスメディア', 'マッカーシー', 'マックス', 'マッチ', 'マッチング', 'マッピング', 'マップ', 'マニフェスト', 'マニュアル', 'マネジメント', 'マネジメント手法', 'マネージャ', 'マリアナ', 'マルウェア', 'マルコフ', 'マルチ', 'マルチコア', 'マルチスレッド', 'マルチタスク', 'マルチパス', 'マルチプレイヤーオンラインバトルアリーナ', 'マルチプレクサ', 'マルチプロセッサ', 'マルチプロセッシング', 'マルチプロセッシングシステム', 'マルチメディア', 'マルチモーダル', 'マルチユーザー', 'マン', 'マンガ', 'マンズ', 'マーカー', 'マーキング', 'マーク', 'マークアップ', 'マーケット', 'マーケティング', 'マーサ', 'マーシャル', 'マージ', 'マードック', 'マービン', 'ミクスト', 'ミサイル', 'ミス', 'ミスマッチ', 'ミッチェル', 'ミッド', 'ミドル', 'ミドルウェア', 'ミニコン', 'ミニコンピュータ', 'ミニットマンミサイル', 'ミニテル', 'ミニマル', 'ミラー', 'ミリ', 'ミンスキー', 'ミード', 'ミーム', 'ムーア', 'ムービー', 'メイク', 'メイン', 'メインストリーム', 'メインフレーム', 'メインメモリ', 'メイヴン', 'メカニズム', 'メガバイト', 'メジャー', 'メソッド', 'メソドロジー', 'メタ', 'メタコンパイラ', 'メタデータ', 'メタファ', 'メタファー', 'メタプログラミング', 'メタボール', 'メタル', 'メッシュ', 'メッセージ', 'メテオ', 'メテオール', 'メディア', 'メトリック', 'メナス', 'メナブレア', 'メニュー', 'メモリ', 'メモリアエ', 'メモリバス', 'メモ帳', 'メリット', 'メルセンヌ', 'メロン', 'メンタル', 'メンテナンス', 'メンバー', 'メーカ', 'メーカー', 'メートル', 'メーリングリスト', 'メール', 'メールサーバ', 'メールフィルタリング', 'モアブル', 'モグリッジ', 'モジュラー', 'モジュール', 'モダン', 'モデム', 'モデラー', 'モデリング', 'モデル', 'モデルチェッカ', 'モデル化', 'モニタ', 'モニター', 'モノ', 'モノクロ', 'モノポリー', 'モノリシック', 'モバイル', 'モバイル端末', 'モラベック', 'モルタル', 'モレキュラーエレクトロニクス', 'モレクトロン', 'モンキーレンチ', 'モンスターズ', 'モンテカルロ', 'モーション', 'モーゼス', 'モード', 'モーフィング', 'モール', 'モールド', 'ヤコビ', 'ヤコブ', 'ヤマハ', 'ユタ', 'ユナイテッド', 'ユニシス', 'ユニット', 'ユニバーサル', 'ユニバース', 'ユニーク', 'ユビキタス', 'ユークリッド', 'ユーザ', 'ユーザインタフェース', 'ユーザビリティ', 'ユーザー', 'ユーザーインタフェース', 'ユーザーインターフェイス', 'ユーザーインターフェース', 'ユーザー名', 'ユースケース', 'ユーティリティ', 'ユーモラス', 'ユーロ', 'ヨシフ', 'ヨシュア', 'ヨハン', 'ヨーロッパ', 'ヨーロッパ大陸', 'ライク', 'ライス', 'ライセンサー', 'ライセンシー', 'ライセンス', 'ライセンス料', 'ライツ', 'ライト', 'ライトバック', 'ライバル', 'ライフサイクル', 'ライブ', 'ライブラリ', 'ライブラリパス', 'ライブラリー', 'ライブラー', 'ライプニッツ', 'ライル', 'ライン', 'ラインナップ', 'ラウンド', 'ラグランジュ', 'ラジオ', 'ラジオゾンデ', 'ラスコー', 'ラスタ', 'ラスター', 'ラスベガス', 'ラッセル', 'ラテン語', 'ラニアー', 'ラビン', 'ラピッド', 'ラブレス', 'ラプラス', 'ラベリング', 'ラベル', 'ラボラトリー', 'ラボラトリーズ', 'ラムダ', 'ラリー', 'ラルフ', 'ランタイム', 'ランタイムライブラリ', 'ランダウ', 'ランダウアー', 'ランダム', 'ランダムアクセス', 'ランチェスター', 'ランドサット', 'ランナー', 'ランポート', 'リアリスティック', 'リアリティ', 'リアル', 'リアルタイム', 'リアルタイムシステム', 'リエンジニアリング', 'リグレッションテスト', 'リコー', 'リサイクル', 'リサーチ', 'リザーブ', 'リジット', 'リジッド', 'リスク', 'リスクマネジメント', 'リスト', 'リストアップ', 'リスフィルム', 'リズム', 'リソグラフィー', 'リソース', 'リソーススタベーション', 'リタイヤ', 'リタッチ', 'リタッチャー', 'リダイレクト', 'リチャード', 'リチャードソン', 'リッカチ', 'リッチ', 'リテラシ', 'リトグラフ', 'リトル', 'リネーミング', 'リバモア', 'リバーサルフィルム', 'リバース', 'リビジョン', 'リピータ', 'リファクタリング', 'リファレンス', 'リフォーマット', 'リフティング', 'リフロー', 'リブート', 'リプランニング', 'リボン', 'リポジトリ', 'リムーバブル', 'リモートアクセス', 'リモートセンシング', 'リライタブル', 'リリース', 'リリースノート', 'リレー', 'リレーショナル', 'リレーション', 'リレーテッド', 'リロケータブルバイナリ', 'リン', 'リンカ', 'リンカーン', 'リンク', 'リング', 'リンケージ', 'リー', 'リーク', 'リージョン', 'リーズナブル', 'リーダー', 'リード', 'リーナス', 'リーブ', 'リーマン', 'ルイ', 'ルイジ', 'ルイス', 'ルネ', 'ルベーグ', 'ルンゲ', 'ルーター', 'ルーチン', 'ルーツ', 'ルーティン', 'ルーティング', 'ルート', 'ルートヴィッヒ', 'ループ', 'ルール', 'レイ', 'レイアウト', 'レイテンシ', 'レイトレーシング', 'レイモンド', 'レイヤ', 'レイヤー', 'レオナルド', 'レオニート', 'レオニード', 'レガシー', 'レギュレータ', 'レコメンダシステム', 'レジスタ', 'レジスト', 'レジストリ', 'レストラン', 'レスリー', 'レタッチ', 'レタッチャー', 'レター', 'レック', 'レット', 'レッド', 'レトロ', 'レトロニム', 'レバノン', 'レバンドウスキー', 'レビュー', 'レフ', 'レフト', 'レベル', 'レポジトリ', 'レポート', 'レモネード', 'レンジ', 'レンズ', 'レンタル', 'レンダラー', 'レンダリング', 'レンダー', 'レーウィンゾンデ', 'レーガン', 'レーザー', 'レース', 'レーダー', 'レート', 'レーニン', 'レール', 'ロイアスコット', 'ロイヤル', 'ログ', 'ログイン', 'ログサーバ', 'ロケット', 'ロゴデザイン', 'ロゴマーク', 'ロシア', 'ロシア連邦', 'ロジステロ', 'ロジック', 'ロジバン', 'ロジャー', 'ロスレス', 'ロスレスコーデック', 'ロック', 'ロックイン', 'ロドニー', 'ロナルド', 'ロバスト', 'ロバート', 'ロビン', 'ロピタル', 'ロフト', 'ロベルヴァル', 'ロボ', 'ロボッツ', 'ロボット', 'ロボットカー', 'ロボティクス', 'ロムカートリッジ', 'ロンドン', 'ローカル', 'ロースクール', 'ローゼンバーグ', 'ローダ', 'ローダー', 'ロード', 'ローマ', 'ローラ', 'ローラン', 'ローリング', 'ロールバック', 'ロールプレイングゲーム', 'ローレン', 'ローレンス', 'ワイアー', 'ワイエルシュトラス', 'ワイザー', 'ワイゼンバウム', 'ワイド', 'ワイヤ', 'ワイヤレス', 'ワイヤー', 'ワイル', 'ワインバーグ', 'ワインボウム', 'ワグナー', 'ワシントン', 'ワシントン大学', 'ワトソン', 'ワンクリック', 'ワング', 'ワンショット', 'ワンス', 'ワンタイム', 'ワンチップ', 'ワンチップマイコン', 'ワンパス', 'ワンパスコンパイラ', 'ワンボード', 'ワークグループ', 'ワークショップ', 'ワークステーション', 'ワークフローシステム', 'ワークロード', 'ワード', 'ワードプロセッサ', 'ワープロ', 'ワーム', 'ワールド', 'ワールドワイドウェブ', 'ヴァン', 'ヴィエト', 'ヴィクシー', 'ヴィクトリア', 'ヴィルト', 'ヴィルヘルム', 'ヴィークル', 'ヴェネチア', 'ヶ年', 'ヶ所', 'ヶ月', '一之', '一人', '一体', '一体化', '一体型', '一体的', '一億', '一元的', '一切', '一千万', '一回', '一変', '一大', '一太郎', '一定', '一定時間', '一家', '一幸', '一度', '一式', '一律', '一応', '一意', '一括', '一括り', '一掃', '一揃い', '一斉', '一方', '一方的', '一族', '一旦', '一時', '一時停止', '一時期', '一時的', '一本化', '一様', '一段', '一気呵成', '一番', '一短', '一種', '一端', '一節', '一続き', '一緒', '一線', '一翼', '一致', '一般', '一般ユーザー', '一般人', '一般利用者', '一般的', '一芸', '一見', '一覧', '一角', '一貫', '一貫性', '一連', '一過性', '一部', '一部分', '一長', '万人', '万博', '万年筆', '万能', '三万', '三宅', '三菱電機', '三角', '三角形', '上がる', '上げる', '上下', '上乗せ', '上位', '上回る', '上手', '上昇', '上映', '上書き', '上梓', '上流', '上演', '上界', '上記', '上述', '上限', '上陸', '下がる', '下げる', '下す', '下り', '下位', '下地', '下火', '下界', '下線', '下記', '下降型', '下限', '下院', '不便', '不信', '不備', '不具合', '不動点', '不動産', '不十分', '不可分', '不可欠', '不可能', '不合理', '不向き', '不変', '不安定', '不完全', '不完全性', '不定', '不快感', '不意', '不整合', '不明', '不明瞭', '不正', '不正確', '不注意', '不満', '不特定', '不確か', '不等式', '不純物', '不能', '不自由', '不良', '不良品', '不要', '不規則', '不誠実', '不買', '不足', '不連続', '不適切', '不適当', '与える', '与件', '与野党', '世代', '世帯', '世界', '世界中', '世界的', '世紀', '世紀末', '世論', '世間', '両方', '両者', '両軍', '両面', '並び', '並ぶ', '並べる', '並べ替える', '並み', '並列', '並列化', '並列型', '並存', '並行', '並行性', '中ごろ', '中世', '中古', '中国', '中国語', '中塚', '中央', '中央値', '中学', '中小企業', '中心', '中抜き', '中断', '中東', '中枢', '中核', '中止', '中点', '中盤', '中継', '中華人民共和国', '中身', '中間', '中間的', '中間言語', '中頃', '丸め', '丸める', '丸太', '主に', '主人公', '主体', '主催', '主力', '主導', '主張', '主成分', '主流', '主眼', '主管', '主義', '主要', '主観', '主観的', '主記憶装置', '主軸', '主題', '主題図', '乏しい', '乗せる', '乗っ取る', '乗り出す', '乗り物', '乗員', '乗数', '乗算', '乱数', '乱用', '乱立', '乾く', '乾湿計', '乾電池', '予め', '予備', '予定', '予想', '予期', '予測', '予算', '予算的', '予約', '予言', '予防', '争い', '事件', '事例', '事典', '事前', '事務', '事務処理', '事務所', '事実', '事実上', '事後', '事情', '事態', '事故', '事柄', '事業', '事物', '事象', '事項', '二人', '二流', '二百万', '二進', '互い', '互換', '互換性', '互除法', '五感', '井上', '井口', '亘る', '些細', '亜種', '交付', '交信', '交差', '交換', '交流', '交通', '享受', '人々', '人体', '人力', '人受け', '人口', '人命', '人員', '人型', '人工', '人工物', '人工的', '人工知能', '人工衛星', '人形', '人手', '人数', '人文', '人材', '人権', '人民', '人気', '人物', '人的', '人種', '人道', '人間', '人間並み', '人間関係', '人類', '人類史', '人類学', '今まで', '今回', '今年', '今度', '今後', '今日', '介す', '介する', '介在', '仕上げ', '仕上げる', '仕事', '仕方', '仕様', '仕立てる', '仕組', '仕組み', '他人', '他方', '他社', '他者', '付き', '付き物', '付く', '付け', '付ける', '付け加える', '付け加わる', '付す', '付与', '付加', '付加価値', '付属', '付属品', '付近', '付随', '代々木', '代える', '代わり', '代わる', '代価', '代入', '代名詞', '代数', '代数学', '代数式', '代替', '代替品', '代用', '代用品', '代行', '代表', '代表値', '代表的', '以つ', '以上', '以下', '以内', '以前', '以外', '以後', '以来', '以降', '仮定', '仮想', '仮想化', '仮想現実', '仮想環境', '仮想的', '仮想空間', '仮説', '仲介者', '任せ', '任せる', '任務', '任天堂', '任意', '企業', '企業内', '企業向け', '企業家', '企業情報', '企業間', '伊勢田', '伏せる', '伐採', '会員', '会社', '会見', '会計', '会話', '会議', '会長', '伝える', '伝搬', '伝播', '伝統', '伝統的', '伝送', '伝送形式', '伝送路', '伝達', '伴う', '伸ばす', '伸びる', '伸び悩む', '似せる', '似つく', '似る', '似通う', '但し', '位相', '位置', '位置づけ', '位置付け', '低い', '低レベル', '低下', '低価格', '低廉', '低減', '低温', '低速', '住友電気工業', '住所', '住所録', '住民', '佐藤', '体制', '体性', '体感', '体積', '体系', '体系化', '体系的', '体験', '体験者', '何人', '何個', '何処', '何回', '何度', '何故', '何物', '何者', '何色', '余儀', '余地', '余裕', '余計', '作りこむ', '作りだす', '作り出す', '作り変える', '作り込み', '作り込む', '作る', '作れる', '作例', '作動', '作品', '作成', '作成者', '作戦', '作曲', '作曲法', '作曲者', '作業', '作業環境', '作業療法', '作業者', '作業量', '作法', '作用', '作者', '併せる', '併せ持つ', '併用', '併記', '使いこなす', '使い分け', '使い分ける', '使い切る', '使い物', '使う', '使える', '使命', '使用', '使用者', '使用量', '例えば', '例える', '例外', '例外的', '例示', '例題', '供与', '供給', '供給源', '供給者', '供覧', '依る', '依存', '依拠', '依然', '依頼', '価値', '価値観', '価格', '価格帯', '侵入', '侵害', '侵攻', '侵犯', '侵襲', '便利', '便宜的', '係る', '係数', '促す', '促進', '俊一', '俊之', '俗用', '俗称', '俗語', '保つ', '保存', '保守', '保守性', '保守的', '保安', '保安庁', '保持', '保留中', '保管', '保管場所', '保証', '保護', '保険業', '保障', '信じる', '信ずる', '信仰', '信号', '信奉', '信念', '信用', '信頼', '信頼度', '信頼性', '修士課程', '修復', '修整', '修正', '修正方法', '修理', '修理業', '修理費', '修飾', '俳優', '個々', '個々人', '個人', '個人向け', '個人情報', '個人情報保護法', '個人的', '個体', '個別', '個性', '個数', '倍々', '倍率', '倍精度', '倒産', '候補', '借りる', '値段', '倫理', '倫理学', '倫理的', '偉大', '偏向', '偏微分', '停止', '停滞', '停電', '健康', '健康状態', '側面', '偵察', '偶然', '偶発', '偽り', '偽る', '傘下', '備え', '備える', '備わる', '催す', '傾向', '僅か', '働き', '働く', '償却', '優れる', '優位', '優先', '優先度', '優先権', '優先順位', '優勝', '優秀', '元々', '元年', '元来', '元気', '元祖', '元章', '元素', '充実', '充足', '兆候', '先入観', '先取権', '先天的', '先生', '先祖', '先立つ', '先端', '先行', '先読み', '先進国', '先進的', '先頭', '先駆', '先駆け', '先駆ける', '先駆者', '光学', '光学系', '光景', '光波', '光洋', '光源', '光線', '光速', '光陰', '克服', '免責', '党首', '入り', '入り込む', '入る', '入れる', '入れ替える', '入出', '入出力', '入力', '入力ミス', '入学', '入手', '入札', '入試', '入退室', '入門', '入門書', '全く', '全て', '全体', '全体的', '全員', '全国', '全域', '全天', '全盛', '全社', '全米', '全編', '全脳', '全般', '全部', '全面', '全面的', '全額', '公共', '公差', '公式', '公然', '公理', '公示', '公算', '公聴会', '公職', '公衆', '公表', '公認', '公開', '公電', '共同', '共同研究', '共役', '共有', '共通', '共通語', '兵器', '具体例', '具体化', '具体的', '具合', '具象', '典型', '典型的', '兼ねる', '兼ね備える', '兼ね合い', '内井', '内側', '内包', '内在', '内容', '内田', '内線', '内蔵', '内製', '内部', '内部構造', '内部的', '内閣', '円板', '冊子', '再び', '再利用', '再帰', '再度', '再教育', '再現', '再現性', '再生', '再生産', '再発', '再計算', '再評価', '再開', '再開発', '冒頭', '冗長', '冗長化', '冗長性', '冗長構成', '写像', '写実', '写実的', '写植', '写真', '写真データ', '写真家', '冠する', '冷却', '冷戦', '冷蔵庫', '凌駕', '凍る', '凝る', '処刑', '処理', '処理コード', '処理時間', '処理系', '処理速度', '処置', '凸包', '出し抜く', '出す', '出る', '出典', '出力', '出向く', '出品', '出回る', '出席', '出店', '出撃', '出来る', '出来るだけ', '出来上がる', '出来事', '出演', '出版', '出版業', '出版物', '出版社', '出現', '出発', '出発点', '出荷', '出願', '函数', '分かる', '分かれる', '分かれ目', '分け', '分ける', '分る', '分光', '分割', '分化', '分岐', '分布', '分散', '分散型', '分断', '分析', '分析者', '分科', '分解', '分解能', '分配', '分野', '分隊', '分離', '分類', '分類学', '分類法', '切り出し', '切り出す', '切り捨てる', '切り替え', '切り替える', '切り替わり', '切り替わる', '切り離す', '切る', '切れ', '切れる', '切れ目', '切断', '刑務所', '列挙', '初め', '初めて', '初出', '初年', '初期', '初期値', '初期化', '初期段階', '初歩', '初等', '初頭', '判る', '判別', '判定', '判断', '判断基準', '判明', '判決', '別々', '別ける', '別名', '別物', '別途', '利く', '利便性', '利喜太郎', '利害関係', '利害関係者', '利権', '利活用', '利点', '利用', '利用形態', '利用方法', '利用状況', '利用目的', '利用者', '利益', '利直', '到来', '到着', '到達', '制作', '制動', '制定', '制度', '制御', '制約', '制限', '刷新', '刺激', '則る', '削減', '削除', '前もって', '前任', '前例', '前処理', '前出', '前半', '前史', '前年', '前庭', '前後', '前掲', '前提', '前節', '前者', '前記', '前身', '前述', '前進', '副作用', '割く', '割ける', '割り出す', '割り引く', '割り当て', '割り当てる', '割り振る', '割り算', '割り込み', '割り込む', '割る', '割合', '割当', '創り出す', '創る', '創作物', '創業者', '創立', '創設', '創設者', '創造', '創造的', '劇場', '劇的', '力学', '力学系', '力点', '加える', '加わる', '加工', '加減算', '加盟国', '加筆', '加算', '加速', '加速器', '加速度', '劣る', '劣化', '劣悪', '助け', '助ける', '助力', '助成', '助教授', '助言', '努力', '労働', '労力', '効果', '効果的', '効率', '効率化', '効率的', '効用', '勃発', '勃興', '動かす', '動かせる', '動き', '動く', '動体', '動作', '動力', '動向', '動態', '動機', '動機付け', '動物', '動画', '動的', '動詞', '勘違い', '務める', '勝ち残る', '勝つ', '勝利', '募る', '募集', '勢い', '勢い付ける', '勤務', '勧告', '勾配', '包含', '包括的', '包摂', '化する', '化学', '北朝鮮', '北米', '匹敵', '区分', '区分け', '区別', '区域', '区画', '区間', '医学', '医学的', '医師', '医療', '医療機関', '医療用', '医療用機器', '医薬品', '十二', '十分', '十徳', '十進', '半ば', '半分', '半導体', '半径', '半永久的', '半熟', '卒業生', '卓上', '協会', '協力', '協調', '南北', '単に', '単一', '単位', '単体', '単体テスト', '単価', '単元', '単数形', '単独', '単発', '単純', '単純化', '単結晶', '単語', '博士', '占める', '印刷', '印刷物', '印加', '印字', '印画紙', '印象', '印象的', '危機', '危機感', '危機管理', '危険', '危険性', '即する', '即ち', '即座', '即応', '即決', '即興', '却下', '厚い', '厚紙', '原作者', '原価', '原則', '原則的', '原動力', '原因', '原始', '原始的', '原子', '原子力発電', '原子核', '原料', '原本', '原材料', '原理', '原義', '原論', '厳しい', '厳密', '厳格', '去る', '参入', '参加', '参加者', '参加者数', '参照', '参照元', '参画', '参考', '参考文献', '参謀', '及び', '及ぶ', '及ぼす', '友人', '双対性', '双方', '反する', '反乱', '反例', '反対', '反対派', '反射', '反復', '反復法', '反応', '反映', '反論', '反転', '反面', '収まる', '収める', '収容', '収束', '収益', '収納', '収録', '収集', '取りまとめる', '取り上げる', '取り入れる', '取り出し', '取り出す', '取り壊す', '取り戻す', '取り扱い', '取り扱う', '取り決め', '取り消す', '取り組み', '取り組む', '取り込む', '取り違える', '取り除く', '取る', '取れる', '取引', '取得', '取扱い', '取扱う', '受ける', '受け付ける', '受け入れる', '受け取る', '受け手', '受け止める', '受け渡し', '受け継ぐ', '受付', '受信', '受像', '受動', '受容', '受理', '受賞', '受験生', '口座', '口座残高', '古い', '古く', '古代', '古典', '古典的', '古来', '叫び', '可動', '可否', '可変', '可用性', '可算', '可能', '可能性', '可視', '可視光', '可視化', '可読', '可読性', '可逆', '台数', '台湾', '台湾系', '台頭', '史上', '右図', '司る', '司令部', '司会', '司書', '各々', '各企業', '各個', '各国', '各地', '各文', '各方面', '各段', '各点', '各社', '各種', '各論', '各部', '合う', '合わせる', '合原', '合同', '合意', '合成', '合格', '合理化', '合理性', '合理的', '合致', '合計', '吉里吉里', '同じ', '同じく', '同一', '同人', '同値', '同列', '同化', '同名', '同型', '同報', '同士', '同定', '同年', '同数', '同時', '同期', '同校', '同様', '同機', '同法', '同社', '同種', '同等', '同義', '同義語', '同質', '同音語', '名乗る', '名付ける', '名前', '名称', '名詞', '名詞句', '名誉', '吐き気', '向かう', '向き', '向く', '向け', '向ける', '向上', '否定', '否定的', '否認', '含む', '含める', '含意', '含浸', '吸収', '吹流し', '告発', '告示', '告訴', '周回', '周囲', '周期', '周波数', '周知', '周辺', '味覚', '呼び出し', '呼び出す', '呼び分ける', '呼び掛ける', '呼ぶ', '呼べる', '呼出', '呼出し', '呼応', '呼称', '命中', '命令', '命名', '命題', '和声', '和文', '和算', '和製', '品もの', '品物', '品種', '品質', '品質向上', '哨戒', '哲学', '哲学的', '哲学者', '哲治', '哺乳類', '唯々', '唯一', '商取引', '商品', '商品化', '商店街', '商業', '商標', '商標法', '商法', '商用', '商船', '問い', '問いかける', '問い合わせ', '問う', '問合せ', '問題', '問題視', '問題解決', '問題解決能力', '啓一', '啓蒙', '喪失', '営利', '営業支援', '嗅覚', '嚆矢', '囚人', '四則', '四十', '四方', '回帰', '回復', '回折', '回数', '回文', '回答', '回線', '回線速度', '回路', '回転', '回転体', '回避', '因子', '因数', '因果', '因果律', '団体', '困難', '囲い込み', '囲む', '囲碁', '図る', '図式', '図形', '図書', '図書館', '図面', '固まる', '固体', '固執', '固定', '固定化', '固定資産税', '固有', '固有値', '国々', '国会', '国会議員', '国内', '国内総生産', '国別', '国勢', '国土', '国土交通省', '国土地理院', '国境', '国字', '国家', '国家公務員法', '国情', '国有鉄道', '国民', '国状', '国立', '国立研究所', '国語', '国鉄', '国防', '国防総省', '国際', '国際大学', '国際的', '国際連合', '土台', '土地', '土木', '圧倒', '圧倒的', '圧力', '圧縮', '圧縮率', '在る', '在庫管理', '在来', '地上', '地区', '地図', '地域', '地形', '地形図', '地方', '地方公共団体', '地方公務員法', '地方税法', '地方自治体', '地点', '地物', '地獄', '地球', '地理', '地理学', '地理的', '地目', '地道', '地面', '坂村', '均等', '垂直', '型付け', '垣根', '埋め込む', '執筆', '培う', '基づく', '基地', '基幹', '基幹系システム', '基底', '基本', '基本法', '基本的', '基本設計', '基材', '基板', '基準', '基盤', '基礎', '基礎的', '基礎知識', '堅牢', '堆積', '堪える', '報ずる', '報告', '報告書', '報道', '報道官', '報酬', '場合', '場所', '場面', '塗りつぶす', '塗布', '塗料', '塗装', '塩化', '境界', '境界線', '境目', '増える', '増す', '増やす', '増加', '増加率', '増大', '増幅', '増強', '増減', '壁紙', '壊れる', '声明', '売り', '売り上げ', '売り出す', '売り手', '売り文句', '売る', '売れる', '売れ行き', '売上', '売買', '変える', '変わる', '変分', '変則的', '変動', '変化', '変形', '変換', '変数', '変更', '変更内容', '変種', '変質', '変遷', '変革', '外す', '外乱', '外交', '外付け', '外側', '外傷', '外国', '外国語', '外形', '外界', '外的', '外見', '外観', '外部', '多々', '多い', '多く', '多し', '多人数', '多分', '多大', '多少', '多層', '多岐', '多彩', '多数', '多数決', '多様', '多様化', '多様性', '多次元', '多段', '多湿', '多用', '多発', '多種', '多角形', '多言語', '多重', '多量', '多面', '多面体', '多項式', '夜間', '大々的', '大いに', '大きい', '大きさ', '大まか', '大人', '大企業', '大会', '大元', '大冒険', '大分', '大切', '大別', '大半', '大同小異', '大国', '大型', '大変', '大多数', '大学', '大学院', '大小', '大差', '大幅', '大成', '大戦', '大手', '大手企業', '大抵', '大掛かり', '大数', '大文字', '大村', '大概', '大正', '大統領', '大胆', '大脳', '大臣', '大蔵省', '大衆', '大西洋', '大規模', '大規模集積回路', '大賞', '大部分', '大量', '大量生産', '大阪大学', '大陸', '大雑把', '大震災', '天井', '天体', '天才', '天才児', '天文学', '天文学的', '天気', '天網', '太い', '失う', '失敗', '奇妙', '奈良先端科学技術大学院大学', '契機', '契約', '契約締結', '奥付', '奥行き', '奪う', '女子大', '女性', '女性誌', '女神', '好ましい', '好み', '好む', '好事家', '好奇心', '好戦', '如何に', '妥協', '妥協案', '妥当', '妥当性', '妨げる', '姉妹', '始まり', '始まる', '始め', '始める', '委ねる', '委任', '委員会', '委譲', '姿勢', '娯楽', '媒体', '子供', '子鹿', '字句', '存在', '存在感', '季節', '学ぶ', '学べる', '学会', '学会誌', '学位', '学問', '学士', '学校', '学校教育', '学派', '学生', '学界', '学科', '学習', '学習指導', '学習者', '学者', '学術', '学術書', '学説', '学部', '学際', '宇宙', '宇宙服', '守る', '安い', '安上がり', '安価', '安全', '安全弁', '安全性', '安定', '安定化', '安定性', '安易', '完了', '完全', '完全性', '完成', '完璧', '完結', '宗教', '官僚', '官民', '定か', '定まる', '定める', '定例', '定型', '定常', '定式化', '定性的', '定数', '定期的', '定理', '定着', '定積', '定義', '定義域', '定量', '定量的', '宛名', '宝庫', '実体', '実体化', '実例', '実写', '実利', '実力', '実務者', '実在', '実地', '実学', '実店舗', '実態', '実数', '実施', '実機', '実測', '実物', '実状', '実現', '実用', '実用化', '実用的', '実績', '実行', '実行時', '実装', '実証', '実証論', '実質', '実質的', '実運用', '実際', '実際的', '実験', '実験室', '実験的', '客観', '客観性', '客観的', '宣伝', '宣言', '室温', '家庭', '家庭内', '家庭用', '家庭用電気機械器具', '家電', '家電製品', '容器', '容易', '容疑', '容量', '寄せる', '寄与', '寄付', '寄稿', '密度', '密接', '富む', '富士通', '審判', '審査', '寸法', '対する', '対価', '対処', '対処方法', '対処法', '対応', '対戦', '対抗', '対数', '対比', '対気', '対流', '対潜', '対潜戦', '対照', '対照的', '対称', '対称性', '対称的', '対空', '対立', '対策', '対艦', '対角線', '対話', '対話型', '対談', '対象', '対象外', '対象年齢', '対象物', '対象物件', '対馬', '寿命', '封じ込める', '封入', '封止', '専ら', '専攻', '専業', '専用', '専用機', '専門', '専門家', '専門性', '専門用語', '専門的', '専門知識', '射影', '射撃', '射殺', '将来', '将来的', '将棋', '尊仁', '尊重', '尋ねる', '導き出す', '導く', '導ける', '導入', '導出', '導通', '導関数', '導電', '小さい', '小刻み', '小型', '小型化', '小売', '小学生', '小宇宙', '小惑星', '小数', '小数点', '小泉', '小片', '小規模', '小解', '小説', '小説家', '小量', '少し', '少ない', '少なし', '少人数', '少女', '少年', '少数', '少量', '尖閣', '尚早', '就業時間', '尺度', '尽力', '局在', '局所', '局所化', '局面', '屈折', '届ける', '屋根裏', '展示', '展開', '属す', '属する', '属性', '履修', '履歴', '山羊', '岐阜県各務原市', '岩本', '岩波', '崇拝', '崩壊', '川柳', '巡る', '工作', '工具', '工具鋼', '工場', '工夫', '工学', '工学科', '工学者', '工学部', '工数', '工業', '工業デザイン', '工科', '工程', '左右', '巧妙', '巨大', '差し戻し', '差し支える', '差分', '差別', '差別的', '差異', '巻き起こす', '巻き込む', '巻く', '市場', '市場シェア', '市場調査', '市民', '市販', '希望', '希薄', '帝国', '帯域', '帰着', '帰納', '帰納法', '帰納的', '帰還', '常套', '常時', '常温', '常識', '常識的', '帽子', '幅広い', '幕張', '幕末', '干渉', '平ら', '平均', '平均値', '平均的', '平成', '平文', '平方', '平方根', '平易', '平準化', '平滑', '平行', '平行性', '平衡', '平面', '年々', '年代', '年度', '年後半', '年月', '年次', '年賀状', '年較差', '年間', '年齢', '幸運', '幹夫', '幹部', '幻想', '幼少', '幽霊', '幾つ', '幾何', '幾何学', '幾度', '庁内', '広い', '広がり', '広がる', '広げる', '広まる', '広める', '広告', '広域', '広州', '広東省', '広範', '広範囲', '広義', '床下', '序盤', '序説', '底辺', '府省', '度合い', '座る', '座標', '廃棄', '廃業', '廃止', '廃熱', '建てる', '建物', '建築', '建築学', '建築物', '建造', '弁護士', '引き上げ', '引き上げる', '引き出す', '引き合い', '引き渡す', '引き継ぐ', '引き続く', '引き落とし', '引き起こす', '引く', '引っかかる', '引っかく', '引数', '引率', '引用', '弱い', '弱点', '張り合わせる', '張り巡らす', '張る', '強い', '強いる', '強める', '強制', '強力', '強化', '強姦', '強度', '強磁性', '強要', '強調', '弾圧', '当たり', '当たり前', '当たる', '当てはめる', '当てる', '当初', '当局', '当時', '当然', '当該', '形容詞', '形式', '形式的', '形態', '形態素', '形成', '形状', '形質', '彩色', '彩虹', '影像', '影響', '役割', '役立つ', '彼女', '往復', '征服', '待たす', '待ち', '待つ', '後ろ', '後処理', '後半', '後押し', '後期', '後継', '後継者', '後続', '後者', '後藤', '後述', '徐々', '従う', '従事', '従事者', '従属', '従弟', '従来', '従業員', '得る', '得失', '得意', '得意分野', '徘徊', '復元', '復号', '復帰', '復旧', '復活', '循環', '微分', '微分学', '微分積分', '微増', '微妙', '微小', '微積分', '微粒子', '微細', '微細化', '徹底', '徹底的', '心理', '心理学', '心臓', '必ず', '必修', '必然性', '必然的', '必要', '必要性', '必須', '忍耐', '応える', '応ずる', '応用', '応用技術', '応答', '忠実', '快適', '念頭', '思い', '思い出す', '思う', '思惑', '思想', '思想家', '思案', '思考', '急上昇', '急変', '急激', '急速', '性交', '性善説', '性格', '性能', '性質', '怪しい', '怯える', '恐れる', '恐喝罪', '恒久', '恒星', '恩恵', '悟り', '患者', '悩ます', '悩み', '悩む', '悪い', '悪化', '悪影響', '悪徳', '悪意', '悪条件', '悪用', '情勢', '情報', '情報セキュリティ', '情報共有', '情報処理', '情報化', '情報学', '情報検索', '情報流出', '情報源', '情報漏洩', '情報通信技術', '情報通信業', '情報量', '情景', '情緒的', '惑う', '惑星', '惣七', '想像', '想定', '意味', '意味あい', '意味合い', '意味論', '意図', '意図的', '意志', '意思', '意思決定', '意義', '意見', '意訳', '意識', '意識的', '愚痴', '愛好家', '愛妻', '愛着', '感じ', '感ずる', '感化', '感情', '感情的', '感想', '感染', '感覚', '態勢', '態度', '慎重', '慣れる', '慣れ親しむ', '慣性', '慣習', '懐疑論', '懸念', '戏机', '成し遂げる', '成す', '成り立ち', '成り立つ', '成る', '成人', '成功', '成年者', '成形', '成果', '成果物', '成熟', '成立', '成績', '成績表', '成長', '成長率', '我々', '戒める', '戦い', '戦争', '戦力', '戦後', '戦略', '戦略的', '戦術', '戦車', '戦間', '戦闘', '戦闘機', '戻す', '所定', '所属', '所有', '所望', '所管', '扇風機', '手がかり', '手がける', '手作業', '手入力', '手助け', '手動', '手帳', '手掛かり', '手描き', '手操', '手早い', '手書き', '手本', '手段', '手法', '手渡', '手続', '手続き', '手術', '手足', '手軽', '手間', '手順', '才能', '打ち切り', '打ち切る', '打ち合わせる', '打ち負かす', '打ち込む', '打倒', '打切る', '払い出し', '払う', '払拭', '扱い', '扱う', '扱える', '批判', '批判的', '批評', '承知', '承認', '技師', '技法', '技能', '技術', '技術的', '技術者', '技術革新', '把握', '抑える', '抑制', '抑圧', '投げかける', '投ずる', '投下', '投入', '投射', '投影', '投影法', '投票', '投票者', '投稿', '投資', '折り曲げる', '折る', '抜き出す', '抜く', '抜け出す', '抱える', '抱く', '抵抗', '抵抗器', '抹消', '押さえる', '押さえ込む', '押し進める', '押す', '押下', '押入れ', '抽出', '抽出法', '抽象', '抽象化', '抽象的', '担い手', '担う', '担保', '担当', '担当者', '拍子', '拒む', '拒否', '拒絶', '拘る', '拘束', '拘束力', '拘禁', '招く', '招待', '招致', '拠点', '拡充', '拡大', '拡張', '拡張子', '拡張性', '拡張機能', '拡散', '括弧', '拾い上げる', '持ち込む', '持ち運び', '持つ', '持続', '持続可能性', '指す', '指向', '指定', '指導', '指導者', '指揮', '指摘', '指数', '指数関数', '指標', '指示', '指紋', '指針', '挑む', '挑戦', '挙がる', '挙げる', '挙動', '挟む', '振り仮名', '振り向ける', '振る', '振る舞い', '振る舞う', '振動', '振幅', '振舞い', '挿げ替える', '挿入', '捉える', '捜す', '捜査', '捜索', '捨てる', '捨象', '据える', '据え置き', '据え置く', '掃除機', '排する', '排他', '排他的', '排水', '排除', '掛かる', '掛ける', '採り入れる', '採る', '採択', '採点', '採用', '探し出す', '探す', '探る', '探れる', '探査', '探査機', '探索', '接地', '接尾辞', '接点', '接続', '接線', '接頭辞', '控える', '推し進める', '推奨', '推定', '推敲', '推測', '推計', '推論', '推進', '措置', '掲げる', '掲載', '揃う', '揃える', '描く', '描写', '描画', '提供', '提出', '提唱', '提携', '提案', '提示', '提言', '提起', '換字', '換装', '換言', '握る', '揮発性', '援助', '揺るがす', '揺れ', '損なう', '損傷', '損失', '損害', '損害賠償', '損金', '搬送', '搭載', '携わる', '携帯', '携帯用', '携帯端末', '携帯電話', '摩擦', '撃墜', '撃沈', '撤退', '撮像', '撮像管', '撮影', '操る', '操作', '操作性', '操作方法', '操縦', '擬人化', '擬似', '支える', '支出', '支払う', '支持', '支持者', '支援', '支配', '支障', '改ざん', '改修', '改善', '改変', '改正', '改竄', '改組', '改良', '改訂', '攻撃', '攻撃的', '攻撃者', '攻殻', '放り込む', '放棄', '放熱', '放置', '放送', '政党', '政府', '政権', '政治', '政治学', '政治的', '政界', '政策', '故意', '故障', '救急車', '救済', '敗れる', '教える', '教員', '教師', '教授', '教材', '教科', '教科書', '教職', '教育', '教育学部', '教育機関', '教育課程', '教訓', '散らばり', '散在', '散文', '散策', '散見', '散逸', '敬意', '数々', '数える', '数え上げ', '数ヶ月', '数値', '数列', '数十', '数千', '数多く', '数字', '数学', '数学者', '数年間', '数式', '数時間', '数理', '数百', '数種類', '数表', '数論', '数量', '整う', '整える', '整備', '整列', '整合', '整合性', '整数', '整数型', '整数論', '整理', '敵国', '敵対', '敵対的', '敵弾', '敷設', '文化', '文化圏', '文句', '文字', '文字列', '文字数', '文学', '文学部', '文庫', '文房具', '文書', '文書化', '文法', '文法的', '文献', '文章', '文筆', '文節', '文系', '文脈', '料理', '斜視', '斬新', '断念', '断熱', '断片', '断絶', '断言', '新しい', '新た', '新世代', '新世界', '新商品', '新字体', '新技術', '新旧', '新機能', '新疆', '新編', '新聞', '新規', '新規性', '新設', '新語', '方位', '方向', '方向性', '方式', '方法', '方法論', '方程', '方程式', '方策', '方針', '方面', '於く', '施す', '施行', '施行規則', '施設', '旅行', '既に', '既存', '既成', '既知', '日々', '日付', '日射', '日射計', '日常', '日常生活', '日常的', '日数', '日本', '日本ビクター', '日本国内', '日本工業規格', '日本語', '日本電子', '日本電気', '日立化成', '日立製作所', '日米', '日経', '旧来', '早い', '早期', '早道', '明らか', '明るい', '明朝体', '明治', '明白', '明確', '明確化', '明示', '明記', '易しい', '映像', '映像化', '映画', '映画祭', '昨年', '昭二', '昭和', '是非', '昼間', '時代', '時代遅れ', '時分', '時刻', '時変', '時期', '時点', '時相', '時空', '時系列', '時計', '時間', '時間的', '時間短縮', '時間通り', '晃一', '普及', '普段', '普通', '普遍的', '暗い', '暗号', '暗号化', '暗室', '暗殺', '暗示', '暗記', '暗黙', '暴露', '曖昧', '曰く', '曲折', '曲率', '曲線', '曲面', '更に', '更新', '書き', '書きこむ', '書き出す', '書き換える', '書き直す', '書き表す', '書き表せる', '書き込み', '書き込む', '書く', '書ける', '書中', '書店', '書庫', '書式', '書簡', '書籍', '書籍化', '書記', '書院', '書類', '最も', '最低', '最低限', '最先端', '最先端技術', '最初', '最前線', '最古', '最善', '最大', '最大値', '最大公約数', '最大限', '最小', '最小値', '最小化', '最小限', '最後', '最後尾', '最悪', '最新', '最短', '最終', '最終的', '最良', '最近', '最適', '最適化', '最重要', '最長', '最高', '有する', '有る', '有償', '有利', '有力', '有効', '有効性', '有名', '有害', '有意', '有意義', '有数', '有料', '有望', '有無', '有用', '有用性', '有界', '有益', '有線', '有象', '有限', '服飾', '望ましい', '望み', '望む', '望める', '望遠鏡', '期待', '期待値', '期間', '期間中', '木槌', '木目', '木製', '未だ', '未定', '未定義', '未対応', '未来', '未満', '未熟', '未知', '未解決', '末期', '本人', '本体', '本土', '本島', '本当', '本文', '本来', '本格', '本格的', '本物', '本番', '本稿', '本義', '本質', '本質的', '本部', '本領', '机上', '材料', '村上', '束ねる', '束縛', '条件', '条件付', '条例', '条文', '条約', '条項', '来る', '来日', '来談者中心療法', '東京', '東京大学', '東大', '東条', '東欧', '東洋', '東芝', '東西', '松下', '松尾', '林業', '枚数', '果たして', '果たす', '枝刈り', '枠組み', '架空', '柔らかい', '柔軟', '柔軟性', '柳河', '栄誉', '校正', '校長', '株主総会', '株式市場', '核兵器', '核心', '根元', '根底', '根拠', '根本的', '根源', '格子', '格差', '格納', '格闘', '桁外れ', '桁数', '桁違い', '案内', '梱包', '棋士', '森田', '植生', '検出', '検収', '検定', '検査', '検潮', '検知', '検算', '検索', '検索エンジン', '検索機能', '検討', '検討中', '検証', '検閲', '楕円', '業務', '業務効率化', '業務用', '業界', '業績', '業者', '極めて', '極値', '極小', '極秘', '極端', '極限', '極限値', '楽典', '楽式', '楽曲', '楽派', '楽観主義', '楽観的', '楽譜', '概ね', '概念', '概念的', '概率', '概略', '概要', '概観', '概説', '概論', '構う', '構想', '構成', '構成要素', '構文', '構文解析器', '構文論', '構築', '構造', '構造化', '構造化プログラミング', '構造物', '構造的', '様々', '様子', '様式', '様式化', '標本', '標本化', '標準', '標準偏差', '標準化', '標準的', '標的', '標高', '模倣', '模型', '模擬', '模擬試験', '模様', '模索', '権利', '権力', '権威', '権益', '権限', '横断', '横行', '樹脂', '機会', '機体', '機動隊', '機器', '機密', '機密情報', '機材', '機械', '機械化', '機械学習', '機械的', '機械語', '機械論', '機構', '機種', '機能', '機能主義', '機能拡張', '機能的', '機運', '機関', '機関誌', '機雷', '欠かせる', '欠ける', '欠如', '欠点', '欠片', '欠陥', '次々', '次いで', '次ぐ', '次世代', '次元', '次数', '次第', '次表', '欧州', '欧州連合', '欧文', '欧米', '欲しい', '欲求', '歓迎', '止まる', '止める', '正しい', '正則化', '正反対', '正夫', '正字', '正定', '正常', '正式', '正弥', '正当化', '正当性', '正方', '正方形', '正確', '正確性', '正規', '正規化', '正解', '正面', '武器', '歩く', '歩む', '歩留まり', '歩行者', '歩道', '歪み', '歯科', '歴代', '歴史', '歴史的', '死亡', '死者', '殊に', '残す', '残り', '残る', '残像', '残存', '段落', '段階', '殺す', '殺傷', '殿堂', '毀損', '母体', '母材', '母集団', '毎回', '毎年', '毎日', '毎秒', '比べる', '比例', '比濁', '比率', '比較', '比較的', '毛筆', '民主化', '民主的', '民族', '民生', '民間', '気づく', '気圧計', '気温', '気球', '気象', '気象衛星', '水中', '水仕事', '水分', '水平', '水準', '水路', '水銀', '水面', '永久', '永井', '永遠', '氾濫', '求める', '求積', '汎化', '汎用', '汎用性', '汎用機', '汎用的', '汎関数', '汚染', '決まり', '決まる', '決める', '決定', '決定的', '決定論', '決断', '決済', '決着', '決議', '沖縄', '沖縄戦', '沖電気', '没交渉', '没入', '没落', '沢山', '河川', '油絵具', '治る', '治療', '沿う', '沿岸', '法人', '法令', '法則', '法務', '法律', '法律家', '法的', '法規', '波紋', '波長', '泣き寝入り', '泥棒', '注入', '注力', '注意', '注文', '注目', '注釈', '洋学', '洋平', '洗い出す', '洗濯機', '洗練', '洞察', '洞窟', '活かす', '活動', '活動家', '活字', '活用', '活発', '活躍', '派生', '派遣', '流し込む', '流す', '流れ', '流れる', '流れ作業', '流体', '流出', '流布', '流用', '流行', '流行る', '流行語', '流通', '流量', '浅い', '浪費', '浮き彫り', '浮上', '浮動', '浴びる', '海上', '海域', '海外', '海洋', '海流', '海軍', '浸透', '消える', '消す', '消去', '消去法', '消極的', '消滅', '消耗品', '消費', '消費者', '消費量', '液晶', '液漏れ', '淡路', '深い', '深める', '深刻', '深層', '深層学習', '深度', '深海', '深遠', '混じり合う', '混入', '混合', '混同', '混在', '混成', '混用', '混載', '混迷', '添付', '添加物', '清浄', '済み', '済む', '渋滞', '減らす', '減らせる', '減る', '減価', '減少', '減算', '減量', '渡す', '渡せる', '渡る', '温度', '温度計', '温暖化', '測る', '測位', '測地系', '測定', '測度', '測量', '測量法', '湾岸', '湿る', '湿度計', '満たす', '満足', '満足度', '源流', '準じる', '準備', '準拠', '溜める', '溶け込む', '溶融', '滅多', '滋賀大学', '滑らか', '漁船', '漂う', '漏れる', '漏洩', '演じる', '演ずる', '演出', '演劇', '演奏', '演技', '演算', '演算子', '演繹', '演者', '演説', '漕ぎ着ける', '漢字', '漢訳', '漫画', '漫画家', '漸化', '漸減', '漸近', '潜む', '潜在', '潜在的', '潜水艦', '潜航', '潤沢', '潮流', '澤口', '激しい', '激化', '激変', '濃度', '濫用', '濾しとる', '火災', '火災報知器', '火薬', '灰色', '災害', '点在', '点字', '点数', '為す', '無い', '無くなる', '無し', '無人', '無人化', '無作為', '無傷', '無償', '無制限', '無力', '無効', '無報酬', '無害', '無意味', '無意識的', '無数', '無料', '無条件', '無線', '無脳', '無視', '無許可', '無調', '無象', '無関係', '無限', '無限大', '無限小', '無駄', '焦点', '焼き付ける', '焼く', '焼ける', '焼結', '照合', '照明', '照計', '煩雑', '煽る', '煽動', '熟練', '熟考', '熟語', '熱い', '熱伝導', '熱力', '熱心', '爆撃', '爆撃機', '爆煙', '爆発', '爆発的', '爆雷', '片方', '物体', '物作り', '物性', '物流', '物理', '物理学', '物理療法', '物理的', '物理量', '物置', '物語', '物質', '特に', '特例', '特別', '特効薬', '特化', '特定', '特定商取引に関する法律', '特徴', '特徴的', '特性', '特撮', '特攻', '特有', '特権', '特殊', '特殊効果', '特殊性', '特異値', '特異性', '特異点', '特筆', '特色', '特記事項', '特許', '特許庁', '特許権', '特長', '牽引', '犠牲', '犯す', '犯罪', '状態', '状況', '状況下', '狙い', '狙う', '狩る', '独創的', '独占', '独特', '独立', '独自', '独裁', '狭い', '狭義', '狼煙', '獲得', '率いる', '率先', '王朝', '王様', '王立', '玩具', '玩遊', '珍しい', '珍重', '珪素', '現す', '現に', '現れる', '現われる', '現代', '現代的', '現像', '現在', '現地', '現場', '現存', '現実', '現実味', '現実感', '現実的', '現時点', '現物', '現状', '現象', '理史', '理屈', '理工学', '理工系', '理念', '理想', '理想主義', '理想的', '理由', '理系', '理解', '理詰め', '理論', '理論的', '瑣末', '環境', '環境構築', '甘利', '生かす', '生きる', '生き残る', '生じる', '生ずる', '生まれ', '生まれる', '生みの親', '生み出す', '生み出せる', '生む', '生体', '生命', '生命科学', '生態系', '生成', '生板', '生活', '生物', '生物学', '生産', '生産品', '生産性', '生産業', '生産量', '生起', '生還', '産業', '産業界', '産物', '用いる', '用字', '用意', '用法', '用語', '用途', '田中', '由来', '申し立て', '申請', '申請用', '申請者', '电子', '电玩', '男性', '画する', '画像', '画像データ', '画像検索', '画材', '画素', '画角', '画質', '画面', '留まる', '略す', '略名', '略称', '略記', '略語', '番号', '番目', '番組', '異なる', '異常', '異界', '異論', '疎通', '疑い', '疑う', '疑似', '疑問', '疑惑', '疫学', '疲弊', '病気', '病院', '症例', '痙攣', '療法', '発する', '発作', '発信', '発券', '発売', '発展', '発想', '発揮', '発散', '発明', '発注', '発火', '発熱', '発生', '発生源', '発生率', '発祥', '発端', '発行', '発表', '発見', '発覚', '発言', '発送', '発達', '発電', '発音', '登場', '登用', '登記法', '登録', '白地図', '白物', '白色', '白黒', '百万', '百科', '百科事典', '百科全書', '的外れ', '皓一', '皮切り', '皮肉', '皮膚', '盗用', '盗聴', '盛り上がる', '盛り込む', '盛ん', '監査', '監視', '盤面', '目す', '目先', '目処', '目指す', '目標', '目次', '目玉', '目的', '目立つ', '目覚ましい', '目録', '直前', '直径', '直後', '直感', '直感的', '直接', '直接的', '直線', '直観', '直観的', '直訳', '直達', '直面', '相乗効果', '相互', '相互作用', '相互排他的', '相加平均', '相場', '相変わらず', '相対', '相対的', '相当', '相性', '相愛大学', '相手', '相談', '相違', '相関', '相関係数', '省く', '省令', '省庁', '省略', '看護学', '真ん中', '真価', '真値', '真偽', '真実', '真正性', '真理値', '真相', '真空', '真空管', '眺める', '着ける', '着る', '着信', '着手', '着目', '瞬時', '瞬間', '瞳孔', '矛盾', '知る', '知性', '知的', '知的財産権', '知育', '知能', '知見', '知覚', '知識', '知識工学', '矩形', '短い', '短所', '短時間', '短期', '短期間', '短絡', '短編', '短編小説', '短縮', '短距離', '石井', '砂原', '研修', '研究', '研究会', '研究所', '研究者', '研究開発', '砥石', '砲撃', '破る', '破壊', '破損', '破片', '硬い', '硬化', '確か', '確かめる', '確保', '確定', '確実', '確実性', '確率', '確率論', '確立', '確認', '磁化', '磁場', '磁性体', '磁気', '磁石', '磨く', '示す', '示唆', '社会', '社会化', '社会基盤', '社会学', '社会的', '社内', '社員', '神学', '神経', '神託', '神話', '禁じ手', '禁ずる', '禁止', '禁止法', '福祉', '秀樹', '私たち', '私用', '私的', '私立大学', '科学', '科学史', '科学技術', '科学的', '科学科', '科学者', '秒間', '秘める', '秘匿', '秘密', '秩序', '称す', '称する', '移す', '移る', '移動', '移動体', '移植', '移植性', '移籍', '移行', '稀少', '程度', '税務', '税法', '種々', '種別', '種類', '稼働', '稼動', '積み木', '積み重ね', '積む', '積分', '積分学', '積極性', '積極的', '積雪計', '究極', '空き時間', '空ける', '空中', '空想', '空戦', '空欄', '空母', '空気', '空気圧', '空港', '空白', '空砲', '空調', '空軍', '空間', '空間的', '突き当たる', '突き止める', '突く', '突如', '突破', '窃取', '窃盗', '窒化', '窓口', '立ち上がり', '立ち上がる', '立ち上げる', '立ち入る', '立つ', '立てる', '立て直す', '立体', '立体的', '立場', '立心', '立案', '立案者', '立派', '立石', '端子', '端数処理', '端末', '端的', '競争', '競争力', '競争意識', '競合', '競技', '競技会', '竹内', '笑顔', '符号', '符号化', '第一人者', '筆頭', '等々', '等しい', '等価', '等値', '等分', '等差', '等式', '筋肉', '筐体', '答え', '答える', '策定', '箇所', '算定', '算数', '算法', '算術', '管理', '管理局', '管理手法', '管理者', '管理部', '節約', '範囲', '範疇', '築く', '簡体字', '簡便', '簡単', '簡易', '簡潔', '簡略', '簡素', '簡素化', '米中', '米国', '米英', '米軍', '粒子', '粒度', '粗い', '粗粒', '粘土板', '精力的', '精密', '精度', '精査', '精神', '精神的', '精細', '精緻', '精通', '系列', '系統', '紀要', '約束', '紆余', '納得', '納期', '納本', '純度', '純水', '純粋', '紙媒体', '紙送り', '紙面', '級数', '紛争', '紛失', '素人', '素因数', '素子', '素数', '素早い', '素朴', '素材', '索引', '累々', '累乗', '累積', '細かい', '細分', '細分化', '細粒', '細胞', '細菌', '紹介', '終える', '終わり', '終わる', '終了', '終焉', '終盤', '終端', '組み上げる', '組み合せる', '組み合わさる', '組み合わす', '組み合わせ', '組み合わせる', '組み立て', '組み立てる', '組み込み', '組み込む', '組む', '組合', '組合せ', '組合せる', '組合わせる', '組版', '組立', '組織', '組織内', '組織化', '組織的', '組込', '組込み', '組込む', '経る', '経営', '経営管理', '経度', '経時', '経済', '経済学', '経済産業省', '経済的', '経由', '経緯', '経路', '経過', '経験', '経験則', '結びつく', '結びつける', '結び付ける', '結ぶ', '結合', '結局', '結成', '結晶', '結果', '結果的', '結論', '絡み合う', '絡む', '給与計算', '統一', '統制', '統合', '統合型', '統治', '統計', '統計データ', '統計学', '統計学的', '統計情報', '統計的', '統計資料', '統語', '統語論', '統辞論', '絵具', '絵文字', '絵画', '絶える', '絶対', '絶対的', '絶滅', '絶縁', '絶縁体', '継承', '継続', '継続的', '続々', '続く', '続ける', '続行', '維持', '維持費', '綱要', '網羅', '綺麗', '緊張感', '緊急時', '総体', '総務省', '総合', '総合的', '総和', '総局', '総数', '総理', '総目録', '総称', '総計', '総選挙', '線分', '線型', '線型性', '線引き', '線形', '線画', '線路', '編み出す', '編成', '編纂', '編著', '編集', '編集者', '緩める', '緩やか', '緩和', '緯度', '練習', '緻密', '縄張り', '縛り', '縛る', '縦横', '縦軸', '縦長', '縮める', '縮小', '縮尺', '縮約', '繊維', '繋がり', '繋がる', '繋ぎ合わせる', '繋げる', '織り込む', '繰り返し', '繰り返す', '繰返す', '罫線', '置き換え', '置き換える', '置き換わる', '置く', '置ける', '置換', '置換える', '署名', '羅列', '美しい', '美術', '美術界', '美術館', '義務', '羽根', '翌年', '習う', '習得', '習慣', '習熟', '翻す', '翻訳', '翻訳家', '翻訳者', '翼竜', '老人', '老若男女', '考え', '考える', '考え出す', '考え方', '考察', '考慮', '考案', '耐える', '耐用年数', '聞きだす', '聞き出す', '聞き取る', '聞き逃す', '聞く', '聴覚', '聴覚障害者', '職人', '職業', '職種', '肉体', '肖る', '肖像', '肥大化', '育つ', '育む', '背後', '背景', '背景色', '能力', '能動', '能動学習', '能動的学習', '能率', '脅威', '脆弱', '脆弱性', '脚本', '脱する', '脱線', '脳内', '脳波', '脳神経', '腹腔', '膨大', '臨む', '臨床', '自ら', '自主的', '自乗', '自体', '自作', '自分', '自分自身', '自前', '自動', '自動化', '自動的', '自動車', '自動音声', '自家', '自己', '自己評価', '自律', '自律的', '自明', '自治体', '自治区', '自然', '自然数', '自然界', '自然的', '自然科学', '自由', '自由度', '自発的', '自社', '自立的', '自衛隊', '自身', '臭い', '至る', '至る所', '致命的', '興味', '舞台', '航法', '航空', '航空機', '船団', '船舶', '艦艇', '艦隊', '良い', '良品', '良好', '良質', '色々', '色あせる', '色分け', '色塗り', '色彩', '色覚', '色調', '花形', '芸術', '芸術家', '芸術的', '若干', '英名', '英国', '英数字', '英文', '英機', '英語', '英語圏', '英軍', '英雄', '茶飯事', '莫大', '落ちる', '落ち着く', '落とす', '落下', '著しい', '著す', '著作', '著作権', '著作物', '著名', '著書', '著者', '著述', '蒸気', '蒸発計', '蒸着', '蓄積', '蓋然', '蔵書', '薄い', '薄膜', '薬剤学', '薬学', '薬物', '藤澤', '蘇る', '虚栄心', '虚構', '蛍光', '蜘蛛', '融合', '融資', '融通', '行う', '行える', '行き詰まる', '行く', '行ける', '行なう', '行使', '行列', '行動', '行政', '行政手続', '行数', '行為', '街区', '街灯', '衛星', '衛生学', '衝撃', '衝突', '衣服', '衣装', '衣食住', '表す', '表せる', '表れる', '表層', '表層的', '表式', '表情', '表明', '表現', '表現力', '表示', '表示法', '表紙', '表記', '表記法', '表面', '表面的', '衰退', '被写', '被害', '被覆', '裁判', '装備', '装甲', '装着', '装置', '装飾', '裏付け', '裏打ち', '裏技', '裏方', '裏面', '補い合う', '補う', '補修', '補充', '補助', '補外', '補完', '補正', '補給', '補間', '補題', '製作', '製品', '製品化', '製品名', '製図', '製造', '製造業', '複写', '複合', '複合型', '複合語', '複数', '複数人', '複数個', '複数名', '複数回', '複数形', '複素', '複素数', '複製', '複雑', '複雑化', '複雑性', '複雑系', '褒賞', '西山', '西陣', '要する', '要件', '要員', '要因', '要求', '要注意', '要点', '要約', '要素', '要請', '要領', '覆い隠す', '覆う', '覇権', '見いだす', '見える', '見える化', '見せかける', '見せる', '見た目', '見つかる', '見つける', '見なす', '見なせる', '見る', '見付ける', '見出し', '見出す', '見出せる', '見合う', '見失う', '見抜く', '見方', '見極め', '見極める', '見直し', '見直す', '見積もり', '見積もる', '見立てる', '見紛う', '見解', '見込み', '見送る', '見逃す', '見過ごす', '規制', '規則', '規則的', '規定', '規定違反', '規律', '規格', '規格化', '規模', '規程', '規範', '規約', '視力', '視察', '視点', '視界', '視程', '視聴者', '視聴覚', '視覚', '視覚化', '視覚的', '視覚障害', '覚える', '親しむ', '親和性', '観察', '観念', '観測', '観点', '视频', '角質', '解く', '解ける', '解任', '解像度', '解凍', '解放', '解散', '解明', '解析', '解析学', '解決', '解決方法', '解決法', '解決策', '解法', '解消', '解答', '解説', '解説書', '解読', '解釈', '解除', '触れる', '触発', '触覚', '言い換える', '言い方', '言い表す', '言う', '言える', '言ふ', '言及', '言明', '言葉', '言語', '言語コード', '言語学', '言語的', '言論', '訂正', '計る', '計器', '計測', '計画', '計画的', '計画立案', '計算', '計算力', '計算尺', '計算式', '計算手', '計算機', '計算機科学', '計算法', '計算結果', '計算能力', '計算量', '計装', '計量', '計量経済学', '討論', '訓練', '訓練データ', '記す', '記事', '記入', '記号', '記号論', '記名', '記憶', '記憶媒体', '記憶装置', '記法', '記者', '記譜', '記載', '記述', '記録', '訝しい', '訪れる', '設ける', '設備', '設定', '設立', '設置', '設計', '設計図', '許す', '許可', '許容', '許諾', '訳す', '訳注', '訳語', '訴え', '訴える', '訴訟', '診察', '診断', '診療', '診療所', '証拠', '証明', '証明書', '証言', '証跡', '詐欺', '評す', '評する', '評価', '評価者', '評判', '試し', '試す', '試み', '試みる', '試作', '試用', '試算', '試行', '試行錯誤', '試論', '試験', '試験的', '試験運用', '詩人', '詰まる', '詰め込む', '話し合う', '話し言葉', '話す', '話者', '話題', '該当', '詳しい', '詳細', '詳説', '認める', '認定', '認知', '認知症', '認証', '認証方式', '認識', '認識力', '誓う', '誓約', '誕生', '誘因', '誘導', '語る', '語幹', '語彙', '語形', '語源', '語用', '語用論', '語義', '誤り', '誤り伝える', '誤り率', '誤る', '誤動作', '誤報', '誤差', '誤用', '誤解', '説明', '説明書', '説明責任', '読み', '読み出し', '読み出す', '読み取り', '読み取る', '読み書き', '読み物', '読み解く', '読み込み', '読み込む', '読み込める', '読む', '読める', '読書', '読者', '読解', '課す', '課する', '課程', '課税', '課題', '課題解決', '調べ', '調べる', '調停', '調和', '調整', '調査', '調節', '調達', '請求', '論じる', '論ずる', '論争', '論文', '論理', '論理学', '論理的', '諜報', '諸刃', '諸国', '諸島', '諾々', '講ずる', '講義', '謳う', '識別', '識別子', '識字', '識者', '警備', '警告', '警報', '警察', '警戒', '警視', '警鐘', '議会', '議員', '議決権', '議論', '議長', '譲る', '譲渡', '護衛', '護送', '豊か', '豊富', '貞治', '負う', '負える', '負ける', '負担', '負荷', '財力', '財団', '財布', '貢献', '貧乏', '貧弱', '販売', '販売店', '販売者', '販路', '責任', '貯蔵庫', '貴重', '買い取る', '買い手', '買い手市場', '買い物', '買い直し', '買う', '買収', '貸し出す', '費やす', '費用', '費用対効果', '貼り付ける', '貼り合わせる', '資する', '資料', '資格者', '資源', '資産', '資産管理', '資金', '賛同', '質問', '質感', '質疑', '質的', '賭け事', '賭博', '購入', '購入履歴', '購入者', '走る', '走査', '走行', '走行距離', '起きる', '起こす', '起こる', '起動', '起源', '起点', '超え', '超える', '超伝導', '超越', '超過', '超関数', '越える', '趣味', '足りる', '足る', '足跡', '距離', '跨ぐ', '跨る', '路上', '路線', '踏まえる', '踏み出す', '踏み台', '踏む', '踏査', '踏襲', '躍進', '躓く', '身体', '身体性', '身体的', '身分', '身動き', '身近', '身長', '車両', '車庫', '車椅子', '車線', '車載', '軌道', '軍事', '軍事史', '軍事的', '軍備拡張', '軍用', '軍艦', '軍部', '軍隊', '軍需', '転ずる', '転写', '転生', '転用', '転移', '転置', '転送', '軸足', '軽減', '軽量', '載せる', '輝く', '輸入', '輸出', '輸送', '辛い', '辞典', '辞書', '農場', '農学', '農業', '込み', '込める', '辿る', '迂回', '迅速', '迎える', '迎撃', '近い', '近く', '近しい', '近づく', '近づける', '近世', '近代', '近代化', '近代的', '近似', '近似値', '近傍', '近年', '近接', '近海', '返す', '返る', '返信', '返品', '返答', '返金', '迫る', '述べる', '述語', '迷彩', '迷惑メール', '迷路', '追いかける', '追い付く', '追い込む', '追う', '追加', '追及', '追求', '追記', '追跡', '追随', '退ける', '退行', '退避', '送り出す', '送る', '送付', '送信', '送信先', '送出', '送出す', '送受信', '送料', '逆算', '逆説', '逆転', '透明', '透過', '逐次', '逐語', '途中', '途切れ', '途絶', '通じる', '通す', '通ずる', '通り', '通りかかる', '通る', '通例', '通俗的', '通信', '通信局', '通信業', '通信販売', '通信路', '通信速度', '通常', '通念', '通用', '通知', '通称', '通話料', '通貨', '通販', '速い', '速さ', '速力', '速度', '造作', '造船', '造語', '連れる', '連係', '連合', '連合会', '連合軍', '連想', '連携', '連日', '連番', '連立', '連結', '連絡', '連絡先', '連続', '連続ドラマ', '連続的', '連邦', '連邦軍', '連鎖', '逮捕', '週間', '進む', '進める', '進出', '進化', '進化論', '進展', '進度', '進数', '進歩', '進行', '進行形', '進行状況', '進軍', '逸れる', '遂げる', '遂行', '遅々', '遅い', '遅らせる', '遅れ', '遅れる', '遅延', '遊ぶ', '遊べる', '遊園地', '遊戯', '遊戲', '運ぶ', '運動', '運動家', '運動性', '運営', '運用', '運用方法', '運用時', '運転', '運転中', '遍く', '遍在', '過ぎる', '過剰', '過去', '過大', '過少', '過程', '過酷', '道具', '道徳', '道徳的', '道路', '達する', '達人', '達成', '違い', '違う', '違える', '違反', '遜色', '遠い', '遠く', '遠ざける', '遠近', '遠近法', '遠隔', '遠隔地', '遡る', '遥か', '適う', '適す', '適する', '適切', '適合', '適宜', '適度', '適当', '適応', '適性', '適格', '適正', '適用', '適用範囲', '遮る', '遮断', '遷移', '選び出す', '選ぶ', '選別', '選定', '選択', '選択肢', '選挙', '選挙管理委員会', '遺伝', '避ける', '避難', '還元', '邦題', '邪魔', '部分', '部分的', '部品', '部局', '部屋', '部署', '部門', '部隊', '郵便', '郵便番号', '都合', '都市', '配信', '配備', '配分', '配列', '配布', '配慮', '配線', '配線板', '配置', '配色', '配送業', '酔い', '酷評', '酸化物', '釈放', '釈明', '重い', '重ねる', '重ね合わせ', '重ね合わせる', '重み付け', '重力', '重厚', '重大', '重度', '重点', '重複', '重要', '重要度', '重要性', '重要視', '重視', '重量', '野家', '野心', '量子', '量子論', '量感', '量産', '量的', '金型', '金属', '金物', '金融', '金賞', '金銭', '金額', '針路', '鈍る', '鉄道', '鉛筆', '銀塩', '銀行', '銃座', '銃手', '銃火器', '銅箔', '銅線', '銘打つ', '錯綜', '錯覚', '鑑賞', '長い', '長らく', '長官', '長尾', '長年', '長所', '長時間', '長期', '長期的', '長期間', '長編', '閃き', '閃光', '閉じこもる', '閉じる', '閉鎖', '開く', '開ける', '開催', '開口', '開始', '開拓', '開放', '開発', '開発中', '開発元', '開発者', '開発職', '開発部門', '開示', '開設', '開鍵', '間に合う', '間接', '間違い', '間違う', '間隔', '関する', '関る', '関わり', '関わる', '関与', '関係', '関係データベース', '関係モデル', '関係式', '関係性', '関係者', '関心', '関心事', '関数', '関連', '関連性', '関連資料', '閲覧', '閲覧者', '閾値', '阪神', '防ぐ', '防げる', '防御', '防止', '防止法', '防空', '防衛', '防衛力', '防衛省', '防諜', '阻止', '降下', '限り', '限りない', '限る', '限定', '限定的', '限界', '院生', '除く', '除ける', '除去', '除外', '除算', '陥る', '陰極', '陳腐化', '陸上', '陸上自衛隊', '陸軍', '陽一郎', '階層', '階差', '階数', '階調', '随伴', '隙間', '際する', '際立つ', '障壁', '障害', '障害者', '隠す', '隠れる', '隠蔽', '隣接', '集まり', '集まる', '集める', '集中', '集中型', '集中的', '集合', '集合論', '集団', '集積', '集積回路', '集約', '集計', '集計結果', '雇う', '雇用', '雑多', '雑誌', '雑音', '離せる', '離れる', '離散', '離脱', '難しい', '難しさ', '難点', '難解', '難読', '雨水', '雨滴', '雨量計', '雲高計', '電力', '電力量', '電動', '電化', '電卓', '電器', '電圧', '電子', '電子マネー', '電子メール', '電子化', '電子商取引', '電子工学', '電子申請', '電子署名', '電子計算機', '電子証明書', '電機', '電気', '電気量', '電池', '電波', '電流', '電源', '電界', '電磁的記録', '電荷', '電解', '電話', '電話網', '電電公社', '需要', '霊性', '霊的', '露光', '青空', '静止', '静的', '静電', '非公式', '非公開', '非同期', '非営利', '非営利団体', '非営利組織', '非対称', '非常', '非推奨', '非破壊', '非線形', '非難', '面々', '面倒', '面積', '面談', '革命', '革命的', '革新的', '韓国', '音列', '音声', '音楽', '音源', '音節', '音素', '音読み', '音階', '音響', '頂点', '項数', '項目', '順位', '順列', '順序', '順次', '順番', '順調', '須藤', '預金口座', '頑健', '頒布', '領土', '領域', '領空', '頭字', '頭打ち', '頭文字', '頭痛', '頭部', '頻度', '頻繁', '頼り', '頼る', '題する', '顔写真', '顔色', '顔面', '顕在化', '顕微鏡', '顕著', '類似', '類似性', '類型', '顧客', '風向計', '風景', '風習', '風速計', '風雲', '飛びとび', '飛び回る', '飛び越える', '飛ぶ', '飛行', '飛躍的', '食い違い', '食い違う', '食品', '飲ます', '飽和', '飾る', '養成', '首座', '首脳', '首都大学', '香水', '香港', '駆使', '駆動', '駐車場', '騒音', '験潮儀', '騙し取る', '騙す', '驚く', '骨格', '骨組み', '高い', '高まる', '高める', '高レベル', '高価', '高分子', '高周波', '高品質', '高密度', '高度', '高度化', '高性能', '高木', '高校', '高機能', '高次', '高水準', '高温', '高画質', '高等', '高級', '高速', '高速化', '高額', '高騰', '魅力的', '魔界', '鮮やか', '鳥居', '鳴らす', '鳴る', '麻雀', '黄緑', '黎明期', '黒い', '黒色', '黒質', '齊藤', '齎す']\n"
          ],
          "name": "stdout"
        }
      ]
    },
    {
      "cell_type": "code",
      "metadata": {
        "id": "v6Mcat9s16Gk",
        "outputId": "3acf5294-139d-44ce-f02e-16d585dbbaf6",
        "colab": {
          "base_uri": "https://localhost:8080/",
          "height": 53
        }
      },
      "source": [
        "# コーパス全体での出現頻度順で上位20単語を見てみる。\n",
        "\n",
        "import numpy as np\n",
        "\n",
        "vocab = np.array(vocab)\n",
        "print(vocab[np.argsort(- X.sum(axis=0))][:20])"
      ],
      "execution_count": null,
      "outputs": [
        {
          "output_type": "stream",
          "text": [
            "['こと' 'ある' 'する' 'よる' 'いう' 'なる' 'もの' '言語' 'ため' 'コンピュータ' 'ソフトウェア' 'システム'\n",
            " '問題' '使う' '場合' '計算' 'ない' 'データ' 'それ' 'これ']\n"
          ],
          "name": "stdout"
        }
      ]
    },
    {
      "cell_type": "code",
      "metadata": {
        "id": "ug_Oz0HKdJCd"
      },
      "source": [
        "from sklearn.feature_extraction.text import TfidfVectorizer\n",
        "\n",
        "vectorizer = TfidfVectorizer()\n",
        "X = vectorizer.fit_transform(df['text'])"
      ],
      "execution_count": null,
      "outputs": []
    },
    {
      "cell_type": "code",
      "metadata": {
        "id": "cdvmscvfdVva"
      },
      "source": [
        "X = X.toarray()"
      ],
      "execution_count": null,
      "outputs": []
    },
    {
      "cell_type": "code",
      "metadata": {
        "id": "U4PT6XMLhaJX",
        "outputId": "36266f23-2e04-4f2f-ea99-a73b1de22659",
        "colab": {
          "base_uri": "https://localhost:8080/",
          "height": 35
        }
      },
      "source": [
        "X.shape"
      ],
      "execution_count": null,
      "outputs": [
        {
          "output_type": "execute_result",
          "data": {
            "text/plain": [
              "(123, 10771)"
            ]
          },
          "metadata": {
            "tags": []
          },
          "execution_count": 43
        }
      ]
    },
    {
      "cell_type": "code",
      "metadata": {
        "id": "iUmjNy_odZDc",
        "outputId": "d9eef422-c069-401f-8174-cd833774ebfc",
        "colab": {
          "base_uri": "https://localhost:8080/",
          "height": 35
        }
      },
      "source": [
        "X[0]"
      ],
      "execution_count": null,
      "outputs": [
        {
          "output_type": "execute_result",
          "data": {
            "text/plain": [
              "array([0., 0., 0., ..., 0., 0., 0.])"
            ]
          },
          "metadata": {
            "tags": []
          },
          "execution_count": 35
        }
      ]
    },
    {
      "cell_type": "code",
      "metadata": {
        "id": "9-iVfMub3Aon",
        "outputId": "7bf52673-e3e1-4f57-dcc6-b52056069729",
        "colab": {
          "base_uri": "https://localhost:8080/",
          "height": 89
        }
      },
      "source": [
        "# 「人工知能」エントリと他のエントリとの距離を求める。\n",
        "\n",
        "from scipy.spatial import distance\n",
        "\n",
        "genre = df['genre'].values.tolist()\n",
        "index_AI = genre.index('人工知能')\n",
        "print(f'「{genre[index_AI]}」と「{genre[10]}」との間での・・・')\n",
        "print(f'ユークリッド距離: {np.linalg.norm(X[10] - X[index_AI])}')\n",
        "print(f'内積: {np.dot(X[10], X[index_AI])}')\n",
        "print(f'コサイン類似度に基づく距離: {distance.cosine(X[10], X[index_AI])}')"
      ],
      "execution_count": null,
      "outputs": [
        {
          "output_type": "stream",
          "text": [
            "「人工知能」と「組み込みシステム」との間での・・・\n",
            "ユークリッド距離: 1.3092280064956952\n",
            "内積: 0.14296101350365437\n",
            "コサイン類似度に基づく距離: 0.8570389864963457\n"
          ],
          "name": "stdout"
        }
      ]
    },
    {
      "cell_type": "code",
      "metadata": {
        "id": "0j3g_gmcgaEV",
        "outputId": "b81d8635-f4aa-4d66-cd7e-ddc97b903fc1",
        "colab": {
          "base_uri": "https://localhost:8080/",
          "height": 35
        }
      },
      "source": [
        "len(genre)"
      ],
      "execution_count": null,
      "outputs": [
        {
          "output_type": "execute_result",
          "data": {
            "text/plain": [
              "123"
            ]
          },
          "metadata": {
            "tags": []
          },
          "execution_count": 39
        }
      ]
    },
    {
      "cell_type": "code",
      "metadata": {
        "id": "bgMb6Vj6ggF_",
        "outputId": "dca8d6d5-0a49-4fba-d40f-d8ae26bddd3d",
        "colab": {
          "base_uri": "https://localhost:8080/",
          "height": 1000
        }
      },
      "source": [
        "for i in range(len(genre)):\n",
        "  print(np.dot(X[i], X[index_AI]))"
      ],
      "execution_count": null,
      "outputs": [
        {
          "output_type": "stream",
          "text": [
            "0.19972856451145343\n",
            "0.07958257944205381\n",
            "0.06932375217097608\n",
            "0.06861721119422405\n",
            "0.11543972992717506\n",
            "0.07636263686034675\n",
            "0.07698024146545353\n",
            "0.0\n",
            "0.09167901533035046\n",
            "0.11651775957303973\n",
            "0.14296101350365437\n",
            "0.039695948496531436\n",
            "0.06686261508626926\n",
            "0.09457999881701312\n",
            "0.058201622169880035\n",
            "0.08160148993890329\n",
            "0.0851338880659056\n",
            "0.10035329638191715\n",
            "0.10563653279681089\n",
            "0.1298191658225303\n",
            "0.10770923631130316\n",
            "0.05226222075408618\n",
            "0.14385023889712287\n",
            "0.10254078155204015\n",
            "0.10061827470016631\n",
            "0.09807106727198683\n",
            "0.07929321988980442\n",
            "0.08840188429864658\n",
            "0.06481001835518775\n",
            "0.06740566604104804\n",
            "0.041237804379967755\n",
            "0.06835443300990743\n",
            "0.14167177013886606\n",
            "0.10063348165050318\n",
            "0.08716150498070815\n",
            "0.05485574991571685\n",
            "0.05533785852365058\n",
            "0.08240204074134677\n",
            "0.12267661715612632\n",
            "0.10788636695712009\n",
            "0.10099429094178325\n",
            "0.07181699820553371\n",
            "0.100185596257048\n",
            "0.11329909218137553\n",
            "0.08921391023602457\n",
            "0.13236406149176935\n",
            "0.08530264947670979\n",
            "0.08129334283583439\n",
            "0.11203514528753422\n",
            "0.09212779231436238\n",
            "0.08317291947750013\n",
            "0.1433297946929785\n",
            "0.11814494759706064\n",
            "0.10533241903028567\n",
            "0.10978157325674986\n",
            "0.13756727787182527\n",
            "0.14409940146712252\n",
            "0.060707720234584955\n",
            "0.07767564345794092\n",
            "0.04284037335583334\n",
            "0.10837812223684598\n",
            "0.07060502078463465\n",
            "0.1039773685062235\n",
            "0.17256047278719788\n",
            "0.08852213688533868\n",
            "0.04346503029126945\n",
            "0.021901335251722734\n",
            "0.11970696902673589\n",
            "0.08947717052851431\n",
            "0.10572892667306198\n",
            "0.06150775917693878\n",
            "0.14049570395768424\n",
            "0.07316185792281746\n",
            "0.10441258702892084\n",
            "0.05008759078463429\n",
            "0.10993122044875285\n",
            "0.04949787662666785\n",
            "0.06906382846804135\n",
            "0.06224119737036961\n",
            "0.09937560123071076\n",
            "0.10685771108161987\n",
            "0.09778742624298595\n",
            "0.12726267238424233\n",
            "0.1266748198704873\n",
            "0.04866923844167216\n",
            "0.10423443261491376\n",
            "0.15761596713488166\n",
            "0.1790814493354908\n",
            "0.23479354698121252\n",
            "0.1344513325038299\n",
            "0.07147520988452655\n",
            "0.17796328451057225\n",
            "0.16589072223960444\n",
            "0.06175623846655207\n",
            "0.062261340109657975\n",
            "0.07255966712336512\n",
            "0.05592636330930906\n",
            "0.1039659447379444\n",
            "0.07507311112743109\n",
            "0.057559955521872604\n",
            "0.06838265560463869\n",
            "0.006728648374794135\n",
            "0.014202726056506644\n",
            "0.11384179137721784\n",
            "0.055979108592940655\n",
            "0.047330852273747115\n",
            "0.09691795775765148\n",
            "0.05111696472565978\n",
            "0.08571450214209862\n",
            "0.055057039233985666\n",
            "0.033044649592314304\n",
            "0.12124071505458275\n",
            "0.05176465454365631\n",
            "0.09553776237693026\n",
            "0.0630726684665529\n",
            "0.09100229942994666\n",
            "0.038954241624797964\n",
            "0.09491708665102874\n",
            "0.07675171214420758\n",
            "0.12360785197386895\n",
            "0.07892706014492692\n",
            "0.08842139632949618\n",
            "1.0000000000000009\n"
          ],
          "name": "stdout"
        }
      ]
    },
    {
      "cell_type": "markdown",
      "metadata": {
        "id": "mfb2TM94L-sC"
      },
      "source": [
        "### ここから各自作業。\n",
        "* 「人工知能」と、Wikipediaのエントリの類似度の上で、最も近いジャンルは、どれ？\n",
        "* ユークリッド距離とコサイン類似度のうち、どちらを類似度として使った場合の答えが、より納得できる答えになっているか？"
      ]
    },
    {
      "cell_type": "code",
      "metadata": {
        "id": "uxRg04cV47EX",
        "outputId": "f0fb955a-6a96-4eb2-bcf1-3794cf8bbd7d",
        "colab": {
          "base_uri": "https://localhost:8080/",
          "height": 1000
        }
      },
      "source": [
        "genre"
      ],
      "execution_count": null,
      "outputs": [
        {
          "output_type": "execute_result",
          "data": {
            "text/plain": [
              "['コンピュータ科学',\n",
              " 'ハードウェア',\n",
              " 'プリント基板',\n",
              " '周辺機器',\n",
              " '集積回路',\n",
              " 'Systems on Chip (SoCs)',\n",
              " 'エネルギー消費 (グリーン・コンピューティング)',\n",
              " 'EDA',\n",
              " 'ハードウェアアクセラレーション',\n",
              " 'コンピュータ・アーキテクチャ',\n",
              " '組み込みシステム',\n",
              " 'リアルタイムシステム',\n",
              " 'ディペンダビリティ',\n",
              " 'ネットワーク',\n",
              " '通信プロトコル',\n",
              " 'インタプリタ',\n",
              " 'ミドルウェア',\n",
              " '仮想マシン',\n",
              " 'オペレーティングシステム',\n",
              " 'ソフトウェア品質',\n",
              " 'ツール',\n",
              " 'プログラミングパラダイム',\n",
              " 'プログラミング言語',\n",
              " 'コンパイラ',\n",
              " 'ドメイン固有言語',\n",
              " 'モデリング言語',\n",
              " 'ソフトウェアフレームワーク',\n",
              " '統合開発環境',\n",
              " 'ソフトウェア構成管理',\n",
              " 'ソフトウェアライブラリ',\n",
              " 'ソフトウェアリポジトリ',\n",
              " 'ソフトウェア開発',\n",
              " 'ソフトウェア開発プロセス',\n",
              " '要求分析',\n",
              " 'ソフトウェア設計',\n",
              " 'ソフトウェアデプロイメント',\n",
              " 'ソフトウェアメンテナンス',\n",
              " 'オープンソースモデル',\n",
              " '計算理論',\n",
              " '計算モデル',\n",
              " '形式言語',\n",
              " 'オートマトン理論',\n",
              " '計算可能性理論',\n",
              " '計算複雑性理論',\n",
              " '意味論',\n",
              " 'アルゴリズム',\n",
              " 'アルゴリズム解析',\n",
              " '乱択アルゴリズム',\n",
              " '計算幾何学',\n",
              " '離散数学',\n",
              " '確率',\n",
              " '統計学',\n",
              " '数学ソフトウェア',\n",
              " '情報理論',\n",
              " '解析学',\n",
              " '数値解析',\n",
              " '情報システム',\n",
              " 'データベース管理システム',\n",
              " '情報ストレージシステム',\n",
              " '企業情報システム',\n",
              " '地理情報システム',\n",
              " '意思決定支援システム',\n",
              " 'プロセス制御システム',\n",
              " 'データマイニング',\n",
              " '電子図書館',\n",
              " 'コンピューティング・プラットフォーム',\n",
              " 'デジタルマーケティング',\n",
              " 'World Wide Web',\n",
              " '情報検索',\n",
              " 'セキュリティ',\n",
              " '暗号理論',\n",
              " '形式手法',\n",
              " '侵入検知システム',\n",
              " 'ネットワーク・セキュリティ',\n",
              " '情報セキュリティ',\n",
              " 'ヒューマンコンピュータインタラクション',\n",
              " 'インタラクションデザイン',\n",
              " 'ユビキタスコンピューティング',\n",
              " '可視化',\n",
              " 'アクセシビリティ',\n",
              " '並行性',\n",
              " '並行コンピューティング',\n",
              " '並列コンピューティング',\n",
              " '分散コンピューティング',\n",
              " 'マルチスレッディング',\n",
              " 'マルチプロセッシング',\n",
              " '自然言語処理',\n",
              " '知識表現と推論',\n",
              " 'コンピュータビジョン',\n",
              " '自動計画とスケジューリング',\n",
              " '検索手法',\n",
              " '制御手法',\n",
              " '機械学習',\n",
              " '教師あり学習',\n",
              " '教師なし学習',\n",
              " '強化学習',\n",
              " '交差検証',\n",
              " 'グラフィックス',\n",
              " 'アニメーション',\n",
              " 'レンダリング',\n",
              " '画像編集',\n",
              " 'GPU',\n",
              " '複合現実',\n",
              " 'バーチャル・リアリティ',\n",
              " '画像圧縮',\n",
              " 'ソリッドモデリング',\n",
              " '電子商取引',\n",
              " '企業アプリケーション',\n",
              " '計算物理学',\n",
              " '計算化学',\n",
              " '計算生物学',\n",
              " '計算社会科学',\n",
              " '健康情報学',\n",
              " 'デジタルアート',\n",
              " '電子出版',\n",
              " 'サイバー戦争',\n",
              " '電子投票',\n",
              " 'コンピュータゲーム',\n",
              " 'ワードプロセッサー',\n",
              " 'オペレーションズ・リサーチ',\n",
              " '教育工学',\n",
              " '文書管理システム',\n",
              " '人工知能']"
            ]
          },
          "metadata": {
            "tags": []
          },
          "execution_count": 31
        }
      ]
    },
    {
      "cell_type": "code",
      "metadata": {
        "id": "U-da3ID_L0nK"
      },
      "source": [
        ""
      ],
      "execution_count": null,
      "outputs": []
    }
  ]
}