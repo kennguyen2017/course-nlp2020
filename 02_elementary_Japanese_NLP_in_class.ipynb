{
  "nbformat": 4,
  "nbformat_minor": 0,
  "metadata": {
    "colab": {
      "name": "02_elementary_Japanese_NLP_in_class.ipynb",
      "provenance": [],
      "collapsed_sections": [],
      "authorship_tag": "ABX9TyM1EdDKGLUmLUQEBRCAbjqF",
      "include_colab_link": true
    },
    "kernelspec": {
      "name": "python3",
      "display_name": "Python 3"
    }
  },
  "cells": [
    {
      "cell_type": "markdown",
      "metadata": {
        "id": "view-in-github",
        "colab_type": "text"
      },
      "source": [
        "<a href=\"https://colab.research.google.com/github/tomonari-masada/course-nlp2020/blob/master/02_elementary_Japanese_NLP_in_class.ipynb\" target=\"_parent\"><img src=\"https://colab.research.google.com/assets/colab-badge.svg\" alt=\"Open In Colab\"/></a>"
      ]
    },
    {
      "cell_type": "markdown",
      "metadata": {
        "id": "m_GmRdAi6h89"
      },
      "source": [
        "# 02 日本語のテキストデータの扱い方\n",
        "\n",
        "* 日本語は、言語の性質上、文が空白によって単語へ分たれていない。\n",
        " * 同じように、文が空白によって単語へ分たれていない言語として、他にどのような言語があるか？\n",
        "* そのため、まず最初に文を単語へ分割する必要がある。\n",
        "* この作業を**形態素解析**と言う。\n",
        " * 長い文字列としての言語データを、単語のような細かい単位へ分割することを、一般にtokenizationと言う。\n",
        " * tokenizationの単位は、単語のように意味的なまとまりをもつ単位とは限らない。\n",
        " *cf. [SentencePiece](https://arxiv.org/pdf/1808.06226.pdf) ... [この解説](https://qiita.com/taku910/items/7e52f1e58d0ea6e7859c)も参照。\n",
        "* ここでは、spaCyを介してsudachiというツールで形態素解析をおこなう。\n",
        " * 形態素解析システムとしては、他には、MeCabやJUMANが有名。"
      ]
    },
    {
      "cell_type": "markdown",
      "metadata": {
        "id": "MyUrPpHK-woI"
      },
      "source": [
        "## 注\n",
        "* \"ContextualVersionConflict ...\"というエラーが出たら、上部メニューの「ランタイム」から「ランタイムを再起動」をクリックして、ランタイムを再起動してみてください。"
      ]
    },
    {
      "cell_type": "markdown",
      "metadata": {
        "id": "n5jhMBOX72rt"
      },
      "source": [
        "## 02-01 spaCyの準備"
      ]
    },
    {
      "cell_type": "markdown",
      "metadata": {
        "id": "XTdXc5Z_7UZ_"
      },
      "source": [
        "### spaCyを最新版にアップデートする。"
      ]
    },
    {
      "cell_type": "code",
      "metadata": {
        "id": "wDyU7FXpgf6L",
        "outputId": "c180786a-21e8-4a12-fd23-7728f5afe8f1",
        "colab": {
          "base_uri": "https://localhost:8080/",
          "height": 613
        }
      },
      "source": [
        "! pip install -U spacy"
      ],
      "execution_count": null,
      "outputs": [
        {
          "output_type": "stream",
          "text": [
            "Collecting spacy\n",
            "\u001b[?25l  Downloading https://files.pythonhosted.org/packages/10/b5/c7a92c7ce5d4b353b70b4b5b4385687206c8b230ddfe08746ab0fd310a3a/spacy-2.3.2-cp36-cp36m-manylinux1_x86_64.whl (9.9MB)\n",
            "\u001b[K     |████████████████████████████████| 10.0MB 5.6MB/s \n",
            "\u001b[?25hRequirement already satisfied, skipping upgrade: srsly<1.1.0,>=1.0.2 in /usr/local/lib/python3.6/dist-packages (from spacy) (1.0.2)\n",
            "Requirement already satisfied, skipping upgrade: numpy>=1.15.0 in /usr/local/lib/python3.6/dist-packages (from spacy) (1.18.5)\n",
            "Requirement already satisfied, skipping upgrade: blis<0.5.0,>=0.4.0 in /usr/local/lib/python3.6/dist-packages (from spacy) (0.4.1)\n",
            "Requirement already satisfied, skipping upgrade: requests<3.0.0,>=2.13.0 in /usr/local/lib/python3.6/dist-packages (from spacy) (2.23.0)\n",
            "Requirement already satisfied, skipping upgrade: preshed<3.1.0,>=3.0.2 in /usr/local/lib/python3.6/dist-packages (from spacy) (3.0.2)\n",
            "Requirement already satisfied, skipping upgrade: cymem<2.1.0,>=2.0.2 in /usr/local/lib/python3.6/dist-packages (from spacy) (2.0.3)\n",
            "Requirement already satisfied, skipping upgrade: tqdm<5.0.0,>=4.38.0 in /usr/local/lib/python3.6/dist-packages (from spacy) (4.41.1)\n",
            "Requirement already satisfied, skipping upgrade: wasabi<1.1.0,>=0.4.0 in /usr/local/lib/python3.6/dist-packages (from spacy) (0.8.0)\n",
            "Collecting thinc==7.4.1\n",
            "\u001b[?25l  Downloading https://files.pythonhosted.org/packages/10/ae/ef3ae5e93639c0ef8e3eb32e3c18341e511b3c515fcfc603f4b808087651/thinc-7.4.1-cp36-cp36m-manylinux1_x86_64.whl (2.1MB)\n",
            "\u001b[K     |████████████████████████████████| 2.1MB 44.5MB/s \n",
            "\u001b[?25hRequirement already satisfied, skipping upgrade: plac<1.2.0,>=0.9.6 in /usr/local/lib/python3.6/dist-packages (from spacy) (1.1.3)\n",
            "Requirement already satisfied, skipping upgrade: murmurhash<1.1.0,>=0.28.0 in /usr/local/lib/python3.6/dist-packages (from spacy) (1.0.2)\n",
            "Requirement already satisfied, skipping upgrade: catalogue<1.1.0,>=0.0.7 in /usr/local/lib/python3.6/dist-packages (from spacy) (1.0.0)\n",
            "Requirement already satisfied, skipping upgrade: setuptools in /usr/local/lib/python3.6/dist-packages (from spacy) (50.3.0)\n",
            "Requirement already satisfied, skipping upgrade: chardet<4,>=3.0.2 in /usr/local/lib/python3.6/dist-packages (from requests<3.0.0,>=2.13.0->spacy) (3.0.4)\n",
            "Requirement already satisfied, skipping upgrade: idna<3,>=2.5 in /usr/local/lib/python3.6/dist-packages (from requests<3.0.0,>=2.13.0->spacy) (2.10)\n",
            "Requirement already satisfied, skipping upgrade: urllib3!=1.25.0,!=1.25.1,<1.26,>=1.21.1 in /usr/local/lib/python3.6/dist-packages (from requests<3.0.0,>=2.13.0->spacy) (1.24.3)\n",
            "Requirement already satisfied, skipping upgrade: certifi>=2017.4.17 in /usr/local/lib/python3.6/dist-packages (from requests<3.0.0,>=2.13.0->spacy) (2020.6.20)\n",
            "Requirement already satisfied, skipping upgrade: importlib-metadata>=0.20; python_version < \"3.8\" in /usr/local/lib/python3.6/dist-packages (from catalogue<1.1.0,>=0.0.7->spacy) (2.0.0)\n",
            "Requirement already satisfied, skipping upgrade: zipp>=0.5 in /usr/local/lib/python3.6/dist-packages (from importlib-metadata>=0.20; python_version < \"3.8\"->catalogue<1.1.0,>=0.0.7->spacy) (3.2.0)\n",
            "Installing collected packages: thinc, spacy\n",
            "  Found existing installation: thinc 7.4.0\n",
            "    Uninstalling thinc-7.4.0:\n",
            "      Successfully uninstalled thinc-7.4.0\n",
            "  Found existing installation: spacy 2.2.4\n",
            "    Uninstalling spacy-2.2.4:\n",
            "      Successfully uninstalled spacy-2.2.4\n",
            "Successfully installed spacy-2.3.2 thinc-7.4.1\n"
          ],
          "name": "stdout"
        }
      ]
    },
    {
      "cell_type": "markdown",
      "metadata": {
        "id": "mm9xRGBQ82x9"
      },
      "source": [
        "### バージョンを確認する。"
      ]
    },
    {
      "cell_type": "code",
      "metadata": {
        "id": "EQzgkN1B8yzP",
        "outputId": "33e7a75b-a049-4d2b-ca3b-84e1acf63390",
        "colab": {
          "base_uri": "https://localhost:8080/",
          "height": 251
        }
      },
      "source": [
        "! python -m spacy validate"
      ],
      "execution_count": null,
      "outputs": [
        {
          "output_type": "stream",
          "text": [
            "\r⠙ Loading compatibility table...\r\u001b[2K\u001b[38;5;2m✔ Loaded compatibility table\u001b[0m\n",
            "\u001b[1m\n",
            "====================== Installed models (spaCy v2.3.2) ======================\u001b[0m\n",
            "\u001b[38;5;4mℹ spaCy installation: /usr/local/lib/python3.6/dist-packages/spacy\u001b[0m\n",
            "\n",
            "TYPE      NAME             MODEL            VERSION                       \n",
            "package   en-core-web-sm   en_core_web_sm   \u001b[38;5;1m2.2.5\u001b[0m   --> 2.3.1\n",
            "\n",
            "\u001b[1m\n",
            "============================== Install updates ==============================\u001b[0m\n",
            "Use the following commands to update the model packages:\n",
            "python -m spacy download en_core_web_sm\n",
            "\n"
          ],
          "name": "stdout"
        }
      ]
    },
    {
      "cell_type": "markdown",
      "metadata": {
        "id": "ILTyM-jV9uPe"
      },
      "source": [
        "### 英語の統計モデルもアップデートしておく。\n",
        "* 今回は英語データは使わないが。"
      ]
    },
    {
      "cell_type": "code",
      "metadata": {
        "id": "o0M3NKIm9iwe",
        "outputId": "0edf79ee-de79-44b7-a211-f49f3a61d2b3",
        "colab": {
          "base_uri": "https://localhost:8080/",
          "height": 667
        }
      },
      "source": [
        "! python -m spacy download en_core_web_sm"
      ],
      "execution_count": null,
      "outputs": [
        {
          "output_type": "stream",
          "text": [
            "Collecting en_core_web_sm==2.3.1\n",
            "\u001b[?25l  Downloading https://github.com/explosion/spacy-models/releases/download/en_core_web_sm-2.3.1/en_core_web_sm-2.3.1.tar.gz (12.0MB)\n",
            "\u001b[K     |████████████████████████████████| 12.1MB 520kB/s \n",
            "\u001b[?25hRequirement already satisfied: spacy<2.4.0,>=2.3.0 in /usr/local/lib/python3.6/dist-packages (from en_core_web_sm==2.3.1) (2.3.2)\n",
            "Requirement already satisfied: srsly<1.1.0,>=1.0.2 in /usr/local/lib/python3.6/dist-packages (from spacy<2.4.0,>=2.3.0->en_core_web_sm==2.3.1) (1.0.2)\n",
            "Requirement already satisfied: plac<1.2.0,>=0.9.6 in /usr/local/lib/python3.6/dist-packages (from spacy<2.4.0,>=2.3.0->en_core_web_sm==2.3.1) (1.1.3)\n",
            "Requirement already satisfied: requests<3.0.0,>=2.13.0 in /usr/local/lib/python3.6/dist-packages (from spacy<2.4.0,>=2.3.0->en_core_web_sm==2.3.1) (2.23.0)\n",
            "Requirement already satisfied: cymem<2.1.0,>=2.0.2 in /usr/local/lib/python3.6/dist-packages (from spacy<2.4.0,>=2.3.0->en_core_web_sm==2.3.1) (2.0.3)\n",
            "Requirement already satisfied: wasabi<1.1.0,>=0.4.0 in /usr/local/lib/python3.6/dist-packages (from spacy<2.4.0,>=2.3.0->en_core_web_sm==2.3.1) (0.8.0)\n",
            "Requirement already satisfied: setuptools in /usr/local/lib/python3.6/dist-packages (from spacy<2.4.0,>=2.3.0->en_core_web_sm==2.3.1) (50.3.0)\n",
            "Requirement already satisfied: catalogue<1.1.0,>=0.0.7 in /usr/local/lib/python3.6/dist-packages (from spacy<2.4.0,>=2.3.0->en_core_web_sm==2.3.1) (1.0.0)\n",
            "Requirement already satisfied: numpy>=1.15.0 in /usr/local/lib/python3.6/dist-packages (from spacy<2.4.0,>=2.3.0->en_core_web_sm==2.3.1) (1.18.5)\n",
            "Requirement already satisfied: murmurhash<1.1.0,>=0.28.0 in /usr/local/lib/python3.6/dist-packages (from spacy<2.4.0,>=2.3.0->en_core_web_sm==2.3.1) (1.0.2)\n",
            "Requirement already satisfied: preshed<3.1.0,>=3.0.2 in /usr/local/lib/python3.6/dist-packages (from spacy<2.4.0,>=2.3.0->en_core_web_sm==2.3.1) (3.0.2)\n",
            "Requirement already satisfied: tqdm<5.0.0,>=4.38.0 in /usr/local/lib/python3.6/dist-packages (from spacy<2.4.0,>=2.3.0->en_core_web_sm==2.3.1) (4.41.1)\n",
            "Requirement already satisfied: blis<0.5.0,>=0.4.0 in /usr/local/lib/python3.6/dist-packages (from spacy<2.4.0,>=2.3.0->en_core_web_sm==2.3.1) (0.4.1)\n",
            "Requirement already satisfied: thinc==7.4.1 in /usr/local/lib/python3.6/dist-packages (from spacy<2.4.0,>=2.3.0->en_core_web_sm==2.3.1) (7.4.1)\n",
            "Requirement already satisfied: chardet<4,>=3.0.2 in /usr/local/lib/python3.6/dist-packages (from requests<3.0.0,>=2.13.0->spacy<2.4.0,>=2.3.0->en_core_web_sm==2.3.1) (3.0.4)\n",
            "Requirement already satisfied: urllib3!=1.25.0,!=1.25.1,<1.26,>=1.21.1 in /usr/local/lib/python3.6/dist-packages (from requests<3.0.0,>=2.13.0->spacy<2.4.0,>=2.3.0->en_core_web_sm==2.3.1) (1.24.3)\n",
            "Requirement already satisfied: idna<3,>=2.5 in /usr/local/lib/python3.6/dist-packages (from requests<3.0.0,>=2.13.0->spacy<2.4.0,>=2.3.0->en_core_web_sm==2.3.1) (2.10)\n",
            "Requirement already satisfied: certifi>=2017.4.17 in /usr/local/lib/python3.6/dist-packages (from requests<3.0.0,>=2.13.0->spacy<2.4.0,>=2.3.0->en_core_web_sm==2.3.1) (2020.6.20)\n",
            "Requirement already satisfied: importlib-metadata>=0.20; python_version < \"3.8\" in /usr/local/lib/python3.6/dist-packages (from catalogue<1.1.0,>=0.0.7->spacy<2.4.0,>=2.3.0->en_core_web_sm==2.3.1) (2.0.0)\n",
            "Requirement already satisfied: zipp>=0.5 in /usr/local/lib/python3.6/dist-packages (from importlib-metadata>=0.20; python_version < \"3.8\"->catalogue<1.1.0,>=0.0.7->spacy<2.4.0,>=2.3.0->en_core_web_sm==2.3.1) (3.2.0)\n",
            "Building wheels for collected packages: en-core-web-sm\n",
            "  Building wheel for en-core-web-sm (setup.py) ... \u001b[?25l\u001b[?25hdone\n",
            "  Created wheel for en-core-web-sm: filename=en_core_web_sm-2.3.1-cp36-none-any.whl size=12047109 sha256=5f27abff5d7fb52ad9ec3811ac5934908097785263ec1fa5f12a25b9eed5b84c\n",
            "  Stored in directory: /tmp/pip-ephem-wheel-cache-ruiudnf5/wheels/2b/3f/41/f0b92863355c3ba34bb32b37d8a0c662959da0058202094f46\n",
            "Successfully built en-core-web-sm\n",
            "Installing collected packages: en-core-web-sm\n",
            "  Found existing installation: en-core-web-sm 2.2.5\n",
            "    Uninstalling en-core-web-sm-2.2.5:\n",
            "      Successfully uninstalled en-core-web-sm-2.2.5\n",
            "Successfully installed en-core-web-sm-2.3.1\n",
            "\u001b[38;5;2m✔ Download and installation successful\u001b[0m\n",
            "You can now load the model via spacy.load('en_core_web_sm')\n"
          ],
          "name": "stdout"
        }
      ]
    },
    {
      "cell_type": "code",
      "metadata": {
        "id": "Ye7LwqHG9ri-",
        "outputId": "9f12f6c7-df39-4921-8533-1c22630d326c",
        "colab": {
          "base_uri": "https://localhost:8080/",
          "height": 161
        }
      },
      "source": [
        "! python -m spacy validate"
      ],
      "execution_count": null,
      "outputs": [
        {
          "output_type": "stream",
          "text": [
            "\r⠙ Loading compatibility table...\r\u001b[2K\u001b[38;5;2m✔ Loaded compatibility table\u001b[0m\n",
            "\u001b[1m\n",
            "====================== Installed models (spaCy v2.3.2) ======================\u001b[0m\n",
            "\u001b[38;5;4mℹ spaCy installation: /usr/local/lib/python3.6/dist-packages/spacy\u001b[0m\n",
            "\n",
            "TYPE      NAME             MODEL            VERSION                            \n",
            "package   en-core-web-sm   en_core_web_sm   \u001b[38;5;2m2.3.1\u001b[0m   \u001b[38;5;2m✔\u001b[0m\n",
            "\n"
          ],
          "name": "stdout"
        }
      ]
    },
    {
      "cell_type": "markdown",
      "metadata": {
        "id": "vOdfbC087sA0"
      },
      "source": [
        "### spaCyの日本語の訓練済み統計モデルをダウンロードする\n",
        "* 「sm」で終わるものは、小規模なモデル。\n",
        "* 「md」で終わるものが、中規模のモデル。\n",
        "* 「lg」で終わるものが、大規模なモデル。\n",
        "* 詳細は、以下を参照。\n",
        " * https://explosion.ai/blog/spacy-v2-3\n",
        "* ダウンロード時間短縮のため、ここでは小規模モデルを使う。"
      ]
    },
    {
      "cell_type": "code",
      "metadata": {
        "id": "Cm_9hXxtgcfI",
        "outputId": "ea25123e-bb8d-43df-ab45-6f3b7825477c",
        "colab": {
          "base_uri": "https://localhost:8080/",
          "height": 973
        }
      },
      "source": [
        "! python -m spacy download ja_core_news_sm"
      ],
      "execution_count": null,
      "outputs": [
        {
          "output_type": "stream",
          "text": [
            "Collecting ja_core_news_sm==2.3.2\n",
            "\u001b[?25l  Downloading https://github.com/explosion/spacy-models/releases/download/ja_core_news_sm-2.3.2/ja_core_news_sm-2.3.2.tar.gz (7.6MB)\n",
            "\u001b[K     |████████████████████████████████| 7.6MB 522kB/s \n",
            "\u001b[?25hRequirement already satisfied: spacy<2.4.0,>=2.3.0 in /usr/local/lib/python3.6/dist-packages (from ja_core_news_sm==2.3.2) (2.3.2)\n",
            "Collecting sudachipy>=0.4.5\n",
            "\u001b[?25l  Downloading https://files.pythonhosted.org/packages/71/18/8531c4a1c904cb24d37a09e7dff3273857ee65e0d0adb62d09c6f5492f5d/SudachiPy-0.4.9.tar.gz (67kB)\n",
            "\u001b[K     |████████████████████████████████| 71kB 4.2MB/s \n",
            "\u001b[?25hCollecting sudachidict_core>=20200330\n",
            "  Downloading https://files.pythonhosted.org/packages/c4/8f/38c5bea51bf1c825c8774810d1bdd84f3c0b8e3526f00db954ba940e6191/SudachiDict-core-20200722.tar.gz\n",
            "Requirement already satisfied: blis<0.5.0,>=0.4.0 in /usr/local/lib/python3.6/dist-packages (from spacy<2.4.0,>=2.3.0->ja_core_news_sm==2.3.2) (0.4.1)\n",
            "Requirement already satisfied: setuptools in /usr/local/lib/python3.6/dist-packages (from spacy<2.4.0,>=2.3.0->ja_core_news_sm==2.3.2) (50.3.0)\n",
            "Requirement already satisfied: srsly<1.1.0,>=1.0.2 in /usr/local/lib/python3.6/dist-packages (from spacy<2.4.0,>=2.3.0->ja_core_news_sm==2.3.2) (1.0.2)\n",
            "Requirement already satisfied: thinc==7.4.1 in /usr/local/lib/python3.6/dist-packages (from spacy<2.4.0,>=2.3.0->ja_core_news_sm==2.3.2) (7.4.1)\n",
            "Requirement already satisfied: preshed<3.1.0,>=3.0.2 in /usr/local/lib/python3.6/dist-packages (from spacy<2.4.0,>=2.3.0->ja_core_news_sm==2.3.2) (3.0.2)\n",
            "Requirement already satisfied: plac<1.2.0,>=0.9.6 in /usr/local/lib/python3.6/dist-packages (from spacy<2.4.0,>=2.3.0->ja_core_news_sm==2.3.2) (1.1.3)\n",
            "Requirement already satisfied: tqdm<5.0.0,>=4.38.0 in /usr/local/lib/python3.6/dist-packages (from spacy<2.4.0,>=2.3.0->ja_core_news_sm==2.3.2) (4.41.1)\n",
            "Requirement already satisfied: numpy>=1.15.0 in /usr/local/lib/python3.6/dist-packages (from spacy<2.4.0,>=2.3.0->ja_core_news_sm==2.3.2) (1.18.5)\n",
            "Requirement already satisfied: catalogue<1.1.0,>=0.0.7 in /usr/local/lib/python3.6/dist-packages (from spacy<2.4.0,>=2.3.0->ja_core_news_sm==2.3.2) (1.0.0)\n",
            "Requirement already satisfied: cymem<2.1.0,>=2.0.2 in /usr/local/lib/python3.6/dist-packages (from spacy<2.4.0,>=2.3.0->ja_core_news_sm==2.3.2) (2.0.3)\n",
            "Requirement already satisfied: wasabi<1.1.0,>=0.4.0 in /usr/local/lib/python3.6/dist-packages (from spacy<2.4.0,>=2.3.0->ja_core_news_sm==2.3.2) (0.8.0)\n",
            "Requirement already satisfied: murmurhash<1.1.0,>=0.28.0 in /usr/local/lib/python3.6/dist-packages (from spacy<2.4.0,>=2.3.0->ja_core_news_sm==2.3.2) (1.0.2)\n",
            "Requirement already satisfied: requests<3.0.0,>=2.13.0 in /usr/local/lib/python3.6/dist-packages (from spacy<2.4.0,>=2.3.0->ja_core_news_sm==2.3.2) (2.23.0)\n",
            "Collecting sortedcontainers~=2.1.0\n",
            "  Downloading https://files.pythonhosted.org/packages/13/f3/cf85f7c3a2dbd1a515d51e1f1676d971abe41bba6f4ab5443240d9a78e5b/sortedcontainers-2.1.0-py2.py3-none-any.whl\n",
            "Collecting dartsclone~=0.9.0\n",
            "\u001b[?25l  Downloading https://files.pythonhosted.org/packages/6d/34/987a076369ed086ee953e2f0b9ab5ff3e1a682ba4f781678ac5648144896/dartsclone-0.9.0-cp36-cp36m-manylinux1_x86_64.whl (474kB)\n",
            "\u001b[K     |████████████████████████████████| 481kB 7.6MB/s \n",
            "\u001b[?25hRequirement already satisfied: importlib-metadata>=0.20; python_version < \"3.8\" in /usr/local/lib/python3.6/dist-packages (from catalogue<1.1.0,>=0.0.7->spacy<2.4.0,>=2.3.0->ja_core_news_sm==2.3.2) (2.0.0)\n",
            "Requirement already satisfied: chardet<4,>=3.0.2 in /usr/local/lib/python3.6/dist-packages (from requests<3.0.0,>=2.13.0->spacy<2.4.0,>=2.3.0->ja_core_news_sm==2.3.2) (3.0.4)\n",
            "Requirement already satisfied: idna<3,>=2.5 in /usr/local/lib/python3.6/dist-packages (from requests<3.0.0,>=2.13.0->spacy<2.4.0,>=2.3.0->ja_core_news_sm==2.3.2) (2.10)\n",
            "Requirement already satisfied: urllib3!=1.25.0,!=1.25.1,<1.26,>=1.21.1 in /usr/local/lib/python3.6/dist-packages (from requests<3.0.0,>=2.13.0->spacy<2.4.0,>=2.3.0->ja_core_news_sm==2.3.2) (1.24.3)\n",
            "Requirement already satisfied: certifi>=2017.4.17 in /usr/local/lib/python3.6/dist-packages (from requests<3.0.0,>=2.13.0->spacy<2.4.0,>=2.3.0->ja_core_news_sm==2.3.2) (2020.6.20)\n",
            "Requirement already satisfied: Cython in /usr/local/lib/python3.6/dist-packages (from dartsclone~=0.9.0->sudachipy>=0.4.5->ja_core_news_sm==2.3.2) (0.29.21)\n",
            "Requirement already satisfied: zipp>=0.5 in /usr/local/lib/python3.6/dist-packages (from importlib-metadata>=0.20; python_version < \"3.8\"->catalogue<1.1.0,>=0.0.7->spacy<2.4.0,>=2.3.0->ja_core_news_sm==2.3.2) (3.2.0)\n",
            "Building wheels for collected packages: ja-core-news-sm, sudachipy, sudachidict-core\n",
            "  Building wheel for ja-core-news-sm (setup.py) ... \u001b[?25l\u001b[?25hdone\n",
            "  Created wheel for ja-core-news-sm: filename=ja_core_news_sm-2.3.2-cp36-none-any.whl size=7572678 sha256=fcbd869a0d9fb05ed3dd423adc0a1fd276882b9d59197bf7d999d38bf77f4e31\n",
            "  Stored in directory: /tmp/pip-ephem-wheel-cache-0dsavrb4/wheels/a9/90/6f/9fdba619c4403234b2695fd40d77e635a6c80672a6a05920f0\n",
            "  Building wheel for sudachipy (setup.py) ... \u001b[?25l\u001b[?25hdone\n",
            "  Created wheel for sudachipy: filename=SudachiPy-0.4.9-cp36-cp36m-linux_x86_64.whl size=870424 sha256=8726e5ae40887ceafbf9bc3d564cff021cee42cd2714d79e3abdc4faae3ad9d0\n",
            "  Stored in directory: /tmp/pip-ephem-wheel-cache-0dsavrb4/wheels/79/85/b4/bb2fbbf043bc8128a6cbb769604c410dc5ece89c88b7e57de0\n",
            "  Building wheel for sudachidict-core (setup.py) ... \u001b[?25l\u001b[?25hdone\n",
            "  Created wheel for sudachidict-core: filename=SudachiDict_core-20200722-cp36-none-any.whl size=71120193 sha256=4b5d7a27c9836cb4550f20dece7e90916ff0e00ed401ebd996a0c4157243528e\n",
            "  Stored in directory: /tmp/pip-ephem-wheel-cache-0dsavrb4/wheels/aa/79/cb/ee2ca7db8ba91560158dd4b1362ca1bcc1622541d476de5145\n",
            "Successfully built ja-core-news-sm sudachipy sudachidict-core\n",
            "Installing collected packages: sortedcontainers, dartsclone, sudachipy, sudachidict-core, ja-core-news-sm\n",
            "  Found existing installation: sortedcontainers 2.2.2\n",
            "    Uninstalling sortedcontainers-2.2.2:\n",
            "      Successfully uninstalled sortedcontainers-2.2.2\n",
            "Successfully installed dartsclone-0.9.0 ja-core-news-sm-2.3.2 sortedcontainers-2.1.0 sudachidict-core-20200722 sudachipy-0.4.9\n",
            "\u001b[38;5;2m✔ Download and installation successful\u001b[0m\n",
            "You can now load the model via spacy.load('ja_core_news_sm')\n"
          ],
          "name": "stdout"
        }
      ]
    },
    {
      "cell_type": "markdown",
      "metadata": {
        "id": "62mbrOSY8QJ9"
      },
      "source": [
        "## 02-02 sudachiによる形態素解析を試してみる。\n",
        "* spaCyの日本語統計モデルをインストールすると、自動的にsudachiがインストールされる。\n",
        "* そこで、sudachipyコマンドを使って、コマンドラインで形態素解析を試してみる。"
      ]
    },
    {
      "cell_type": "code",
      "metadata": {
        "id": "9_mUBCBAgz1o",
        "outputId": "6002cd9c-8e66-46f6-f509-f9f5355efa41",
        "colab": {
          "base_uri": "https://localhost:8080/",
          "height": 161
        }
      },
      "source": [
        "! echo \"すもももももももものうち\" | sudachipy"
      ],
      "execution_count": null,
      "outputs": [
        {
          "output_type": "stream",
          "text": [
            "すもも\t名詞,普通名詞,一般,*,*,*\t李\n",
            "も\t助詞,係助詞,*,*,*,*\tも\n",
            "もも\t名詞,普通名詞,一般,*,*,*\tもも\n",
            "も\t助詞,係助詞,*,*,*,*\tも\n",
            "もも\t名詞,普通名詞,一般,*,*,*\tもも\n",
            "の\t助詞,格助詞,*,*,*,*\tの\n",
            "うち\t名詞,普通名詞,副詞可能,*,*,*\t内\n",
            "EOS\n"
          ],
          "name": "stdout"
        }
      ]
    },
    {
      "cell_type": "markdown",
      "metadata": {
        "id": "ZrnUvkLz8i2y"
      },
      "source": [
        "## 02-03 spaCyによる日本語テキスト処理"
      ]
    },
    {
      "cell_type": "markdown",
      "metadata": {
        "id": "mREm_MVK8m5q"
      },
      "source": [
        "### 日本語統計モデルのロード"
      ]
    },
    {
      "cell_type": "code",
      "metadata": {
        "id": "OzXLkIsEerem"
      },
      "source": [
        "from spacy.lang.ja import Japanese\n",
        "\n",
        "# Load SudachiPy with split mode A (default)\n",
        "nlp = Japanese()\n",
        "\n",
        "# Load SudachiPy with split mode B\n",
        "#cfg = {\"split_mode\": \"B\"}\n",
        "#nlp = Japanese(meta={\"tokenizer\": {\"config\": cfg}})"
      ],
      "execution_count": null,
      "outputs": []
    },
    {
      "cell_type": "markdown",
      "metadata": {
        "id": "L7nRxPnE_HhI"
      },
      "source": [
        "### documentを作成"
      ]
    },
    {
      "cell_type": "code",
      "metadata": {
        "id": "VbVAM7qvgW0n",
        "outputId": "2f4b7a76-e6e6-497e-ba64-40d4a8c2146c",
        "colab": {
          "base_uri": "https://localhost:8080/",
          "height": 35
        }
      },
      "source": [
        "doc = nlp('これは、やっぱり相当冗長な日本語の文じゃないかなと思っていたのですが。')\n",
        "print(doc.text)"
      ],
      "execution_count": null,
      "outputs": [
        {
          "output_type": "stream",
          "text": [
            "これは、やっぱり相当冗長な日本語の文じゃないかなと思っていたのですが。\n"
          ],
          "name": "stdout"
        }
      ]
    },
    {
      "cell_type": "markdown",
      "metadata": {
        "id": "8jW0p4D3_sk8"
      },
      "source": [
        "### spaCyからsudachiを利用した形態素解析の実行\n",
        "* 分かち書きされた単語そのもの以外の、品詞などの情報も表示させている。\n",
        " * tagに「形容動詞」は無く、その語幹が「形状詞」とされている。\n",
        " * 「じゃない」の「ない」は、tagでは「形容詞」だが、posでは「AUX」である。"
      ]
    },
    {
      "cell_type": "code",
      "metadata": {
        "id": "UNu4wuDP_qU-",
        "outputId": "047921d9-6195-465c-a880-8e688149e375",
        "colab": {
          "base_uri": "https://localhost:8080/",
          "height": 449
        }
      },
      "source": [
        "for token in doc:\n",
        "  print(f'text:{token.text}, pos:{token.pos_}, tag:{token.tag_}, lemma:{token.lemma_}')"
      ],
      "execution_count": null,
      "outputs": [
        {
          "output_type": "stream",
          "text": [
            "text:これ, pos:PRON, tag:代名詞, lemma:これ\n",
            "text:は, pos:ADP, tag:助詞-係助詞, lemma:は\n",
            "text:、, pos:PUNCT, tag:補助記号-読点, lemma:、\n",
            "text:やっぱり, pos:ADV, tag:副詞, lemma:やっぱり\n",
            "text:相当, pos:ADV, tag:副詞, lemma:相当\n",
            "text:冗長, pos:ADJ, tag:形状詞-一般, lemma:冗長\n",
            "text:な, pos:AUX, tag:助動詞, lemma:だ\n",
            "text:日本, pos:PROPN, tag:名詞-固有名詞-地名-国, lemma:日本\n",
            "text:語, pos:NOUN, tag:名詞-普通名詞-一般, lemma:語\n",
            "text:の, pos:ADP, tag:助詞-格助詞, lemma:の\n",
            "text:文, pos:NOUN, tag:名詞-普通名詞-一般, lemma:文\n",
            "text:じゃ, pos:AUX, tag:助動詞, lemma:だ\n",
            "text:ない, pos:AUX, tag:形容詞-非自立可能, lemma:ない\n",
            "text:か, pos:PART, tag:助詞-終助詞, lemma:か\n",
            "text:な, pos:PART, tag:助詞-終助詞, lemma:な\n",
            "text:と, pos:ADP, tag:助詞-格助詞, lemma:と\n",
            "text:思っ, pos:VERB, tag:動詞-一般, lemma:思う\n",
            "text:て, pos:SCONJ, tag:助詞-接続助詞, lemma:て\n",
            "text:い, pos:AUX, tag:動詞-非自立可能, lemma:いる\n",
            "text:た, pos:AUX, tag:助動詞, lemma:た\n",
            "text:の, pos:SCONJ, tag:助詞-準体助詞, lemma:の\n",
            "text:です, pos:AUX, tag:助動詞, lemma:です\n",
            "text:が, pos:SCONJ, tag:助詞-接続助詞, lemma:が\n",
            "text:。, pos:PUNCT, tag:補助記号-句点, lemma:。\n"
          ],
          "name": "stdout"
        }
      ]
    },
    {
      "cell_type": "markdown",
      "metadata": {
        "id": "_cj_qwejIj_g"
      },
      "source": [
        "### 英語の場合（復習）"
      ]
    },
    {
      "cell_type": "code",
      "metadata": {
        "id": "LsyZHx3UIjMe",
        "outputId": "ab42c2f8-4aff-493d-d5ef-bd0a6a2e0bdc",
        "colab": {
          "base_uri": "https://localhost:8080/",
          "height": 35
        }
      },
      "source": [
        "import spacy\n",
        "\n",
        "nlp_en = spacy.load(\"en_core_web_sm\")\n",
        "doc = nlp_en(\"Apple is looking at buying U.K. startup for $1 billion.\")\n",
        "print(doc.text)"
      ],
      "execution_count": null,
      "outputs": [
        {
          "output_type": "stream",
          "text": [
            "Apple is looking at buying U.K. startup for $1 billion.\n"
          ],
          "name": "stdout"
        }
      ]
    },
    {
      "cell_type": "code",
      "metadata": {
        "id": "h3XWU5l6Iu7L",
        "outputId": "a729a6f1-24fe-420b-dd44-572053674a2e",
        "colab": {
          "base_uri": "https://localhost:8080/",
          "height": 233
        }
      },
      "source": [
        "for token in doc:\n",
        "  print(f'text:{token.text}, pos:{token.pos_}, tag:{token.tag_}, lemma:{token.lemma_}')"
      ],
      "execution_count": null,
      "outputs": [
        {
          "output_type": "stream",
          "text": [
            "text:Apple, pos:PROPN, tag:NNP, lemma:Apple\n",
            "text:is, pos:AUX, tag:VBZ, lemma:be\n",
            "text:looking, pos:VERB, tag:VBG, lemma:look\n",
            "text:at, pos:ADP, tag:IN, lemma:at\n",
            "text:buying, pos:VERB, tag:VBG, lemma:buy\n",
            "text:U.K., pos:PROPN, tag:NNP, lemma:U.K.\n",
            "text:startup, pos:NOUN, tag:NN, lemma:startup\n",
            "text:for, pos:ADP, tag:IN, lemma:for\n",
            "text:$, pos:SYM, tag:$, lemma:$\n",
            "text:1, pos:NUM, tag:CD, lemma:1\n",
            "text:billion, pos:NUM, tag:CD, lemma:billion\n",
            "text:., pos:PUNCT, tag:., lemma:.\n"
          ],
          "name": "stdout"
        }
      ]
    },
    {
      "cell_type": "markdown",
      "metadata": {
        "id": "tME6lbWjErVS"
      },
      "source": [
        "# 課題2: 文書のbag-of-words表現を得る\n",
        "\n",
        "* （この課題は、宿題ではなく、いまここで作業しつつ解いてしまいます。）\n",
        "* Wikipediaの複数のエントリを、lemmaを半角スペースでつないだ、長い文字列へ変換する。\n",
        " * ここでは、コンピュータ科学の様々な分野のエントリを題材として使う。\n",
        "* scikit-learnのCountVectorizerやTfidfVectorizerを使って、各エントリにおける単語の出現頻度からなる特徴ベクトルを得る。\n",
        "* **文書を、そこに現れる単語の出現頻度やTF-IDFを使ってベクトル表現している限り、単語の出現順序は無視されている。文書に現れる単語は、バッグに入った品物のように扱われており、各々の品物が何個入っているかだけが問題とされていて、出現順の情報は失われている。このように、文書を単語のmultisetとしてモデル化することを、bag-of-words modelingと呼ぶ。**\n",
        "* 特徴ベクトルどうしの類似度を計算し、「人工知能」分野と最も似ている順に　３つの分野がどの分野かを求める。\n",
        " * 答えは自分の感覚でチェック。\n",
        " * 特徴ベクトルを作る時に単語の品詞を名詞に限定するなど、品詞の情報を使うことで結果を改善できるかどうかも、余裕があれば試行錯誤する。"
      ]
    },
    {
      "cell_type": "markdown",
      "metadata": {
        "id": "2n4zl1W407u6"
      },
      "source": [
        "## 課題の手順(1)"
      ]
    },
    {
      "cell_type": "markdown",
      "metadata": {
        "id": "BhCnUa1syjI5"
      },
      "source": [
        "### Wikipediaのエントリをダウンロードして形態素解析を適用\n",
        "\n",
        "* Wikipediaの「人工知能」エントリをダウンロードする。\n",
        " * https://ja.wikipedia.org/wiki/%E4%BA%BA%E5%B7%A5%E7%9F%A5%E8%83%BD\n",
        "* そして、そこに含まれる段落（__`<p>`__タグで囲まれた範囲）を列挙する。\n",
        "* 各段落のテキストに形態素解析を適用する。\n",
        "* 形態素解析で得られたlemmaを半角スペースでつないで、エントリ全体をひとつの長い文字列にする。\n",
        " * text、つまり、単語に分たれたそのままの文字列を半角スペースでつなぐのではない。\n",
        " * lemma（原型に戻したもの）を半角スペースでつなぐこと。\n",
        " * posやtagを見て、不要そうな単語を適当に削除してもよい。\n"
      ]
    },
    {
      "cell_type": "code",
      "metadata": {
        "id": "HJ2gPVtnDZvk"
      },
      "source": [
        "# 「人工知能」エントリをダウンロードしてparserのインスタンスを作る。\n",
        "\n",
        "from bs4 import BeautifulSoup\n",
        "from urllib.request import urlopen\n",
        "\n",
        "url = 'https://ja.wikipedia.org/wiki/%E4%BA%BA%E5%B7%A5%E7%9F%A5%E8%83%BD'\n",
        "html = urlopen(url) \n",
        "soup = BeautifulSoup(html, 'html.parser')"
      ],
      "execution_count": null,
      "outputs": []
    },
    {
      "cell_type": "code",
      "metadata": {
        "id": "3y5MSWBXDuE-"
      },
      "source": [
        "# 段落のテキストを取得する。\n",
        "\n",
        "lines = list()\n",
        "for para in soup.find_all('p'):\n",
        "  lines.append(para.text)"
      ],
      "execution_count": null,
      "outputs": []
    },
    {
      "cell_type": "code",
      "metadata": {
        "id": "CafzVR3NHG0c"
      },
      "source": [
        "lines"
      ],
      "execution_count": null,
      "outputs": []
    },
    {
      "cell_type": "code",
      "metadata": {
        "id": "NZXP8_h7v-Yb"
      },
      "source": [
        "# Sudachiで形態素解析し、分かち書き後のlemmaを取得する。\n",
        "\n",
        "x_pos = ['SPACE', 'PUNCT', 'AUX', 'ADP', 'SYM', 'DET', 'SCONJ', 'PART']\n",
        "tokens = list()\n",
        "for line in lines:\n",
        "  for token in nlp(line):\n",
        "    pos = token.pos_\n",
        "    if pos not in x_pos:\n",
        "      #print(f'text:{token.text}, pos:{token.pos_}, tag:{token.tag_}, lemma:{token.lemma_}')\n",
        "      tokens.append(token.lemma_)"
      ],
      "execution_count": null,
      "outputs": []
    },
    {
      "cell_type": "code",
      "metadata": {
        "id": "t4dxDREcwZOi",
        "outputId": "e086809b-75e9-493a-a79c-989f645a5d29",
        "colab": {
          "base_uri": "https://localhost:8080/",
          "height": 55
        }
      },
      "source": [
        "# すべてのlemmaを半角スペースでつないで、長い文字列にする。\n",
        "\n",
        "doc_AI = ' '.join(tokens)\n",
        "print(doc_AI)"
      ],
      "execution_count": null,
      "outputs": [
        {
          "output_type": "stream",
          "text": [
            "人工 知能 じん こうち 英 artificial intelligence AI エーアイ 計算 computation いう 概念 コンピュータ Computer いう 道具 用いる 知能 研究 計算 機 科学 computer science 一 分野 指す 語 1 言語 理解 推論 問題 解決 知的 行動 人間 代わる コンピューター 行う 技術 2 また 計算 機 コンピュータ よる 知的 情報 処理 システム 設計 実現 関する 研究 分野 する 3 日本 大 百科 全書 ニッポニカ 解説 情報 工学 者 通信 工学 者 佐藤 理史 次 よう 述べる 1 人間 知的 能力 コンピュータ 上 実現 様々 技術 ソフトウェア コンピュータ システム 4 応用 例 自然 言語 処理 機械 翻訳 かな 漢字 変換 構文 解析 等 5 専門 家 推論 判断 模倣 エキスパート システム 画像 データ 解析 特定 パターン 検出 抽出 画像 認識 等 ある 4 1956 年 ダートマス 会議 ジョン マッカーシー よる 命名 現在 記号 処理 用いる 知能 記述 主体 する 情報 処理 研究 アプローチ いう 意味 あい 使う 家庭 用 電気 機械 器具 制御 システム ゲーム ソフト 思考 ルーチン こう 呼ぶ こと ある プログラミング 言語 LISP よる ELIZA いう カウンセラー 模倣 プログラム 人工 無脳 しばしば 引き合い 出す 計算 機 人間 専門 家 役割 する いう エキスパート システム 呼ぶ 研究 情報 処理 システム 実現 人間 暗黙 持つ 常識 記述 問題 なる 実用 利用 困難 視 人工 知能 実現 アプローチ する ファジィ 理論 ニューラル ネットワーク よう アプローチ 知る 従来 人工 知能 gofai good Old fashioned AI 差 記述 記号 明示 性 ある 後 サポート ベクター マシン 注目 集める また 自ら 経験 元 学習 行う 強化 学習 いう 手法 ある 宇宙 おく 知性 最も 強力 形質 レイ カーツ ワイル いう 言葉 通り 知性 機械 表現 実装 いう こと 極めて 重要 作業 2006 年 ディープ ラーニング 深層 学習 登場 2010 年 代 以降 ビッグ データ 登場 よる 一過 性 流行 超える 社会 浸透 2016 年 2017 年 かける ディープ ラーニング 導入 AI 完全 情報 ゲーム 囲碁 トップ 棋士 さらに 不 完全 情報 ゲーム ポーカー 世界 トップ クラス プレイヤー 破る 6 7 麻雀 Microsoft suphx super Phoenix AI する 初めて 十 段 到達 8 時代 最 先端 技術 なる 9 第 2 次 人工 知能 ブーム 人工 知能 機械 学習 呼ぶ 以下 よう もの ある 一方 計算 知能 CI 開発 学習 繰る 返す こと 基本 する 例えば パラメータ 調整 コネクショニズム システム 学習 経験 基づく 手法 非 記号 AI 美しい ない AI 注 1 ソフト コンピューティング 関係 手法 する 以下 もの ある これ ら 統合 知的 システム 作る 試み なす ACT r エキスパート 推論 ルール 統計 学習 元 ニューラル ネットワーク 生成 規則 通す 生成 第 3 次 人工 知能 ブーム ディープ ラーニング 画像 認識 テキスト 解析 音声 認識 様々 領域 第 2 次 人工 知能 ブーム 人工 知能 上回る 精度 出す ディープ ラーニング 研究 盛ん 行う 最近 DQN CNN rnn gan 様々 ディープ ラーニング 派生 でる 各 分野 活躍 特に gan 敵対 生成 ネットワーク ディープ ラーニング 認識 予測 分野 成果 だす こと 加える 画像 生成 技術 おく 進化 見せる 森 正弥 これ ら 成果 背景 従来 人工 知能 応用 分野 広がる Creative AI いう コンテンツ 生成 行う 応用 始まる 指摘 10 AI 構築 長い 間 試みる シンボルグラウンディング 問題 フレーム 問題 解決 壁 なる 17 世紀 初め ルネ デカルト 動物 身体 ただ 複雑 機械 提唱 機械 論 ブレーズ パスカル 1642 年 最初 機械 式 計算 機 製作 チャールズ バベッジ エイダ ラブレス プログラム 可能 機械 式 計算 機 開発 行う バートランド ラッセル アルフレッド ノース ホワイトヘッド 数学 原理 出版 形式 論理 革命 もたらす ウォーレン マカロック ウォルター ピッツ 神経 活動 内在 アイデア 論理 計算 題する 論文 1943 年 発表 ニューラル ネットワーク 基礎 築く 1950 年 代 なる AI 関する 活発 成果 出る ジョン マッカーシー AI 関する 最初 会議 人工 知能 注 2 いう 用語 作る 彼 また プログラミング 言語 LISP 開発 知的 ふるまい 関する テスト 可能 方法 する アラン チューリング チューリング テスト 導入 ジョセフ ワイゼンバウム ELIZA 構築 これ 来談 者 中心 療法 行う お しゃべり ロボット 注 3 1956 年 行う ダートマス 会議 開催 提案 書 おく 人類 史 上 用語 する 初めて 使用 新た 分野 する 創立 1960 年 代 1970 年 代 間 ジョエル モーゼス macsyma マクシマ プログラム 注 4 中 積分 問題 記号 推論 パワー 示す マービン ミンスキー シーモア パパート パーセプトロン 出版 単純 ニューラル ネット 限界 示す アラン カルメラウアー プログラミング 言語 prolog 開発 テッド ショートリッフェ 医学 診断 療法 おく ルール ベース システム 構築 知識 表現 推論 パワー 示す これ 最初 エキスパート システム 呼ぶ こと ある ハンス モラベック 障害 物 ある コース 自律 走行 最初 コンピューター 制御 乗り物 開発 1980 年 代 ニューラル ネットワーク バック プロパゲーション アルゴリズム よる 広い 使う また 時代 ロドニー ブルックス 知能 身体 必須 学説 身体 性 提唱 1990 年 代 AI 多く 分野 様々 アプリケーション 成果 上げる 特に ボード ゲーム 目覚ましい 1992 年 IBM 世界 チャンピオン 匹敵 バックギャモン 専用 コンピュータ td ギャモン 開発 IBM チェス 専用 コンピュータ ディープ ブルー 1997 年 5 月 ガルリ カスパロフ 打つ 負かす 同年 8 月 オセロ 日本 電気 オセロ 専用 コンピュータ ロジステロ 世界 チャンピオン 村上 健 敗れる 11 国防 高等 研究 計画 局 最初 湾岸 戦争 おく ユニット スケジューリング AI 使う これ よる 省く コスト 1950 年 代 以来 AI 研究 政府 投資 全額 上回る こと 明らか 日本 甘利 俊一 日本 学士 院 会員 ら 精力 啓蒙 優秀 成果 発生 論理 ブラック ボックス 性 指摘 1998 年 非 構造 化 データ 形式 国際 規格 XML 提唱 ここ web 上 非 構造 化 データ 対する アプリケーション 別 適する 意味 付け 適用 処理 行う 試み 開始 同年 W 3 c ティム バーナーズ リー よる web 知的 処理 行う セマンティック ウェブ 提唱 技術 web 上 データ 意味 付加 コンピュータ 知的 処理 行う 方法 国際 規格 化 もの 規格 知識 工学 おく オントロジー 表現 データ 形式 owl 含む こと かつて 流行 エキスパート システム 亜種 こと 分かる 2000 年 代 前半 規格 化 完了 web 開発 者 とる 開発 工数 見る メリット 見出せる こと 現在 普及 する 日本 おく エキスパート システム 流行 後 ニューロ ファジィ 流行 しかし 研究 進む つれる 計算 リソース データ 量 不足 シンボルグラウンディング 問題 フレーム 問題 直面 産業 在る 方 激変 AI 至る こと 無い ブーム 終焉 1980 年 代 入る 大 企業 研究 所 中心 知識 工学 基づく エキスパート システム 多数 提案 エキスパート システム 専門 する AI ベンチャー 次々 立つ 上がる 流行 生まれる 究極 プロジェクト する 第 五 世代 コンピュータ 挙げる 1982 年 1992 年 日本 国家 プロジェクト する 570億 円 費やす 第 五 世代 コンピュータ 研究 進める 採用 知識 工学 手法 膨大 ルール 手 入力 必要 専門 家 間 専門 知識 解釈 異なる 場合 統一 ルール 化 行える 等 問題 ある 実用 エキスパート システム 実現 至る 実現 成果 物 prolog 命令 直接 CPU ハードウェア 機構 解釈 高速 実行 並列 型 prolog 専用 機 商業 意味 応用 先 全く 見つかる 1980 年 代 後半 1990 年 代 中頃 かける 従来 電子 制御 手法 する 用いる on OFF 制御 pid 制御 現代 制御 問題 克服 ため 知的 制御 盛ん 研究 知識 工学 ルール 用いる ファジィ 制御 データ 特徴 学習 分類 ニューラル ネットワーク 2 つ 融合 ニューロ ファジィ いう 手法 日本 中心 ブーム 迎える バブル 期 高級 路線 合わせる 白物 家電 製品 センサ 個数 種類 大幅 増やす 多様 データ 元 運転 最適 化 モデル 多数 発売 ファジィ つく 2018 年 日本 世界 1 5 特許 取得 事 日本 特に ブーム なる こと 分かる 13 現在 白物 家電 当時 更に 発展 制御 技術 用いる 既に 当たり前 もの なる 利用 者 意識 ニューロ ファジィ ブーム なる 1990 年 代 未だ ビッグ データ いう 概念 無い ブロードバンド 接続 普及 後 2010 年 初めて 提唱 データ マイニング する 産業 応用 行う しかし ニューラル ネットワーク 一般 人 巻く 流行 事例 する 初めて 事例 2010 年 代 ディープ ラーニング ブーム 前史 言える 社会 現象 言える 松下 電器 1985 年 頃 人間 持つ 曖昧 さ 制御 活かす ファジィ 制御 つく 研究 開始 1990 年 2 月 1日 ファジィ 洗濯 機 第 1 号 愛妻 号 Day ファジィ 発売 漕ぐ 愛妻 号 Day ファジィ 従来 多数 センサー 収集 データ 基づく 柔軟 運転 最適 化 洗濯 機 同種 洗濯 機 する 世界 初 ファジィ 制御 いう 当時 最 先端 技術 導入 バブル 期 高級 路線 マッチ こと ファジィ 裏方 制御 技術 関わる 世間 注目 集める 13 流行 度合い 1990 年 新語 流行 語 大賞 おく 新語 部門 金賞 ファジィ 選ぶ 後 松下 電器 ファジィ ルール 煩雑 チューニング 自動 化 ニューロ ファジィ 制御 開発 従来 ファジィ 理論 限界 突破 学会 評価 ない 白物 家電 応用 成功 ブーム 巻く 起こす 松下 電器 試み 成功 受ける 他社 同様 知的 制御 用いる 製品 多数 発売 1990 年 代 中頃 メーカー 各社 よる 一般 向け 白物 家電 売り 文句 する 知的 制御 技術 名称 大々 用いる 洗濯 機 製品 名 愛妻 号 Day ファジィ 掃除 機 分類 する ニューロ ファジィ 掃除 機 エアコン 運転 モード ニューロ 自動 名称 付与 14 15 16 17 18 19 ニューロ ファジィ ニューロ ファジィ いう 手法 従来 単純 オン オフ 制御 対象 数式 客観 モデル 化 作業 対象 複雑 機構 持つ 場合 極めて 難しい なる 必要 ある pid 制御 現代 制御 等 比較 人間 主観 経験 則 計測 データ 特徴 利用 可能 なる ファジィ ニューロ ニューロ ファジィ 開発 工数 抑える 環境 適応 時 柔軟 性 高い できる いう 利点 ある 12 しかし 開発 者 ら 努力 関わる 計算 能力 収集 可能 データ 量 少ない 既存 工作 機械 家電 製品 制御 多少 改善 程度 限界 迎える 理論 ファジィ 集合 深層 学習 不 可能 ニューラル ネットワーク 組み合わせ 計算 リソース データ 潤沢 与える する 認識 精度 向上 限界 ある 以降 計算 機 能力 限界 理論 改善 遅々 する 進む 目立つ 進展 無くなる 1990 年 代 末 知的 制御 搭載 白物 家電 大 多数 なる こと 売り 文句 する ブーム 去る 20 ブーム 後 一般 意識 現在 裏方 技術 する 家電 製品 雨水 排水 駐車 場 ビル 管理 システム 社会 インフラ 使う 十分 性能 安定 性 実証 2003 年 頃 人間 設計 オントロジー ファジィ ルール する 表現 利活用 ネットワーク インテリジェンス いう 分野 発展 21 2005 年 レイ カーツ ワイル 著作 圧倒 人工 知能 知識 知能 点 人間 超越 科学 技術 進歩 担う 世界 変革 技術 特異 点 シンギュラリティ 2045 年 訪れる する 説 発表 2006 年 ジェフリー ヒントン ら 研究 チーム よる オート エンコーダ よる ニューラル ネットワーク 深層 化 手法 提案 現在 ディープ ラーニング 直接 起源 2010 年 代 入る 膨大 データ 扱う 研究 開発 ため 環境 整備 こと AI 関連 研究 再び 大きい 前進 2010 年 英国 エコノミスト 誌 ビッグ データ いう 用語 提唱 同年 質問 応答 システム ワトソン クイズ 番組 ジェパディ 練習 戦 人間 勝利 ニュース なる 22 2012 年 画像 処理 コンテスト ジェフリー ヒントン 氏 チーム 従来 手法 大幅 精度 改善 果たす 上 優勝 こと 第 三 次 AI ブーム 始まる 2013 年 国立 情報 学 研究 所 注 5 富士通 研究 所 研究 チーム 開発 東 ロボ くん 東京 大学 入試 模擬 試験 挑む 発表 数式 計算 単語 解析 あたる 専用 プログラム 使う 実際 受験 生 臨む 大学 入試 センター 試験 東大 2 次 試験 問題 解読 代々木 ゼミナール 判定 東大 合格 難しい 私立 大学 合格 水準 23 2014 年 日本 人工 知能 学 者 齊藤 元章 よる 特異 点 先立つ オートメーション 化 コンピューター 技術 進歩 よる 衣食住 生産 コスト ゼロ 限りない 近づく いう プレ シンギュラリティ いう 概念 提唱 ジェフ ホーキンス 実現 向ける 研究 続ける 著書 考える 脳 考える コンピューター 中 自己 連想 記憶 理論 いう 独自 理論 展開 世界 各国 おく 軍事 民間 共 実用 化 向ける 研究 開発 進む とくに 無人 戦闘 機 ucav 無人 自動車 ロボットカー 開発 進行 もの 2010 年 代 まだ 完全 自動 化 試験 もの 留まる ucav 利用 一部 操作 地上 行く もの 多い ロボット 向け する csail ロドニー ブルックス 提唱 包摂 アーキテクチャ いう 理論 登場 これ 従来 型 我 思う 故 あり 知 先行 もの ない 体 神経 ネットワーク 用いる 環境 学習 行動 型 システム 用いる これ 基づく ゲンギス 呼ぶ 六 本 足 ロボット 脳 持つ 関わる まるで 生きる よう 行動 2015 年 10 月 米 deepmind 社 作成 alphago 人間 プロ 囲碁 棋士 勝利 以降 ディープ ラーニング 呼ぶ 手法 注目 人工 知能 自体 研究 他 人工 知能 雇用 与える 影響 つく 研究 進める 24 2016 年 10 月 deepmind 入力 情報 関連 性 導く 仮説 近い もの 導く 人工 知能 技術 ディファレンシャブル ニューラル コンピューター 発表 25 同年 11 月 大量 データ 不要 ワンショット 学習 可能 深層 学習 システム 26 翌 2017 年 6 月 関係 推論 よう 人間 並み 認識 能力 持つ システム 開発 27 2017 年 8 月 記号 接地 問題 シンボルグラウンディング 問題 解決 28 従来 AI 不向き する 不 完全 情報 ゲーム ポーカー AI 人間 勝利 Google 関係 者 さらに 野心 取り組み する 単一 ソフトウェア 数百 万 1億 タスク 実行 可能 AI 開発 明らか 2006 年 ディープ ラーニング 発明 2010 年 以降 ビッグ データ 収集 環境 整備 計算 資源 なる GPU 高 性能 化 よる 2012 年 ディープ ラーニング 画像 処理 コンテスト 他 手法 圧倒 大差 付ける 優勝 こと 技術 特異 点 いう 概念 急速 世界 中 識者 注目 集める 現実 味 持つ 受ける 止める ディープ ラーニング 発明 急速 普及 受ける 研究 開発 現場 おく デミス ハサビス 率いる deepmind 筆頭 vicarious IBM cortical Learning Center 全脳 アーキテクチャ pezy computing opencog goodai nnaisense IBM synapse 等 汎用 人工 知能 agi 開発 プロジェクト 数多く 立つ これ ら 研究 開発 現場 脳 リバース エンジニアリング 構築 神経 科学 機械 学習 組む 合わせる アプローチ 有望 する 29 結果 する hierarchical temporal Memory htm 理論 complementary Learning systems CLS 理論 更新 版 等 単一 タスク 扱う ディープ ラーニング 更に 一 歩 進む 複数 タスク 同時 扱う 理論 提唱 3 d ゲーム よう 仮想 空間 モデル 動かす 現実 世界 こと 高速 学ぶ いう こと 成果 上げる シミュレーション よる 学習 また 数 少ない agi 知能 再現 不 可能 考える 身体 知 再現 ため 全 人体 シミュレーション 必要 する 研究 者 生物 近い 振る舞い 見せる Al 人工 生命 作成 挑む 研究 者 知能 密接 関係 ある 思う 意識 デジタル 再現 人工 意識 挑戦 研究 者 いる リーズナブル コスト 大量 計算 リソース 手 入る こと ビッグ データ 出現 企業 膨大 データ 活用 極めて 強い 関心 寄せる 全 世界 民間 企業 主導 莫大 投資 行う 人工 知能 関する 研究 開発 競争 展開 また 2011 年 d Wave systems よる 量子 アニーリング 方式 製品 化 嚆矢 する 量子 コンピュータ いう 超 並列 処理 可能 次 世代 IT インフラ 急速 実用 化 事 人工 知能 高速 化 深い 関わる 組み合わせ 最適 化 問題 リアル タイム 解決 環境 整備 動向 受ける 形 2016 年 頃 一般 向け ニュース 番組 人工 知能 研究 開発 新しい サービス 展開 量子 コンピュータ 関する 報道 目立つ 2017 年 イーロン マスク 急速 進化 人工 知能 対する 人間 遅れ 取る ため 人間 脳 機械 接続 ブレイン マシン インターフェース 研究 開発 ニューラ リンク 社 立つ こと 公表 世界 中 話題 なる ブレイン マシン インターフェース よる 人 インターネット 出現 事 予測 2017 年 10 月 ジェフリー ヒントン よる 要素 間 相対 位置 関係 含める 学習 カプセル ネットワーク 提唱 30 2018 年 3 月 16 日 国際 大学 glocom 提言 よる 課題 解決 型 AI 活用 事 社会 変革 寄与 分析 31 2018 年 8 月 Open AI 好奇 心 実装 ノーゲームスコア ノーゴール 無 報酬 目的 なし 探索 行う AI 公表 これ AI 最も 人間 いう 32 2018 年 9 月 MIT リンカーン 研究 所 従来 ブラック ボックス ニューラル ネットワーク 推論 段階 経る 識別 明確 分かる アーキテクチャ 開発 33 2019 年 入る これ 深層 学習 困難 する 言語 処理 おく 進展 ある Wikipedia 使用 読解 テスト 人間 上回る 至る bert Robert 34 アメリカ 2013 年 時 大統領 バラク オバマ 脳 研究 プロジェクト BRAIN initiative 発表 Google アレン 脳 科学 研究 所 連携 脳 スキャン よる 生まれる 大量 データ 処理 ため ソフトウェア 開発 2016 年 時点 Google 管理 brainmap データ 量 すでに 1 zetta バイト 達する いう 35 36 Google ドイツ マックス プランク 研究 所 とも 共同 研究 始める 脳 電子 顕微 鏡 写真 神経 回路 再 構成 いう 研究 行う 37 中国 2016 年 第 13 次 5 カ年 計画 AI 国家 プロジェクト 位置 づけ 38 脳 研究 プロジェクト する 中国 脳 計画 英語 版 立つ 39 官民 一体 AI 研究 開発 推進 40 中国 教育 機関 18 歳 以下 天才 児 集める 公然 AI 兵器 開発 投ずる いる 41 マサチューセッツ 工科 大学 MIT エリック ブリニョルフソン 英語 版 教授 情報 技術 イノベーション 財団 英語 版 よる 中国 プライバシー 意識 強い 欧米 比較 AI 研究 新 技術 実験 する 環境 ある する 42 43 44 日本 スーパー コンピュータ 研究 開発 推進 齊藤 元章 AI 開発 おく 中国 リード 可能 性 主張 45 世界 ディープ ラーニング 用 計算 機 4 分 3 中国 占める ともす 46 米国 政府 よる 2013 年 ディープ ラーニング 関する 論文 数 中国 米国 超える 世界 一 なる 47 frvt 英語 版 imagenet 英語 版 AI 世界 大会 中国 勢 上位 独占 48 49 大手 AI 企業 Google マイクロ ソフト アップル 幹部 ある 台湾 系 アメリカ 人 科学 者 李 開 復 英語 版 中国 AI 覇権 握る する AI 超 大国 中国 シリコンバレー 新 世界 秩序 英語 版 著す アメリカ 政界 メディア 取る 50 51 フランス 大統領 エマニュエル マクロン AI 分野 開発 支援 向ける 5 年 15億 ドル 約 1600億 円 支出 宣言 52 AI 研究 所 パリ 開く フェイスブック グーグル サムスン deepmind 富士通 招致 イギリス AI 研究 おく 長期 連携 決定 EU 全体 する horizon 2020 計画 通ずる 215億 ユーロ 投ずる 方向 韓国 20億 ドル 2022 年 投資 する 6 つ AI 機関 設立 褒賞 制度 作る 目標 2022 年 AI 世界 トップ 4 入る こと いう 53 日経 新聞 調べ よる 国別 AI 研究 論文 数 1 位 米国 2 位 中国 3 位 インド 日本 7 位 54 プログラミング 言語 c ほか python 広い 使う 深層 学習 利用 微分 線形 代数 確率 統計 いう 大学 レベル 以上 数学 知識 必要 なる 脳 シミュレーション 行う 脳 神経 科学 知識 重要 なる 人工 知能 学会 松尾 豊 著書 人工 知能 人間 超える 内 於く 人間 対する 反乱 起こす 可能 性 否定 人工 知能 危険 性 つく 警鐘 鳴らす 著名 人 いる MIT ローレン r グレアム 英語 版 教授 莫大 資金 力 人権 弾圧 併せる 持つ 中華 人民 共和 国 人工 知能 開発 競争 成功 民主 国家 技術 革新 優位 いう 既成 概念 変わる 述べる 42 ディープ ラーニング 父 一人 呼ぶ ヨシュア ベンジオ 英語 版 中国 市民 監視 政治 目的 人工 知能 利用 こと 警鐘 鳴らす 58 59 海外 人権 団体 メディア 中国 代表 人工 知能 人権 抑圧 政治 体制 デジタル 権威 主義 60 61 デジタル 独裁 62 63 64 デジタル 警察 国家 65 デジタル 全体 主義 66 AI 独裁 67 呼ぶ 中国 ヘルメット 帽子 埋める センサー 国民 脳波 感情 人工 知能 監視 政府 支援 プロジェクト 推す 進める 68 69 70 71 ネット 検閲 72 73 官僚 刑務 所 囚人 横断 歩道 歩行 者 監視 人工 知能 行う 74 75 76 77 78 79 監視 カメラ 警察 サングラス 型 スマート グラス 80 ロボット 81 顔 認識 システム 天網 搭載 人工 知能 よる 監視 社会 管理 社会 化 行う 82 83 84 85 新疆 ウイグル 自治 区 監視 カメラ 携帯 電話 収集 個人 情報 人工 知能 解析 プレディクティブ ポリシング 英語 版 人種 プロファイリング 選別 少数 民族 ウイグル 族 法的 手続き 経る 2017 年 6 月 時点 約 1万5千 人 テロ 犯罪 犯す 可能 性 ある する 新疆 ウイグル 再 教育 キャンプ 予防 拘禁 する 中国 政府 内部 文書 チャイナ ケーブル 英語 版 報ずる 86 87 88 AI 使う 政府 よる 特定 民族 選別 コンピュータ 人間 強制 収容 所 送る 人権 侵害 前例 ない する 国際 問題 なる 89 90 香港 中国 本土 同様 人工 知能 よる 監視 社会 化 恐れる 91 2019 年 2020 年 香港 民主 化 デモ 起きる 際 監視 カメラ 搭載 スマート 街灯 市民 次々 破壊 92 93 中国 AI 監視 技術 中東 アジア アフリカ 世界 各国 輸出 94 95 96 97 98 60 国際 連合 専門 機関 国際 電気 通信 連合 ITU 通ずる 中国 AI 監視 技術 国際 標準 化 主導 こと 中国 よう 人権 侵害 世界 拡散 こと 人権 団体 懸念 99 100 中国 社会 信用 システム 代表 人工 知能 ビッグ データ 活用 人々 適性 決める 制度 社会 階層 間 格差 固定 化 こと 繋がる する 懸念 ある 101 欧州 連合 2018 年 5 月 人工 知能 ビッグ データ 分析 よる 雇用 融資 差別 認める EU 一般 データ 保護 規則 施行 102 マサチューセッツ 工科 大学 顔 認識 システム 精度 Microsoft 中国 megvii 9 割 超 IBM 8 割 達する 対する Amazon 6 割 人種 差別 バイアス ある する 研究 発表 際 Amazon 論争 なる 103 主要 国 軍隊 ミサイル 防衛 分野 自動 化 試みる アメリカ 海軍 完全 自動 防空 システム ファランクス CIWS 導入 ガトリング 砲 よる 対艦 ミサイル 破壊 イスラエル 軍 対空 迎撃 ミサイル システム アイアン ドーム 所有 ガザ 地区 境界 線 標的 自動 検知 ガーディアム サムソン rcws 稼働 複数 人間 射殺 104 105 今後 AI 新しい 軍事 能力 生む 軍 指揮 訓練 部隊 展開 変える 戦争 一変 変化 大国 間 軍事 バランス 決める こと なる 主張 ある 106 p 1 哨戒 機 よう 戦闘 指揮 システム 支援 用 搭載 こと ある 2016 年 6 月 米 シンシナティ 大学 研究 チーム 開発 alpha 元 米軍 パイロット 模擬 空戦 一方 勝利 発表 AI プログラム 遺伝 アルゴリズム ファジィ 制御 使用 アルゴリズム 動作 高い 処理 能力 必要 する raspberry pi 上 動作 可能 107 108 アメリカ 合衆 国 国防 総省 人道 上 観点 人間 判断 介す 自律 殺傷 兵器 開発 禁止 令 2012 年 出す 2017 年 これ 恒久 もの する 109 人工 知能 人間 勝つ 残る 力 する ooda ループ 注目 110 一部 科学 者 ハイテク 企業 首脳 ら AI 軍事 利用 よる 世界 不 安定 化 加速 主張 2015 年 ブエノスアイレス 開催 人工 知能 国際 合同 会議 スティーブン ホーキング アメリカ 宇宙 ベンチャー 企業 スペース x 創業 者 イーロン マスク アップル 社 共同 創業 者 スティーブ ウォズニアック ら 科学 者 企業 家 ら よる 公開 書簡 出す そこ 自動 操縦 よる 無人 爆撃 機 銃火 器 操る 人型 ロボット AI 搭載 型 兵器 火薬 核 兵器 続く 第 3 革命 とらえる うち 一部 数 年 以内 実用 可能 なる 予測 国家 不 安定 化 暗殺 抑圧 特定 民族 選別 攻撃 利用 兵器 開発 競争 人類 とる 有益 もの なる 記す 同年 4 月 ハーバード 大学 ロースクール 国際 人権 団体 ヒューマン ライツ ウォッチ 自動 操縦 型 武器 禁止 求める 111 2017 年 11 月 国際 連合 AI 軍事 利用 関する 初 公式 専門 家 会議 行う 112 2019 年 8 月 同 会議 AI 兵器 運用 めぐる 事実 上 初 国際 ルール 採択 法的 拘束 力 盛る 113 新 冷戦 米中 冷戦 状態 ある 評す 米国 中国 ロシア 核 開発 匹敵 開発 競争 人工 知能 軍事 利用 めぐる 114 中国 2017 年 6 月 119 機 ドローン 群 自律 飛行 実験 前年 2016 年 103 機 飛行 実験 成功 米軍 記録 更新 翌 2018 年 5 月 北米 都市 爆撃 CG 映像 発表 115 同年 6 月 56 隻 自律 無人 艇 使う 世界 最大 規模 試験 116 行う AI 軍事 利用 技術 特に スウォーム 呼ぶ 大量 徘徊 型 兵器 自律 兵器 統合 運用 中国 急速 進展 アメリカ 追う 可能 性 ある こと つく 懸念 アメリカ 側 将来 備える 必要 ある 主張 する 106 中国 軍用 AI 開発 アメリカ 軍部 政界 危機 感 与える 2019 年 3 月 ジョセフ ダンフォード 統合 参謀 本部 議長 パトリック シャナハン 国防 長官 代行 ドナルド トランプ 大統領 中国 AI 研究 拠点 設立 中国 人民 解放 軍 協力 Google 非難 117 118 Google CEO サンダー ピチャイ ダンフォード トランプ 大統領 面談 中国 AI 研究 拠点 成果 中国 限る 全て 人々 開放 釈明 事態 なる 119 アメリカ Google 米軍 AI 軍事 利用 協力 極秘 計画 メイヴン 計画 行う こと Google 社員 暴露 120 2018 年 12 月 アメリカ 議会 公聴 会 同様 暴露 中国 政府 協力 秘密 計画 ドラゴン フライ 計画 英語 版 とも 人工 知能 用いる 兵器 開発 人権 侵害 拒否 Google 誓う 同年 6 月 人工 知能 開発 6 原則 整合 性 追及 受ける 121 中国 軍 戦闘 機 j 20 標的 選択 支援 アルゴリズム グーグル AI 研究 者 関わる 報道 際 AI ない 統計 学 モデリング 否定 122 また Microsoft 中国 軍 教育 機関 AI 共同 研究 発表 際 同様 波紋 呼ぶ 123 2019 年 11 月 マーク エスパー 国防 長官 中国 AI よる 新しい 監視 国家 構築 ない 中東 翼竜 彩虹 無人 攻撃 機 大量 拡散 AI 自律 攻撃 ドローン 兵器 販売 こと 警鐘 鳴らす 124 ロシア 中国 既に 実用 化 する ハッキング 自動 化 他 125 特定 個人 攻撃 ディープ フェイク なる すます ボット 投稿 よる 世論 操る 等 懸念 挙げる 126 オックスフォード 大学 マイケル オズボーン 博士 2013 年 発表 論文 よる 人工 知能 ロボット 等 よる 代替 可能 性 高い 労働 人口 日本 約 49 ％ こと アメリカ 約 47 ％ イギリス 約 35 ％ 2030 年 代 ファスト フード 店 料理 する 従業 員 ロボット AI 取る 代わる 可能 性 81 ％ 高い こと 指摘 127 128 129 しかし 論文 対する 実験 室 レベル 自動 化 出来る 仕事 含む ため 過大 推計 批判 ある 実際 2016 年 10 月 マイケル オズボーン 来日 際 経済 産業 研究 所 岩本 晃一 意図 前提 試算 質問 ところ 技術 可能 性 示す 雇用 増 部分 一切 考慮 回答 返る 例える 現在 既に 将棋 AI 実験 室 レベル 出現 現 時点 世界 中 将棋 棋士 全員 既に AI 代替 可能 性 ある 示す 過ぎる そして 職業 構成 タスク 業務 単位 みる 場合 70 ％ 超え タスク 自動 化 職業 9 ％ 程度 日本 場合 7 ％ 程度 とどまる 研究 結果 ある また AI 機械 化 よる 雇用 奪う いう 主張 ある それ ら 技術 よる タスク 量 減少 AI 機械 化 導入 維持 仕事 それ ら 技術 よる 新た 仕事 生まれる こと よる 雇用 生む 可能 性 ある しかし 同時 中 程度 技能 有する ルーティン 業務 減少 専門 技能 求める 低 スキル 仕事 高度 技能 求める 仕事 2 極 化 経済 格差 拡大 予測 ある 130 131 132 Google 2019 年 3 月 人工 知能 プロジェクト 倫理 面 指導 ため 哲学 者 政策 立案 者 経済 学 者 テクノロジスト 等 構成 AI 倫理 委員 会 設置 発表 133 しかし 倫理 委員 会 反 科学 反 マイノリティ 地球 温暖 化 懐疑 論 等 支持 人物 含む Google 社員 ら 解任 要請 133 4 月 4 日 Google 倫理 委員 会 期待 どおり 機能 こと 判明 いう 理由 委員 会 解散 発表 133 東洋 哲学 AI 吸収 いう 三宅 陽一郎 テーマ 応ずる 井口 尊仁 鳥居 torii いう 自分 プロジェクト 挙げる われわれ アニミズム あらゆる もの 霊的 存在 見いだす 文化 ある 三宅 および 立石 従 寛 語る 134 アニミズム 人工 知能 論 現代 アート 禅 悟り どう やる AI やる 論ずる 三宅 人工 知能 ため 哲学 塾 東洋 哲学 篇 通ずる 134 元 Google エンジニア アンソニー レバンドウスキー 2017 年 AI 神 する 宗教 団体 Way of THE future 未来 道 創立 135 団体 使命 人工 知能 AI 基づく godhead 実現 促進 開発 こと そして godhead 理解 崇拝 通す 社会 より 良い する こと 貢献 こと 抽象 表現 多く 海外 メディア SF 映画 歴史 関連 報道 135 uber Google waymo レバンドウスキー 自動 運転 関する 機密 情報 盗用 こと 訴える 裁判 行う 一方 レバンドウスキー uber 元 CEO トラビス カラニック 対する ボット ひと つ 我々 世界 征服 発言 野心 振る舞い 示す 135 相愛 大学 人 文学 部 教授 釈 徹 宗 哲学 思想 文学 宗教 霊性 論 線引き 不 明瞭 述べる 136 哲学 者 倫理 学 者 内田 樹 よる 本物 哲学 者 みんな 死者 幽霊 異界 話 する いう 137 発明 家 レイ カーツ ワイル 言う 哲学 者 ジョン サール 提起 強い AI 弱い AI 論争 AI 哲学 議論 ホット 話題 138 哲学 者 ジョン サール および ダニエル デネット よる サール 中国 語 部屋 ネド ブロック ら 中国 脳 いう 機能 主義 批判 思考 実験 真 意識 形式 論理 システム よる 実現 主張 139 140 科学 語る こと おく 科学 者 須藤 靖 科学 つく 哲学 考察 科学 哲学 実際 科学 断絶 こと 指摘 141 また 心 意識 いう 問題 解明 脳 科学 計算 機 科学 コンピュータ 科学 人工 知能 研究 開発 等 関連 科学 者 フランシス クリック 哲学 者 たち 2000 年 いう 長い 間 ほとんど 何 成果 残す 批判 142 こう する 観点 おく 哲学 二流 三 流 学問 科学 過ぎる 評価 142 脳 科学 者 澤口 俊之 クリック 賛同 これ 私 ため息 まじり 愚痴 なる 哲学 者 思想 家 いう つくづく 暇 思う 述べる 142 実際 哲学 暇 スコレー 始まる アリストテレス 伝える 上記 よう 否定 発言 的外れ ない 科学 哲学 者 野家 啓一 言う 142 哲学 者 科学 違う 日常 言語 存在 宇宙 語る する 143 しかし 理論 物理 学 者 ディラック 哲学 者 ことさら 信用 144 ディラック 見る ところ ウィトゲンシュタイン 含める 哲学 者 たち 量子 力学 パスカル 以降 確率 概念 理解 145 非 科学 日常 言語 いくら 使う 正確 意思 疎通 行う こと できる いう ディラック 考え する 144 生命 情報 科学 者 神経 科学 者 合原 一幸 編著 人工 知能 こう する 創る よる AI 急激 発展 伴う 技術 特異 点 シンギュラリティ 思想 哲学 一部 論ずる 特異 点 言う 数学 話 ない 146 前掲 書 そもそも シンギュラリティ 関係 議論 おく 人間 脳 超える いう 言明 自体 うまい 定義 記す 147 確か 脳 デジタル 情報 処理 システム する 捉える 観点 見る シンギュラリティ 起こる しれる 148 しかし 実際 脳 単純 システム ない デジタル アナログ 融合 ハイブリッド 系 こと 脳 神経 科学 観察 結果 示す 148 前掲 書 よる 神経 膜 様々 ノイズ 存在 ノイズ 付き アナログ 量 よる 脳内 ニューロン カオス 生む ため 状況 デジタル 記述 こと 極めて 困難 考える 149 数学 者 田中 一之 一般 哲学 者 論理 専門 家 ない 述べる 150 計算 機 科学 者 コンピュータ 科学 者 電子 工学 者 トルケル フラン セーン 哲学 者 たち よる 数学 言及 多く ひどい 誤解 自由 連想 基づく 批判 151 田中 よる ゲーデル 不 完全 性 定理 つく 哲学 者 書く 本 フラン セーン 本 頃 書店 販売 哲学 者 本 専門 誌 よる 酷評 150 本 全体 する 読む 一般 読者 評判 高い ゲーデル 証明 核 不動 点 定理 つく 根本 勘違い する まま 説明 150 同様 間違い 他 入門 書 見る 150 フラン セーン よる 不 完全 性 定理 関する 誤解 誤用 哲学 はじめ 一般 起こる 151 宗教 神学 乱用 152 153 1931 年 ゲーデル 示す 特定 形式 体系 p displaystyle p おく 決定 不能 命題 存在 一般 意味 不 完全 性 つく 定理 ない 154 科学 哲学 科学 語る こと よる 学問 扱う 問題 整理 分化 こと 科学 哲学 それぞれ 異なる 問題 研究 155 これ 研究 分野 細分 化 もの 立派 進歩 宇宙 物理 学 者 須藤 言う 155 一方 科学 哲学 者 倫理 学 者 伊勢田 哲治 様々 要素 含む 問題 哲学 統一 扱う かつて 天文 学 つく 言及 155 後 天文 学 哲学 問題 扱う 今 物理 学 そう いう 問題 扱う 述べる 伊勢田 対する 須藤 通り それ 自体 何 問題 ある 返す 155 須藤 次 よう 述べる 141 私 科学 哲学 物理 学 者 対する 何 ら 助言 する いう こと 聞く こと ない おそらく 科学 哲学 一般 科学 者 ほとんど 没 交渉 言う 差す 支える 状況 科学 哲学 者 科学 者 価値 観 溝 深い こと 確実 須藤 哲学 論ずる 原因 いう 言葉 取る 原因 いう 言葉 具体 定義 限り それ 以上 議論 不 可能 157 述べる 哲学 者 興味 持つ 因果 定義 物理 学 者 違う こと 確か する 158 伊勢田 思う 以上 物理 学 者 哲学 者 もの 見える 方 違い いう 大きい しれる 述べる 159 対談 須藤 これ けっこう 長 時間 議論 行う おかげ 意見 違い 明らか 思う 果たして 何 決着 つく 発言 伊勢田 決着 つく 答える 160 学術 書 辞 事典 報道 活用 事例 研究 課題 関連 分野 他 関連 項目 応用 人工 知能 未来 関わる 項目\n"
          ],
          "name": "stdout"
        }
      ]
    },
    {
      "cell_type": "markdown",
      "metadata": {
        "id": "qcEH8FkCKUd4"
      },
      "source": [
        "### sudachiの設定を変えて使ってみる\n",
        "https://www.anlp.jp/proceedings/annual_meeting/2019/pdf_dir/P8-5.pdf"
      ]
    },
    {
      "cell_type": "code",
      "metadata": {
        "id": "jfv_gJ8RKUJx"
      },
      "source": [
        "# Load SudachiPy with split mode C\n",
        "cfg = {\"split_mode\": \"C\"}\n",
        "nlp = Japanese(meta={\"tokenizer\": {\"config\": cfg}})"
      ],
      "execution_count": null,
      "outputs": []
    },
    {
      "cell_type": "code",
      "metadata": {
        "id": "MQJFIhsYKZUE"
      },
      "source": [
        "# Sudachiで形態素解析し、分かち書き後のlemmaを取得する。\n",
        "\n",
        "x_pos = ['SPACE', 'PUNCT', 'AUX', 'ADP', 'SYM', 'DET', 'SCONJ', 'PART']\n",
        "tokens = list()\n",
        "for line in lines:\n",
        "  for token in nlp(line):\n",
        "    pos = token.pos_\n",
        "    if pos not in x_pos:\n",
        "      #print(f'text:{token.text}, pos:{token.pos_}, tag:{token.tag_}, lemma:{token.lemma_}')\n",
        "      tokens.append(token.lemma_)"
      ],
      "execution_count": null,
      "outputs": []
    },
    {
      "cell_type": "code",
      "metadata": {
        "id": "bnuFm2f7K2Rn",
        "outputId": "ae91e86e-171d-4ccc-b244-d2a0337f0eea",
        "colab": {
          "base_uri": "https://localhost:8080/",
          "height": 55
        }
      },
      "source": [
        "# すべてのlemmaを半角スペースでつないで、長い文字列にする。\n",
        "\n",
        "doc_AI = ' '.join(tokens)\n",
        "print(doc_AI)"
      ],
      "execution_count": null,
      "outputs": [
        {
          "output_type": "stream",
          "text": [
            "人工知能 じん こうち 英 artificial intelligence AI エーアイ 計算 computation いう 概念 コンピュータ Computer いう 道具 用いる 知能 研究 計算機科学 computer science 一 分野 指す 語 1 言語 理解 推論 問題解決 知的 行動 人間 代わる コンピューター 行う 技術 2 また 計算機 コンピュータ よる 知的 情報処理 システム 設計 実現 関する 研究 分野 する 3 日本 大 百科全書 ニッポニカ 解説 情報 工学者 通信 工学者 佐藤 理史 次 よう 述べる 1 人間 知的 能力 コンピュータ 上 実現 様々 技術 ソフトウェア コンピュータシステム 4 応用 例 自然 言語 処理 機械 翻訳 かな 漢字 変換 構文 解析 等 5 専門家 推論 判断 模倣 エキスパートシステム 画像データ 解析 特定 パターン 検出 抽出 画像 認識 等 ある 4 1956 年 ダートマス 会議 ジョン マッカーシー よる 命名 現在 記号 処理 用いる 知能 記述 主体 する 情報処理 研究 アプローチ いう 意味あい 使う 家庭用電気機械器具 制御 システム ゲームソフト 思考 ルーチン こう 呼ぶ こと ある プログラミング 言語 LISP よる ELIZA いう カウンセラー 模倣 プログラム 人工 無脳 しばしば 引き合い 出す 計算機 人間 専門家 役割 する いう エキスパートシステム 呼ぶ 研究 情報処理 システム 実現 人間 暗黙 持つ 常識 記述 問題 なる 実用 利用 困難 視 人工的 知能 実現 アプローチ する ファジィ 理論 ニューラル ネットワーク よう アプローチ 知る 従来 人工知能 gofai good Old fashioned AI 差 記述 記号 明示 性 ある その後 サポート ベクター マシン 注目 集める また 自ら 経験 元 学習 行う 強化 学習 いう 手法 ある 宇宙 おく 知性 最も 強力 形質 レイ カーツ ワイル いう 言葉 通り 知性 機械的 表現 実装 いう こと 極めて 重要 作業 2006 年 ディープラーニング 深層学習 登場 2010 年 代 以降 ビッグデータ 登場 よる 一過性 流行 超える 社会 浸透 2016 年 2017 年 かける ディープラーニング 導入 AI 完全 情報 ゲーム 囲碁 トップ 棋士 さらに 不完全 情報 ゲーム ポーカー 世界 トップクラス プレイヤー 破る 6 7 麻雀 Microsoft suphx super Phoenix AI する 初めて 十 段 到達 8 時代 最先端技術 なる 9 第 2 次 人工知能 ブーム 人工知能 機械学習 呼ぶ 以下 よう もの ある 一方 計算 知能 CI 開発 学習 繰り返す こと 基本 する 例えば パラメータ 調整 コネクショニズム システム 学習 経験 基づく 手法 非 記号 AI 美しい ない AI 注 1 ソフト コンピューティング 関係 手法 する 以下 もの ある これ ら 統合 知的 システム 作る 試み なす ACT r エキスパート 推論 ルール 統計的 学習 元 ニューラル ネットワーク 生成 規則 通す 生成 第 3 次 人工知能 ブーム ディープラーニング 画像 認識 テキスト 解析 音声 認識 様々 領域 第 2 次 人工知能 ブーム 人工知能 上回る 精度 出す ディープラーニング 研究 盛ん 行う 最近 DQN CNN rnn gan 様々 ディープラーニング 派生 でる 各 分野 活躍 特に gan 敵対的 生成 ネットワーク ディープラーニング 認識 予測 分野 成果 だす こと 加える 画像 生成 技術 おく 進化 見せる 森 正弥 これ ら 成果 背景 従来 人工知能 応用 分野 広がる Creative AI いう コンテンツ 生成 行う 応用 始まる 指摘 10 AI 構築 長い 間 試みる シンボルグラウンディング 問題 フレーム 問題 解決 壁 なる 17 世紀 初め ルネ デカルト 動物 身体 ただ 複雑 機械 提唱 機械論 ブレーズ パスカル 1642 年 最初 機械 式 計算機 製作 チャールズ バベッジ エイダ ラブレス プログラム 可能 機械 式 計算機 開発 行う バートランド ラッセル アルフレッド ノース ホワイトヘッド 数学 原理 出版 形式 論理 革命 もたらす ウォーレン マカロック ウォルター ピッツ 神経 活動 内在 アイデア 論理 計算 題する 論文 1943 年 発表 ニューラル ネットワーク 基礎 築く 1950 年 代 なる AI 関する 活発 成果 出る ジョン マッカーシー AI 関する 最初 会議 人工知能 注 2 いう 用語 作り出す 彼 また プログラミング 言語 LISP 開発 知的 ふるまい 関する テスト 可能 方法 する アラン チューリング チューリング テスト 導入 ジョセフ ワイゼンバウム ELIZA 構築 これ 来談者中心療法 行う おしゃべり ロボット 注 3 1956 年 行う ダートマス 会議 開催 提案 書 おく 人類史 上 用語 する 初めて 使用 新た 分野 する 創立 1960 年 代 1970 年 代 間 ジョエル モーゼス macsyma マクシマ プログラム 注 4 中 積分 問題 記号 推論 パワー 示す マービン ミンスキー シーモア パパート パーセプトロン 出版 単純 ニューラル ネット 限界 示す アラン カルメラウアー プログラミング 言語 prolog 開発 テッド ショートリッフェ 医学的 診断 療法 おく ルール ベース システム 構築 知識 表現 推論 パワー 示す これ 最初 エキスパートシステム 呼ぶ こと ある ハンス モラベック 障害 物 ある コース 自律的 走行 最初 コンピューター 制御 乗り物 開発 1980 年 代 ニューラル ネットワーク バック プロパゲーション アルゴリズム よる 広い 使う また 時代 ロドニー ブルックス 知能 身体 必須 学説 身体性 提唱 1990 年 代 AI 多く 分野 様々 アプリケーション 成果 上げる 特に ボード ゲーム 目覚ましい 1992 年 IBM 世界 チャンピオン 匹敵 バックギャモン 専用 コンピュータ td ギャモン 開発 IBM チェス 専用 コンピュータ ディープ ブルー 1997 年 5 月 ガルリ カスパロフ 打ち負かす 同年 8 月 オセロ 日本電気 オセロ 専用 コンピュータ ロジステロ 世界 チャンピオン 村上 健 敗れる 11 国防 高等 研究 計画 局 最初 湾岸 戦争 おく ユニット スケジューリング AI 使う これ よる 省く コスト 1950 年 代 以来 AI 研究 政府 投資 全額 上回る こと 明らか 日本 甘利 俊一 日本 学士 院 会員 ら 精力的 啓蒙 優秀 成果 発生 論理 ブラックボックス 性 指摘 1998 年 非 構造化 データ 形式 国際 規格 XML 提唱 ここ web 上 非 構造化 データ 対する アプリケーション 別 適する 意味 付け 適用 処理 行う 試み 開始 同年 W 3 c ティム バーナーズ リー よる web 知的 処理 行う セマンティック ウェブ 提唱 技術 web 上 データ 意味 付加 コンピュータ 知的 処理 行う 方法 国際的 規格化 もの 規格 知識工学 おく オントロジー 表現 データ 形式 owl 含む こと かつて 流行 エキスパートシステム 亜種 こと 分かる 2000 年 代 前半 規格化 完了 web 開発者 とる 開発 工数 見合う メリット 見出せる こと 現在 普及 する 日本 おく エキスパートシステム 流行 後 ニューロ ファジィ 流行 しかし 研究 進む つれる 計算 リソース データ 量 不足 シンボルグラウンディング 問題 フレーム 問題 直面 産業 在る 方 激変 AI 至る こと 無い ブーム 終焉 1980 年 代 入る 大企業 研究所 中心 知識工学 基づく エキスパートシステム 多数 提案 エキスパートシステム 専門 する AI ベンチャー 次々 立ち上がる 流行 生まれる 究極 プロジェクト する 第 五 世代 コンピュータ 挙げる 1982 年 1992 年 日本 国家 プロジェクト する 570億 円 費やす 第 五 世代 コンピュータ 研究 進める 採用 知識工学 手法 膨大 ルール 手入力 必要 専門家 間 専門知識 解釈 異なる 場合 統一 ルール 化 行える 等 問題 ある 実用的 エキスパートシステム 実現 至る 実現 成果 物 prolog 命令 直接 CPU ハードウェア 機構 解釈 高速 実行 並列型 prolog 専用機 商業 意味 応用 先 全く 見つかる 1980 年 代 後半 1990 年 代 中頃 かける 従来 電子 制御 手法 する 用いる on OFF 制御 pid 制御 現代 制御 問題 克服 ため 知的 制御 盛ん 研究 知識工学 ルール 用いる ファジィ 制御 データ 特徴 学習 分類 ニューラル ネットワーク 2 つ 融合 ニューロ ファジィ いう 手法 日本 中心 ブーム 迎える バブル 期 高級 路線 合わせる 白物 家電製品 センサ 個数 種類 大幅 増やす 多様 データ 元 運転 最適化 モデル 多数 発売 ファジィ つく 2018 年 日本 世界 1 5 特許 取得 事 日本 特に ブーム なる こと 分かる 13 現在 白物 家電 当時 更に 発展 制御 技術 用いる 既に 当たり前 もの なる 利用者 意識 ニューロ ファジィ ブーム なる 1990 年 代 未だ ビッグデータ いう 概念 無い ブロードバンド 接続 普及 後 2010 年 初めて 提唱 データ マイニング する 産業 応用 行う しかし ニューラル ネットワーク 一般人 巻き込む 流行 事例 する 初めて 事例 2010 年 代 ディープラーニング ブーム 前史 言える 社会 現象 言える 松下 電器 1985 年 頃 人間 持つ 曖昧 さ 制御 活かす ファジィ 制御 つく 研究 開始 1990 年 2 月 1日 ファジィ 洗濯機 第 1 号 愛妻 号 Day ファジィ 発売 漕ぎ着ける 愛妻 号 Day ファジィ 従来 多数 センサー 収集 データ 基づく 柔軟 運転 最適化 洗濯機 同種 洗濯機 する 世界 初 ファジィ 制御 いう 当時 最先端 技術 導入 バブル 期 高級 路線 マッチ こと ファジィ 裏方 制御 技術 関わる 世間 注目 集める 13 流行 度合い 1990 年 新語 流行語 大賞 おく 新語 部門 金賞 ファジィ 選ぶ その後 松下 電器 ファジィ ルール 煩雑 チューニング 自動化 ニューロ ファジィ 制御 開発 従来 ファジィ 理論 限界 突破 学会 評価 ない 白物 家電 応用 成功 ブーム 巻き起こす 松下 電器 試み 成功 受ける 他社 同様 知的 制御 用いる 製品 多数 発売 1990 年 代 中頃 メーカー 各社 よる 一般 向け 白物 家電 売り文句 する 知的 制御 技術 名称 大々的 用いる 洗濯機 製品名 愛妻 号 Day ファジィ 掃除機 分類 する ニューロ ファジィ 掃除機 エアコン 運転 モード ニューロ 自動 名称 付与 14 15 16 17 18 19 ニューロ ファジィ ニューロ ファジィ いう 手法 従来 単純 オン オフ 制御 対象 数式 客観的 モデル化 作業 対象 複雑 機構 持つ 場合 極めて 難しい なる 必要 ある pid 制御 現代 制御 等 比較 人間 主観的 経験則 計測 データ 特徴 利用 可能 なる ファジィ ニューロ ニューロ ファジィ 開発 工数 抑える 環境 適応 時 柔軟性 高い できる いう 利点 ある 12 しかし 開発者 ら 努力 関わる 計算能力 収集 可能 データ 量 少ない 既存 工作 機械 家電製品 制御 多少 改善 程度 限界 迎える 理論的 ファジィ 集合 深層学習 不可能 ニューラル ネットワーク 組み合わせ 計算 リソース データ 潤沢 与える する 認識 精度 向上 限界 ある 以降 計算機 能力 限界 理論 改善 遅々 する 進む 目立つ 進展 無くなる 1990 年 代 末 知的 制御 搭載 白物 家電 大多数 なる こと 売り文句 する ブーム 去る 20 ブーム 後 一般 意識 現在 裏方 技術 する 家電製品 雨水 排水 駐車場 ビル 管理 システム 社会 インフラ 使う 十分 性能 安定性 実証 2003 年 頃 人間 設計 オントロジー ファジィ ルール する 表現 利活用 ネットワーク インテリジェンス いう 分野 発展 21 2005 年 レイ カーツ ワイル 著作 圧倒的 人工知能 知識 知能 点 人間 超越 科学技術 進歩 担う 世界 変革 技術的 特異点 シンギュラリティ 2045 年 訪れる する 説 発表 2006 年 ジェフリー ヒントン ら 研究 チーム よる オート エンコーダ よる ニューラル ネットワーク 深層 化 手法 提案 現在 ディープラーニング 直接的 起源 2010 年 代 入る 膨大 データ 扱う 研究開発 ため 環境 整備 こと AI 関連 研究 再び 大きい 前進 2010 年 英国 エコノミスト 誌 ビッグデータ いう 用語 提唱 同年 質問 応答 システム ワトソン クイズ 番組 ジェパディ 練習 戦 人間 勝利 ニュース なる 22 2012 年 画像 処理 コンテスト ジェフリー ヒントン 氏 チーム 従来 手法 大幅 精度 改善 果たす 上 優勝 こと 第 三 次 AI ブーム 始まる 2013 年 国立 情報学 研究所 注 5 富士通 研究所 研究 チーム 開発 東 ロボ くん 東京大学 入試 模擬試験 挑む 発表 数式 計算 単語 解析 あたる 専用 プログラム 使う 実際 受験生 臨む 大学 入試 センター 試験 東大 2 次 試験 問題 解読 代々木 ゼミナール 判定 東大 合格 難しい 私立大学 合格 水準 23 2014 年 日本 人工知能 学 者 齊藤 元章 よる 特異点 先立つ オートメーション 化 コンピューター 技術 進歩 よる 衣食住 生産 コスト ゼロ 限りない 近づく いう プレ シンギュラリティ いう 概念 提唱 ジェフ ホーキンス 実現 向ける 研究 続ける 著書 考える 脳 考える コンピューター 中 自己 連想 記憶 理論 いう 独自 理論 展開 世界 各国 おく 軍事 民間 共 実用化 向ける 研究開発 進む とくに 無人 戦闘機 ucav 無人 自動車 ロボットカー 開発 進行 もの 2010 年 代 まだ 完全 自動化 試験的 もの 留まる ucav 利用 一部 操作 地上 行く もの 多い ロボット 向け する csail ロドニー ブルックス 提唱 包摂 アーキテクチャ いう 理論 登場 これ 従来 型 我 思う 故 あり 知 先行 もの ない 体 神経 ネットワーク 用いる 環境 学習 行動 型 システム 用いる これ 基づく ゲンギス 呼ぶ 六 本 足 ロボット 脳 持つ 関わる まるで 生きる よう 行動 2015 年 10 月 米 deepmind 社 作成 alphago 人間 プロ 囲碁 棋士 勝利 以降 ディープラーニング 呼ぶ 手法 注目 人工知能 自体 研究 他 人工知能 雇用 与える 影響 つく 研究 進める 24 2016 年 10 月 deepmind 入力 情報 関連性 導き出す 仮説 近い もの 導き出す 人工知能 技術 ディファレンシャブル ニューラル コンピューター 発表 25 同年 11 月 大量 データ 不要 ワンショット 学習 可能 深層学習 システム 26 翌 2017 年 6 月 関係 推論 よう 人間並み 認識 能力 持つ システム 開発 27 2017 年 8 月 記号 接地 問題 シンボルグラウンディング 問題 解決 28 従来 AI 不向き する 不完全 情報 ゲーム ポーカー AI 人間 勝利 Google 関係者 さらに 野心 取り組み する 単一 ソフトウェア 数百 万 1億 タスク 実行 可能 AI 開発 明らか 2006 年 ディープラーニング 発明 2010 年 以降 ビッグデータ 収集 環境 整備 計算 資源 なる GPU 高性能 化 よる 2012 年 ディープラーニング 画像 処理 コンテスト 他 手法 圧倒的 大差 付ける 優勝 こと 技術的 特異点 いう 概念 急速 世界中 識者 注目 集める 現実味 持つ 受け止める ディープラーニング 発明 急速 普及 受ける 研究開発 現場 おく デミス ハサビス 率いる deepmind 筆頭 vicarious IBM cortical Learning Center 全脳 アーキテクチャ pezy computing opencog goodai nnaisense IBM synapse 等 汎用 人工知能 agi 開発 プロジェクト 数多く 立ち上げる これ ら 研究開発 現場 脳 リバース エンジニアリング 構築 神経 科学 機械学習 組み合わせる アプローチ 有望 する 29 結果 する hierarchical temporal Memory htm 理論 complementary Learning systems CLS 理論 更新 版 等 単一 タスク 扱う ディープラーニング 更に 一 歩 進む 複数 タスク 同時 扱う 理論 提唱 3 d ゲーム よう 仮想空間 モデル 動かす 現実 世界 こと 高速 学ぶ いう こと 成果 上げる シミュレーション よる 学習 また 数 少ない agi 知能 再現 不可能 考える 身体 知 再現 ため 全 人体 シミュレーション 必要 する 研究者 生物 近い 振る舞い 見せる Al 人工 生命 作成 挑む 研究者 知能 密接 関係 ある 思う 意識 デジタル 再現 人工 意識 挑戦 研究者 いる リーズナブル コスト 大量 計算 リソース 手 入る こと ビッグデータ 出現 企業 膨大 データ 活用 極めて 強い 関心 寄せる 全 世界的 民間 企業 主導 莫大 投資 行う 人工知能 関する 研究開発 競争 展開 また 2011 年 d Wave systems よる 量子 アニーリング 方式 製品化 嚆矢 する 量子 コンピュータ いう 超 並列 処理 可能 次世代 IT インフラ 急速 実用化 事 人工知能 高速化 深い 関わる 組み合わせ 最適化 問題 リアルタイム 解決 環境 整備 動向 受ける 形 2016 年 頃 一般 向け ニュース 番組 人工知能 研究開発 新しい サービス 展開 量子 コンピュータ 関する 報道 目立つ 2017 年 イーロン マスク 急速 進化 人工知能 対する 人間 遅れ 取る ため 人間 脳 機械 接続 ブレイン マシン インターフェース 研究開発 ニューラ リンク 社 立ち上げる こと 公表 世界中 話題 なる ブレイン マシン インターフェース よる 人 インターネット 出現 事 予測 2017 年 10 月 ジェフリー ヒントン よる 要素 間 相対的 位置 関係 含める 学習 カプセル ネットワーク 提唱 30 2018 年 3 月 16 日 国際大学 glocom 提言 よる 課題解決 型 AI 活用 事 社会 変革 寄与 分析 31 2018 年 8 月 Open AI 好奇心 実装 ノーゲームスコア ノーゴール 無報酬 目的 なし 探索 行う AI 公表 これ AI 最も 人間 いう 32 2018 年 9 月 MIT リンカーン 研究所 従来 ブラックボックス ニューラル ネットワーク 推論 段階 経る 識別 明確 分かる アーキテクチャ 開発 33 2019 年 入る これ 深層学習 困難 する 言語 処理 おく 進展 ある Wikipedia 使用 読解 テスト 人間 上回る 至る bert Robert 34 アメリカ 2013 年 時 大統領 バラク オバマ 脳 研究 プロジェクト BRAIN initiative 発表 Google アレン 脳 科学 研究所 連携 脳 スキャン よる 生まれる 大量 データ 処理 ため ソフトウェア 開発 2016 年 時点 Google 管理 brainmap データ 量 すでに 1 zetta バイト 達する いう 35 36 Google ドイツ マックス プランク 研究所 とも 共同研究 始める 脳 電子 顕微鏡 写真 神経 回路 再 構成 いう 研究 行う 37 中国 2016 年 第 13 次 5 カ年 計画 AI 国家 プロジェクト 位置づけ 38 脳 研究 プロジェクト する 中国 脳 計画 英語 版 立ち上げる 39 官民 一体 AI 研究開発 推進 40 中国 教育機関 18 歳 以下 天才児 集める 公然 AI 兵器 開発 投ずる いる 41 マサチューセッツ工科大学 MIT エリック ブリニョルフソン 英語 版 教授 情報 技術 イノベーション 財団 英語 版 よる 中国 プライバシー 意識 強い 欧米 比較 AI 研究 新技術 実験 する 環境 ある する 42 43 44 日本 スーパーコンピュータ 研究開発 推進 齊藤 元章 AI 開発 おく 中国 リード 可能性 主張 45 世界 ディープラーニング 用 計算機 4 分 3 中国 占める ともす 46 米国 政府 よる 2013 年 ディープラーニング 関する 論文 数 中国 米国 超える 世界 一 なる 47 frvt 英語 版 imagenet 英語 版 AI 世界的 大会 中国 勢 上位 独占 48 49 大手 AI 企業 Google マイクロソフト アップル 幹部 ある 台湾系 アメリカ人 科学者 李 開 復 英語 版 中国 AI 覇権 握る する AI 超 大国 中国 シリコンバレー 新世界 秩序 英語 版 著す アメリカ 政界 メディア 取り上げる 50 51 フランス 大統領 エマニュエル マクロン AI 分野 開発 支援 向ける 5 年 15億 ドル 約 1600億 円 支出 宣言 52 AI 研究所 パリ 開く フェイスブック グーグル サムスン deepmind 富士通 招致 イギリス AI 研究 おく 長期的 連携 決定 EU 全体 する horizon 2020 計画 通ずる 215億 ユーロ 投ずる 方向 韓国 20億 ドル 2022 年 投資 する 6 つ AI 機関 設立 褒賞 制度 作る 目標 2022 年 AI 世界 トップ 4 入る こと いう 53 日経 新聞 調べ よる 国別 AI 研究 論文 数 1 位 米国 2 位 中国 3 位 インド 日本 7 位 54 プログラミング 言語 c ほか python 広い 使う 深層学習 利用 微分 線形 代数 確率 統計 いう 大学 レベル 以上 数学 知識 必要 なる 脳 シミュレーション 行う 脳神経 科学 知識 重要 なる 人工知能 学会 松尾 豊 著書 人工知能 人間 超える 内 於く 人間 対する 反乱 起こす 可能性 否定 人工知能 危険性 つく 警鐘 鳴らす 著名 人 いる MIT ローレン r グレアム 英語 版 教授 莫大 資金 力 人権 弾圧 併せ持つ 中華人民共和国 人工知能 開発 競争 成功 民主的 国家 技術革新 優位 いう 既成 概念 変わる 述べる 42 ディープラーニング 父 一人 呼ぶ ヨシュア ベンジオ 英語 版 中国 市民 監視 政治 目的 人工知能 利用 こと 警鐘 鳴らす 58 59 海外 人権 団体 メディア 中国 代表 人工知能 人権 抑圧 政治 体制 デジタル 権威 主義 60 61 デジタル 独裁 62 63 64 デジタル 警察 国家 65 デジタル 全体 主義 66 AI 独裁 67 呼ぶ 中国 ヘルメット 帽子 埋め込む センサー 国民 脳波 感情 人工知能 監視 政府 支援 プロジェクト 推し進める 68 69 70 71 ネット 検閲 72 73 官僚 刑務所 囚人 横断 歩道 歩行者 監視 人工知能 行う 74 75 76 77 78 79 監視 カメラ 警察 サングラス 型 スマート グラス 80 ロボット 81 顔 認識 システム 天網 搭載 人工知能 よる 監視 社会 管理 社会化 行う 82 83 84 85 新疆 ウイグル 自治区 監視 カメラ 携帯電話 収集 個人情報 人工知能 解析 プレディクティブ ポリシング 英語 版 人種 プロファイリング 選別 少数 民族 ウイグル 族 法的 手続き 経る 2017 年 6 月 時点 約 1万5千 人 テロ 犯罪 犯す 可能性 ある する 新疆 ウイグル 再教育 キャンプ 予防 拘禁 する 中国 政府 内部 文書 チャイナ ケーブル 英語 版 報ずる 86 87 88 AI 使う 政府 よる 特定 民族 選別 コンピュータ 人間 強制 収容 所 送る 人権 侵害 前例 ない する 国際 問題 なる 89 90 香港 中国 本土 同様 人工知能 よる 監視 社会化 恐れる 91 2019 年 2020 年 香港 民主化 デモ 起きる 際 監視 カメラ 搭載 スマート 街灯 市民 次々 破壊 92 93 中国 AI 監視 技術 中東 アジア アフリカ 世界 各国 輸出 94 95 96 97 98 60 国際連合 専門 機関 国際 電気 通信 連合 ITU 通ずる 中国 AI 監視 技術 国際 標準化 主導 こと 中国 よう 人権 侵害 世界 拡散 こと 人権 団体 懸念 99 100 中国 社会 信用 システム 代表 人工知能 ビッグデータ 活用 人々 適性 決める 制度 社会 階層 間 格差 固定化 こと 繋がる する 懸念 ある 101 欧州連合 2018 年 5 月 人工知能 ビッグ データ分析 よる 雇用 融資 差別 認める EU 一般 データ 保護 規則 施行 102 マサチューセッツ工科大学 顔 認識 システム 精度 Microsoft 中国 megvii 9 割 超 IBM 8 割 達する 対する Amazon 6 割 人種 差別的 バイアス ある する 研究 発表 際 Amazon 論争 なる 103 主要 国 軍隊 ミサイル 防衛 分野 自動化 試みる アメリカ 海軍 完全 自動 防空 システム ファランクス CIWS 導入 ガトリング砲 よる 対艦 ミサイル 破壊 イスラエル 軍 対空 迎撃 ミサイル システム アイアン ドーム 所有 ガザ 地区 境界線 標的 自動 検知 ガーディアム サムソン rcws 稼働 複数 人間 射殺 104 105 今後 AI 新しい 軍事 能力 生む 軍 指揮 訓練 部隊 展開 変える 戦争 一変 変化 大国 間 軍事 バランス 決める こと なる 主張 ある 106 p 1 哨戒 機 よう 戦闘 指揮 システム 支援 用 搭載 こと ある 2016 年 6 月 米 シンシナティ 大学 研究 チーム 開発 alpha 元 米軍 パイロット 模擬 空戦 一方的 勝利 発表 AI プログラム 遺伝 アルゴリズム ファジィ 制御 使用 アルゴリズム 動作 高い 処理 能力 必要 する raspberry pi 上 動作 可能 107 108 アメリカ合衆国 国防総省 人道 上 観点 人間 判断 介す 自律 殺傷 兵器 開発 禁止 令 2012 年 出す 2017 年 これ 恒久 もの する 109 人工知能 人間 勝ち残る 力 する ooda ループ 注目 110 一部 科学者 ハイテク 企業 首脳 ら AI 軍事 利用 よる 世界 不 安定化 加速 主張 2015 年 ブエノスアイレス 開催 人工知能 国際 合同 会議 スティーブン ホーキング アメリカ 宇宙 ベンチャー企業 スペース x 創業者 イーロン マスク アップル 社 共同 創業者 スティーブ ウォズニアック ら 科学者 企業家 ら よる 公開 書簡 出す そこ 自動 操縦 よる 無人 爆撃機 銃火器 操る 人型 ロボット AI 搭載 型 兵器 火薬 核兵器 続く 第 3 革命 とらえる うち 一部 数 年 以内 実用 可能 なる 予測 国家 不 安定化 暗殺 抑圧 特定 民族 選別 攻撃 利用 兵器 開発 競争 人類 とる 有益 もの なる 記す 同年 4 月 ハーバード大学 ロースクール 国際 人権 団体 ヒューマン ライツ ウォッチ 自動 操縦 型 武器 禁止 求める 111 2017 年 11 月 国際連合 AI 軍事 利用 関する 初 公式 専門家 会議 行う 112 2019 年 8 月 同 会議 AI 兵器 運用 めぐる 事実上 初 国際 ルール 採択 法的 拘束力 盛り込む 113 新 冷戦 米中 冷戦 状態 ある 評す 米国 中国 ロシア 核 開発 匹敵 開発 競争 人工知能 軍事 利用 めぐる 114 中国 2017 年 6 月 119 機 ドローン 群 自律 飛行 実験 前年 2016 年 103 機 飛行 実験 成功 米軍 記録 更新 翌 2018 年 5 月 北米 都市 爆撃 CG 映像 発表 115 同年 6 月 56 隻 自律 無人 艇 使う 世界 最大 規模 試験 116 行う AI 軍事 利用 技術 特に スウォーム 呼ぶ 大量 徘徊 型 兵器 自律 兵器 統合 運用 中国 急速 進展 アメリカ 追い付く 可能性 ある こと つく 懸念 アメリカ 側 将来 備える 必要 ある 主張 する 106 中国 軍用 AI 開発 アメリカ 軍部 政界 危機感 与える 2019 年 3 月 ジョセフ ダンフォード 統合 参謀 本部 議長 パトリック シャナハン 国防 長官 代行 ドナルド トランプ 大統領 中国 AI 研究 拠点 設立 中国 人民 解放 軍 協力 Google 非難 117 118 Google CEO サンダー ピチャイ ダンフォード トランプ 大統領 面談 中国 AI 研究 拠点 成果 中国 限る 全て 人々 開放 釈明 事態 なる 119 アメリカ Google 米軍 AI 軍事 利用 協力 極秘 計画 メイヴン 計画 行う こと Google 社員 暴露 120 2018 年 12 月 アメリカ 議会 公聴会 同様 暴露 中国 政府 協力 秘密 計画 ドラゴン フライ 計画 英語 版 とも 人工知能 用いる 兵器 開発 人権 侵害 拒否 Google 誓う 同年 6 月 人工知能 開発 6 原則 整合性 追及 受ける 121 中国 軍 戦闘機 j 20 標的 選択 支援 アルゴリズム グーグル AI 研究者 関わる 報道 際 AI ない 統計学的 モデリング 否定 122 また Microsoft 中国 軍 教育機関 AI 共同研究 発表 際 同様 波紋 呼ぶ 123 2019 年 11 月 マーク エスパー 国防 長官 中国 AI よる 新しい 監視 国家 構築 ない 中東 翼竜 彩虹 無人 攻撃 機 大量 拡散 AI 自律的 攻撃 ドローン 兵器 販売 こと 警鐘 鳴らす 124 ロシア 中国 既に 実用化 する ハッキング 自動化 他 125 特定 個人 攻撃 ディープ フェイク なりすます ボット 投稿 よる 世論 操る 等 懸念 挙げる 126 オックスフォード大学 マイケル オズボーン 博士 2013 年 発表 論文 よる 人工知能 ロボット 等 よる 代替 可能性 高い 労働 人口 日本 約 49 ％ こと アメリカ 約 47 ％ イギリス 約 35 ％ 2030 年 代 ファストフード 店 料理 する 従業員 ロボット AI 取る 代わる 可能性 81 ％ 高い こと 指摘 127 128 129 しかし 論文 対する 実験室 レベル 自動化 出来る 仕事 含む ため 過大 推計 批判 ある 実際 2016 年 10 月 マイケル オズボーン 来日 際 経済 産業 研究所 岩本 晃一 意図 前提 試算 質問 ところ 技術的 可能性 示す 雇用 増 部分 一切 考慮 回答 返る 例える 現在 既に 将棋 AI 実験室 レベル 出現 現時点 世界中 将棋 棋士 全員 既に AI 代替 可能性 ある 示す 過ぎる そして 職業 構成 タスク 業務 単位 みる 場合 70 ％ 超え タスク 自動化 職業 9 ％ 程度 日本 場合 7 ％ 程度 とどまる 研究 結果 ある また AI 機械化 よる 雇用 奪う いう 主張 ある それ ら 技術 よる タスク 量 減少 AI 機械化 導入 維持 仕事 それ ら 技術 よる 新た 仕事 生まれる こと よる 雇用 生み出す 可能性 ある しかし 同時 中 程度 技能 有する ルーティン 業務 減少 専門的 技能 求める 低 スキル 仕事 高度 技能 求める 仕事 2 極 化 経済 格差 拡大 予測 ある 130 131 132 Google 2019 年 3 月 人工知能 プロジェクト 倫理 面 指導 ため 哲学者 政策 立案者 経済学 者 テクノロジスト 等 構成 AI 倫理 委員会 設置 発表 133 しかし 倫理 委員会 反 科学 反 マイノリティ 地球 温暖化 懐疑論 等 支持 人物 含む Google 社員 ら 解任 要請 133 4 月 4 日 Google 倫理 委員会 期待 どおり 機能 こと 判明 いう 理由 委員会 解散 発表 133 東洋 哲学 AI 吸収 いう 三宅 陽一郎 テーマ 応ずる 井口 尊仁 鳥居 torii いう 自分 プロジェクト 挙げる われわれ アニミズム あらゆる もの 霊的 存在 見いだす 文化 ある 三宅 および 立石 従 寛 語る 134 アニミズム 人工知能 論 現代 アート 禅 悟り どう やる AI やる 論ずる 三宅 人工知能 ため 哲学 塾 東洋 哲学 篇 通ずる 134 元 Google エンジニア アンソニー レバンドウスキー 2017 年 AI 神 する 宗教 団体 Way of THE future 未来 道 創立 135 団体 使命 人工知能 AI 基づく godhead 実現 促進 開発 こと そして godhead 理解 崇拝 通す 社会 より 良い する こと 貢献 こと 抽象的 表現 多く 海外 メディア SF 映画 歴史 関連 報道 135 uber Google waymo レバンドウスキー 自動 運転 関する 機密情報 盗用 こと 訴える 裁判 行う 一方 レバンドウスキー uber 元 CEO トラビス カラニック 対する ボット ひと つ 我々 世界 征服 発言 野心 振る舞い 示す 135 相愛大学 人 文学部 教授 釈 徹 宗 哲学 思想 文学 宗教 霊性 論 線引き 不明瞭 述べる 136 哲学者 倫理学 者 内田 樹 よる 本物 哲学者 みんな 死者 幽霊 異界 話 する いう 137 発明 家 レイ カーツ ワイル 言う 哲学者 ジョン サール 提起 強い AI 弱い AI 論争 AI 哲学 議論 ホット 話題 138 哲学者 ジョン サール および ダニエル デネット よる サール 中国語 部屋 ネド ブロック ら 中国 脳 いう 機能主義 批判的 思考 実験 真 意識 形式 論理 システム よる 実現 主張 139 140 科学 語る こと おく 科学者 須藤 靖 科学 つく 哲学的 考察 科学 哲学 実際 科学 断絶 こと 指摘 141 また 心 意識 いう 問題 解明 脳 科学 計算機科学 コンピュータ 科学 人工知能 研究開発 等 関連 科学者 フランシス クリック 哲学者 たち 2000 年 いう 長い 間 ほとんど 何 成果 残す 批判 142 こう する 観点 おく 哲学 二流 三 流 学問 科学 過ぎる 評価 142 脳 科学者 澤口 俊之 クリック 賛同 これ 私 ため息 まじり 愚痴 なる 哲学者 思想家 いう つくづく 暇 思う 述べる 142 実際 哲学 暇 スコレー 始まる アリストテレス 伝える 上記 よう 否定的 発言 的外れ ない 科学 哲学者 野家 啓一 言う 142 哲学者 科学 違う 日常的 言語 存在 宇宙 語る する 143 しかし 理論 物理学 者 ディラック 哲学者 ことさら 信用 144 ディラック 見る ところ ウィトゲンシュタイン 含める 哲学者 たち 量子 力学 パスカル 以降 確率 概念 理解 145 非 科学的 日常的 言語 いくら 使う 正確 意思 疎通 行う こと できる いう ディラック 考え する 144 生命 情報 科学者 神経 科学者 合原 一幸 編著 人工知能 こう する 創る よる AI 急激 発展 伴う 技術的 特異点 シンギュラリティ 思想 哲学 一部 論ずる 特異点 言う 数学 話 ない 146 前掲 書 そもそも シンギュラリティ 関係 議論 おく 人間 脳 超える いう 言明 自体 うまい 定義 記す 147 確か 脳 デジタル 情報処理 システム する 捉える 観点 見る シンギュラリティ 起こる しれる 148 しかし 実際 脳 単純 システム ない デジタル アナログ 融合 ハイブリッド 系 こと 脳神経 科学 観察 結果 示す 148 前掲 書 よる 神経 膜 様々 ノイズ 存在 ノイズ 付き アナログ 量 よる 脳内 ニューロン カオス 生み出す ため 状況 デジタル 記述 こと 極めて 困難 考える 149 数学者 田中 一之 一般 哲学者 論理 専門家 ない 述べる 150 計算機 科学者 コンピュータ 科学者 電子 工学者 トルケル フラン セーン 哲学者 たち よる 数学 言及 多く ひどい 誤解 自由 連想 基づく 批判 151 田中 よる ゲーデル 不完全性 定理 つく 哲学者 書く 本 フラン セーン 本 頃 書店 販売 哲学者 本 専門 誌 よる 酷評 150 本 全体 する 読む 一般 読者 評判 高い ゲーデル 証明 核 不動点 定理 つく 根本的 勘違い する まま 説明 150 同様 間違い 他 入門書 見る 150 フラン セーン よる 不完全性 定理 関する 誤解 誤用 哲学 はじめ 一般 起こる 151 宗教 神学 乱用 152 153 1931 年 ゲーデル 示す 特定 形式 体系 p displaystyle p おく 決定 不能 命題 存在 一般的 意味 不完全性 つく 定理 ない 154 科学 哲学 科学 語る こと よる 学問 扱う 問題 整理 分化 こと 科学 哲学 それぞれ 異なる 問題 研究 155 これ 研究 分野 細分化 もの 立派 進歩 宇宙 物理学 者 須藤 言う 155 一方 科学 哲学者 倫理学 者 伊勢田 哲治 様々 要素 含む 問題 哲学的 統一 扱う かつて 天文学 つく 言及 155 その後 天文学 哲学的 問題 扱う 今 物理学 そう いう 問題 扱う 述べる 伊勢田 対する 須藤 通り それ 自体 何 問題 ある 返す 155 須藤 次 よう 述べる 141 私 科学 哲学 物理学 者 対する 何 ら 助言 する いう こと 聞く こと ない おそらく 科学 哲学 一般 科学者 ほとんど 没交渉 言う 差し支える 状況 科学 哲学者 科学者 価値観 溝 深い こと 確実 須藤 哲学的 論ずる 原因 いう 言葉 取り上げる 原因 いう 言葉 具体的 定義 限り それ 以上 議論 不可能 157 述べる 哲学者 興味 持つ 因果 定義 物理学 者 違う こと 確か する 158 伊勢田 思う 以上 物理学 者 哲学者 もの 見える 方 違い いう 大きい しれる 述べる 159 対談 須藤 これ けっこう 長 時間 議論 行う おかげ 意見 違い 明らか 思う 果たして 何 決着 つく 発言 伊勢田 決着 つく 答える 160 学術書 辞 事典 報道 活用 事例 研究 課題 関連 分野 他 関連 項目 応用 人工知能 未来 関わる 項目\n"
          ],
          "name": "stdout"
        }
      ]
    },
    {
      "cell_type": "markdown",
      "metadata": {
        "id": "M94JaaA1zWRB"
      },
      "source": [
        "### 上記の操作をまとめておこなう関数を定義しておく。\n",
        "* 後で、各エントリについて、この関数を呼び出す。"
      ]
    },
    {
      "cell_type": "code",
      "metadata": {
        "id": "HAJ5fUnTzV7w"
      },
      "source": [
        "def morph(soup, nlp):\n",
        "\n",
        "  lines = list()\n",
        "  for para in soup.find_all('p'):\n",
        "    lines.append(para.text)\n",
        "\n",
        "  x_pos = ['SPACE', 'PUNCT', 'AUX', 'ADP', 'SYM', 'DET', 'SCONJ', 'PART']\n",
        "  tokens = list()\n",
        "  for line in lines:\n",
        "    for token in nlp(line):\n",
        "      pos = token.pos_\n",
        "      if pos not in x_pos:\n",
        "        tokens.append(token.lemma_)\n",
        "\n",
        "  return ' '.join(tokens)"
      ],
      "execution_count": null,
      "outputs": []
    },
    {
      "cell_type": "markdown",
      "metadata": {
        "id": "Uha2LvYf1LZd"
      },
      "source": [
        "## 課題の手順(2)"
      ]
    },
    {
      "cell_type": "markdown",
      "metadata": {
        "id": "hAByKozFtYwF"
      },
      "source": [
        "### 「コンピュータ科学」の様々な分野に関するWikipediaエントリについて上記の作業を実行\n",
        "*  「人工知能」エントリの下部にある「コンピュータ科学」の分野一覧から、aタグのhref属性にあるURLを抜き出す。\n",
        "* ただし、__`/wiki/`__という文字列で始まっているURLであり、かつ、テンプレートの状態でないものだけを抜き出す。\n",
        " * Wikipediaのクローリングについてもっと詳しく知りたい場合は、下記のページ等を参照されたい。\n",
        "   * https://medium.com/@robinlphood/tutorial-a-simple-crawler-for-wikipedia-d7b6f6f55d5"
      ]
    },
    {
      "cell_type": "code",
      "metadata": {
        "id": "6qTCAg07qwcn",
        "outputId": "155fe0ec-7968-4d83-f045-e4d5199086a6",
        "colab": {
          "base_uri": "https://localhost:8080/",
          "height": 1000
        }
      },
      "source": [
        "# 「人工知能」エントリの下部にある「コンピュータ科学」の分野一覧から、aタグのhref属性にあるURLを抜き出す。\n",
        "\n",
        "target_str = '表話編歴コンピュータ科学'\n",
        "prefix = '/wiki/'\n",
        "\n",
        "urls = dict()\n",
        "for table in soup.find_all('table'):\n",
        "  if table.text[:len(target_str)] != target_str: continue\n",
        "  for td in table.find_all('td'):\n",
        "    for a in td.find_all('a'):\n",
        "      if not a.text: continue\n",
        "      try:\n",
        "        if a.text.find('英語版') == -1:\n",
        "          href = a['href']\n",
        "          if href[:len(prefix)] == prefix and href.find('/Template:') == -1 and href.find('/Category:') == -1:\n",
        "            urls[a.text] = 'https://ja.wikipedia.org' + href\n",
        "      except:\n",
        "        continue\n",
        "\n",
        "for k in urls:\n",
        "  print(k, urls[k])"
      ],
      "execution_count": null,
      "outputs": [
        {
          "output_type": "stream",
          "text": [
            "コンピュータ科学 https://ja.wikipedia.org/wiki/%E3%82%B3%E3%83%B3%E3%83%94%E3%83%A5%E3%83%BC%E3%82%BF%E7%A7%91%E5%AD%A6\n",
            "ハードウェア https://ja.wikipedia.org/wiki/%E3%83%8F%E3%83%BC%E3%83%89%E3%82%A6%E3%82%A7%E3%82%A2\n",
            "プリント基板 https://ja.wikipedia.org/wiki/%E3%83%97%E3%83%AA%E3%83%B3%E3%83%88%E5%9F%BA%E6%9D%BF\n",
            "周辺機器 https://ja.wikipedia.org/wiki/%E5%91%A8%E8%BE%BA%E6%A9%9F%E5%99%A8\n",
            "集積回路 https://ja.wikipedia.org/wiki/%E9%9B%86%E7%A9%8D%E5%9B%9E%E8%B7%AF\n",
            "Systems on Chip (SoCs) https://ja.wikipedia.org/wiki/System-on-a-chip\n",
            "エネルギー消費 (グリーン・コンピューティング) https://ja.wikipedia.org/wiki/%E3%82%B0%E3%83%AA%E3%83%BC%E3%83%B3IT\n",
            "EDA https://ja.wikipedia.org/wiki/EDA\n",
            "ハードウェアアクセラレーション https://ja.wikipedia.org/wiki/%E3%83%8F%E3%83%BC%E3%83%89%E3%82%A6%E3%82%A7%E3%82%A2%E3%82%A2%E3%82%AF%E3%82%BB%E3%83%A9%E3%83%AC%E3%83%BC%E3%82%B7%E3%83%A7%E3%83%B3\n",
            "コンピュータ・アーキテクチャ https://ja.wikipedia.org/wiki/%E3%82%B3%E3%83%B3%E3%83%94%E3%83%A5%E3%83%BC%E3%82%BF%E3%83%BB%E3%82%A2%E3%83%BC%E3%82%AD%E3%83%86%E3%82%AF%E3%83%81%E3%83%A3\n",
            "組み込みシステム https://ja.wikipedia.org/wiki/%E7%B5%84%E3%81%BF%E8%BE%BC%E3%81%BF%E3%82%B7%E3%82%B9%E3%83%86%E3%83%A0\n",
            "リアルタイムシステム https://ja.wikipedia.org/wiki/%E3%83%AA%E3%82%A2%E3%83%AB%E3%82%BF%E3%82%A4%E3%83%A0%E3%82%B7%E3%82%B9%E3%83%86%E3%83%A0\n",
            "ディペンダビリティ https://ja.wikipedia.org/wiki/%E3%83%87%E3%82%A3%E3%83%9A%E3%83%B3%E3%83%80%E3%83%93%E3%83%AA%E3%83%86%E3%82%A3\n",
            "ネットワーク https://ja.wikipedia.org/wiki/%E3%82%B3%E3%83%B3%E3%83%94%E3%83%A5%E3%83%BC%E3%82%BF%E3%83%8D%E3%83%83%E3%83%88%E3%83%AF%E3%83%BC%E3%82%AF\n",
            "通信プロトコル https://ja.wikipedia.org/wiki/%E9%80%9A%E4%BF%A1%E3%83%97%E3%83%AD%E3%83%88%E3%82%B3%E3%83%AB\n",
            "インタプリタ https://ja.wikipedia.org/wiki/%E3%82%A4%E3%83%B3%E3%82%BF%E3%83%97%E3%83%AA%E3%82%BF\n",
            "ミドルウェア https://ja.wikipedia.org/wiki/%E3%83%9F%E3%83%89%E3%83%AB%E3%82%A6%E3%82%A7%E3%82%A2\n",
            "仮想マシン https://ja.wikipedia.org/wiki/%E4%BB%AE%E6%83%B3%E3%83%9E%E3%82%B7%E3%83%B3\n",
            "オペレーティングシステム https://ja.wikipedia.org/wiki/%E3%82%AA%E3%83%9A%E3%83%AC%E3%83%BC%E3%83%86%E3%82%A3%E3%83%B3%E3%82%B0%E3%82%B7%E3%82%B9%E3%83%86%E3%83%A0\n",
            "ソフトウェア品質 https://ja.wikipedia.org/wiki/%E3%82%BD%E3%83%95%E3%83%88%E3%82%A6%E3%82%A7%E3%82%A2%E5%93%81%E8%B3%AA\n",
            "ツール https://ja.wikipedia.org/wiki/%E3%83%97%E3%83%AD%E3%82%B0%E3%83%A9%E3%83%9F%E3%83%B3%E3%82%B0%E3%83%84%E3%83%BC%E3%83%AB\n",
            "プログラミングパラダイム https://ja.wikipedia.org/wiki/%E3%83%97%E3%83%AD%E3%82%B0%E3%83%A9%E3%83%9F%E3%83%B3%E3%82%B0%E3%83%91%E3%83%A9%E3%83%80%E3%82%A4%E3%83%A0\n",
            "プログラミング言語 https://ja.wikipedia.org/wiki/%E3%83%97%E3%83%AD%E3%82%B0%E3%83%A9%E3%83%9F%E3%83%B3%E3%82%B0%E8%A8%80%E8%AA%9E\n",
            "コンパイラ https://ja.wikipedia.org/wiki/%E3%82%B3%E3%83%B3%E3%83%91%E3%82%A4%E3%83%A9\n",
            "ドメイン固有言語 https://ja.wikipedia.org/wiki/%E3%83%89%E3%83%A1%E3%82%A4%E3%83%B3%E5%9B%BA%E6%9C%89%E8%A8%80%E8%AA%9E\n",
            "モデリング言語 https://ja.wikipedia.org/wiki/%E3%83%A2%E3%83%87%E3%83%AA%E3%83%B3%E3%82%B0%E8%A8%80%E8%AA%9E\n",
            "ソフトウェアフレームワーク https://ja.wikipedia.org/wiki/%E3%82%BD%E3%83%95%E3%83%88%E3%82%A6%E3%82%A7%E3%82%A2%E3%83%95%E3%83%AC%E3%83%BC%E3%83%A0%E3%83%AF%E3%83%BC%E3%82%AF\n",
            "統合開発環境 https://ja.wikipedia.org/wiki/%E7%B5%B1%E5%90%88%E9%96%8B%E7%99%BA%E7%92%B0%E5%A2%83\n",
            "ソフトウェア構成管理 https://ja.wikipedia.org/wiki/%E3%82%BD%E3%83%95%E3%83%88%E3%82%A6%E3%82%A7%E3%82%A2%E6%A7%8B%E6%88%90%E7%AE%A1%E7%90%86\n",
            "ソフトウェアライブラリ https://ja.wikipedia.org/wiki/%E3%83%A9%E3%82%A4%E3%83%96%E3%83%A9%E3%83%AA\n",
            "ソフトウェアリポジトリ https://ja.wikipedia.org/wiki/%E3%83%AA%E3%83%9D%E3%82%B8%E3%83%88%E3%83%AA\n",
            "ソフトウェア開発 https://ja.wikipedia.org/wiki/%E3%82%BD%E3%83%95%E3%83%88%E3%82%A6%E3%82%A7%E3%82%A2%E9%96%8B%E7%99%BA\n",
            "ソフトウェア開発プロセス https://ja.wikipedia.org/wiki/%E3%82%BD%E3%83%95%E3%83%88%E3%82%A6%E3%82%A7%E3%82%A2%E9%96%8B%E7%99%BA%E3%83%97%E3%83%AD%E3%82%BB%E3%82%B9\n",
            "要求分析 https://ja.wikipedia.org/wiki/%E8%A6%81%E6%B1%82%E5%88%86%E6%9E%90\n",
            "ソフトウェア設計 https://ja.wikipedia.org/wiki/%E3%82%BD%E3%83%95%E3%83%88%E3%82%A6%E3%82%A7%E3%82%A2%E8%A8%AD%E8%A8%88\n",
            "ソフトウェアデプロイメント https://ja.wikipedia.org/wiki/%E3%82%BD%E3%83%95%E3%83%88%E3%82%A6%E3%82%A7%E3%82%A2%E3%83%87%E3%83%97%E3%83%AD%E3%82%A4%E3%83%A1%E3%83%B3%E3%83%88\n",
            "ソフトウェアメンテナンス https://ja.wikipedia.org/wiki/%E3%82%BD%E3%83%95%E3%83%88%E3%82%A6%E3%82%A7%E3%82%A2%E3%83%A1%E3%83%B3%E3%83%86%E3%83%8A%E3%83%B3%E3%82%B9\n",
            "オープンソースモデル https://ja.wikipedia.org/wiki/%E3%82%AA%E3%83%BC%E3%83%97%E3%83%B3%E3%82%BD%E3%83%BC%E3%82%B9%E3%82%BD%E3%83%95%E3%83%88%E3%82%A6%E3%82%A7%E3%82%A2\n",
            "計算理論 https://ja.wikipedia.org/wiki/%E8%A8%88%E7%AE%97%E7%90%86%E8%AB%96\n",
            "計算モデル https://ja.wikipedia.org/wiki/%E8%A8%88%E7%AE%97%E3%83%A2%E3%83%87%E3%83%AB\n",
            "形式言語 https://ja.wikipedia.org/wiki/%E5%BD%A2%E5%BC%8F%E8%A8%80%E8%AA%9E\n",
            "オートマトン理論 https://ja.wikipedia.org/wiki/%E3%82%AA%E3%83%BC%E3%83%88%E3%83%9E%E3%83%88%E3%83%B3%E7%90%86%E8%AB%96\n",
            "計算可能性理論 https://ja.wikipedia.org/wiki/%E8%A8%88%E7%AE%97%E5%8F%AF%E8%83%BD%E6%80%A7%E7%90%86%E8%AB%96\n",
            "計算複雑性理論 https://ja.wikipedia.org/wiki/%E8%A8%88%E7%AE%97%E8%A4%87%E9%9B%91%E6%80%A7%E7%90%86%E8%AB%96\n",
            "意味論 https://ja.wikipedia.org/wiki/%E3%83%97%E3%83%AD%E3%82%B0%E3%83%A9%E3%83%A0%E6%84%8F%E5%91%B3%E8%AB%96\n",
            "アルゴリズム https://ja.wikipedia.org/wiki/%E3%82%A2%E3%83%AB%E3%82%B4%E3%83%AA%E3%82%BA%E3%83%A0\n",
            "アルゴリズム解析 https://ja.wikipedia.org/wiki/%E3%82%A2%E3%83%AB%E3%82%B4%E3%83%AA%E3%82%BA%E3%83%A0%E8%A7%A3%E6%9E%90\n",
            "乱択アルゴリズム https://ja.wikipedia.org/wiki/%E4%B9%B1%E6%8A%9E%E3%82%A2%E3%83%AB%E3%82%B4%E3%83%AA%E3%82%BA%E3%83%A0\n",
            "計算幾何学 https://ja.wikipedia.org/wiki/%E8%A8%88%E7%AE%97%E5%B9%BE%E4%BD%95%E5%AD%A6\n",
            "離散数学 https://ja.wikipedia.org/wiki/%E9%9B%A2%E6%95%A3%E6%95%B0%E5%AD%A6\n",
            "確率 https://ja.wikipedia.org/wiki/%E7%A2%BA%E7%8E%87\n",
            "統計学 https://ja.wikipedia.org/wiki/%E7%B5%B1%E8%A8%88%E5%AD%A6\n",
            "数学ソフトウェア https://ja.wikipedia.org/wiki/%E6%95%B0%E5%AD%A6%E3%82%BD%E3%83%95%E3%83%88%E3%82%A6%E3%82%A7%E3%82%A2\n",
            "情報理論 https://ja.wikipedia.org/wiki/%E6%83%85%E5%A0%B1%E7%90%86%E8%AB%96\n",
            "解析学 https://ja.wikipedia.org/wiki/%E8%A7%A3%E6%9E%90%E5%AD%A6\n",
            "数値解析 https://ja.wikipedia.org/wiki/%E6%95%B0%E5%80%A4%E8%A7%A3%E6%9E%90\n",
            "情報システム https://ja.wikipedia.org/wiki/%E6%83%85%E5%A0%B1%E3%82%B7%E3%82%B9%E3%83%86%E3%83%A0\n",
            "データベース管理システム https://ja.wikipedia.org/wiki/%E3%83%87%E3%83%BC%E3%82%BF%E3%83%99%E3%83%BC%E3%82%B9\n",
            "情報ストレージシステム https://ja.wikipedia.org/wiki/%E8%A8%98%E6%86%B6%E8%A3%85%E7%BD%AE\n",
            "企業情報システム https://ja.wikipedia.org/wiki/%E4%BC%81%E6%A5%AD%E6%83%85%E5%A0%B1%E3%82%B7%E3%82%B9%E3%83%86%E3%83%A0\n",
            "地理情報システム https://ja.wikipedia.org/wiki/%E5%9C%B0%E7%90%86%E6%83%85%E5%A0%B1%E3%82%B7%E3%82%B9%E3%83%86%E3%83%A0\n",
            "意思決定支援システム https://ja.wikipedia.org/wiki/%E6%84%8F%E6%80%9D%E6%B1%BA%E5%AE%9A%E6%94%AF%E6%8F%B4%E3%82%B7%E3%82%B9%E3%83%86%E3%83%A0\n",
            "プロセス制御システム https://ja.wikipedia.org/wiki/%E3%83%97%E3%83%AD%E3%82%BB%E3%82%B9%E5%88%B6%E5%BE%A1\n",
            "データマイニング https://ja.wikipedia.org/wiki/%E3%83%87%E3%83%BC%E3%82%BF%E3%83%9E%E3%82%A4%E3%83%8B%E3%83%B3%E3%82%B0\n",
            "電子図書館 https://ja.wikipedia.org/wiki/%E9%9B%BB%E5%AD%90%E5%9B%B3%E6%9B%B8%E9%A4%A8\n",
            "コンピューティング・プラットフォーム https://ja.wikipedia.org/wiki/%E3%83%97%E3%83%A9%E3%83%83%E3%83%88%E3%83%95%E3%82%A9%E3%83%BC%E3%83%A0_(%E3%82%B3%E3%83%B3%E3%83%94%E3%83%A5%E3%83%BC%E3%83%86%E3%82%A3%E3%83%B3%E3%82%B0)\n",
            "デジタルマーケティング https://ja.wikipedia.org/wiki/%E3%83%87%E3%82%B8%E3%82%BF%E3%83%AB%E3%83%9E%E3%83%BC%E3%82%B1%E3%83%86%E3%82%A3%E3%83%B3%E3%82%B0\n",
            "World Wide Web https://ja.wikipedia.org/wiki/World_Wide_Web\n",
            "情報検索 https://ja.wikipedia.org/wiki/%E6%83%85%E5%A0%B1%E6%A4%9C%E7%B4%A2\n",
            "セキュリティ https://ja.wikipedia.org/wiki/%E3%82%B3%E3%83%B3%E3%83%94%E3%83%A5%E3%83%BC%E3%82%BF%E3%82%BB%E3%82%AD%E3%83%A5%E3%83%AA%E3%83%86%E3%82%A3\n",
            "暗号理論 https://ja.wikipedia.org/wiki/%E6%9A%97%E5%8F%B7%E7%90%86%E8%AB%96\n",
            "形式手法 https://ja.wikipedia.org/wiki/%E5%BD%A2%E5%BC%8F%E6%89%8B%E6%B3%95\n",
            "侵入検知システム https://ja.wikipedia.org/wiki/%E4%BE%B5%E5%85%A5%E6%A4%9C%E7%9F%A5%E3%82%B7%E3%82%B9%E3%83%86%E3%83%A0\n",
            "ネットワーク・セキュリティ https://ja.wikipedia.org/wiki/%E3%83%8D%E3%83%83%E3%83%88%E3%83%AF%E3%83%BC%E3%82%AF%E3%83%BB%E3%82%BB%E3%82%AD%E3%83%A5%E3%83%AA%E3%83%86%E3%82%A3\n",
            "情報セキュリティ https://ja.wikipedia.org/wiki/%E6%83%85%E5%A0%B1%E3%82%BB%E3%82%AD%E3%83%A5%E3%83%AA%E3%83%86%E3%82%A3\n",
            "ヒューマンコンピュータインタラクション https://ja.wikipedia.org/wiki/%E3%83%92%E3%83%A5%E3%83%BC%E3%83%9E%E3%83%B3%E3%82%B3%E3%83%B3%E3%83%94%E3%83%A5%E3%83%BC%E3%82%BF%E3%82%A4%E3%83%B3%E3%82%BF%E3%83%A9%E3%82%AF%E3%82%B7%E3%83%A7%E3%83%B3\n",
            "インタラクションデザイン https://ja.wikipedia.org/wiki/%E3%82%A4%E3%83%B3%E3%82%BF%E3%83%A9%E3%82%AF%E3%82%B7%E3%83%A7%E3%83%B3%E3%83%87%E3%82%B6%E3%82%A4%E3%83%B3\n",
            "ユビキタスコンピューティング https://ja.wikipedia.org/wiki/%E3%83%A6%E3%83%93%E3%82%AD%E3%82%BF%E3%82%B9%E3%82%B3%E3%83%B3%E3%83%94%E3%83%A5%E3%83%BC%E3%83%86%E3%82%A3%E3%83%B3%E3%82%B0\n",
            "可視化 https://ja.wikipedia.org/wiki/%E5%8F%AF%E8%A6%96%E5%8C%96\n",
            "アクセシビリティ https://ja.wikipedia.org/wiki/%E3%82%B3%E3%83%B3%E3%83%94%E3%83%A5%E3%83%BC%E3%82%BF%E3%82%A2%E3%82%AF%E3%82%BB%E3%82%B7%E3%83%93%E3%83%AA%E3%83%86%E3%82%A3\n",
            "並行性 https://ja.wikipedia.org/wiki/%E4%B8%A6%E8%A1%8C%E6%80%A7\n",
            "並行コンピューティング https://ja.wikipedia.org/wiki/%E4%B8%A6%E8%A1%8C%E3%82%B3%E3%83%B3%E3%83%94%E3%83%A5%E3%83%BC%E3%83%86%E3%82%A3%E3%83%B3%E3%82%B0\n",
            "並列コンピューティング https://ja.wikipedia.org/wiki/%E4%B8%A6%E5%88%97%E3%82%B3%E3%83%B3%E3%83%94%E3%83%A5%E3%83%BC%E3%83%86%E3%82%A3%E3%83%B3%E3%82%B0\n",
            "分散コンピューティング https://ja.wikipedia.org/wiki/%E5%88%86%E6%95%A3%E3%82%B3%E3%83%B3%E3%83%94%E3%83%A5%E3%83%BC%E3%83%86%E3%82%A3%E3%83%B3%E3%82%B0\n",
            "マルチスレッディング https://ja.wikipedia.org/wiki/%E3%83%8F%E3%83%BC%E3%83%89%E3%82%A6%E3%82%A7%E3%82%A2%E3%83%9E%E3%83%AB%E3%83%81%E3%82%B9%E3%83%AC%E3%83%83%E3%83%87%E3%82%A3%E3%83%B3%E3%82%B0\n",
            "マルチプロセッシング https://ja.wikipedia.org/wiki/%E3%83%9E%E3%83%AB%E3%83%81%E3%83%97%E3%83%AD%E3%82%BB%E3%83%83%E3%82%B7%E3%83%B3%E3%82%B0\n",
            "自然言語処理 https://ja.wikipedia.org/wiki/%E8%87%AA%E7%84%B6%E8%A8%80%E8%AA%9E%E5%87%A6%E7%90%86\n",
            "知識表現と推論 https://ja.wikipedia.org/wiki/%E7%9F%A5%E8%AD%98%E8%A1%A8%E7%8F%BE\n",
            "コンピュータビジョン https://ja.wikipedia.org/wiki/%E3%82%B3%E3%83%B3%E3%83%94%E3%83%A5%E3%83%BC%E3%82%BF%E3%83%93%E3%82%B8%E3%83%A7%E3%83%B3\n",
            "自動計画とスケジューリング https://ja.wikipedia.org/wiki/%E8%87%AA%E5%8B%95%E8%A8%88%E7%94%BB\n",
            "検索手法 https://ja.wikipedia.org/wiki/%E6%95%B0%E7%90%86%E6%9C%80%E9%81%A9%E5%8C%96\n",
            "制御手法 https://ja.wikipedia.org/wiki/%E5%88%B6%E5%BE%A1%E7%90%86%E8%AB%96\n",
            "機械学習 https://ja.wikipedia.org/wiki/%E6%A9%9F%E6%A2%B0%E5%AD%A6%E7%BF%92\n",
            "教師あり学習 https://ja.wikipedia.org/wiki/%E6%95%99%E5%B8%AB%E3%81%82%E3%82%8A%E5%AD%A6%E7%BF%92\n",
            "教師なし学習 https://ja.wikipedia.org/wiki/%E6%95%99%E5%B8%AB%E3%81%AA%E3%81%97%E5%AD%A6%E7%BF%92\n",
            "強化学習 https://ja.wikipedia.org/wiki/%E5%BC%B7%E5%8C%96%E5%AD%A6%E7%BF%92\n",
            "交差検証 https://ja.wikipedia.org/wiki/%E4%BA%A4%E5%B7%AE%E6%A4%9C%E8%A8%BC\n",
            "グラフィックス https://ja.wikipedia.org/wiki/%E3%82%B3%E3%83%B3%E3%83%94%E3%83%A5%E3%83%BC%E3%82%BF%E3%82%B0%E3%83%A9%E3%83%95%E3%82%A3%E3%83%83%E3%82%AF%E3%82%B9\n",
            "アニメーション https://ja.wikipedia.org/wiki/%E3%82%B3%E3%83%B3%E3%83%94%E3%83%A5%E3%83%BC%E3%82%BF%E3%82%A2%E3%83%8B%E3%83%A1%E3%83%BC%E3%82%B7%E3%83%A7%E3%83%B3\n",
            "レンダリング https://ja.wikipedia.org/wiki/%E3%83%AC%E3%83%B3%E3%83%80%E3%83%AA%E3%83%B3%E3%82%B0_(%E3%82%B3%E3%83%B3%E3%83%94%E3%83%A5%E3%83%BC%E3%82%BF)\n",
            "画像編集 https://ja.wikipedia.org/wiki/%E5%86%99%E7%9C%9F%E7%B7%A8%E9%9B%86\n",
            "GPU https://ja.wikipedia.org/wiki/GPU\n",
            "複合現実 https://ja.wikipedia.org/wiki/%E8%A4%87%E5%90%88%E7%8F%BE%E5%AE%9F\n",
            "バーチャル・リアリティ https://ja.wikipedia.org/wiki/%E3%83%90%E3%83%BC%E3%83%81%E3%83%A3%E3%83%AB%E3%83%BB%E3%83%AA%E3%82%A2%E3%83%AA%E3%83%86%E3%82%A3\n",
            "画像圧縮 https://ja.wikipedia.org/wiki/%E7%94%BB%E5%83%8F%E5%9C%A7%E7%B8%AE\n",
            "ソリッドモデリング https://ja.wikipedia.org/wiki/%E3%82%BD%E3%83%AA%E3%83%83%E3%83%89%E3%83%A2%E3%83%87%E3%83%AA%E3%83%B3%E3%82%B0\n",
            "電子商取引 https://ja.wikipedia.org/wiki/%E9%9B%BB%E5%AD%90%E5%95%86%E5%8F%96%E5%BC%95\n",
            "企業アプリケーション https://ja.wikipedia.org/wiki/%E4%BC%81%E6%A5%AD%E3%82%A2%E3%83%97%E3%83%AA%E3%82%B1%E3%83%BC%E3%82%B7%E3%83%A7%E3%83%B3\n",
            "計算物理学 https://ja.wikipedia.org/wiki/%E8%A8%88%E7%AE%97%E7%89%A9%E7%90%86%E5%AD%A6\n",
            "計算化学 https://ja.wikipedia.org/wiki/%E8%A8%88%E7%AE%97%E5%8C%96%E5%AD%A6\n",
            "計算生物学 https://ja.wikipedia.org/wiki/%E8%A8%88%E7%AE%97%E7%94%9F%E7%89%A9%E5%AD%A6\n",
            "計算社会科学 https://ja.wikipedia.org/wiki/%E8%A8%88%E7%AE%97%E7%A4%BE%E4%BC%9A%E7%A7%91%E5%AD%A6\n",
            "健康情報学 https://ja.wikipedia.org/wiki/%E5%81%A5%E5%BA%B7%E6%83%85%E5%A0%B1%E5%AD%A6\n",
            "デジタルアート https://ja.wikipedia.org/wiki/%E3%83%87%E3%82%B8%E3%82%BF%E3%83%AB%E3%82%A2%E3%83%BC%E3%83%88\n",
            "電子出版 https://ja.wikipedia.org/wiki/%E9%9B%BB%E5%AD%90%E5%87%BA%E7%89%88\n",
            "サイバー戦争 https://ja.wikipedia.org/wiki/%E3%82%B5%E3%82%A4%E3%83%90%E3%83%BC%E6%88%A6%E4%BA%89\n",
            "電子投票 https://ja.wikipedia.org/wiki/%E9%9B%BB%E5%AD%90%E6%8A%95%E7%A5%A8\n",
            "コンピュータゲーム https://ja.wikipedia.org/wiki/%E3%82%B3%E3%83%B3%E3%83%94%E3%83%A5%E3%83%BC%E3%82%BF%E3%82%B2%E3%83%BC%E3%83%A0\n",
            "ワードプロセッサー https://ja.wikipedia.org/wiki/%E3%83%AF%E3%83%BC%E3%83%89%E3%83%97%E3%83%AD%E3%82%BB%E3%83%83%E3%82%B5%E3%83%BC\n",
            "オペレーションズ・リサーチ https://ja.wikipedia.org/wiki/%E3%82%AA%E3%83%9A%E3%83%AC%E3%83%BC%E3%82%B7%E3%83%A7%E3%83%B3%E3%82%BA%E3%83%BB%E3%83%AA%E3%82%B5%E3%83%BC%E3%83%81\n",
            "教育工学 https://ja.wikipedia.org/wiki/%E6%95%99%E8%82%B2%E5%B7%A5%E5%AD%A6\n",
            "文書管理システム https://ja.wikipedia.org/wiki/%E6%96%87%E6%9B%B8%E7%AE%A1%E7%90%86%E3%82%B7%E3%82%B9%E3%83%86%E3%83%A0\n"
          ],
          "name": "stdout"
        }
      ]
    },
    {
      "cell_type": "code",
      "metadata": {
        "id": "Luy0M3LjBd63"
      },
      "source": [
        "# 各エントリをダウンロードしてparserのインスタンスを作り、辞書として保存。\n",
        "\n",
        "soups = dict()\n",
        "for k in urls:\n",
        "  html = urlopen(urls[k]) \n",
        "  soups[k] = BeautifulSoup(html, 'html.parser')"
      ],
      "execution_count": null,
      "outputs": []
    },
    {
      "cell_type": "code",
      "metadata": {
        "id": "G_FMR37hvTHZ"
      },
      "source": [
        "# 先ほど定義した関数morph()を使って各エントリを形態素解析し、lemmaが半角スペースで区切られた文字列へ変換する。\n",
        "\n",
        "genre = list()\n",
        "corpus = list()\n",
        "for k in soups:\n",
        "  genre.append(k)\n",
        "  doc = morph(soups[k], nlp)\n",
        "  corpus.append(doc)"
      ],
      "execution_count": null,
      "outputs": []
    },
    {
      "cell_type": "code",
      "metadata": {
        "id": "M52fABfNap0e"
      },
      "source": [
        "corpus"
      ],
      "execution_count": null,
      "outputs": []
    },
    {
      "cell_type": "code",
      "metadata": {
        "id": "gvZKoPJXNNgO",
        "outputId": "5f331c5a-f97f-4b4e-d162-5867c726de90",
        "colab": {
          "base_uri": "https://localhost:8080/",
          "height": 125
        }
      },
      "source": [
        "# 再利用するために、csvファイルとして保存しておく。\n",
        "\n",
        "import pandas as pd\n",
        "\n",
        "genre.append('人工知能')\n",
        "corpus.append(doc_AI)\n",
        "\n",
        "df = pd.DataFrame(list(zip(genre, corpus)), columns=['genre', 'text'])\n",
        "print(df.head())\n",
        "df.to_csv('cs_corpus.csv')"
      ],
      "execution_count": null,
      "outputs": [
        {
          "output_type": "stream",
          "text": [
            "      genre                                               text\n",
            "0  コンピュータ科学  計算機科学 けい さん かがく 英 computer science コンピュータ 科学 情...\n",
            "1    ハードウェア  ハードウェア 英語 hardware システム 物理的 構成要素 指す 一般 用語 日本語 ...\n",
            "2    プリント基板  プリント基板 プリント きばる 短縮 形 pwb PCB 基板 一種 以下 ふた つ まとめ...\n",
            "3      周辺機器  周辺 機器 しゅうへん きく また ペリフェラル 英 peripheral コンピュータ ゲ...\n",
            "4      集積回路  集積回路 しゅう せき かいろ 英 integrated circuit IC 半導体 表面...\n"
          ],
          "name": "stdout"
        }
      ]
    },
    {
      "cell_type": "markdown",
      "metadata": {
        "id": "PaIiKbJu1Ps9"
      },
      "source": [
        "## 課題の手順(3)"
      ]
    },
    {
      "cell_type": "markdown",
      "metadata": {
        "id": "SnSE8kLf1Re6"
      },
      "source": [
        "### scikit-learnのCountVectorizerで単語の出現頻度を要素とするベクトルを作成\n",
        "* これにより、各文書のベクトル表現が得られる。\n",
        "* 興味のある対象のベクトル表現を得ることは、その対象を機械学習アルゴリズムの入力データとして使うための第一歩。"
      ]
    },
    {
      "cell_type": "code",
      "metadata": {
        "id": "VbmW1-x5zs99"
      },
      "source": [
        "# 先ほど作成したcsvファイルを読んで、textカラムをCountVectorizerのインスタンスでベクトル化する。\n",
        "# ベクトルの要素は、各Wikipediaエントリにおける、各単語の出現回数になる。\n",
        "\n",
        "from sklearn.feature_extraction.text import CountVectorizer\n",
        "\n",
        "df = pd.read_csv('cs_corpus.csv')\n",
        "\n",
        "vectorizer = CountVectorizer()\n",
        "X = vectorizer.fit_transform(df['text'])"
      ],
      "execution_count": null,
      "outputs": []
    },
    {
      "cell_type": "code",
      "metadata": {
        "id": "xTSpEuWM1g3d",
        "outputId": "cdb7fdc5-dd25-4cad-ce8b-dc22d6a4ff7b",
        "colab": {
          "base_uri": "https://localhost:8080/",
          "height": 935
        }
      },
      "source": [
        "# CountVectorizerで得られるのはsparse matrixである。\n",
        "print(X)"
      ],
      "execution_count": null,
      "outputs": [
        {
          "output_type": "stream",
          "text": [
            "  (0, 9859)\t16\n",
            "  (0, 2521)\t1\n",
            "  (0, 2561)\t1\n",
            "  (0, 2481)\t1\n",
            "  (0, 716)\t7\n",
            "  (0, 1972)\t5\n",
            "  (0, 3567)\t14\n",
            "  (0, 9127)\t12\n",
            "  (0, 7527)\t4\n",
            "  (0, 9853)\t25\n",
            "  (0, 8848)\t1\n",
            "  (0, 6797)\t1\n",
            "  (0, 6437)\t1\n",
            "  (0, 7094)\t1\n",
            "  (0, 7484)\t4\n",
            "  (0, 10496)\t1\n",
            "  (0, 9075)\t4\n",
            "  (0, 6153)\t12\n",
            "  (0, 8329)\t2\n",
            "  (0, 2424)\t12\n",
            "  (0, 3568)\t2\n",
            "  (0, 2848)\t4\n",
            "  (0, 6273)\t1\n",
            "  (0, 10677)\t5\n",
            "  (0, 8847)\t6\n",
            "  :\t:\n",
            "  (122, 5425)\t1\n",
            "  (122, 6319)\t1\n",
            "  (122, 6001)\t1\n",
            "  (122, 9113)\t1\n",
            "  (122, 5547)\t1\n",
            "  (122, 84)\t1\n",
            "  (122, 85)\t1\n",
            "  (122, 138)\t1\n",
            "  (122, 86)\t1\n",
            "  (122, 87)\t4\n",
            "  (122, 9204)\t1\n",
            "  (122, 5717)\t4\n",
            "  (122, 6647)\t1\n",
            "  (122, 6957)\t2\n",
            "  (122, 8504)\t1\n",
            "  (122, 7267)\t1\n",
            "  (122, 5841)\t1\n",
            "  (122, 90)\t1\n",
            "  (122, 93)\t1\n",
            "  (122, 7158)\t1\n",
            "  (122, 2526)\t1\n",
            "  (122, 2459)\t1\n",
            "  (122, 8239)\t1\n",
            "  (122, 96)\t1\n",
            "  (122, 5566)\t1\n"
          ],
          "name": "stdout"
        }
      ]
    },
    {
      "cell_type": "code",
      "metadata": {
        "id": "P9HpWKob5BSi",
        "outputId": "c952607c-4505-4ea2-9077-4eca2fda8989",
        "colab": {
          "base_uri": "https://localhost:8080/",
          "height": 35
        }
      },
      "source": [
        "# sparse matrixから、通常のNumPyの配列へ変換する。\n",
        "X = X.toarray()\n",
        "print('文書数:{}; 語彙サイズ：{}'.format(*X.shape))"
      ],
      "execution_count": null,
      "outputs": [
        {
          "output_type": "stream",
          "text": [
            "文書数:123; 語彙サイズ：10771\n"
          ],
          "name": "stdout"
        }
      ]
    },
    {
      "cell_type": "code",
      "metadata": {
        "id": "WLut43Mj1jDh"
      },
      "source": [
        "# CountVectorizerによって作られた語彙を取得する。\n",
        "vocab = vectorizer.get_feature_names()\n",
        "print(vocab)"
      ],
      "execution_count": null,
      "outputs": []
    },
    {
      "cell_type": "code",
      "metadata": {
        "id": "v6Mcat9s16Gk",
        "outputId": "3acf5294-139d-44ce-f02e-16d585dbbaf6",
        "colab": {
          "base_uri": "https://localhost:8080/",
          "height": 53
        }
      },
      "source": [
        "# コーパス全体での出現頻度順で上位20単語を見てみる。\n",
        "\n",
        "import numpy as np\n",
        "\n",
        "vocab = np.array(vocab)\n",
        "print(vocab[np.argsort(- X.sum(axis=0))][:20])"
      ],
      "execution_count": null,
      "outputs": [
        {
          "output_type": "stream",
          "text": [
            "['こと' 'ある' 'する' 'よる' 'いう' 'なる' 'もの' '言語' 'ため' 'コンピュータ' 'ソフトウェア' 'システム'\n",
            " '問題' '使う' '場合' '計算' 'ない' 'データ' 'それ' 'これ']\n"
          ],
          "name": "stdout"
        }
      ]
    },
    {
      "cell_type": "code",
      "metadata": {
        "id": "ug_Oz0HKdJCd"
      },
      "source": [
        "from sklearn.feature_extraction.text import TfidfVectorizer\n",
        "\n",
        "vectorizer = TfidfVectorizer()\n",
        "X = vectorizer.fit_transform(df['text'])"
      ],
      "execution_count": null,
      "outputs": []
    },
    {
      "cell_type": "code",
      "metadata": {
        "id": "cdvmscvfdVva"
      },
      "source": [
        "X = X.toarray()"
      ],
      "execution_count": null,
      "outputs": []
    },
    {
      "cell_type": "code",
      "metadata": {
        "id": "U4PT6XMLhaJX",
        "outputId": "36266f23-2e04-4f2f-ea99-a73b1de22659",
        "colab": {
          "base_uri": "https://localhost:8080/",
          "height": 35
        }
      },
      "source": [
        "X.shape"
      ],
      "execution_count": null,
      "outputs": [
        {
          "output_type": "execute_result",
          "data": {
            "text/plain": [
              "(123, 10771)"
            ]
          },
          "metadata": {
            "tags": []
          },
          "execution_count": 43
        }
      ]
    },
    {
      "cell_type": "code",
      "metadata": {
        "id": "iUmjNy_odZDc",
        "outputId": "d9eef422-c069-401f-8174-cd833774ebfc",
        "colab": {
          "base_uri": "https://localhost:8080/",
          "height": 35
        }
      },
      "source": [
        "X[0]"
      ],
      "execution_count": null,
      "outputs": [
        {
          "output_type": "execute_result",
          "data": {
            "text/plain": [
              "array([0., 0., 0., ..., 0., 0., 0.])"
            ]
          },
          "metadata": {
            "tags": []
          },
          "execution_count": 35
        }
      ]
    },
    {
      "cell_type": "code",
      "metadata": {
        "id": "9-iVfMub3Aon",
        "outputId": "7bf52673-e3e1-4f57-dcc6-b52056069729",
        "colab": {
          "base_uri": "https://localhost:8080/",
          "height": 89
        }
      },
      "source": [
        "# 「人工知能」エントリと他のエントリとの距離を求める。\n",
        "\n",
        "from scipy.spatial import distance\n",
        "\n",
        "genre = df['genre'].values.tolist()\n",
        "index_AI = genre.index('人工知能')\n",
        "print(f'「{genre[index_AI]}」と「{genre[10]}」との間での・・・')\n",
        "print(f'ユークリッド距離: {np.linalg.norm(X[10] - X[index_AI])}')\n",
        "print(f'内積: {np.dot(X[10], X[index_AI])}')\n",
        "print(f'コサイン類似度に基づく距離: {distance.cosine(X[10], X[index_AI])}')"
      ],
      "execution_count": null,
      "outputs": [
        {
          "output_type": "stream",
          "text": [
            "「人工知能」と「組み込みシステム」との間での・・・\n",
            "ユークリッド距離: 1.3092280064956952\n",
            "内積: 0.14296101350365437\n",
            "コサイン類似度に基づく距離: 0.8570389864963457\n"
          ],
          "name": "stdout"
        }
      ]
    },
    {
      "cell_type": "code",
      "metadata": {
        "id": "0j3g_gmcgaEV",
        "outputId": "b81d8635-f4aa-4d66-cd7e-ddc97b903fc1",
        "colab": {
          "base_uri": "https://localhost:8080/",
          "height": 35
        }
      },
      "source": [
        "len(genre)"
      ],
      "execution_count": null,
      "outputs": [
        {
          "output_type": "execute_result",
          "data": {
            "text/plain": [
              "123"
            ]
          },
          "metadata": {
            "tags": []
          },
          "execution_count": 39
        }
      ]
    },
    {
      "cell_type": "code",
      "metadata": {
        "id": "bgMb6Vj6ggF_",
        "outputId": "dca8d6d5-0a49-4fba-d40f-d8ae26bddd3d",
        "colab": {
          "base_uri": "https://localhost:8080/",
          "height": 1000
        }
      },
      "source": [
        "for i in range(len(genre)):\n",
        "  print(np.dot(X[i], X[index_AI]))"
      ],
      "execution_count": null,
      "outputs": [
        {
          "output_type": "stream",
          "text": [
            "0.19972856451145343\n",
            "0.07958257944205381\n",
            "0.06932375217097608\n",
            "0.06861721119422405\n",
            "0.11543972992717506\n",
            "0.07636263686034675\n",
            "0.07698024146545353\n",
            "0.0\n",
            "0.09167901533035046\n",
            "0.11651775957303973\n",
            "0.14296101350365437\n",
            "0.039695948496531436\n",
            "0.06686261508626926\n",
            "0.09457999881701312\n",
            "0.058201622169880035\n",
            "0.08160148993890329\n",
            "0.0851338880659056\n",
            "0.10035329638191715\n",
            "0.10563653279681089\n",
            "0.1298191658225303\n",
            "0.10770923631130316\n",
            "0.05226222075408618\n",
            "0.14385023889712287\n",
            "0.10254078155204015\n",
            "0.10061827470016631\n",
            "0.09807106727198683\n",
            "0.07929321988980442\n",
            "0.08840188429864658\n",
            "0.06481001835518775\n",
            "0.06740566604104804\n",
            "0.041237804379967755\n",
            "0.06835443300990743\n",
            "0.14167177013886606\n",
            "0.10063348165050318\n",
            "0.08716150498070815\n",
            "0.05485574991571685\n",
            "0.05533785852365058\n",
            "0.08240204074134677\n",
            "0.12267661715612632\n",
            "0.10788636695712009\n",
            "0.10099429094178325\n",
            "0.07181699820553371\n",
            "0.100185596257048\n",
            "0.11329909218137553\n",
            "0.08921391023602457\n",
            "0.13236406149176935\n",
            "0.08530264947670979\n",
            "0.08129334283583439\n",
            "0.11203514528753422\n",
            "0.09212779231436238\n",
            "0.08317291947750013\n",
            "0.1433297946929785\n",
            "0.11814494759706064\n",
            "0.10533241903028567\n",
            "0.10978157325674986\n",
            "0.13756727787182527\n",
            "0.14409940146712252\n",
            "0.060707720234584955\n",
            "0.07767564345794092\n",
            "0.04284037335583334\n",
            "0.10837812223684598\n",
            "0.07060502078463465\n",
            "0.1039773685062235\n",
            "0.17256047278719788\n",
            "0.08852213688533868\n",
            "0.04346503029126945\n",
            "0.021901335251722734\n",
            "0.11970696902673589\n",
            "0.08947717052851431\n",
            "0.10572892667306198\n",
            "0.06150775917693878\n",
            "0.14049570395768424\n",
            "0.07316185792281746\n",
            "0.10441258702892084\n",
            "0.05008759078463429\n",
            "0.10993122044875285\n",
            "0.04949787662666785\n",
            "0.06906382846804135\n",
            "0.06224119737036961\n",
            "0.09937560123071076\n",
            "0.10685771108161987\n",
            "0.09778742624298595\n",
            "0.12726267238424233\n",
            "0.1266748198704873\n",
            "0.04866923844167216\n",
            "0.10423443261491376\n",
            "0.15761596713488166\n",
            "0.1790814493354908\n",
            "0.23479354698121252\n",
            "0.1344513325038299\n",
            "0.07147520988452655\n",
            "0.17796328451057225\n",
            "0.16589072223960444\n",
            "0.06175623846655207\n",
            "0.062261340109657975\n",
            "0.07255966712336512\n",
            "0.05592636330930906\n",
            "0.1039659447379444\n",
            "0.07507311112743109\n",
            "0.057559955521872604\n",
            "0.06838265560463869\n",
            "0.006728648374794135\n",
            "0.014202726056506644\n",
            "0.11384179137721784\n",
            "0.055979108592940655\n",
            "0.047330852273747115\n",
            "0.09691795775765148\n",
            "0.05111696472565978\n",
            "0.08571450214209862\n",
            "0.055057039233985666\n",
            "0.033044649592314304\n",
            "0.12124071505458275\n",
            "0.05176465454365631\n",
            "0.09553776237693026\n",
            "0.0630726684665529\n",
            "0.09100229942994666\n",
            "0.038954241624797964\n",
            "0.09491708665102874\n",
            "0.07675171214420758\n",
            "0.12360785197386895\n",
            "0.07892706014492692\n",
            "0.08842139632949618\n",
            "1.0000000000000009\n"
          ],
          "name": "stdout"
        }
      ]
    },
    {
      "cell_type": "markdown",
      "metadata": {
        "id": "mfb2TM94L-sC"
      },
      "source": [
        "### ここから各自作業。\n",
        "* 「人工知能」と、Wikipediaのエントリの類似度の上で、最も近いジャンルは、どれ？\n",
        "* ユークリッド距離とコサイン類似度のうち、どちらを類似度として使った場合の答えが、より納得できる答えになっているか？"
      ]
    },
    {
      "cell_type": "code",
      "metadata": {
        "id": "uxRg04cV47EX",
        "outputId": "f0fb955a-6a96-4eb2-bcf1-3794cf8bbd7d",
        "colab": {
          "base_uri": "https://localhost:8080/",
          "height": 1000
        }
      },
      "source": [
        "genre"
      ],
      "execution_count": null,
      "outputs": [
        {
          "output_type": "execute_result",
          "data": {
            "text/plain": [
              "['コンピュータ科学',\n",
              " 'ハードウェア',\n",
              " 'プリント基板',\n",
              " '周辺機器',\n",
              " '集積回路',\n",
              " 'Systems on Chip (SoCs)',\n",
              " 'エネルギー消費 (グリーン・コンピューティング)',\n",
              " 'EDA',\n",
              " 'ハードウェアアクセラレーション',\n",
              " 'コンピュータ・アーキテクチャ',\n",
              " '組み込みシステム',\n",
              " 'リアルタイムシステム',\n",
              " 'ディペンダビリティ',\n",
              " 'ネットワーク',\n",
              " '通信プロトコル',\n",
              " 'インタプリタ',\n",
              " 'ミドルウェア',\n",
              " '仮想マシン',\n",
              " 'オペレーティングシステム',\n",
              " 'ソフトウェア品質',\n",
              " 'ツール',\n",
              " 'プログラミングパラダイム',\n",
              " 'プログラミング言語',\n",
              " 'コンパイラ',\n",
              " 'ドメイン固有言語',\n",
              " 'モデリング言語',\n",
              " 'ソフトウェアフレームワーク',\n",
              " '統合開発環境',\n",
              " 'ソフトウェア構成管理',\n",
              " 'ソフトウェアライブラリ',\n",
              " 'ソフトウェアリポジトリ',\n",
              " 'ソフトウェア開発',\n",
              " 'ソフトウェア開発プロセス',\n",
              " '要求分析',\n",
              " 'ソフトウェア設計',\n",
              " 'ソフトウェアデプロイメント',\n",
              " 'ソフトウェアメンテナンス',\n",
              " 'オープンソースモデル',\n",
              " '計算理論',\n",
              " '計算モデル',\n",
              " '形式言語',\n",
              " 'オートマトン理論',\n",
              " '計算可能性理論',\n",
              " '計算複雑性理論',\n",
              " '意味論',\n",
              " 'アルゴリズム',\n",
              " 'アルゴリズム解析',\n",
              " '乱択アルゴリズム',\n",
              " '計算幾何学',\n",
              " '離散数学',\n",
              " '確率',\n",
              " '統計学',\n",
              " '数学ソフトウェア',\n",
              " '情報理論',\n",
              " '解析学',\n",
              " '数値解析',\n",
              " '情報システム',\n",
              " 'データベース管理システム',\n",
              " '情報ストレージシステム',\n",
              " '企業情報システム',\n",
              " '地理情報システム',\n",
              " '意思決定支援システム',\n",
              " 'プロセス制御システム',\n",
              " 'データマイニング',\n",
              " '電子図書館',\n",
              " 'コンピューティング・プラットフォーム',\n",
              " 'デジタルマーケティング',\n",
              " 'World Wide Web',\n",
              " '情報検索',\n",
              " 'セキュリティ',\n",
              " '暗号理論',\n",
              " '形式手法',\n",
              " '侵入検知システム',\n",
              " 'ネットワーク・セキュリティ',\n",
              " '情報セキュリティ',\n",
              " 'ヒューマンコンピュータインタラクション',\n",
              " 'インタラクションデザイン',\n",
              " 'ユビキタスコンピューティング',\n",
              " '可視化',\n",
              " 'アクセシビリティ',\n",
              " '並行性',\n",
              " '並行コンピューティング',\n",
              " '並列コンピューティング',\n",
              " '分散コンピューティング',\n",
              " 'マルチスレッディング',\n",
              " 'マルチプロセッシング',\n",
              " '自然言語処理',\n",
              " '知識表現と推論',\n",
              " 'コンピュータビジョン',\n",
              " '自動計画とスケジューリング',\n",
              " '検索手法',\n",
              " '制御手法',\n",
              " '機械学習',\n",
              " '教師あり学習',\n",
              " '教師なし学習',\n",
              " '強化学習',\n",
              " '交差検証',\n",
              " 'グラフィックス',\n",
              " 'アニメーション',\n",
              " 'レンダリング',\n",
              " '画像編集',\n",
              " 'GPU',\n",
              " '複合現実',\n",
              " 'バーチャル・リアリティ',\n",
              " '画像圧縮',\n",
              " 'ソリッドモデリング',\n",
              " '電子商取引',\n",
              " '企業アプリケーション',\n",
              " '計算物理学',\n",
              " '計算化学',\n",
              " '計算生物学',\n",
              " '計算社会科学',\n",
              " '健康情報学',\n",
              " 'デジタルアート',\n",
              " '電子出版',\n",
              " 'サイバー戦争',\n",
              " '電子投票',\n",
              " 'コンピュータゲーム',\n",
              " 'ワードプロセッサー',\n",
              " 'オペレーションズ・リサーチ',\n",
              " '教育工学',\n",
              " '文書管理システム',\n",
              " '人工知能']"
            ]
          },
          "metadata": {
            "tags": []
          },
          "execution_count": 31
        }
      ]
    },
    {
      "cell_type": "code",
      "metadata": {
        "id": "U-da3ID_L0nK"
      },
      "source": [
        ""
      ],
      "execution_count": null,
      "outputs": []
    }
  ]
}